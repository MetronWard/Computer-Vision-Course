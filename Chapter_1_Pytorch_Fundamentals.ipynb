{
  "cells": [
    {
      "cell_type": "markdown",
      "metadata": {
        "id": "view-in-github",
        "colab_type": "text"
      },
      "source": [
        "<a href=\"https://colab.research.google.com/github/MetronWard/Computer-Vision-Course/blob/main/Chapter_1_Pytorch_Fundamentals.ipynb\" target=\"_parent\"><img src=\"https://colab.research.google.com/assets/colab-badge.svg\" alt=\"Open In Colab\"/></a>"
      ]
    },
    {
      "cell_type": "markdown",
      "metadata": {
        "id": "7NnlD6jZeY2r"
      },
      "source": [
        "# Data Exploration"
      ]
    },
    {
      "cell_type": "code",
      "execution_count": 82,
      "metadata": {
        "id": "DPER9KRvea55"
      },
      "outputs": [],
      "source": [
        "import pandas as pd\n",
        "from typing import Literal"
      ]
    },
    {
      "cell_type": "code",
      "execution_count": 83,
      "metadata": {
        "id": "E8Gw30DGehqY"
      },
      "outputs": [],
      "source": [
        "def dataset_fn(train:Literal[\"train\", \"test\"]):\n",
        "  match train:\n",
        "    case \"train\":\n",
        "      df = pd.read_csv(\"/content/sample_data/california_housing_train.csv\")\n",
        "    case \"test\":\n",
        "      df = pd.read_csv(\"/content/sample_data/california_housing_test.csv\")\n",
        "\n",
        "  return df.drop(\"median_house_value\", axis=1), df[\"median_house_value\"].copy()"
      ]
    },
    {
      "cell_type": "code",
      "execution_count": 84,
      "metadata": {
        "colab": {
          "base_uri": "https://localhost:8080/",
          "height": 178
        },
        "id": "NsGFENrafNWJ",
        "outputId": "818016ba-fd34-43a4-caa7-507831fa5cb4"
      },
      "outputs": [
        {
          "output_type": "execute_result",
          "data": {
            "text/plain": [
              "0    66900.0\n",
              "1    80100.0\n",
              "2    85700.0\n",
              "Name: median_house_value, dtype: float64"
            ],
            "text/html": [
              "<div>\n",
              "<style scoped>\n",
              "    .dataframe tbody tr th:only-of-type {\n",
              "        vertical-align: middle;\n",
              "    }\n",
              "\n",
              "    .dataframe tbody tr th {\n",
              "        vertical-align: top;\n",
              "    }\n",
              "\n",
              "    .dataframe thead th {\n",
              "        text-align: right;\n",
              "    }\n",
              "</style>\n",
              "<table border=\"1\" class=\"dataframe\">\n",
              "  <thead>\n",
              "    <tr style=\"text-align: right;\">\n",
              "      <th></th>\n",
              "      <th>median_house_value</th>\n",
              "    </tr>\n",
              "  </thead>\n",
              "  <tbody>\n",
              "    <tr>\n",
              "      <th>0</th>\n",
              "      <td>66900.0</td>\n",
              "    </tr>\n",
              "    <tr>\n",
              "      <th>1</th>\n",
              "      <td>80100.0</td>\n",
              "    </tr>\n",
              "    <tr>\n",
              "      <th>2</th>\n",
              "      <td>85700.0</td>\n",
              "    </tr>\n",
              "  </tbody>\n",
              "</table>\n",
              "</div><br><label><b>dtype:</b> float64</label>"
            ]
          },
          "metadata": {},
          "execution_count": 84
        }
      ],
      "source": [
        "x, y = dataset_fn(train=\"train\")\n",
        "y.head(3)"
      ]
    },
    {
      "cell_type": "code",
      "execution_count": 85,
      "metadata": {
        "colab": {
          "base_uri": "https://localhost:8080/"
        },
        "id": "LtC4_LxefRx_",
        "outputId": "5573e492-6afd-4224-9c63-859b14bcff26"
      },
      "outputs": [
        {
          "output_type": "stream",
          "name": "stdout",
          "text": [
            "<class 'pandas.core.frame.DataFrame'>\n",
            "RangeIndex: 17000 entries, 0 to 16999\n",
            "Data columns (total 8 columns):\n",
            " #   Column              Non-Null Count  Dtype  \n",
            "---  ------              --------------  -----  \n",
            " 0   longitude           17000 non-null  float64\n",
            " 1   latitude            17000 non-null  float64\n",
            " 2   housing_median_age  17000 non-null  float64\n",
            " 3   total_rooms         17000 non-null  float64\n",
            " 4   total_bedrooms      17000 non-null  float64\n",
            " 5   population          17000 non-null  float64\n",
            " 6   households          17000 non-null  float64\n",
            " 7   median_income       17000 non-null  float64\n",
            "dtypes: float64(8)\n",
            "memory usage: 1.0 MB\n"
          ]
        }
      ],
      "source": [
        "x.info()"
      ]
    },
    {
      "cell_type": "code",
      "execution_count": 86,
      "metadata": {
        "colab": {
          "base_uri": "https://localhost:8080/",
          "height": 1000
        },
        "id": "J3aAFfCCffra",
        "outputId": "7fb9c6fb-1267-4e60-8135-2dde2727b115"
      },
      "outputs": [
        {
          "output_type": "display_data",
          "data": {
            "text/plain": [
              "<Figure size 1000x1200 with 9 Axes>"
            ],
            "image/png": "[encoded data removed]"
          },
          "metadata": {}
        }
      ],
      "source": [
        "x.hist(figsize=(10, 12), bins=60);"
      ]
    },
    {
      "cell_type": "markdown",
      "metadata": {
        "id": "CYe-dOWwfzW6"
      },
      "source": [
        "# Dataset"
      ]
    },
    {
      "cell_type": "markdown",
      "metadata": {
        "id": "yIe1ev2Nf9Ob"
      },
      "source": [
        "## Splitting into Training and Testing Dataset"
      ]
    },
    {
      "cell_type": "code",
      "execution_count": 87,
      "metadata": {
        "id": "98CPb4GagAol"
      },
      "outputs": [],
      "source": [
        "from sklearn.model_selection import train_test_split\n",
        "from sklearn.preprocessing import StandardScaler"
      ]
    },
    {
      "cell_type": "code",
      "execution_count": 88,
      "metadata": {
        "id": "-5HJ0WEFfqCk"
      },
      "outputs": [],
      "source": [
        "x_scaler, y_scaler = StandardScaler(), StandardScaler()"
      ]
    },
    {
      "cell_type": "code",
      "execution_count": 89,
      "metadata": {
        "colab": {
          "base_uri": "https://localhost:8080/",
          "height": 80
        },
        "id": "qUOivWWggXws",
        "outputId": "6d2b4452-60eb-4203-d95e-be8baad214fd"
      },
      "outputs": [
        {
          "output_type": "execute_result",
          "data": {
            "text/plain": [
              "StandardScaler()"
            ],
            "text/html": [
              "<style>#sk-container-id-3 {\n",
              "  /* Definition of color scheme common for light and dark mode */\n",
              "  --sklearn-color-text: #000;\n",
              "  --sklearn-color-text-muted: #666;\n",
              "  --sklearn-color-line: gray;\n",
              "  /* Definition of color scheme for unfitted estimators */\n",
              "  --sklearn-color-unfitted-level-0: #fff5e6;\n",
              "  --sklearn-color-unfitted-level-1: #f6e4d2;\n",
              "  --sklearn-color-unfitted-level-2: #ffe0b3;\n",
              "  --sklearn-color-unfitted-level-3: chocolate;\n",
              "  /* Definition of color scheme for fitted estimators */\n",
              "  --sklearn-color-fitted-level-0: #f0f8ff;\n",
              "  --sklearn-color-fitted-level-1: #d4ebff;\n",
              "  --sklearn-color-fitted-level-2: #b3dbfd;\n",
              "  --sklearn-color-fitted-level-3: cornflowerblue;\n",
              "\n",
              "  /* Specific color for light theme */\n",
              "  --sklearn-color-text-on-default-background: var(--sg-text-color, var(--theme-code-foreground, var(--jp-content-font-color1, black)));\n",
              "  --sklearn-color-background: var(--sg-background-color, var(--theme-background, var(--jp-layout-color0, white)));\n",
              "  --sklearn-color-border-box: var(--sg-text-color, var(--theme-code-foreground, var(--jp-content-font-color1, black)));\n",
              "  --sklearn-color-icon: #696969;\n",
              "\n",
              "  @media (prefers-color-scheme: dark) {\n",
              "    /* Redefinition of color scheme for dark theme */\n",
              "    --sklearn-color-text-on-default-background: var(--sg-text-color, var(--theme-code-foreground, var(--jp-content-font-color1, white)));\n",
              "    --sklearn-color-background: var(--sg-background-color, var(--theme-background, var(--jp-layout-color0, #111)));\n",
              "    --sklearn-color-border-box: var(--sg-text-color, var(--theme-code-foreground, var(--jp-content-font-color1, white)));\n",
              "    --sklearn-color-icon: #878787;\n",
              "  }\n",
              "}\n",
              "\n",
              "#sk-container-id-3 {\n",
              "  color: var(--sklearn-color-text);\n",
              "}\n",
              "\n",
              "#sk-container-id-3 pre {\n",
              "  padding: 0;\n",
              "}\n",
              "\n",
              "#sk-container-id-3 input.sk-hidden--visually {\n",
              "  border: 0;\n",
              "  clip: rect(1px 1px 1px 1px);\n",
              "  clip: rect(1px, 1px, 1px, 1px);\n",
              "  height: 1px;\n",
              "  margin: -1px;\n",
              "  overflow: hidden;\n",
              "  padding: 0;\n",
              "  position: absolute;\n",
              "  width: 1px;\n",
              "}\n",
              "\n",
              "#sk-container-id-3 div.sk-dashed-wrapped {\n",
              "  border: 1px dashed var(--sklearn-color-line);\n",
              "  margin: 0 0.4em 0.5em 0.4em;\n",
              "  box-sizing: border-box;\n",
              "  padding-bottom: 0.4em;\n",
              "  background-color: var(--sklearn-color-background);\n",
              "}\n",
              "\n",
              "#sk-container-id-3 div.sk-container {\n",
              "  /* jupyter's `normalize.less` sets `[hidden] { display: none; }`\n",
              "     but bootstrap.min.css set `[hidden] { display: none !important; }`\n",
              "     so we also need the `!important` here to be able to override the\n",
              "     default hidden behavior on the sphinx rendered scikit-learn.org.\n",
              "     See: https://github.com/scikit-learn/scikit-learn/issues/21755 */\n",
              "  display: inline-block !important;\n",
              "  position: relative;\n",
              "}\n",
              "\n",
              "#sk-container-id-3 div.sk-text-repr-fallback {\n",
              "  display: none;\n",
              "}\n",
              "\n",
              "div.sk-parallel-item,\n",
              "div.sk-serial,\n",
              "div.sk-item {\n",
              "  /* draw centered vertical line to link estimators */\n",
              "  background-image: linear-gradient(var(--sklearn-color-text-on-default-background), var(--sklearn-color-text-on-default-background));\n",
              "  background-size: 2px 100%;\n",
              "  background-repeat: no-repeat;\n",
              "  background-position: center center;\n",
              "}\n",
              "\n",
              "/* Parallel-specific style estimator block */\n",
              "\n",
              "#sk-container-id-3 div.sk-parallel-item::after {\n",
              "  content: \"\";\n",
              "  width: 100%;\n",
              "  border-bottom: 2px solid var(--sklearn-color-text-on-default-background);\n",
              "  flex-grow: 1;\n",
              "}\n",
              "\n",
              "#sk-container-id-3 div.sk-parallel {\n",
              "  display: flex;\n",
              "  align-items: stretch;\n",
              "  justify-content: center;\n",
              "  background-color: var(--sklearn-color-background);\n",
              "  position: relative;\n",
              "}\n",
              "\n",
              "#sk-container-id-3 div.sk-parallel-item {\n",
              "  display: flex;\n",
              "  flex-direction: column;\n",
              "}\n",
              "\n",
              "#sk-container-id-3 div.sk-parallel-item:first-child::after {\n",
              "  align-self: flex-end;\n",
              "  width: 50%;\n",
              "}\n",
              "\n",
              "#sk-container-id-3 div.sk-parallel-item:last-child::after {\n",
              "  align-self: flex-start;\n",
              "  width: 50%;\n",
              "}\n",
              "\n",
              "#sk-container-id-3 div.sk-parallel-item:only-child::after {\n",
              "  width: 0;\n",
              "}\n",
              "\n",
              "/* Serial-specific style estimator block */\n",
              "\n",
              "#sk-container-id-3 div.sk-serial {\n",
              "  display: flex;\n",
              "  flex-direction: column;\n",
              "  align-items: center;\n",
              "  background-color: var(--sklearn-color-background);\n",
              "  padding-right: 1em;\n",
              "  padding-left: 1em;\n",
              "}\n",
              "\n",
              "\n",
              "/* Toggleable style: style used for estimator/Pipeline/ColumnTransformer box that is\n",
              "clickable and can be expanded/collapsed.\n",
              "- Pipeline and ColumnTransformer use this feature and define the default style\n",
              "- Estimators will overwrite some part of the style using the `sk-estimator` class\n",
              "*/\n",
              "\n",
              "/* Pipeline and ColumnTransformer style (default) */\n",
              "\n",
              "#sk-container-id-3 div.sk-toggleable {\n",
              "  /* Default theme specific background. It is overwritten whether we have a\n",
              "  specific estimator or a Pipeline/ColumnTransformer */\n",
              "  background-color: var(--sklearn-color-background);\n",
              "}\n",
              "\n",
              "/* Toggleable label */\n",
              "#sk-container-id-3 label.sk-toggleable__label {\n",
              "  cursor: pointer;\n",
              "  display: flex;\n",
              "  width: 100%;\n",
              "  margin-bottom: 0;\n",
              "  padding: 0.5em;\n",
              "  box-sizing: border-box;\n",
              "  text-align: center;\n",
              "  align-items: start;\n",
              "  justify-content: space-between;\n",
              "  gap: 0.5em;\n",
              "}\n",
              "\n",
              "#sk-container-id-3 label.sk-toggleable__label .caption {\n",
              "  font-size: 0.6rem;\n",
              "  font-weight: lighter;\n",
              "  color: var(--sklearn-color-text-muted);\n",
              "}\n",
              "\n",
              "#sk-container-id-3 label.sk-toggleable__label-arrow:before {\n",
              "  /* Arrow on the left of the label */\n",
              "  content: \"▸\";\n",
              "  float: left;\n",
              "  margin-right: 0.25em;\n",
              "  color: var(--sklearn-color-icon);\n",
              "}\n",
              "\n",
              "#sk-container-id-3 label.sk-toggleable__label-arrow:hover:before {\n",
              "  color: var(--sklearn-color-text);\n",
              "}\n",
              "\n",
              "/* Toggleable content - dropdown */\n",
              "\n",
              "#sk-container-id-3 div.sk-toggleable__content {\n",
              "  max-height: 0;\n",
              "  max-width: 0;\n",
              "  overflow: hidden;\n",
              "  text-align: left;\n",
              "  /* unfitted */\n",
              "  background-color: var(--sklearn-color-unfitted-level-0);\n",
              "}\n",
              "\n",
              "#sk-container-id-3 div.sk-toggleable__content.fitted {\n",
              "  /* fitted */\n",
              "  background-color: var(--sklearn-color-fitted-level-0);\n",
              "}\n",
              "\n",
              "#sk-container-id-3 div.sk-toggleable__content pre {\n",
              "  margin: 0.2em;\n",
              "  border-radius: 0.25em;\n",
              "  color: var(--sklearn-color-text);\n",
              "  /* unfitted */\n",
              "  background-color: var(--sklearn-color-unfitted-level-0);\n",
              "}\n",
              "\n",
              "#sk-container-id-3 div.sk-toggleable__content.fitted pre {\n",
              "  /* unfitted */\n",
              "  background-color: var(--sklearn-color-fitted-level-0);\n",
              "}\n",
              "\n",
              "#sk-container-id-3 input.sk-toggleable__control:checked~div.sk-toggleable__content {\n",
              "  /* Expand drop-down */\n",
              "  max-height: 200px;\n",
              "  max-width: 100%;\n",
              "  overflow: auto;\n",
              "}\n",
              "\n",
              "#sk-container-id-3 input.sk-toggleable__control:checked~label.sk-toggleable__label-arrow:before {\n",
              "  content: \"▾\";\n",
              "}\n",
              "\n",
              "/* Pipeline/ColumnTransformer-specific style */\n",
              "\n",
              "#sk-container-id-3 div.sk-label input.sk-toggleable__control:checked~label.sk-toggleable__label {\n",
              "  color: var(--sklearn-color-text);\n",
              "  background-color: var(--sklearn-color-unfitted-level-2);\n",
              "}\n",
              "\n",
              "#sk-container-id-3 div.sk-label.fitted input.sk-toggleable__control:checked~label.sk-toggleable__label {\n",
              "  background-color: var(--sklearn-color-fitted-level-2);\n",
              "}\n",
              "\n",
              "/* Estimator-specific style */\n",
              "\n",
              "/* Colorize estimator box */\n",
              "#sk-container-id-3 div.sk-estimator input.sk-toggleable__control:checked~label.sk-toggleable__label {\n",
              "  /* unfitted */\n",
              "  background-color: var(--sklearn-color-unfitted-level-2);\n",
              "}\n",
              "\n",
              "#sk-container-id-3 div.sk-estimator.fitted input.sk-toggleable__control:checked~label.sk-toggleable__label {\n",
              "  /* fitted */\n",
              "  background-color: var(--sklearn-color-fitted-level-2);\n",
              "}\n",
              "\n",
              "#sk-container-id-3 div.sk-label label.sk-toggleable__label,\n",
              "#sk-container-id-3 div.sk-label label {\n",
              "  /* The background is the default theme color */\n",
              "  color: var(--sklearn-color-text-on-default-background);\n",
              "}\n",
              "\n",
              "/* On hover, darken the color of the background */\n",
              "#sk-container-id-3 div.sk-label:hover label.sk-toggleable__label {\n",
              "  color: var(--sklearn-color-text);\n",
              "  background-color: var(--sklearn-color-unfitted-level-2);\n",
              "}\n",
              "\n",
              "/* Label box, darken color on hover, fitted */\n",
              "#sk-container-id-3 div.sk-label.fitted:hover label.sk-toggleable__label.fitted {\n",
              "  color: var(--sklearn-color-text);\n",
              "  background-color: var(--sklearn-color-fitted-level-2);\n",
              "}\n",
              "\n",
              "/* Estimator label */\n",
              "\n",
              "#sk-container-id-3 div.sk-label label {\n",
              "  font-family: monospace;\n",
              "  font-weight: bold;\n",
              "  display: inline-block;\n",
              "  line-height: 1.2em;\n",
              "}\n",
              "\n",
              "#sk-container-id-3 div.sk-label-container {\n",
              "  text-align: center;\n",
              "}\n",
              "\n",
              "/* Estimator-specific */\n",
              "#sk-container-id-3 div.sk-estimator {\n",
              "  font-family: monospace;\n",
              "  border: 1px dotted var(--sklearn-color-border-box);\n",
              "  border-radius: 0.25em;\n",
              "  box-sizing: border-box;\n",
              "  margin-bottom: 0.5em;\n",
              "  /* unfitted */\n",
              "  background-color: var(--sklearn-color-unfitted-level-0);\n",
              "}\n",
              "\n",
              "#sk-container-id-3 div.sk-estimator.fitted {\n",
              "  /* fitted */\n",
              "  background-color: var(--sklearn-color-fitted-level-0);\n",
              "}\n",
              "\n",
              "/* on hover */\n",
              "#sk-container-id-3 div.sk-estimator:hover {\n",
              "  /* unfitted */\n",
              "  background-color: var(--sklearn-color-unfitted-level-2);\n",
              "}\n",
              "\n",
              "#sk-container-id-3 div.sk-estimator.fitted:hover {\n",
              "  /* fitted */\n",
              "  background-color: var(--sklearn-color-fitted-level-2);\n",
              "}\n",
              "\n",
              "/* Specification for estimator info (e.g. \"i\" and \"?\") */\n",
              "\n",
              "/* Common style for \"i\" and \"?\" */\n",
              "\n",
              ".sk-estimator-doc-link,\n",
              "a:link.sk-estimator-doc-link,\n",
              "a:visited.sk-estimator-doc-link {\n",
              "  float: right;\n",
              "  font-size: smaller;\n",
              "  line-height: 1em;\n",
              "  font-family: monospace;\n",
              "  background-color: var(--sklearn-color-background);\n",
              "  border-radius: 1em;\n",
              "  height: 1em;\n",
              "  width: 1em;\n",
              "  text-decoration: none !important;\n",
              "  margin-left: 0.5em;\n",
              "  text-align: center;\n",
              "  /* unfitted */\n",
              "  border: var(--sklearn-color-unfitted-level-1) 1pt solid;\n",
              "  color: var(--sklearn-color-unfitted-level-1);\n",
              "}\n",
              "\n",
              ".sk-estimator-doc-link.fitted,\n",
              "a:link.sk-estimator-doc-link.fitted,\n",
              "a:visited.sk-estimator-doc-link.fitted {\n",
              "  /* fitted */\n",
              "  border: var(--sklearn-color-fitted-level-1) 1pt solid;\n",
              "  color: var(--sklearn-color-fitted-level-1);\n",
              "}\n",
              "\n",
              "/* On hover */\n",
              "div.sk-estimator:hover .sk-estimator-doc-link:hover,\n",
              ".sk-estimator-doc-link:hover,\n",
              "div.sk-label-container:hover .sk-estimator-doc-link:hover,\n",
              ".sk-estimator-doc-link:hover {\n",
              "  /* unfitted */\n",
              "  background-color: var(--sklearn-color-unfitted-level-3);\n",
              "  color: var(--sklearn-color-background);\n",
              "  text-decoration: none;\n",
              "}\n",
              "\n",
              "div.sk-estimator.fitted:hover .sk-estimator-doc-link.fitted:hover,\n",
              ".sk-estimator-doc-link.fitted:hover,\n",
              "div.sk-label-container:hover .sk-estimator-doc-link.fitted:hover,\n",
              ".sk-estimator-doc-link.fitted:hover {\n",
              "  /* fitted */\n",
              "  background-color: var(--sklearn-color-fitted-level-3);\n",
              "  color: var(--sklearn-color-background);\n",
              "  text-decoration: none;\n",
              "}\n",
              "\n",
              "/* Span, style for the box shown on hovering the info icon */\n",
              ".sk-estimator-doc-link span {\n",
              "  display: none;\n",
              "  z-index: 9999;\n",
              "  position: relative;\n",
              "  font-weight: normal;\n",
              "  right: .2ex;\n",
              "  padding: .5ex;\n",
              "  margin: .5ex;\n",
              "  width: min-content;\n",
              "  min-width: 20ex;\n",
              "  max-width: 50ex;\n",
              "  color: var(--sklearn-color-text);\n",
              "  box-shadow: 2pt 2pt 4pt #999;\n",
              "  /* unfitted */\n",
              "  background: var(--sklearn-color-unfitted-level-0);\n",
              "  border: .5pt solid var(--sklearn-color-unfitted-level-3);\n",
              "}\n",
              "\n",
              ".sk-estimator-doc-link.fitted span {\n",
              "  /* fitted */\n",
              "  background: var(--sklearn-color-fitted-level-0);\n",
              "  border: var(--sklearn-color-fitted-level-3);\n",
              "}\n",
              "\n",
              ".sk-estimator-doc-link:hover span {\n",
              "  display: block;\n",
              "}\n",
              "\n",
              "/* \"?\"-specific style due to the `<a>` HTML tag */\n",
              "\n",
              "#sk-container-id-3 a.estimator_doc_link {\n",
              "  float: right;\n",
              "  font-size: 1rem;\n",
              "  line-height: 1em;\n",
              "  font-family: monospace;\n",
              "  background-color: var(--sklearn-color-background);\n",
              "  border-radius: 1rem;\n",
              "  height: 1rem;\n",
              "  width: 1rem;\n",
              "  text-decoration: none;\n",
              "  /* unfitted */\n",
              "  color: var(--sklearn-color-unfitted-level-1);\n",
              "  border: var(--sklearn-color-unfitted-level-1) 1pt solid;\n",
              "}\n",
              "\n",
              "#sk-container-id-3 a.estimator_doc_link.fitted {\n",
              "  /* fitted */\n",
              "  border: var(--sklearn-color-fitted-level-1) 1pt solid;\n",
              "  color: var(--sklearn-color-fitted-level-1);\n",
              "}\n",
              "\n",
              "/* On hover */\n",
              "#sk-container-id-3 a.estimator_doc_link:hover {\n",
              "  /* unfitted */\n",
              "  background-color: var(--sklearn-color-unfitted-level-3);\n",
              "  color: var(--sklearn-color-background);\n",
              "  text-decoration: none;\n",
              "}\n",
              "\n",
              "#sk-container-id-3 a.estimator_doc_link.fitted:hover {\n",
              "  /* fitted */\n",
              "  background-color: var(--sklearn-color-fitted-level-3);\n",
              "}\n",
              "</style><div id=\"sk-container-id-3\" class=\"sk-top-container\"><div class=\"sk-text-repr-fallback\"><pre>StandardScaler()</pre><b>In a Jupyter environment, please rerun this cell to show the HTML representation or trust the notebook. <br />On GitHub, the HTML representation is unable to render, please try loading this page with nbviewer.org.</b></div><div class=\"sk-container\" hidden><div class=\"sk-item\"><div class=\"sk-estimator fitted sk-toggleable\"><input class=\"sk-toggleable__control sk-hidden--visually\" id=\"sk-estimator-id-3\" type=\"checkbox\" checked><label for=\"sk-estimator-id-3\" class=\"sk-toggleable__label fitted sk-toggleable__label-arrow\"><div><div>StandardScaler</div></div><div><a class=\"sk-estimator-doc-link fitted\" rel=\"noreferrer\" target=\"_blank\" href=\"https://scikit-learn.org/1.6/modules/generated/sklearn.preprocessing.StandardScaler.html\">?<span>Documentation for StandardScaler</span></a><span class=\"sk-estimator-doc-link fitted\">i<span>Fitted</span></span></div></label><div class=\"sk-toggleable__content fitted\"><pre>StandardScaler()</pre></div> </div></div></div></div>"
            ]
          },
          "metadata": {},
          "execution_count": 89
        }
      ],
      "source": [
        "x_scaler.fit(x.to_numpy())\n",
        "y_scaler.fit(y.to_numpy().reshape(-1, 1))"
      ]
    },
    {
      "cell_type": "code",
      "execution_count": 90,
      "metadata": {
        "id": "TX3sA1OchUiP"
      },
      "outputs": [],
      "source": [
        "x_train, x_test, y_train, y_test = train_test_split(x, y, test_size=0.3, random_state=42)"
      ]
    },
    {
      "cell_type": "code",
      "execution_count": 91,
      "metadata": {
        "colab": {
          "base_uri": "https://localhost:8080/"
        },
        "id": "pE1KkOqRhy4L",
        "outputId": "2cff0d36-4b01-43db-abc2-b11d202b0384"
      },
      "outputs": [
        {
          "output_type": "stream",
          "name": "stdout",
          "text": [
            "Training Sample --> 11900\n",
            "Testing Sample --> 5100\n"
          ]
        }
      ],
      "source": [
        "print(f\"Training Sample --> {len(x_train)}\")\n",
        "print(f\"Testing Sample --> {len(x_test)}\")"
      ]
    },
    {
      "cell_type": "markdown",
      "metadata": {
        "id": "R1p0xdQFifIv"
      },
      "source": [
        "## Dataset and DataLoader"
      ]
    },
    {
      "cell_type": "code",
      "execution_count": 92,
      "metadata": {
        "id": "LCeawTXcih6X"
      },
      "outputs": [],
      "source": [
        "import torch\n",
        "from torch.utils.data import Dataset, DataLoader\n",
        "import numpy as np"
      ]
    },
    {
      "cell_type": "code",
      "execution_count": 93,
      "metadata": {
        "id": "jeMaX4yxiUMQ"
      },
      "outputs": [],
      "source": [
        "class CaliforniaDataset(Dataset):\n",
        "  def __init__(self, x, y, x_scaler=x_scaler, y_scaler=y_scaler):\n",
        "    self.x = x_scaler.transform(x.to_numpy()).astype(np.float32)\n",
        "    self.y = y_scaler.transform(y.to_numpy().reshape(-1, 1)).astype(np.float32)\n",
        "    self.n_samples = len(self.x)\n",
        "\n",
        "  def __getitem__(self, index):\n",
        "    x = self.x[index]\n",
        "    y = self.y[index]\n",
        "\n",
        "    x = torch.tensor(x, dtype=torch.float32)\n",
        "    y = torch.tensor(y, dtype=torch.float32)\n",
        "    return x, y\n",
        "\n",
        "  def __len__(self):\n",
        "    return self.n_samples"
      ]
    },
    {
      "cell_type": "code",
      "execution_count": 94,
      "metadata": {
        "id": "qtaWgruijyyy"
      },
      "outputs": [],
      "source": [
        "train_ds = CaliforniaDataset(\n",
        "    x=x_train,\n",
        "    y=y_train\n",
        "    )"
      ]
    },
    {
      "cell_type": "code",
      "execution_count": 95,
      "metadata": {
        "id": "HA5NTveIpS9k"
      },
      "outputs": [],
      "source": [
        "test_ds = CaliforniaDataset(\n",
        "    x=x_test,\n",
        "    y=y_test\n",
        "    )"
      ]
    },
    {
      "cell_type": "code",
      "execution_count": 96,
      "metadata": {
        "id": "Oza_XeqijNIJ"
      },
      "outputs": [],
      "source": [
        "train_dataloader = DataLoader(dataset=train_ds, batch_size=10, shuffle=True)\n",
        "test_dataloader = DataLoader(dataset=test_ds, batch_size=10, shuffle=True)"
      ]
    },
    {
      "cell_type": "markdown",
      "metadata": {
        "id": "kcMonLARkB5E"
      },
      "source": [
        "# Defining Model Architecture"
      ]
    },
    {
      "cell_type": "code",
      "execution_count": 97,
      "metadata": {
        "id": "h25lVF_ZkA_7"
      },
      "outputs": [],
      "source": [
        "import torch.nn as nn"
      ]
    },
    {
      "cell_type": "code",
      "execution_count": 98,
      "metadata": {
        "id": "w23ABu7qkvy9"
      },
      "outputs": [],
      "source": [
        "class CaliforniaModel(nn.Module):\n",
        "  def __init__(self, skeleton:list):\n",
        "    super().__init__()\n",
        "    layer_list = []\n",
        "    for i in range(len(skeleton) -1):\n",
        "      layer_list.append(nn.Linear(skeleton[i], skeleton[i+1]))\n",
        "      layer_list.append(nn.BatchNorm1d(skeleton[i+1]))\n",
        "      layer_list.append(nn.ReLU())\n",
        "    layer_list.append(nn.Linear(skeleton[-1], 1))\n",
        "    self.model = nn.Sequential(*layer_list)\n",
        "\n",
        "  def forward(self, x):\n",
        "    return self.model(x)"
      ]
    },
    {
      "cell_type": "code",
      "execution_count": 99,
      "metadata": {
        "id": "BLK4ur9Fnoht"
      },
      "outputs": [],
      "source": [
        "model = CaliforniaModel(skeleton=[8, 300, 200, 100, 50, 20])"
      ]
    },
    {
      "cell_type": "code",
      "execution_count": 100,
      "metadata": {
        "id": "tySrwoPlns-U"
      },
      "outputs": [],
      "source": [
        "lr = 1e-4\n",
        "criterion = nn.HuberLoss()\n",
        "optimizer = torch.optim.Adam(model.parameters(), lr=lr)"
      ]
    },
    {
      "cell_type": "code",
      "execution_count": 101,
      "metadata": {
        "id": "ezdUPT8QoQlS"
      },
      "outputs": [],
      "source": [
        "import torch.optim.lr_scheduler as lr_scheduler\n",
        "\n",
        "scheduler = lr_scheduler.CosineAnnealingWarmRestarts(\n",
        "    optimizer,\n",
        "    T_0=30,\n",
        "    T_mult=1,\n",
        "    eta_min=1e-6\n",
        ")"
      ]
    },
    {
      "cell_type": "markdown",
      "metadata": {
        "id": "B0d0bkjHpNwF"
      },
      "source": [
        "# Training Loop"
      ]
    },
    {
      "cell_type": "code",
      "execution_count": 102,
      "metadata": {
        "id": "IKFr3MParYgj"
      },
      "outputs": [],
      "source": [
        "from tqdm import trange\n",
        "import numpy as np"
      ]
    },
    {
      "cell_type": "code",
      "execution_count": 103,
      "metadata": {
        "id": "8iHm7yEVpH5E"
      },
      "outputs": [],
      "source": [
        "def train_step(model, x, y, criterion, optimizer):\n",
        "  x, y = x.cpu(), y.cpu()\n",
        "\n",
        "  optimizer.zero_grad()\n",
        "  y_hat = model(x)\n",
        "  loss = criterion(y_hat, y)\n",
        "  loss.backward()\n",
        "  optimizer.step()\n",
        "  lr = optimizer.param_groups[0][\"lr\"]\n",
        "  return loss.item(), lr"
      ]
    },
    {
      "cell_type": "code",
      "execution_count": 104,
      "metadata": {
        "id": "fpbIDTFCq-P3"
      },
      "outputs": [],
      "source": [
        "def test_step(model, x, y, criterion):\n",
        "  x, y = x.cpu(), y.cpu()\n",
        "\n",
        "  with torch.no_grad():\n",
        "    y_hat = model(x)\n",
        "    loss = criterion(y_hat, y)\n",
        "\n",
        "  return loss.item()"
      ]
    },
    {
      "cell_type": "code",
      "execution_count": 105,
      "metadata": {
        "id": "zeWDqdkyrUW_"
      },
      "outputs": [],
      "source": [
        "def fit(model, train_dataloader=train_dataloader, test_dataloader=test_dataloader,\n",
        "        criterion=criterion, optimizer=optimizer,\n",
        "        scheduler=scheduler, epochs=30):\n",
        "\n",
        "  df = pd.DataFrame(np.empty([epochs, 4]),\n",
        "                    index = np.arange(epochs),\n",
        "                    columns = [\"Training Loss\", \"Testing Loss\", \"lr\", \"Epochs\"])\n",
        "\n",
        "  current_test_loss = float(\"inf\")\n",
        "\n",
        "  for epoch in range(epochs):\n",
        "\n",
        "    print(f\"Epoch {epoch+1}\")\n",
        "    # Training\n",
        "    model.train()\n",
        "    progress_bar = trange(len(train_dataloader), desc=\"Training\")\n",
        "\n",
        "    train_loss = []\n",
        "\n",
        "    for batch_idx, (x, y) in enumerate(train_dataloader):\n",
        "        loss, lr = train_step(model, x, y, criterion, optimizer)\n",
        "        scheduler.step(epoch + batch_idx / len(train_dataloader))\n",
        "\n",
        "        progress_bar.set_description(\"Training Loss=%.9f\" % loss)\n",
        "        progress_bar.set_postfix({\"lr\": lr})\n",
        "        progress_bar.update(1)\n",
        "        train_loss.append(loss)\n",
        "    progress_bar.close()\n",
        "    mean_train_loss = np.mean(train_loss)\n",
        "\n",
        "\n",
        "    # Testing\n",
        "    model.eval()\n",
        "    test_losses = []\n",
        "\n",
        "    progress_bar = trange(len(test_dataloader), desc=\"Testing\")\n",
        "\n",
        "    for batch_idx, (x, y) in enumerate(test_dataloader):\n",
        "      loss = test_step(model, x, y, criterion)\n",
        "      test_losses.append(loss)\n",
        "      progress_bar.set_description(\"Testing Loss=%.9f\" % loss)\n",
        "      progress_bar.update(1)\n",
        "\n",
        "    progress_bar.close()\n",
        "    mean_test_loss = np.mean(test_losses)\n",
        "\n",
        "    if mean_test_loss < current_test_loss:\n",
        "      current_test_loss = mean_test_loss\n",
        "      print(current_test_loss)\n",
        "      torch.save(model.state_dict(), \"Model_state.pth\")\n",
        "      print(\"Saving Training State....!!!!!\")\n",
        "\n",
        "    scheduler.step()\n",
        "\n",
        "    df.iloc[epoch, 0] = mean_train_loss\n",
        "    df.iloc[epoch, 1] = mean_test_loss\n",
        "    df.iloc[epoch, 2] = optimizer.param_groups[0][\"lr\"]\n",
        "    df.iloc[epoch, 3] = epoch + 1\n",
        "\n",
        "    print(f\"Epoch {epoch+1}: Train Loss={mean_train_loss:.6f}, Test Loss={mean_test_loss:.6f}\")\n",
        "\n",
        "  return df"
      ]
    },
    {
      "cell_type": "markdown",
      "metadata": {
        "id": "e7Y5kCXNzO00"
      },
      "source": [
        "# Fitting Model"
      ]
    },
    {
      "cell_type": "code",
      "execution_count": 106,
      "metadata": {
        "id": "LBiFfoAfvIoY"
      },
      "outputs": [],
      "source": [
        "model = model.cpu()"
      ]
    },
    {
      "cell_type": "code",
      "execution_count": 107,
      "metadata": {
        "colab": {
          "base_uri": "https://localhost:8080/"
        },
        "id": "C14U5rfizLhf",
        "outputId": "5e44f7c8-3489-4e85-8426-47f0db9e6e96"
      },
      "outputs": [
        {
          "metadata": {
            "tags": null
          },
          "name": "stdout",
          "output_type": "stream",
          "text": [
            "Epoch 1\n"
          ]
        },
        {
          "metadata": {
            "tags": null
          },
          "name": "stderr",
          "output_type": "stream",
          "text": [
            "Training Loss=0.188387617: 100%|██████████| 1190/1190 [00:10<00:00, 108.76it/s, lr=9.97e-5]\n",
            "Testing Loss=0.166814327: 100%|██████████| 510/510 [00:01<00:00, 344.87it/s]\n"
          ]
        },
        {
          "metadata": {
            "tags": null
          },
          "name": "stdout",
          "output_type": "stream",
          "text": [
            "0.15179788817962012\n",
            "Saving Training State....!!!!!\n",
            "Epoch 1: Train Loss=0.208357, Test Loss=0.151798\n",
            "Epoch 2\n"
          ]
        },
        {
          "metadata": {
            "tags": null
          },
          "name": "stderr",
          "output_type": "stream",
          "text": [
            "Training Loss=0.097685620: 100%|██████████| 1190/1190 [00:11<00:00, 107.27it/s, lr=9.89e-5]\n",
            "Testing Loss=0.118153296: 100%|██████████| 510/510 [00:01<00:00, 354.63it/s]\n"
          ]
        },
        {
          "metadata": {
            "tags": null
          },
          "name": "stdout",
          "output_type": "stream",
          "text": [
            "Epoch 2: Train Loss=0.184873, Test Loss=0.181867\n",
            "Epoch 3\n"
          ]
        },
        {
          "metadata": {
            "tags": null
          },
          "name": "stderr",
          "output_type": "stream",
          "text": [
            "Training Loss=0.312684566: 100%|██████████| 1190/1190 [00:10<00:00, 111.07it/s, lr=9.76e-5]\n",
            "Testing Loss=0.089306474: 100%|██████████| 510/510 [00:01<00:00, 331.61it/s]\n"
          ]
        },
        {
          "metadata": {
            "tags": null
          },
          "name": "stdout",
          "output_type": "stream",
          "text": [
            "Epoch 3: Train Loss=0.175561, Test Loss=0.170512\n",
            "Epoch 4\n"
          ]
        },
        {
          "metadata": {
            "tags": null
          },
          "name": "stderr",
          "output_type": "stream",
          "text": [
            "Training Loss=0.133488178: 100%|██████████| 1190/1190 [00:10<00:00, 113.78it/s, lr=9.57e-5]\n",
            "Testing Loss=0.238020033: 100%|██████████| 510/510 [00:01<00:00, 358.91it/s]\n"
          ]
        },
        {
          "metadata": {
            "tags": null
          },
          "name": "stdout",
          "output_type": "stream",
          "text": [
            "0.14045384896955654\n",
            "Saving Training State....!!!!!\n",
            "Epoch 4: Train Loss=0.173489, Test Loss=0.140454\n",
            "Epoch 5\n"
          ]
        },
        {
          "metadata": {
            "tags": null
          },
          "name": "stderr",
          "output_type": "stream",
          "text": [
            "Training Loss=0.125406608: 100%|██████████| 1190/1190 [00:10<00:00, 110.24it/s, lr=9.34e-5]\n",
            "Testing Loss=0.335645914: 100%|██████████| 510/510 [00:01<00:00, 368.83it/s]\n"
          ]
        },
        {
          "metadata": {
            "tags": null
          },
          "name": "stdout",
          "output_type": "stream",
          "text": [
            "Epoch 5: Train Loss=0.167166, Test Loss=0.142421\n",
            "Epoch 6\n"
          ]
        },
        {
          "metadata": {
            "tags": null
          },
          "name": "stderr",
          "output_type": "stream",
          "text": [
            "Training Loss=0.108381130: 100%|██████████| 1190/1190 [00:10<00:00, 108.98it/s, lr=9.06e-5]\n",
            "Testing Loss=0.104120396: 100%|██████████| 510/510 [00:01<00:00, 368.41it/s]\n"
          ]
        },
        {
          "metadata": {
            "tags": null
          },
          "name": "stdout",
          "output_type": "stream",
          "text": [
            "Epoch 6: Train Loss=0.165002, Test Loss=0.151150\n",
            "Epoch 7\n"
          ]
        },
        {
          "metadata": {
            "tags": null
          },
          "name": "stderr",
          "output_type": "stream",
          "text": [
            "Training Loss=0.094500557: 100%|██████████| 1190/1190 [00:10<00:00, 109.04it/s, lr=8.73e-5]\n",
            "Testing Loss=0.162509710: 100%|██████████| 510/510 [00:01<00:00, 381.58it/s]\n"
          ]
        },
        {
          "metadata": {
            "tags": null
          },
          "name": "stdout",
          "output_type": "stream",
          "text": [
            "Epoch 7: Train Loss=0.163640, Test Loss=0.145729\n",
            "Epoch 8\n"
          ]
        },
        {
          "metadata": {
            "tags": null
          },
          "name": "stderr",
          "output_type": "stream",
          "text": [
            "Training Loss=0.318639904: 100%|██████████| 1190/1190 [00:10<00:00, 109.09it/s, lr=8.36e-5]\n",
            "Testing Loss=0.102070712: 100%|██████████| 510/510 [00:01<00:00, 365.58it/s]\n"
          ]
        },
        {
          "metadata": {
            "tags": null
          },
          "name": "stdout",
          "output_type": "stream",
          "text": [
            "0.13309684430121207\n",
            "Saving Training State....!!!!!\n",
            "Epoch 8: Train Loss=0.161281, Test Loss=0.133097\n",
            "Epoch 9\n"
          ]
        },
        {
          "metadata": {
            "tags": null
          },
          "name": "stderr",
          "output_type": "stream",
          "text": [
            "Training Loss=0.125631958: 100%|██████████| 1190/1190 [00:11<00:00, 107.66it/s, lr=7.96e-5]\n",
            "Testing Loss=0.079164833: 100%|██████████| 510/510 [00:01<00:00, 337.97it/s]\n"
          ]
        },
        {
          "metadata": {
            "tags": null
          },
          "name": "stdout",
          "output_type": "stream",
          "text": [
            "0.13247081882082948\n",
            "Saving Training State....!!!!!\n",
            "Epoch 9: Train Loss=0.159105, Test Loss=0.132471\n",
            "Epoch 10\n"
          ]
        },
        {
          "metadata": {
            "tags": null
          },
          "name": "stderr",
          "output_type": "stream",
          "text": [
            "Training Loss=0.085221149: 100%|██████████| 1190/1190 [00:11<00:00, 104.52it/s, lr=7.53e-5]\n",
            "Testing Loss=0.122284509: 100%|██████████| 510/510 [00:01<00:00, 340.42it/s]\n"
          ]
        },
        {
          "metadata": {
            "tags": null
          },
          "name": "stdout",
          "output_type": "stream",
          "text": [
            "0.1267092498932399\n",
            "Saving Training State....!!!!!\n",
            "Epoch 10: Train Loss=0.157535, Test Loss=0.126709\n",
            "Epoch 11\n"
          ]
        },
        {
          "metadata": {
            "tags": null
          },
          "name": "stderr",
          "output_type": "stream",
          "text": [
            "Training Loss=0.055456560: 100%|██████████| 1190/1190 [00:11<00:00, 107.15it/s, lr=7.06e-5]\n",
            "Testing Loss=0.066094115: 100%|██████████| 510/510 [00:01<00:00, 320.63it/s]\n"
          ]
        },
        {
          "metadata": {
            "tags": null
          },
          "name": "stdout",
          "output_type": "stream",
          "text": [
            "Epoch 11: Train Loss=0.150672, Test Loss=0.134011\n",
            "Epoch 12\n"
          ]
        },
        {
          "metadata": {
            "tags": null
          },
          "name": "stderr",
          "output_type": "stream",
          "text": [
            "Training Loss=0.158828318: 100%|██████████| 1190/1190 [00:10<00:00, 109.48it/s, lr=6.58e-5]\n",
            "Testing Loss=0.039312132: 100%|██████████| 510/510 [00:01<00:00, 350.85it/s]\n"
          ]
        },
        {
          "metadata": {
            "tags": null
          },
          "name": "stdout",
          "output_type": "stream",
          "text": [
            "Epoch 12: Train Loss=0.153617, Test Loss=0.149115\n",
            "Epoch 13\n"
          ]
        },
        {
          "metadata": {
            "tags": null
          },
          "name": "stderr",
          "output_type": "stream",
          "text": [
            "Training Loss=0.188912123: 100%|██████████| 1190/1190 [00:10<00:00, 109.74it/s, lr=6.08e-5]\n",
            "Testing Loss=0.105923116: 100%|██████████| 510/510 [00:01<00:00, 363.73it/s]\n"
          ]
        },
        {
          "metadata": {
            "tags": null
          },
          "name": "stdout",
          "output_type": "stream",
          "text": [
            "Epoch 13: Train Loss=0.157511, Test Loss=0.154723\n",
            "Epoch 14\n"
          ]
        },
        {
          "metadata": {
            "tags": null
          },
          "name": "stderr",
          "output_type": "stream",
          "text": [
            "Training Loss=0.124959469: 100%|██████████| 1190/1190 [00:10<00:00, 110.75it/s, lr=5.57e-5]\n",
            "Testing Loss=0.226836562: 100%|██████████| 510/510 [00:01<00:00, 356.89it/s]\n"
          ]
        },
        {
          "metadata": {
            "tags": null
          },
          "name": "stdout",
          "output_type": "stream",
          "text": [
            "Epoch 14: Train Loss=0.152657, Test Loss=0.142326\n",
            "Epoch 15\n"
          ]
        },
        {
          "metadata": {
            "tags": null
          },
          "name": "stderr",
          "output_type": "stream",
          "text": [
            "Training Loss=0.085888371: 100%|██████████| 1190/1190 [00:11<00:00, 105.97it/s, lr=5.05e-5]\n",
            "Testing Loss=0.047266059: 100%|██████████| 510/510 [00:01<00:00, 352.44it/s]\n"
          ]
        },
        {
          "metadata": {
            "tags": null
          },
          "name": "stdout",
          "output_type": "stream",
          "text": [
            "Epoch 15: Train Loss=0.148090, Test Loss=0.128698\n",
            "Epoch 16\n"
          ]
        },
        {
          "metadata": {
            "tags": null
          },
          "name": "stderr",
          "output_type": "stream",
          "text": [
            "Training Loss=0.115650609: 100%|██████████| 1190/1190 [00:11<00:00, 106.82it/s, lr=4.53e-5]\n",
            "Testing Loss=0.055772521: 100%|██████████| 510/510 [00:01<00:00, 343.04it/s]\n"
          ]
        },
        {
          "metadata": {
            "tags": null
          },
          "name": "stdout",
          "output_type": "stream",
          "text": [
            "Epoch 16: Train Loss=0.150386, Test Loss=0.131012\n",
            "Epoch 17\n"
          ]
        },
        {
          "metadata": {
            "tags": null
          },
          "name": "stderr",
          "output_type": "stream",
          "text": [
            "Training Loss=0.077583715: 100%|██████████| 1190/1190 [00:10<00:00, 108.63it/s, lr=4.02e-5]\n",
            "Testing Loss=0.046293698: 100%|██████████| 510/510 [00:01<00:00, 353.36it/s]\n"
          ]
        },
        {
          "metadata": {
            "tags": null
          },
          "name": "stdout",
          "output_type": "stream",
          "text": [
            "Epoch 17: Train Loss=0.148872, Test Loss=0.144051\n",
            "Epoch 18\n"
          ]
        },
        {
          "output_type": "stream",
          "name": "stderr",
          "text": [
            "Training Loss=0.372835785: 100%|██████████| 1190/1190 [00:10<00:00, 109.58it/s, lr=3.52e-5]\n",
            "Testing Loss=0.157599315: 100%|██████████| 510/510 [00:01<00:00, 309.93it/s]\n"
          ]
        },
        {
          "output_type": "stream",
          "name": "stdout",
          "text": [
            "Epoch 18: Train Loss=0.147102, Test Loss=0.131271\n",
            "Epoch 19\n"
          ]
        },
        {
          "output_type": "stream",
          "name": "stderr",
          "text": [
            "Training Loss=0.089940161: 100%|██████████| 1190/1190 [00:11<00:00, 100.10it/s, lr=3.04e-5]\n",
            "Testing Loss=0.172997952: 100%|██████████| 510/510 [00:01<00:00, 379.66it/s]\n"
          ]
        },
        {
          "output_type": "stream",
          "name": "stdout",
          "text": [
            "Epoch 19: Train Loss=0.142685, Test Loss=0.137022\n",
            "Epoch 20\n"
          ]
        },
        {
          "output_type": "stream",
          "name": "stderr",
          "text": [
            "Training Loss=0.169631705: 100%|██████████| 1190/1190 [00:12<00:00, 98.90it/s, lr=2.58e-5]\n",
            "Testing Loss=0.221851990: 100%|██████████| 510/510 [00:01<00:00, 360.15it/s]\n"
          ]
        },
        {
          "output_type": "stream",
          "name": "stdout",
          "text": [
            "0.126649181146686\n",
            "Saving Training State....!!!!!\n",
            "Epoch 20: Train Loss=0.143242, Test Loss=0.126649\n",
            "Epoch 21\n"
          ]
        },
        {
          "output_type": "stream",
          "name": "stderr",
          "text": [
            "Training Loss=0.057688665: 100%|██████████| 1190/1190 [00:12<00:00, 97.24it/s, lr=2.14e-5]\n",
            "Testing Loss=0.054857321: 100%|██████████| 510/510 [00:01<00:00, 349.63it/s]\n"
          ]
        },
        {
          "output_type": "stream",
          "name": "stdout",
          "text": [
            "Epoch 21: Train Loss=0.143732, Test Loss=0.129442\n",
            "Epoch 22\n"
          ]
        },
        {
          "output_type": "stream",
          "name": "stderr",
          "text": [
            "Training Loss=0.105567969: 100%|██████████| 1190/1190 [00:12<00:00, 97.12it/s, lr=1.74e-5] \n",
            "Testing Loss=0.189928979: 100%|██████████| 510/510 [00:01<00:00, 350.22it/s]\n"
          ]
        },
        {
          "output_type": "stream",
          "name": "stdout",
          "text": [
            "0.1252209193292348\n",
            "Saving Training State....!!!!!\n",
            "Epoch 22: Train Loss=0.143818, Test Loss=0.125221\n",
            "Epoch 23\n"
          ]
        },
        {
          "output_type": "stream",
          "name": "stderr",
          "text": [
            "Training Loss=0.104416370: 100%|██████████| 1190/1190 [00:12<00:00, 97.63it/s, lr=1.37e-5] \n",
            "Testing Loss=0.039305072: 100%|██████████| 510/510 [00:01<00:00, 347.22it/s]\n"
          ]
        },
        {
          "output_type": "stream",
          "name": "stdout",
          "text": [
            "Epoch 23: Train Loss=0.144209, Test Loss=0.136333\n",
            "Epoch 24\n"
          ]
        },
        {
          "output_type": "stream",
          "name": "stderr",
          "text": [
            "Training Loss=0.137841195: 100%|██████████| 1190/1190 [00:11<00:00, 107.59it/s, lr=1.05e-5]\n",
            "Testing Loss=0.103063025: 100%|██████████| 510/510 [00:01<00:00, 351.59it/s]\n"
          ]
        },
        {
          "output_type": "stream",
          "name": "stdout",
          "text": [
            "Epoch 24: Train Loss=0.142902, Test Loss=0.131073\n",
            "Epoch 25\n"
          ]
        },
        {
          "output_type": "stream",
          "name": "stderr",
          "text": [
            "Training Loss=0.033804342: 100%|██████████| 1190/1190 [00:10<00:00, 111.44it/s, lr=7.64e-6]\n",
            "Testing Loss=0.083877675: 100%|██████████| 510/510 [00:01<00:00, 369.73it/s]\n"
          ]
        },
        {
          "output_type": "stream",
          "name": "stdout",
          "text": [
            "Epoch 25: Train Loss=0.143010, Test Loss=0.129941\n",
            "Epoch 26\n"
          ]
        },
        {
          "output_type": "stream",
          "name": "stderr",
          "text": [
            "Training Loss=0.067611411: 100%|██████████| 1190/1190 [00:10<00:00, 110.04it/s, lr=5.28e-6]\n",
            "Testing Loss=0.050402679: 100%|██████████| 510/510 [00:01<00:00, 336.81it/s]\n"
          ]
        },
        {
          "output_type": "stream",
          "name": "stdout",
          "text": [
            "Epoch 26: Train Loss=0.141318, Test Loss=0.138171\n",
            "Epoch 27\n"
          ]
        },
        {
          "output_type": "stream",
          "name": "stderr",
          "text": [
            "Training Loss=0.405738920: 100%|██████████| 1190/1190 [00:11<00:00, 106.15it/s, lr=3.43e-6]\n",
            "Testing Loss=0.205619007: 100%|██████████| 510/510 [00:01<00:00, 334.68it/s]\n"
          ]
        },
        {
          "output_type": "stream",
          "name": "stdout",
          "text": [
            "0.12200098743516148\n",
            "Saving Training State....!!!!!\n",
            "Epoch 27: Train Loss=0.142286, Test Loss=0.122001\n",
            "Epoch 28\n"
          ]
        },
        {
          "output_type": "stream",
          "name": "stderr",
          "text": [
            "Training Loss=0.124779478: 100%|██████████| 1190/1190 [00:12<00:00, 95.88it/s, lr=2.08e-6]\n",
            "Testing Loss=0.194087714: 100%|██████████| 510/510 [00:01<00:00, 355.28it/s]\n"
          ]
        },
        {
          "output_type": "stream",
          "name": "stdout",
          "text": [
            "Epoch 28: Train Loss=0.139833, Test Loss=0.125523\n",
            "Epoch 29\n"
          ]
        },
        {
          "output_type": "stream",
          "name": "stderr",
          "text": [
            "Training Loss=0.084648922: 100%|██████████| 1190/1190 [00:12<00:00, 93.52it/s, lr=1.27e-6]\n",
            "Testing Loss=0.057649594: 100%|██████████| 510/510 [00:01<00:00, 349.76it/s]\n"
          ]
        },
        {
          "output_type": "stream",
          "name": "stdout",
          "text": [
            "0.11999715474233323\n",
            "Saving Training State....!!!!!\n",
            "Epoch 29: Train Loss=0.141892, Test Loss=0.119997\n",
            "Epoch 30\n"
          ]
        },
        {
          "output_type": "stream",
          "name": "stderr",
          "text": [
            "Training Loss=0.151337981: 100%|██████████| 1190/1190 [00:13<00:00, 88.43it/s, lr=1e-6]\n",
            "Testing Loss=0.092091218: 100%|██████████| 510/510 [00:01<00:00, 305.22it/s]"
          ]
        },
        {
          "output_type": "stream",
          "name": "stdout",
          "text": [
            "Epoch 30: Train Loss=0.141855, Test Loss=0.125281\n"
          ]
        },
        {
          "output_type": "stream",
          "name": "stderr",
          "text": [
            "\n"
          ]
        }
      ],
      "source": [
        "df = fit(model=model)"
      ]
    },
    {
      "cell_type": "markdown",
      "source": [
        "## Model Training Inferences"
      ],
      "metadata": {
        "id": "n4YrdtsRDqIw"
      }
    },
    {
      "cell_type": "code",
      "source": [
        "import matplotlib.pyplot as plt\n",
        "\n",
        "plt.figure(figsize=(8, 8))\n",
        "plt.plot(df[\"Epochs\"],df[\"Training Loss\"], \"--\", markersize=3, label=\"Training Loss\")\n",
        "plt.plot(df[\"Epochs\"],df[\"Testing Loss\"], label=\"Testing Loss\")\n",
        "plt.grid(True)\n",
        "plt.xlabel(\"Epochs\")\n",
        "plt.ylabel(\"Loss\")\n",
        "plt.legend()\n",
        "plt.show()"
      ],
      "metadata": {
        "colab": {
          "base_uri": "https://localhost:8080/",
          "height": 696
        },
        "id": "2ohK4oEtnYmU",
        "outputId": "67638bc1-05fa-493c-e668-4579a9b14b10"
      },
      "execution_count": 108,
      "outputs": [
        {
          "output_type": "display_data",
          "data": {
            "text/plain": [
              "<Figure size 800x800 with 1 Axes>"
            ],
            "image/png": "[encoded data removed]"
          },
          "metadata": {}
        }
      ]
    },
    {
      "cell_type": "markdown",
      "source": [
        "# Model Inference"
      ],
      "metadata": {
        "id": "Wynwha7Uvo4E"
      }
    },
    {
      "cell_type": "code",
      "source": [
        "def test_model(state_dict_path, criterion):\n",
        "  x,y = dataset_fn(train=\"test\")\n",
        "  ds = CaliforniaDataset(x, y)\n",
        "  dataloader = DataLoader(ds, batch_size=10, shuffle=False)\n",
        "\n",
        "  test_losses = []\n",
        "\n",
        "  model.load_state_dict(state_dict=torch.load(state_dict_path))\n",
        "  print(\"Model Loaded....\")\n",
        "\n",
        "  model.eval()\n",
        "  progress_bar = trange(len(dataloader), desc=\"Model Eval\")\n",
        "\n",
        "  for batch, (x,y) in enumerate(dataloader):\n",
        "    loss = test_step(model, x, y, criterion)\n",
        "    test_losses.append(loss)\n",
        "    progress_bar.set_description(\"Testing Loss=%.9f\" % loss)\n",
        "    progress_bar.update(1)\n",
        "\n",
        "  progress_bar.close()\n",
        "  mean_test_loss = np.mean(test_losses)\n",
        "\n",
        "  return mean_test_loss"
      ],
      "metadata": {
        "id": "H8r4qDE-voQ7"
      },
      "execution_count": 109,
      "outputs": []
    },
    {
      "cell_type": "code",
      "source": [
        "mean_loss = test_model(state_dict_path=\"/content/Model_state.pth\", criterion=nn.MSELoss())\n",
        "corrected_mean_loss = y_scaler.inverse_transform(mean_loss.reshape(-1, 1))\n",
        "\n",
        "RMSE = np.sqrt(corrected_mean_loss)"
      ],
      "metadata": {
        "colab": {
          "base_uri": "https://localhost:8080/"
        },
        "id": "B9JSF8Bayj5d",
        "outputId": "cb7f4eea-3615-4bd8-bc92-36041991f15c"
      },
      "execution_count": 110,
      "outputs": [
        {
          "metadata": {
            "tags": null
          },
          "name": "stdout",
          "output_type": "stream",
          "text": [
            "Model Loaded....\n"
          ]
        },
        {
          "output_type": "stream",
          "name": "stderr",
          "text": [
            "Testing Loss=0.247269005: 100%|██████████| 300/300 [00:00<00:00, 316.96it/s]\n"
          ]
        }
      ]
    },
    {
      "cell_type": "code",
      "source": [
        "print(f\"The final Root Mean Square Loss is ${RMSE[0, 0]}\")"
      ],
      "metadata": {
        "colab": {
          "base_uri": "https://localhost:8080/"
        },
        "id": "8-E6bBm0y3Gl",
        "outputId": "7c2833a4-af8c-4fe4-d0b6-a7ea4ab8bc7c"
      },
      "execution_count": 111,
      "outputs": [
        {
          "output_type": "stream",
          "name": "stdout",
          "text": [
            "The final Root Mean Square Loss is $487.5016602417576\n"
          ]
        }
      ]
    }
  ],
  "metadata": {
    "accelerator": "GPU",
    "colab": {
      "gpuType": "T4",
      "provenance": [],
      "authorship_tag": "ABX9TyPJh+EUr7U04L4biCeNAbnj",
      "include_colab_link": true
    },
    "kernelspec": {
      "display_name": "Python 3",
      "name": "python3"
    },
    "language_info": {
      "name": "python"
    }
  },
  "nbformat": 4,
  "nbformat_minor": 0
}