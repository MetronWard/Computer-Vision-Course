{
  "nbformat": 4,
  "nbformat_minor": 0,
  "metadata": {
    "colab": {
      "provenance": [],
      "gpuType": "T4",
      "authorship_tag": "ABX9TyPNE/yT2CGIj8CDFF/Qdmyt",
      "include_colab_link": true
    },
    "kernelspec": {
      "name": "python3",
      "display_name": "Python 3"
    },
    "language_info": {
      "name": "python"
    },
    "accelerator": "GPU"
  },
  "cells": [
    {
      "cell_type": "markdown",
      "metadata": {
        "id": "view-in-github",
        "colab_type": "text"
      },
      "source": [
        "<a href=\"https://colab.research.google.com/github/MetronWard/Computer-Vision-Course/blob/main/Chapter_2_Convolution_Layers.ipynb\" target=\"_parent\"><img src=\"https://colab.research.google.com/assets/colab-badge.svg\" alt=\"Open In Colab\"/></a>"
      ]
    },
    {
      "cell_type": "code",
      "source": [
        "import torch\n",
        "import torch.nn as nn\n",
        "import torch.optim.lr_scheduler as lr_scheduler\n",
        "from torch.utils.data import Dataset, DataLoader\n",
        "import torch.optim as optim\n",
        "\n",
        "import torchvision\n",
        "from torchvision import models\n",
        "import torchvision.transforms as T\n",
        "from torchvision.datasets import ImageFolder\n",
        "\n",
        "from sklearn.metrics import precision_score, recall_score, f1_score, confusion_matrix, ConfusionMatrixDisplay\n",
        "\n",
        "import pandas as pd\n",
        "import numpy as np\n",
        "import matplotlib.pyplot as plt\n",
        "\n",
        "from tqdm import tqdm"
      ],
      "metadata": {
        "id": "i4EgU0ZXzBtt"
      },
      "execution_count": 65,
      "outputs": []
    },
    {
      "cell_type": "markdown",
      "source": [
        "# Download Dataset"
      ],
      "metadata": {
        "id": "HKghd_8pys-7"
      }
    },
    {
      "cell_type": "code",
      "execution_count": 66,
      "metadata": {
        "colab": {
          "base_uri": "https://localhost:8080/"
        },
        "id": "9evBQ1CqxIhR",
        "outputId": "15ef2776-0be9-4cc8-c235-2d55d79de034"
      },
      "outputs": [
        {
          "output_type": "stream",
          "name": "stdout",
          "text": [
            "Path to dataset files: /kaggle/input/guava-disease-dataset\n"
          ]
        }
      ],
      "source": [
        "import kagglehub\n",
        "\n",
        "# Download latest version\n",
        "path = kagglehub.dataset_download(\"asadullahgalib/guava-disease-dataset\")\n",
        "\n",
        "print(\"Path to dataset files:\", path)"
      ]
    },
    {
      "cell_type": "code",
      "source": [
        "ds_folder = path+\"/GuavaDiseaseDataset/GuavaDiseaseDataset/\""
      ],
      "metadata": {
        "id": "7scBp9Jyz8yW"
      },
      "execution_count": 67,
      "outputs": []
    },
    {
      "cell_type": "code",
      "source": [
        "img_size = (224, 224)\n",
        "img_channels = 3\n",
        "batch_size = 64\n",
        "lr = 1e-3"
      ],
      "metadata": {
        "id": "cXY_pL2dy6oC"
      },
      "execution_count": 68,
      "outputs": []
    },
    {
      "cell_type": "markdown",
      "source": [
        "# Datasets and DataLoaders"
      ],
      "metadata": {
        "id": "Y1vc_Uw7y2ru"
      }
    },
    {
      "cell_type": "code",
      "source": [
        "train_dataset = ImageFolder(root=ds_folder + \"train/\",\n",
        "                            transform=T.Compose([\n",
        "                                T.Resize(img_size),\n",
        "                                T.RandomHorizontalFlip(0.5),\n",
        "                                T.RandomVerticalFlip(0.5),\n",
        "                                T.ToTensor(),\n",
        "                                T.Normalize([0.5]*3, [0.5]*3)]),\n",
        "                            )"
      ],
      "metadata": {
        "id": "FKS1BtPFz6w8"
      },
      "execution_count": 69,
      "outputs": []
    },
    {
      "cell_type": "code",
      "source": [
        "test_dataset = ImageFolder(root=ds_folder + \"test/\",\n",
        "                            transform=T.Compose([\n",
        "                                T.Resize(img_size),\n",
        "                                T.ToTensor(),\n",
        "                                T.Normalize([0.5]*3, [0.5]*3)]),\n",
        "                            )"
      ],
      "metadata": {
        "id": "HbqBHJBl0-sa"
      },
      "execution_count": 70,
      "outputs": []
    },
    {
      "cell_type": "code",
      "source": [
        "val_dataset = ImageFolder(root=ds_folder + \"val/\",\n",
        "                            transform=T.Compose([\n",
        "                                T.Resize(img_size),\n",
        "                                T.ToTensor(),\n",
        "                                T.Normalize([0.5]*3, [0.5]*3)]),\n",
        "                            )"
      ],
      "metadata": {
        "id": "Aa-blkKk1J_g"
      },
      "execution_count": 71,
      "outputs": []
    },
    {
      "cell_type": "code",
      "source": [
        "train_dl = DataLoader(train_dataset, batch_size=batch_size, shuffle=True)\n",
        "test_dl = DataLoader(test_dataset, batch_size=batch_size, shuffle=False)\n",
        "val_dl = DataLoader(val_dataset, batch_size=batch_size, shuffle=False)"
      ],
      "metadata": {
        "id": "pEjSHbd01N4z"
      },
      "execution_count": 72,
      "outputs": []
    },
    {
      "cell_type": "markdown",
      "source": [
        "# Training Functins"
      ],
      "metadata": {
        "id": "EXvnokzw12WD"
      }
    },
    {
      "cell_type": "code",
      "source": [
        "def train_step(model, data_loader, criterion, optimizer, scheduler):\n",
        "\n",
        "  n_samples = len(data_loader.dataset)\n",
        "\n",
        "  progress_bar = tqdm(data_loader, desc=\"Training\")\n",
        "  total_loss = 0.0\n",
        "  total_correct = 0.0\n",
        "\n",
        "  model.train()\n",
        "\n",
        "  for image, label in progress_bar:\n",
        "    images, labels = image.cuda(), label.cuda()\n",
        "\n",
        "    optimizer.zero_grad()\n",
        "\n",
        "    predictions = model(images)\n",
        "    predicted_classes = torch.argmax(predictions, dim=1)\n",
        "    correct_classes = torch.sum(predicted_classes == labels)\n",
        "    loss = criterion(predictions, labels)\n",
        "\n",
        "    total_correct += correct_classes.item()\n",
        "    total_loss += loss.item()\n",
        "\n",
        "    loss.backward()\n",
        "    optimizer.step()\n",
        "  scheduler.step(loss.item())\n",
        "\n",
        "  return total_loss/n_samples, 100 * (total_correct/n_samples)"
      ],
      "metadata": {
        "id": "PLpmcbBK15vq"
      },
      "execution_count": 73,
      "outputs": []
    },
    {
      "cell_type": "code",
      "source": [
        "def evaluate(model, data_loader, criterion):\n",
        "\n",
        "  model.eval()\n",
        "\n",
        "  n_samples = len(data_loader.dataset)\n",
        "\n",
        "  progress_bar = tqdm(data_loader, desc=\"Evaluating\")\n",
        "  total_loss = 0.0\n",
        "  total_correct = 0.0\n",
        "\n",
        "  with torch.no_grad():\n",
        "\n",
        "    for image, label in progress_bar:\n",
        "      images, labels = image.cuda(), label.cuda()\n",
        "\n",
        "      predictions = model(images)\n",
        "      predicted_classes = torch.argmax(predictions, dim=1)\n",
        "      correct_classes = torch.sum(predicted_classes == labels)\n",
        "      loss = criterion(predictions, labels)\n",
        "\n",
        "      total_correct += correct_classes.item()\n",
        "      total_loss += loss.item()\n",
        "\n",
        "  return total_loss/n_samples, 100 * (total_correct/n_samples)"
      ],
      "metadata": {
        "id": "54XJyd_76gW4"
      },
      "execution_count": 74,
      "outputs": []
    },
    {
      "cell_type": "code",
      "source": [
        "def fit(model, train_dataloader, val_dataloader, criterion, optimizer, scheduler, epochs, experiment_name):\n",
        "\n",
        "  df = pd.DataFrame(np.empty([epochs, 5]),\n",
        "                    index=np.arange(epochs),\n",
        "                    columns=[\"Train_Loss\", \"Train_Acc\", \"Val_Loss\", \"Val_Acc\", \"lr\"])\n",
        "\n",
        "  highest_acc = 0.00\n",
        "\n",
        "  for epoch in range(epochs):\n",
        "    print(f\"Epoch {epoch+1}\")\n",
        "\n",
        "    df.iloc[epoch, 0], df.iloc[epoch, 1] = train_step(model=model, data_loader=train_dataloader,\n",
        "                                            criterion=criterion, optimizer=optimizer,\n",
        "                                            scheduler=scheduler)\n",
        "\n",
        "    df.iloc[epoch, 2], df.iloc[epoch, 3] = evaluate(model=model, data_loader=val_dataloader,\n",
        "                                            criterion=criterion)\n",
        "\n",
        "    df.iloc[epoch, 4] = optimizer.param_groups[0][\"lr\"]\n",
        "\n",
        "    print(f\"Training Loss = {df.iloc[epoch, 0]:.7f}, Training Accuracy = {df.iloc[epoch, 1]:.3f}\\nTesting Loss = {df.iloc[epoch, 2]:.7f}, Testing Accuracy = {df.iloc[epoch, 3]:.3f}\")\n",
        "\n",
        "\n",
        "    if df.iloc[epoch, 3] > highest_acc:\n",
        "      torch.save(model.state_dict(), f\"{experiment_name}.pth\")\n",
        "      highest_acc = df.iloc[epoch, 3]\n",
        "      print(f\"New best accuracy: {highest_acc:.3f} at epoch {epoch+1}\")\n",
        "\n",
        "    print(\"*\"*50)\n",
        "    print(\"\")\n",
        "\n",
        "  return df"
      ],
      "metadata": {
        "id": "1j7Q1jSS7jZy"
      },
      "execution_count": 75,
      "outputs": []
    },
    {
      "cell_type": "markdown",
      "source": [
        "# FC Neural Network"
      ],
      "metadata": {
        "id": "tTezZovI-vLs"
      }
    },
    {
      "cell_type": "code",
      "source": [
        "class FC_Model(nn.Module):\n",
        "  def __init__(self, skeleton:list, num_classes):\n",
        "    super().__init__()\n",
        "    layer_list = []\n",
        "    for i in range(len(skeleton) -1):\n",
        "      layer_list.append(nn.Linear(skeleton[i], skeleton[i+1]))\n",
        "      layer_list.append(nn.BatchNorm1d(skeleton[i+1]))\n",
        "      layer_list.append(nn.Dropout1d(0.5))\n",
        "      layer_list.append(nn.ReLU())\n",
        "    layer_list.append(nn.Linear(skeleton[-1], num_classes))\n",
        "    self.model = nn.Sequential(*layer_list)\n",
        "\n",
        "  def forward(self, images):\n",
        "    inputs = images.view(images.shape[0], -1)\n",
        "    output = self.model(inputs)\n",
        "    return output"
      ],
      "metadata": {
        "id": "6fiFsd15_VwJ"
      },
      "execution_count": 76,
      "outputs": []
    },
    {
      "cell_type": "code",
      "source": [
        "model = FC_Model(skeleton=[img_size[0]*img_size[1]*3, 500, 300, 200, 100, 50, 20], num_classes=3).cuda()"
      ],
      "metadata": {
        "id": "MZ82ZHpvAmU1"
      },
      "execution_count": 77,
      "outputs": []
    },
    {
      "cell_type": "code",
      "source": [
        "criterion = nn.CrossEntropyLoss()\n",
        "optimizer = optim.Adam(model.parameters(), lr=lr)\n",
        "scheduler = lr_scheduler.ReduceLROnPlateau(optimizer=optimizer, mode=\"min\", patience=5, factor=0.1)"
      ],
      "metadata": {
        "id": "VBSuN6ug-1qJ"
      },
      "execution_count": 78,
      "outputs": []
    },
    {
      "cell_type": "code",
      "source": [
        "fc_df = fit(model=model, train_dataloader=train_dl, val_dataloader=val_dl,\n",
        "            criterion=criterion, optimizer=optimizer, scheduler=scheduler,\n",
        "            epochs=50, experiment_name=\"fully_connected\")"
      ],
      "metadata": {
        "colab": {
          "base_uri": "https://localhost:8080/"
        },
        "id": "qE-E0nCWBGPl",
        "outputId": "6404a59f-c1bf-4237-a471-3d954debbea6"
      },
      "execution_count": 79,
      "outputs": [
        {
          "output_type": "stream",
          "name": "stdout",
          "text": [
            "Epoch 1\n"
          ]
        },
        {
          "output_type": "stream",
          "name": "stderr",
          "text": [
            "Training: 100%|██████████| 42/42 [00:28<00:00,  1.49it/s]\n",
            "Evaluating: 100%|██████████| 12/12 [00:08<00:00,  1.48it/s]\n"
          ]
        },
        {
          "output_type": "stream",
          "name": "stdout",
          "text": [
            "Training Loss = 0.0176378, Training Accuracy = 38.005\n",
            "Testing Loss = 0.0171777, Testing Accuracy = 43.709\n",
            "New best accuracy: 43.709 at epoch 1\n",
            "**************************************************\n",
            "\n",
            "Epoch 2\n"
          ]
        },
        {
          "output_type": "stream",
          "name": "stderr",
          "text": [
            "Training: 100%|██████████| 42/42 [00:29<00:00,  1.44it/s]\n",
            "Evaluating: 100%|██████████| 12/12 [00:07<00:00,  1.58it/s]\n"
          ]
        },
        {
          "output_type": "stream",
          "name": "stdout",
          "text": [
            "Training Loss = 0.0174110, Training Accuracy = 36.947\n",
            "Testing Loss = 0.0172692, Testing Accuracy = 36.026\n",
            "**************************************************\n",
            "\n",
            "Epoch 3\n"
          ]
        },
        {
          "output_type": "stream",
          "name": "stderr",
          "text": [
            "Training: 100%|██████████| 42/42 [00:28<00:00,  1.47it/s]\n",
            "Evaluating: 100%|██████████| 12/12 [00:07<00:00,  1.59it/s]\n"
          ]
        },
        {
          "output_type": "stream",
          "name": "stdout",
          "text": [
            "Training Loss = 0.0173451, Training Accuracy = 37.779\n",
            "Testing Loss = 0.0172775, Testing Accuracy = 36.556\n",
            "**************************************************\n",
            "\n",
            "Epoch 4\n"
          ]
        },
        {
          "output_type": "stream",
          "name": "stderr",
          "text": [
            "Training: 100%|██████████| 42/42 [00:29<00:00,  1.44it/s]\n",
            "Evaluating: 100%|██████████| 12/12 [00:07<00:00,  1.59it/s]\n"
          ]
        },
        {
          "output_type": "stream",
          "name": "stdout",
          "text": [
            "Training Loss = 0.0174977, Training Accuracy = 35.852\n",
            "Testing Loss = 0.0171825, Testing Accuracy = 49.934\n",
            "New best accuracy: 49.934 at epoch 4\n",
            "**************************************************\n",
            "\n",
            "Epoch 5\n"
          ]
        },
        {
          "output_type": "stream",
          "name": "stderr",
          "text": [
            "Training: 100%|██████████| 42/42 [00:27<00:00,  1.50it/s]\n",
            "Evaluating: 100%|██████████| 12/12 [00:08<00:00,  1.48it/s]\n"
          ]
        },
        {
          "output_type": "stream",
          "name": "stdout",
          "text": [
            "Training Loss = 0.0171601, Training Accuracy = 38.761\n",
            "Testing Loss = 0.0171770, Testing Accuracy = 41.060\n",
            "**************************************************\n",
            "\n",
            "Epoch 6\n"
          ]
        },
        {
          "output_type": "stream",
          "name": "stderr",
          "text": [
            "Training: 100%|██████████| 42/42 [00:28<00:00,  1.49it/s]\n",
            "Evaluating: 100%|██████████| 12/12 [00:08<00:00,  1.49it/s]\n"
          ]
        },
        {
          "output_type": "stream",
          "name": "stdout",
          "text": [
            "Training Loss = 0.0171639, Training Accuracy = 37.816\n",
            "Testing Loss = 0.0172030, Testing Accuracy = 49.404\n",
            "**************************************************\n",
            "\n",
            "Epoch 7\n"
          ]
        },
        {
          "output_type": "stream",
          "name": "stderr",
          "text": [
            "Training: 100%|██████████| 42/42 [00:28<00:00,  1.46it/s]\n",
            "Evaluating: 100%|██████████| 12/12 [00:08<00:00,  1.46it/s]\n"
          ]
        },
        {
          "output_type": "stream",
          "name": "stdout",
          "text": [
            "Training Loss = 0.0171799, Training Accuracy = 37.174\n",
            "Testing Loss = 0.0171811, Testing Accuracy = 50.066\n",
            "New best accuracy: 50.066 at epoch 7\n",
            "**************************************************\n",
            "\n",
            "Epoch 8\n"
          ]
        },
        {
          "output_type": "stream",
          "name": "stderr",
          "text": [
            "Training: 100%|██████████| 42/42 [00:28<00:00,  1.50it/s]\n",
            "Evaluating: 100%|██████████| 12/12 [00:07<00:00,  1.60it/s]\n"
          ]
        },
        {
          "output_type": "stream",
          "name": "stdout",
          "text": [
            "Training Loss = 0.0171089, Training Accuracy = 38.421\n",
            "Testing Loss = 0.0171815, Testing Accuracy = 44.768\n",
            "**************************************************\n",
            "\n",
            "Epoch 9\n"
          ]
        },
        {
          "output_type": "stream",
          "name": "stderr",
          "text": [
            "Training: 100%|██████████| 42/42 [00:28<00:00,  1.47it/s]\n",
            "Evaluating: 100%|██████████| 12/12 [00:07<00:00,  1.62it/s]\n"
          ]
        },
        {
          "output_type": "stream",
          "name": "stdout",
          "text": [
            "Training Loss = 0.0171524, Training Accuracy = 38.270\n",
            "Testing Loss = 0.0171664, Testing Accuracy = 48.344\n",
            "**************************************************\n",
            "\n",
            "Epoch 10\n"
          ]
        },
        {
          "output_type": "stream",
          "name": "stderr",
          "text": [
            "Training: 100%|██████████| 42/42 [00:28<00:00,  1.47it/s]\n",
            "Evaluating: 100%|██████████| 12/12 [00:07<00:00,  1.59it/s]\n"
          ]
        },
        {
          "output_type": "stream",
          "name": "stdout",
          "text": [
            "Training Loss = 0.0171421, Training Accuracy = 36.910\n",
            "Testing Loss = 0.0171900, Testing Accuracy = 48.609\n",
            "**************************************************\n",
            "\n",
            "Epoch 11\n"
          ]
        },
        {
          "output_type": "stream",
          "name": "stderr",
          "text": [
            "Training: 100%|██████████| 42/42 [00:28<00:00,  1.47it/s]\n",
            "Evaluating: 100%|██████████| 12/12 [00:07<00:00,  1.59it/s]\n"
          ]
        },
        {
          "output_type": "stream",
          "name": "stdout",
          "text": [
            "Training Loss = 0.0171788, Training Accuracy = 38.081\n",
            "Testing Loss = 0.0171582, Testing Accuracy = 48.874\n",
            "**************************************************\n",
            "\n",
            "Epoch 12\n"
          ]
        },
        {
          "output_type": "stream",
          "name": "stderr",
          "text": [
            "Training: 100%|██████████| 42/42 [00:27<00:00,  1.50it/s]\n",
            "Evaluating: 100%|██████████| 12/12 [00:07<00:00,  1.54it/s]\n"
          ]
        },
        {
          "output_type": "stream",
          "name": "stdout",
          "text": [
            "Training Loss = 0.0170892, Training Accuracy = 37.552\n",
            "Testing Loss = 0.0171680, Testing Accuracy = 42.781\n",
            "**************************************************\n",
            "\n",
            "Epoch 13\n"
          ]
        },
        {
          "output_type": "stream",
          "name": "stderr",
          "text": [
            "Training: 100%|██████████| 42/42 [00:28<00:00,  1.48it/s]\n",
            "Evaluating: 100%|██████████| 12/12 [00:07<00:00,  1.52it/s]\n"
          ]
        },
        {
          "output_type": "stream",
          "name": "stdout",
          "text": [
            "Training Loss = 0.0170774, Training Accuracy = 37.665\n",
            "Testing Loss = 0.0171681, Testing Accuracy = 41.987\n",
            "**************************************************\n",
            "\n",
            "Epoch 14\n"
          ]
        },
        {
          "output_type": "stream",
          "name": "stderr",
          "text": [
            "Training: 100%|██████████| 42/42 [00:27<00:00,  1.52it/s]\n",
            "Evaluating: 100%|██████████| 12/12 [00:08<00:00,  1.50it/s]\n"
          ]
        },
        {
          "output_type": "stream",
          "name": "stdout",
          "text": [
            "Training Loss = 0.0171281, Training Accuracy = 37.476\n",
            "Testing Loss = 0.0171579, Testing Accuracy = 45.033\n",
            "**************************************************\n",
            "\n",
            "Epoch 15\n"
          ]
        },
        {
          "output_type": "stream",
          "name": "stderr",
          "text": [
            "Training: 100%|██████████| 42/42 [00:27<00:00,  1.51it/s]\n",
            "Evaluating: 100%|██████████| 12/12 [00:08<00:00,  1.48it/s]\n"
          ]
        },
        {
          "output_type": "stream",
          "name": "stdout",
          "text": [
            "Training Loss = 0.0171161, Training Accuracy = 36.985\n",
            "Testing Loss = 0.0171756, Testing Accuracy = 42.781\n",
            "**************************************************\n",
            "\n",
            "Epoch 16\n"
          ]
        },
        {
          "output_type": "stream",
          "name": "stderr",
          "text": [
            "Training: 100%|██████████| 42/42 [00:27<00:00,  1.51it/s]\n",
            "Evaluating: 100%|██████████| 12/12 [00:08<00:00,  1.48it/s]\n"
          ]
        },
        {
          "output_type": "stream",
          "name": "stdout",
          "text": [
            "Training Loss = 0.0170697, Training Accuracy = 39.063\n",
            "Testing Loss = 0.0171898, Testing Accuracy = 41.722\n",
            "**************************************************\n",
            "\n",
            "Epoch 17\n"
          ]
        },
        {
          "output_type": "stream",
          "name": "stderr",
          "text": [
            "Training: 100%|██████████| 42/42 [00:27<00:00,  1.50it/s]\n",
            "Evaluating: 100%|██████████| 12/12 [00:08<00:00,  1.48it/s]\n"
          ]
        },
        {
          "output_type": "stream",
          "name": "stdout",
          "text": [
            "Training Loss = 0.0170565, Training Accuracy = 37.099\n",
            "Testing Loss = 0.0171642, Testing Accuracy = 45.033\n",
            "**************************************************\n",
            "\n",
            "Epoch 18\n"
          ]
        },
        {
          "output_type": "stream",
          "name": "stderr",
          "text": [
            "Training: 100%|██████████| 42/42 [00:27<00:00,  1.51it/s]\n",
            "Evaluating: 100%|██████████| 12/12 [00:08<00:00,  1.46it/s]\n"
          ]
        },
        {
          "output_type": "stream",
          "name": "stdout",
          "text": [
            "Training Loss = 0.0171578, Training Accuracy = 37.250\n",
            "Testing Loss = 0.0171970, Testing Accuracy = 41.060\n",
            "**************************************************\n",
            "\n",
            "Epoch 19\n"
          ]
        },
        {
          "output_type": "stream",
          "name": "stderr",
          "text": [
            "Training: 100%|██████████| 42/42 [00:28<00:00,  1.49it/s]\n",
            "Evaluating: 100%|██████████| 12/12 [00:08<00:00,  1.47it/s]\n"
          ]
        },
        {
          "output_type": "stream",
          "name": "stdout",
          "text": [
            "Training Loss = 0.0170989, Training Accuracy = 37.892\n",
            "Testing Loss = 0.0171848, Testing Accuracy = 41.722\n",
            "**************************************************\n",
            "\n",
            "Epoch 20\n"
          ]
        },
        {
          "output_type": "stream",
          "name": "stderr",
          "text": [
            "Training: 100%|██████████| 42/42 [00:28<00:00,  1.46it/s]\n",
            "Evaluating: 100%|██████████| 12/12 [00:08<00:00,  1.48it/s]\n"
          ]
        },
        {
          "output_type": "stream",
          "name": "stdout",
          "text": [
            "Training Loss = 0.0170812, Training Accuracy = 36.607\n",
            "Testing Loss = 0.0171448, Testing Accuracy = 42.252\n",
            "**************************************************\n",
            "\n",
            "Epoch 21\n"
          ]
        },
        {
          "output_type": "stream",
          "name": "stderr",
          "text": [
            "Training: 100%|██████████| 42/42 [00:28<00:00,  1.50it/s]\n",
            "Evaluating: 100%|██████████| 12/12 [00:08<00:00,  1.47it/s]\n"
          ]
        },
        {
          "output_type": "stream",
          "name": "stdout",
          "text": [
            "Training Loss = 0.0170848, Training Accuracy = 37.514\n",
            "Testing Loss = 0.0171635, Testing Accuracy = 44.371\n",
            "**************************************************\n",
            "\n",
            "Epoch 22\n"
          ]
        },
        {
          "output_type": "stream",
          "name": "stderr",
          "text": [
            "Training: 100%|██████████| 42/42 [00:28<00:00,  1.49it/s]\n",
            "Evaluating: 100%|██████████| 12/12 [00:08<00:00,  1.46it/s]\n"
          ]
        },
        {
          "output_type": "stream",
          "name": "stdout",
          "text": [
            "Training Loss = 0.0171229, Training Accuracy = 36.872\n",
            "Testing Loss = 0.0171627, Testing Accuracy = 41.987\n",
            "**************************************************\n",
            "\n",
            "Epoch 23\n"
          ]
        },
        {
          "output_type": "stream",
          "name": "stderr",
          "text": [
            "Training: 100%|██████████| 42/42 [00:27<00:00,  1.50it/s]\n",
            "Evaluating: 100%|██████████| 12/12 [00:08<00:00,  1.46it/s]\n"
          ]
        },
        {
          "output_type": "stream",
          "name": "stdout",
          "text": [
            "Training Loss = 0.0171002, Training Accuracy = 37.665\n",
            "Testing Loss = 0.0171698, Testing Accuracy = 42.384\n",
            "**************************************************\n",
            "\n",
            "Epoch 24\n"
          ]
        },
        {
          "output_type": "stream",
          "name": "stderr",
          "text": [
            "Training: 100%|██████████| 42/42 [00:28<00:00,  1.49it/s]\n",
            "Evaluating: 100%|██████████| 12/12 [00:08<00:00,  1.49it/s]\n"
          ]
        },
        {
          "output_type": "stream",
          "name": "stdout",
          "text": [
            "Training Loss = 0.0171062, Training Accuracy = 36.947\n",
            "Testing Loss = 0.0171645, Testing Accuracy = 42.384\n",
            "**************************************************\n",
            "\n",
            "Epoch 25\n"
          ]
        },
        {
          "output_type": "stream",
          "name": "stderr",
          "text": [
            "Training: 100%|██████████| 42/42 [00:28<00:00,  1.50it/s]\n",
            "Evaluating: 100%|██████████| 12/12 [00:08<00:00,  1.47it/s]\n"
          ]
        },
        {
          "output_type": "stream",
          "name": "stdout",
          "text": [
            "Training Loss = 0.0171075, Training Accuracy = 37.590\n",
            "Testing Loss = 0.0171664, Testing Accuracy = 42.384\n",
            "**************************************************\n",
            "\n",
            "Epoch 26\n"
          ]
        },
        {
          "output_type": "stream",
          "name": "stderr",
          "text": [
            "Training: 100%|██████████| 42/42 [00:28<00:00,  1.49it/s]\n",
            "Evaluating: 100%|██████████| 12/12 [00:08<00:00,  1.36it/s]\n"
          ]
        },
        {
          "output_type": "stream",
          "name": "stdout",
          "text": [
            "Training Loss = 0.0170948, Training Accuracy = 38.572\n",
            "Testing Loss = 0.0171657, Testing Accuracy = 43.311\n",
            "**************************************************\n",
            "\n",
            "Epoch 27\n"
          ]
        },
        {
          "output_type": "stream",
          "name": "stderr",
          "text": [
            "Training: 100%|██████████| 42/42 [00:28<00:00,  1.49it/s]\n",
            "Evaluating: 100%|██████████| 12/12 [00:08<00:00,  1.46it/s]\n"
          ]
        },
        {
          "output_type": "stream",
          "name": "stdout",
          "text": [
            "Training Loss = 0.0171199, Training Accuracy = 37.628\n",
            "Testing Loss = 0.0171819, Testing Accuracy = 41.192\n",
            "**************************************************\n",
            "\n",
            "Epoch 28\n"
          ]
        },
        {
          "output_type": "stream",
          "name": "stderr",
          "text": [
            "Training: 100%|██████████| 42/42 [00:28<00:00,  1.48it/s]\n",
            "Evaluating: 100%|██████████| 12/12 [00:08<00:00,  1.46it/s]\n"
          ]
        },
        {
          "output_type": "stream",
          "name": "stdout",
          "text": [
            "Training Loss = 0.0171638, Training Accuracy = 36.343\n",
            "Testing Loss = 0.0171437, Testing Accuracy = 42.517\n",
            "**************************************************\n",
            "\n",
            "Epoch 29\n"
          ]
        },
        {
          "output_type": "stream",
          "name": "stderr",
          "text": [
            "Training: 100%|██████████| 42/42 [00:27<00:00,  1.51it/s]\n",
            "Evaluating: 100%|██████████| 12/12 [00:08<00:00,  1.49it/s]\n"
          ]
        },
        {
          "output_type": "stream",
          "name": "stdout",
          "text": [
            "Training Loss = 0.0171177, Training Accuracy = 38.836\n",
            "Testing Loss = 0.0171464, Testing Accuracy = 44.238\n",
            "**************************************************\n",
            "\n",
            "Epoch 30\n"
          ]
        },
        {
          "output_type": "stream",
          "name": "stderr",
          "text": [
            "Training: 100%|██████████| 42/42 [00:27<00:00,  1.50it/s]\n",
            "Evaluating: 100%|██████████| 12/12 [00:08<00:00,  1.47it/s]\n"
          ]
        },
        {
          "output_type": "stream",
          "name": "stdout",
          "text": [
            "Training Loss = 0.0171202, Training Accuracy = 38.119\n",
            "Testing Loss = 0.0171554, Testing Accuracy = 42.252\n",
            "**************************************************\n",
            "\n",
            "Epoch 31\n"
          ]
        },
        {
          "output_type": "stream",
          "name": "stderr",
          "text": [
            "Training: 100%|██████████| 42/42 [00:27<00:00,  1.51it/s]\n",
            "Evaluating: 100%|██████████| 12/12 [00:08<00:00,  1.47it/s]\n"
          ]
        },
        {
          "output_type": "stream",
          "name": "stdout",
          "text": [
            "Training Loss = 0.0170994, Training Accuracy = 36.947\n",
            "Testing Loss = 0.0171777, Testing Accuracy = 41.325\n",
            "**************************************************\n",
            "\n",
            "Epoch 32\n"
          ]
        },
        {
          "output_type": "stream",
          "name": "stderr",
          "text": [
            "Training: 100%|██████████| 42/42 [00:27<00:00,  1.50it/s]\n",
            "Evaluating: 100%|██████████| 12/12 [00:08<00:00,  1.47it/s]\n"
          ]
        },
        {
          "output_type": "stream",
          "name": "stdout",
          "text": [
            "Training Loss = 0.0170326, Training Accuracy = 38.534\n",
            "Testing Loss = 0.0171522, Testing Accuracy = 45.695\n",
            "**************************************************\n",
            "\n",
            "Epoch 33\n"
          ]
        },
        {
          "output_type": "stream",
          "name": "stderr",
          "text": [
            "Training: 100%|██████████| 42/42 [00:28<00:00,  1.47it/s]\n",
            "Evaluating: 100%|██████████| 12/12 [00:08<00:00,  1.47it/s]\n"
          ]
        },
        {
          "output_type": "stream",
          "name": "stdout",
          "text": [
            "Training Loss = 0.0170975, Training Accuracy = 37.892\n",
            "Testing Loss = 0.0171644, Testing Accuracy = 44.238\n",
            "**************************************************\n",
            "\n",
            "Epoch 34\n"
          ]
        },
        {
          "output_type": "stream",
          "name": "stderr",
          "text": [
            "Training: 100%|██████████| 42/42 [00:27<00:00,  1.50it/s]\n",
            "Evaluating: 100%|██████████| 12/12 [00:08<00:00,  1.48it/s]\n"
          ]
        },
        {
          "output_type": "stream",
          "name": "stdout",
          "text": [
            "Training Loss = 0.0170353, Training Accuracy = 39.252\n",
            "Testing Loss = 0.0171560, Testing Accuracy = 42.781\n",
            "**************************************************\n",
            "\n",
            "Epoch 35\n"
          ]
        },
        {
          "output_type": "stream",
          "name": "stderr",
          "text": [
            "Training: 100%|██████████| 42/42 [00:28<00:00,  1.49it/s]\n",
            "Evaluating: 100%|██████████| 12/12 [00:08<00:00,  1.48it/s]\n"
          ]
        },
        {
          "output_type": "stream",
          "name": "stdout",
          "text": [
            "Training Loss = 0.0170323, Training Accuracy = 38.534\n",
            "Testing Loss = 0.0171786, Testing Accuracy = 42.517\n",
            "**************************************************\n",
            "\n",
            "Epoch 36\n"
          ]
        },
        {
          "output_type": "stream",
          "name": "stderr",
          "text": [
            "Training: 100%|██████████| 42/42 [00:27<00:00,  1.51it/s]\n",
            "Evaluating: 100%|██████████| 12/12 [00:08<00:00,  1.48it/s]\n"
          ]
        },
        {
          "output_type": "stream",
          "name": "stdout",
          "text": [
            "Training Loss = 0.0171902, Training Accuracy = 37.552\n",
            "Testing Loss = 0.0171781, Testing Accuracy = 44.503\n",
            "**************************************************\n",
            "\n",
            "Epoch 37\n"
          ]
        },
        {
          "output_type": "stream",
          "name": "stderr",
          "text": [
            "Training: 100%|██████████| 42/42 [00:27<00:00,  1.50it/s]\n",
            "Evaluating: 100%|██████████| 12/12 [00:08<00:00,  1.46it/s]\n"
          ]
        },
        {
          "output_type": "stream",
          "name": "stdout",
          "text": [
            "Training Loss = 0.0170555, Training Accuracy = 36.607\n",
            "Testing Loss = 0.0171628, Testing Accuracy = 45.298\n",
            "**************************************************\n",
            "\n",
            "Epoch 38\n"
          ]
        },
        {
          "output_type": "stream",
          "name": "stderr",
          "text": [
            "Training: 100%|██████████| 42/42 [00:27<00:00,  1.52it/s]\n",
            "Evaluating: 100%|██████████| 12/12 [00:08<00:00,  1.49it/s]\n"
          ]
        },
        {
          "output_type": "stream",
          "name": "stdout",
          "text": [
            "Training Loss = 0.0170840, Training Accuracy = 36.494\n",
            "Testing Loss = 0.0171759, Testing Accuracy = 43.576\n",
            "**************************************************\n",
            "\n",
            "Epoch 39\n"
          ]
        },
        {
          "output_type": "stream",
          "name": "stderr",
          "text": [
            "Training: 100%|██████████| 42/42 [00:27<00:00,  1.50it/s]\n",
            "Evaluating: 100%|██████████| 12/12 [00:08<00:00,  1.37it/s]\n"
          ]
        },
        {
          "output_type": "stream",
          "name": "stdout",
          "text": [
            "Training Loss = 0.0170458, Training Accuracy = 38.156\n",
            "Testing Loss = 0.0171678, Testing Accuracy = 45.430\n",
            "**************************************************\n",
            "\n",
            "Epoch 40\n"
          ]
        },
        {
          "output_type": "stream",
          "name": "stderr",
          "text": [
            "Training: 100%|██████████| 42/42 [00:28<00:00,  1.50it/s]\n",
            "Evaluating: 100%|██████████| 12/12 [00:08<00:00,  1.47it/s]\n"
          ]
        },
        {
          "output_type": "stream",
          "name": "stdout",
          "text": [
            "Training Loss = 0.0169907, Training Accuracy = 39.290\n",
            "Testing Loss = 0.0171567, Testing Accuracy = 43.179\n",
            "**************************************************\n",
            "\n",
            "Epoch 41\n"
          ]
        },
        {
          "output_type": "stream",
          "name": "stderr",
          "text": [
            "Training: 100%|██████████| 42/42 [00:27<00:00,  1.50it/s]\n",
            "Evaluating: 100%|██████████| 12/12 [00:08<00:00,  1.47it/s]\n"
          ]
        },
        {
          "output_type": "stream",
          "name": "stdout",
          "text": [
            "Training Loss = 0.0172018, Training Accuracy = 36.003\n",
            "Testing Loss = 0.0171770, Testing Accuracy = 49.669\n",
            "**************************************************\n",
            "\n",
            "Epoch 42\n"
          ]
        },
        {
          "output_type": "stream",
          "name": "stderr",
          "text": [
            "Training: 100%|██████████| 42/42 [00:28<00:00,  1.49it/s]\n",
            "Evaluating: 100%|██████████| 12/12 [00:08<00:00,  1.41it/s]\n"
          ]
        },
        {
          "output_type": "stream",
          "name": "stdout",
          "text": [
            "Training Loss = 0.0170600, Training Accuracy = 37.287\n",
            "Testing Loss = 0.0171679, Testing Accuracy = 43.444\n",
            "**************************************************\n",
            "\n",
            "Epoch 43\n"
          ]
        },
        {
          "output_type": "stream",
          "name": "stderr",
          "text": [
            "Training: 100%|██████████| 42/42 [00:28<00:00,  1.48it/s]\n",
            "Evaluating: 100%|██████████| 12/12 [00:08<00:00,  1.45it/s]\n"
          ]
        },
        {
          "output_type": "stream",
          "name": "stdout",
          "text": [
            "Training Loss = 0.0170600, Training Accuracy = 38.270\n",
            "Testing Loss = 0.0171685, Testing Accuracy = 41.325\n",
            "**************************************************\n",
            "\n",
            "Epoch 44\n"
          ]
        },
        {
          "output_type": "stream",
          "name": "stderr",
          "text": [
            "Training: 100%|██████████| 42/42 [00:27<00:00,  1.50it/s]\n",
            "Evaluating: 100%|██████████| 12/12 [00:08<00:00,  1.49it/s]\n"
          ]
        },
        {
          "output_type": "stream",
          "name": "stdout",
          "text": [
            "Training Loss = 0.0170708, Training Accuracy = 38.988\n",
            "Testing Loss = 0.0171700, Testing Accuracy = 41.325\n",
            "**************************************************\n",
            "\n",
            "Epoch 45\n"
          ]
        },
        {
          "output_type": "stream",
          "name": "stderr",
          "text": [
            "Training: 100%|██████████| 42/42 [00:28<00:00,  1.48it/s]\n",
            "Evaluating: 100%|██████████| 12/12 [00:08<00:00,  1.47it/s]\n"
          ]
        },
        {
          "output_type": "stream",
          "name": "stdout",
          "text": [
            "Training Loss = 0.0170203, Training Accuracy = 37.816\n",
            "Testing Loss = 0.0171687, Testing Accuracy = 43.046\n",
            "**************************************************\n",
            "\n",
            "Epoch 46\n"
          ]
        },
        {
          "output_type": "stream",
          "name": "stderr",
          "text": [
            "Training: 100%|██████████| 42/42 [00:28<00:00,  1.47it/s]\n",
            "Evaluating: 100%|██████████| 12/12 [00:08<00:00,  1.46it/s]\n"
          ]
        },
        {
          "output_type": "stream",
          "name": "stdout",
          "text": [
            "Training Loss = 0.0170749, Training Accuracy = 38.459\n",
            "Testing Loss = 0.0171512, Testing Accuracy = 42.517\n",
            "**************************************************\n",
            "\n",
            "Epoch 47\n"
          ]
        },
        {
          "output_type": "stream",
          "name": "stderr",
          "text": [
            "Training: 100%|██████████| 42/42 [00:28<00:00,  1.50it/s]\n",
            "Evaluating: 100%|██████████| 12/12 [00:08<00:00,  1.47it/s]\n"
          ]
        },
        {
          "output_type": "stream",
          "name": "stdout",
          "text": [
            "Training Loss = 0.0171526, Training Accuracy = 36.079\n",
            "Testing Loss = 0.0171647, Testing Accuracy = 42.384\n",
            "**************************************************\n",
            "\n",
            "Epoch 48\n"
          ]
        },
        {
          "output_type": "stream",
          "name": "stderr",
          "text": [
            "Training: 100%|██████████| 42/42 [00:27<00:00,  1.50it/s]\n",
            "Evaluating: 100%|██████████| 12/12 [00:08<00:00,  1.47it/s]\n"
          ]
        },
        {
          "output_type": "stream",
          "name": "stdout",
          "text": [
            "Training Loss = 0.0171057, Training Accuracy = 38.874\n",
            "Testing Loss = 0.0171744, Testing Accuracy = 44.636\n",
            "**************************************************\n",
            "\n",
            "Epoch 49\n"
          ]
        },
        {
          "output_type": "stream",
          "name": "stderr",
          "text": [
            "Training: 100%|██████████| 42/42 [00:27<00:00,  1.50it/s]\n",
            "Evaluating: 100%|██████████| 12/12 [00:07<00:00,  1.51it/s]\n"
          ]
        },
        {
          "output_type": "stream",
          "name": "stdout",
          "text": [
            "Training Loss = 0.0170971, Training Accuracy = 37.854\n",
            "Testing Loss = 0.0171802, Testing Accuracy = 42.119\n",
            "**************************************************\n",
            "\n",
            "Epoch 50\n"
          ]
        },
        {
          "output_type": "stream",
          "name": "stderr",
          "text": [
            "Training: 100%|██████████| 42/42 [00:28<00:00,  1.49it/s]\n",
            "Evaluating: 100%|██████████| 12/12 [00:07<00:00,  1.53it/s]"
          ]
        },
        {
          "output_type": "stream",
          "name": "stdout",
          "text": [
            "Training Loss = 0.0171368, Training Accuracy = 37.363\n",
            "Testing Loss = 0.0171713, Testing Accuracy = 42.781\n",
            "**************************************************\n",
            "\n"
          ]
        },
        {
          "output_type": "stream",
          "name": "stderr",
          "text": [
            "\n"
          ]
        }
      ]
    },
    {
      "cell_type": "code",
      "source": [
        "fig, ax = plt.subplots(1, 3, figsize=(20, 5), sharex=True)\n",
        "\n",
        "fc_df.plot(ax=ax[0], y=[0, 2], style=[\"r\", \"b\"])\n",
        "fc_df.plot(ax=ax[1], y=[1, 3], style=[\"r\", \"b\"])\n",
        "fc_df.plot(ax=ax[2], y=[4], style=[\"b\"])\n",
        "\n",
        "for i in range(3):\n",
        "  ax[i].set_xlabel(\"Epochs\")\n",
        "  ax[i].grid(which=\"major\", axis=\"both\", color=\"g\", linestyle=\":\")\n",
        "\n",
        "ax[0].set_ylabel(\"Loss\")\n",
        "ax[1].set_ylabel(\"Accuracy (%)\")\n",
        "ax[2].set_ylabel(\"Learning Rate\")\n",
        "\n",
        "fig.suptitle('Fully Connected Neural Network Training Metrics', fontsize=16,)\n",
        "plt.show()"
      ],
      "metadata": {
        "colab": {
          "base_uri": "https://localhost:8080/",
          "height": 417
        },
        "id": "-afRr00cOOn3",
        "outputId": "70fabd3a-37fe-446a-a860-9a31378a6148"
      },
      "execution_count": 80,
      "outputs": [
        {
          "output_type": "display_data",
          "data": {
            "text/plain": [
              "<Figure size 2000x500 with 3 Axes>"
            ],
            "image/png": "[encoded data removed]"
          },
          "metadata": {}
        }
      ]
    },
    {
      "cell_type": "markdown",
      "source": [
        "# Custom CNN Layer - RESNet 9"
      ],
      "metadata": {
        "id": "pd7A0FxMRNSS"
      }
    },
    {
      "cell_type": "code",
      "source": [
        "def basic(in_channels, out_channels):\n",
        "  return nn.Sequential(\n",
        "      nn.Conv2d(in_channels, out_channels, kernel_size=3, padding=1, bias=False),\n",
        "      nn.BatchNorm2d(out_channels),\n",
        "      nn.Dropout2d(0.3),\n",
        "      nn.ReLU(inplace=True),\n",
        "  )"
      ],
      "metadata": {
        "id": "DEM3AM2_RUS9"
      },
      "execution_count": 81,
      "outputs": []
    },
    {
      "cell_type": "code",
      "source": [
        "class RS_block(nn.Module):\n",
        "  def __init__(self, in_channels, *args, **kwargs) -> None:\n",
        "    super().__init__(*args, **kwargs)\n",
        "    self.net = nn.Sequential(\n",
        "        basic(in_channels, in_channels),\n",
        "        basic(in_channels, in_channels),\n",
        "        basic(in_channels, in_channels)\n",
        "    )\n",
        "\n",
        "  def forward(self, x):\n",
        "    return x + self.net(x)"
      ],
      "metadata": {
        "id": "H-C5w-UgS_Nw"
      },
      "execution_count": 82,
      "outputs": []
    },
    {
      "cell_type": "code",
      "source": [
        "class ResNet9(nn.Module):\n",
        "\n",
        "  def __init__(self, in_channels=img_channels, num_classes=3, *args, **kwargs) -> None:\n",
        "    super().__init__(*args, **kwargs)\n",
        "    self.net = nn.Sequential(\n",
        "        basic(in_channels, 8),\n",
        "        basic(8, 32), nn.MaxPool2d(2),\n",
        "        RS_block(32),\n",
        "        basic(32, 64),\n",
        "        basic(64, 128), nn.MaxPool2d(2),\n",
        "        RS_block(128),\n",
        "        basic(128, 256), nn.MaxPool2d(2),\n",
        "        basic(256, 512), nn.MaxPool2d(2),\n",
        "        RS_block(512),\n",
        "        nn.AdaptiveAvgPool2d((1, 1)),\n",
        "        nn.Flatten(),\n",
        "        nn.Linear(512, num_classes)\n",
        "    )\n",
        "\n",
        "  def forward(self, x):\n",
        "    output = self.net(x)\n",
        "    return output"
      ],
      "metadata": {
        "id": "9NeunFiBT96T"
      },
      "execution_count": 83,
      "outputs": []
    },
    {
      "cell_type": "code",
      "source": [
        "model = ResNet9().cuda()\n",
        "\n",
        "criterion=nn.CrossEntropyLoss(reduction=\"sum\")\n",
        "optimizer = torch.optim.Adam(model.parameters(), lr=lr)\n",
        "\n",
        "scheduler = lr_scheduler.ReduceLROnPlateau(optimizer=optimizer, mode=\"min\", patience=5, factor=0.1)"
      ],
      "metadata": {
        "id": "4YLuiNHyVGnb"
      },
      "execution_count": 84,
      "outputs": []
    },
    {
      "cell_type": "code",
      "source": [
        "my_cnn = fit(model=model, train_dataloader=train_dl, val_dataloader=val_dl,\n",
        "            criterion=criterion, optimizer=optimizer, scheduler=scheduler,\n",
        "            epochs=50, experiment_name=\"my_cnn\")"
      ],
      "metadata": {
        "colab": {
          "base_uri": "https://localhost:8080/"
        },
        "id": "pg_Rs-TUV7ca",
        "outputId": "36b947b6-57cb-493b-a609-976e018bfd67"
      },
      "execution_count": 85,
      "outputs": [
        {
          "output_type": "stream",
          "name": "stdout",
          "text": [
            "Epoch 1\n"
          ]
        },
        {
          "output_type": "stream",
          "name": "stderr",
          "text": [
            "Training: 100%|██████████| 42/42 [00:36<00:00,  1.16it/s]\n",
            "Evaluating: 100%|██████████| 12/12 [00:09<00:00,  1.29it/s]\n"
          ]
        },
        {
          "output_type": "stream",
          "name": "stdout",
          "text": [
            "Training Loss = 0.9810897, Training Accuracy = 55.043\n",
            "Testing Loss = 1.8893695, Testing Accuracy = 34.570\n",
            "New best accuracy: 34.570 at epoch 1\n",
            "**************************************************\n",
            "\n",
            "Epoch 2\n"
          ]
        },
        {
          "output_type": "stream",
          "name": "stderr",
          "text": [
            "Training: 100%|██████████| 42/42 [00:36<00:00,  1.14it/s]\n",
            "Evaluating: 100%|██████████| 12/12 [00:09<00:00,  1.21it/s]\n"
          ]
        },
        {
          "output_type": "stream",
          "name": "stdout",
          "text": [
            "Training Loss = 0.7607536, Training Accuracy = 65.848\n",
            "Testing Loss = 1.2946160, Testing Accuracy = 43.709\n",
            "New best accuracy: 43.709 at epoch 2\n",
            "**************************************************\n",
            "\n",
            "Epoch 3\n"
          ]
        },
        {
          "output_type": "stream",
          "name": "stderr",
          "text": [
            "Training: 100%|██████████| 42/42 [00:36<00:00,  1.16it/s]\n",
            "Evaluating: 100%|██████████| 12/12 [00:09<00:00,  1.23it/s]\n"
          ]
        },
        {
          "output_type": "stream",
          "name": "stdout",
          "text": [
            "Training Loss = 0.7069622, Training Accuracy = 70.117\n",
            "Testing Loss = 0.8042256, Testing Accuracy = 66.887\n",
            "New best accuracy: 66.887 at epoch 3\n",
            "**************************************************\n",
            "\n",
            "Epoch 4\n"
          ]
        },
        {
          "output_type": "stream",
          "name": "stderr",
          "text": [
            "Training: 100%|██████████| 42/42 [00:36<00:00,  1.16it/s]\n",
            "Evaluating: 100%|██████████| 12/12 [00:09<00:00,  1.22it/s]\n"
          ]
        },
        {
          "output_type": "stream",
          "name": "stdout",
          "text": [
            "Training Loss = 0.7081158, Training Accuracy = 70.079\n",
            "Testing Loss = 0.8097919, Testing Accuracy = 63.444\n",
            "**************************************************\n",
            "\n",
            "Epoch 5\n"
          ]
        },
        {
          "output_type": "stream",
          "name": "stderr",
          "text": [
            "Training: 100%|██████████| 42/42 [00:36<00:00,  1.17it/s]\n",
            "Evaluating: 100%|██████████| 12/12 [00:09<00:00,  1.23it/s]\n"
          ]
        },
        {
          "output_type": "stream",
          "name": "stdout",
          "text": [
            "Training Loss = 0.6514536, Training Accuracy = 72.270\n",
            "Testing Loss = 0.9686484, Testing Accuracy = 62.517\n",
            "**************************************************\n",
            "\n",
            "Epoch 6\n"
          ]
        },
        {
          "output_type": "stream",
          "name": "stderr",
          "text": [
            "Training: 100%|██████████| 42/42 [00:35<00:00,  1.17it/s]\n",
            "Evaluating: 100%|██████████| 12/12 [00:09<00:00,  1.30it/s]\n"
          ]
        },
        {
          "output_type": "stream",
          "name": "stdout",
          "text": [
            "Training Loss = 0.6470485, Training Accuracy = 73.139\n",
            "Testing Loss = 0.7323115, Testing Accuracy = 65.033\n",
            "**************************************************\n",
            "\n",
            "Epoch 7\n"
          ]
        },
        {
          "output_type": "stream",
          "name": "stderr",
          "text": [
            "Training: 100%|██████████| 42/42 [00:36<00:00,  1.15it/s]\n",
            "Evaluating: 100%|██████████| 12/12 [00:09<00:00,  1.24it/s]\n"
          ]
        },
        {
          "output_type": "stream",
          "name": "stdout",
          "text": [
            "Training Loss = 0.6197931, Training Accuracy = 74.008\n",
            "Testing Loss = 0.7365632, Testing Accuracy = 61.722\n",
            "**************************************************\n",
            "\n",
            "Epoch 8\n"
          ]
        },
        {
          "output_type": "stream",
          "name": "stderr",
          "text": [
            "Training: 100%|██████████| 42/42 [00:36<00:00,  1.17it/s]\n",
            "Evaluating: 100%|██████████| 12/12 [00:09<00:00,  1.23it/s]\n"
          ]
        },
        {
          "output_type": "stream",
          "name": "stdout",
          "text": [
            "Training Loss = 0.6232901, Training Accuracy = 74.424\n",
            "Testing Loss = 0.7672484, Testing Accuracy = 66.225\n",
            "**************************************************\n",
            "\n",
            "Epoch 9\n"
          ]
        },
        {
          "output_type": "stream",
          "name": "stderr",
          "text": [
            "Training: 100%|██████████| 42/42 [00:36<00:00,  1.16it/s]\n",
            "Evaluating: 100%|██████████| 12/12 [00:09<00:00,  1.22it/s]\n"
          ]
        },
        {
          "output_type": "stream",
          "name": "stdout",
          "text": [
            "Training Loss = 0.6326545, Training Accuracy = 74.159\n",
            "Testing Loss = 0.6385146, Testing Accuracy = 70.199\n",
            "New best accuracy: 70.199 at epoch 9\n",
            "**************************************************\n",
            "\n",
            "Epoch 10\n"
          ]
        },
        {
          "output_type": "stream",
          "name": "stderr",
          "text": [
            "Training: 100%|██████████| 42/42 [00:35<00:00,  1.17it/s]\n",
            "Evaluating: 100%|██████████| 12/12 [00:09<00:00,  1.25it/s]\n"
          ]
        },
        {
          "output_type": "stream",
          "name": "stdout",
          "text": [
            "Training Loss = 0.5896946, Training Accuracy = 75.557\n",
            "Testing Loss = 0.6116135, Testing Accuracy = 71.391\n",
            "New best accuracy: 71.391 at epoch 10\n",
            "**************************************************\n",
            "\n",
            "Epoch 11\n"
          ]
        },
        {
          "output_type": "stream",
          "name": "stderr",
          "text": [
            "Training: 100%|██████████| 42/42 [00:35<00:00,  1.18it/s]\n",
            "Evaluating: 100%|██████████| 12/12 [00:09<00:00,  1.26it/s]\n"
          ]
        },
        {
          "output_type": "stream",
          "name": "stdout",
          "text": [
            "Training Loss = 0.5750942, Training Accuracy = 75.859\n",
            "Testing Loss = 0.5080990, Testing Accuracy = 75.762\n",
            "New best accuracy: 75.762 at epoch 11\n",
            "**************************************************\n",
            "\n",
            "Epoch 12\n"
          ]
        },
        {
          "output_type": "stream",
          "name": "stderr",
          "text": [
            "Training: 100%|██████████| 42/42 [00:36<00:00,  1.15it/s]\n",
            "Evaluating: 100%|██████████| 12/12 [00:09<00:00,  1.24it/s]\n"
          ]
        },
        {
          "output_type": "stream",
          "name": "stdout",
          "text": [
            "Training Loss = 0.5475458, Training Accuracy = 77.144\n",
            "Testing Loss = 0.5349236, Testing Accuracy = 73.377\n",
            "**************************************************\n",
            "\n",
            "Epoch 13\n"
          ]
        },
        {
          "output_type": "stream",
          "name": "stderr",
          "text": [
            "Training: 100%|██████████| 42/42 [00:35<00:00,  1.17it/s]\n",
            "Evaluating: 100%|██████████| 12/12 [00:09<00:00,  1.24it/s]\n"
          ]
        },
        {
          "output_type": "stream",
          "name": "stdout",
          "text": [
            "Training Loss = 0.5393520, Training Accuracy = 78.353\n",
            "Testing Loss = 0.6855681, Testing Accuracy = 67.815\n",
            "**************************************************\n",
            "\n",
            "Epoch 14\n"
          ]
        },
        {
          "output_type": "stream",
          "name": "stderr",
          "text": [
            "Training: 100%|██████████| 42/42 [00:35<00:00,  1.17it/s]\n",
            "Evaluating: 100%|██████████| 12/12 [00:09<00:00,  1.23it/s]\n"
          ]
        },
        {
          "output_type": "stream",
          "name": "stdout",
          "text": [
            "Training Loss = 0.5062496, Training Accuracy = 79.675\n",
            "Testing Loss = 0.6165075, Testing Accuracy = 72.185\n",
            "**************************************************\n",
            "\n",
            "Epoch 15\n"
          ]
        },
        {
          "output_type": "stream",
          "name": "stderr",
          "text": [
            "Training: 100%|██████████| 42/42 [00:36<00:00,  1.16it/s]\n",
            "Evaluating: 100%|██████████| 12/12 [00:09<00:00,  1.28it/s]\n"
          ]
        },
        {
          "output_type": "stream",
          "name": "stdout",
          "text": [
            "Training Loss = 0.4941876, Training Accuracy = 80.393\n",
            "Testing Loss = 0.6294015, Testing Accuracy = 71.258\n",
            "**************************************************\n",
            "\n",
            "Epoch 16\n"
          ]
        },
        {
          "output_type": "stream",
          "name": "stderr",
          "text": [
            "Training: 100%|██████████| 42/42 [00:36<00:00,  1.15it/s]\n",
            "Evaluating: 100%|██████████| 12/12 [00:09<00:00,  1.23it/s]\n"
          ]
        },
        {
          "output_type": "stream",
          "name": "stdout",
          "text": [
            "Training Loss = 0.4845577, Training Accuracy = 80.960\n",
            "Testing Loss = 0.6066474, Testing Accuracy = 72.318\n",
            "**************************************************\n",
            "\n",
            "Epoch 17\n"
          ]
        },
        {
          "output_type": "stream",
          "name": "stderr",
          "text": [
            "Training: 100%|██████████| 42/42 [00:36<00:00,  1.14it/s]\n",
            "Evaluating: 100%|██████████| 12/12 [00:09<00:00,  1.21it/s]\n"
          ]
        },
        {
          "output_type": "stream",
          "name": "stdout",
          "text": [
            "Training Loss = 0.4827048, Training Accuracy = 80.468\n",
            "Testing Loss = 0.5822540, Testing Accuracy = 73.245\n",
            "**************************************************\n",
            "\n",
            "Epoch 18\n"
          ]
        },
        {
          "output_type": "stream",
          "name": "stderr",
          "text": [
            "Training: 100%|██████████| 42/42 [00:35<00:00,  1.17it/s]\n",
            "Evaluating: 100%|██████████| 12/12 [00:09<00:00,  1.22it/s]\n"
          ]
        },
        {
          "output_type": "stream",
          "name": "stdout",
          "text": [
            "Training Loss = 0.4578220, Training Accuracy = 80.620\n",
            "Testing Loss = 0.5805932, Testing Accuracy = 73.245\n",
            "**************************************************\n",
            "\n",
            "Epoch 19\n"
          ]
        },
        {
          "output_type": "stream",
          "name": "stderr",
          "text": [
            "Training: 100%|██████████| 42/42 [00:36<00:00,  1.16it/s]\n",
            "Evaluating: 100%|██████████| 12/12 [00:09<00:00,  1.20it/s]\n"
          ]
        },
        {
          "output_type": "stream",
          "name": "stdout",
          "text": [
            "Training Loss = 0.4645492, Training Accuracy = 81.337\n",
            "Testing Loss = 0.5561153, Testing Accuracy = 74.702\n",
            "**************************************************\n",
            "\n",
            "Epoch 20\n"
          ]
        },
        {
          "output_type": "stream",
          "name": "stderr",
          "text": [
            "Training: 100%|██████████| 42/42 [00:36<00:00,  1.16it/s]\n",
            "Evaluating: 100%|██████████| 12/12 [00:09<00:00,  1.28it/s]\n"
          ]
        },
        {
          "output_type": "stream",
          "name": "stdout",
          "text": [
            "Training Loss = 0.4789547, Training Accuracy = 81.677\n",
            "Testing Loss = 0.5470336, Testing Accuracy = 74.570\n",
            "**************************************************\n",
            "\n",
            "Epoch 21\n"
          ]
        },
        {
          "output_type": "stream",
          "name": "stderr",
          "text": [
            "Training: 100%|██████████| 42/42 [00:36<00:00,  1.16it/s]\n",
            "Evaluating: 100%|██████████| 12/12 [00:09<00:00,  1.24it/s]\n"
          ]
        },
        {
          "output_type": "stream",
          "name": "stdout",
          "text": [
            "Training Loss = 0.4452805, Training Accuracy = 82.697\n",
            "Testing Loss = 0.5361710, Testing Accuracy = 75.894\n",
            "New best accuracy: 75.894 at epoch 21\n",
            "**************************************************\n",
            "\n",
            "Epoch 22\n"
          ]
        },
        {
          "output_type": "stream",
          "name": "stderr",
          "text": [
            "Training: 100%|██████████| 42/42 [00:37<00:00,  1.12it/s]\n",
            "Evaluating: 100%|██████████| 12/12 [00:09<00:00,  1.21it/s]\n"
          ]
        },
        {
          "output_type": "stream",
          "name": "stdout",
          "text": [
            "Training Loss = 0.4424076, Training Accuracy = 83.302\n",
            "Testing Loss = 0.5010635, Testing Accuracy = 76.689\n",
            "New best accuracy: 76.689 at epoch 22\n",
            "**************************************************\n",
            "\n",
            "Epoch 23\n"
          ]
        },
        {
          "output_type": "stream",
          "name": "stderr",
          "text": [
            "Training: 100%|██████████| 42/42 [00:36<00:00,  1.15it/s]\n",
            "Evaluating: 100%|██████████| 12/12 [00:09<00:00,  1.21it/s]\n"
          ]
        },
        {
          "output_type": "stream",
          "name": "stdout",
          "text": [
            "Training Loss = 0.4649086, Training Accuracy = 81.791\n",
            "Testing Loss = 0.5208716, Testing Accuracy = 75.894\n",
            "**************************************************\n",
            "\n",
            "Epoch 24\n"
          ]
        },
        {
          "output_type": "stream",
          "name": "stderr",
          "text": [
            "Training: 100%|██████████| 42/42 [00:36<00:00,  1.16it/s]\n",
            "Evaluating: 100%|██████████| 12/12 [00:09<00:00,  1.22it/s]\n"
          ]
        },
        {
          "output_type": "stream",
          "name": "stdout",
          "text": [
            "Training Loss = 0.4524534, Training Accuracy = 82.320\n",
            "Testing Loss = 0.5447605, Testing Accuracy = 75.364\n",
            "**************************************************\n",
            "\n",
            "Epoch 25\n"
          ]
        },
        {
          "output_type": "stream",
          "name": "stderr",
          "text": [
            "Training: 100%|██████████| 42/42 [00:36<00:00,  1.16it/s]\n",
            "Evaluating: 100%|██████████| 12/12 [00:09<00:00,  1.23it/s]\n"
          ]
        },
        {
          "output_type": "stream",
          "name": "stdout",
          "text": [
            "Training Loss = 0.4652920, Training Accuracy = 81.640\n",
            "Testing Loss = 0.5319132, Testing Accuracy = 75.894\n",
            "**************************************************\n",
            "\n",
            "Epoch 26\n"
          ]
        },
        {
          "output_type": "stream",
          "name": "stderr",
          "text": [
            "Training: 100%|██████████| 42/42 [00:36<00:00,  1.15it/s]\n",
            "Evaluating: 100%|██████████| 12/12 [00:09<00:00,  1.28it/s]\n"
          ]
        },
        {
          "output_type": "stream",
          "name": "stdout",
          "text": [
            "Training Loss = 0.4546824, Training Accuracy = 82.357\n",
            "Testing Loss = 0.5374121, Testing Accuracy = 75.629\n",
            "**************************************************\n",
            "\n",
            "Epoch 27\n"
          ]
        },
        {
          "output_type": "stream",
          "name": "stderr",
          "text": [
            "Training: 100%|██████████| 42/42 [00:36<00:00,  1.15it/s]\n",
            "Evaluating: 100%|██████████| 12/12 [00:09<00:00,  1.22it/s]\n"
          ]
        },
        {
          "output_type": "stream",
          "name": "stdout",
          "text": [
            "Training Loss = 0.4366698, Training Accuracy = 83.717\n",
            "Testing Loss = 0.5608192, Testing Accuracy = 75.099\n",
            "**************************************************\n",
            "\n",
            "Epoch 28\n"
          ]
        },
        {
          "output_type": "stream",
          "name": "stderr",
          "text": [
            "Training: 100%|██████████| 42/42 [00:37<00:00,  1.12it/s]\n",
            "Evaluating: 100%|██████████| 12/12 [00:10<00:00,  1.19it/s]\n"
          ]
        },
        {
          "output_type": "stream",
          "name": "stdout",
          "text": [
            "Training Loss = 0.4462253, Training Accuracy = 81.791\n",
            "Testing Loss = 0.5118435, Testing Accuracy = 76.159\n",
            "**************************************************\n",
            "\n",
            "Epoch 29\n"
          ]
        },
        {
          "output_type": "stream",
          "name": "stderr",
          "text": [
            "Training: 100%|██████████| 42/42 [00:36<00:00,  1.14it/s]\n",
            "Evaluating: 100%|██████████| 12/12 [00:09<00:00,  1.21it/s]\n"
          ]
        },
        {
          "output_type": "stream",
          "name": "stdout",
          "text": [
            "Training Loss = 0.4590482, Training Accuracy = 81.753\n",
            "Testing Loss = 0.5376795, Testing Accuracy = 75.232\n",
            "**************************************************\n",
            "\n",
            "Epoch 30\n"
          ]
        },
        {
          "output_type": "stream",
          "name": "stderr",
          "text": [
            "Training: 100%|██████████| 42/42 [00:36<00:00,  1.15it/s]\n",
            "Evaluating: 100%|██████████| 12/12 [00:09<00:00,  1.20it/s]\n"
          ]
        },
        {
          "output_type": "stream",
          "name": "stdout",
          "text": [
            "Training Loss = 0.4659742, Training Accuracy = 81.564\n",
            "Testing Loss = 0.5117690, Testing Accuracy = 76.424\n",
            "**************************************************\n",
            "\n",
            "Epoch 31\n"
          ]
        },
        {
          "output_type": "stream",
          "name": "stderr",
          "text": [
            "Training: 100%|██████████| 42/42 [00:36<00:00,  1.15it/s]\n",
            "Evaluating: 100%|██████████| 12/12 [00:09<00:00,  1.22it/s]\n"
          ]
        },
        {
          "output_type": "stream",
          "name": "stdout",
          "text": [
            "Training Loss = 0.4538465, Training Accuracy = 81.866\n",
            "Testing Loss = 0.5736603, Testing Accuracy = 74.305\n",
            "**************************************************\n",
            "\n",
            "Epoch 32\n"
          ]
        },
        {
          "output_type": "stream",
          "name": "stderr",
          "text": [
            "Training: 100%|██████████| 42/42 [00:36<00:00,  1.16it/s]\n",
            "Evaluating: 100%|██████████| 12/12 [00:09<00:00,  1.27it/s]\n"
          ]
        },
        {
          "output_type": "stream",
          "name": "stdout",
          "text": [
            "Training Loss = 0.4412344, Training Accuracy = 83.151\n",
            "Testing Loss = 0.5484254, Testing Accuracy = 75.099\n",
            "**************************************************\n",
            "\n",
            "Epoch 33\n"
          ]
        },
        {
          "output_type": "stream",
          "name": "stderr",
          "text": [
            "Training: 100%|██████████| 42/42 [00:36<00:00,  1.15it/s]\n",
            "Evaluating: 100%|██████████| 12/12 [00:09<00:00,  1.22it/s]\n"
          ]
        },
        {
          "output_type": "stream",
          "name": "stdout",
          "text": [
            "Training Loss = 0.4650624, Training Accuracy = 81.035\n",
            "Testing Loss = 0.5284858, Testing Accuracy = 75.629\n",
            "**************************************************\n",
            "\n",
            "Epoch 34\n"
          ]
        },
        {
          "output_type": "stream",
          "name": "stderr",
          "text": [
            "Training: 100%|██████████| 42/42 [00:36<00:00,  1.16it/s]\n",
            "Evaluating: 100%|██████████| 12/12 [00:09<00:00,  1.23it/s]\n"
          ]
        },
        {
          "output_type": "stream",
          "name": "stdout",
          "text": [
            "Training Loss = 0.4689704, Training Accuracy = 82.131\n",
            "Testing Loss = 0.5543526, Testing Accuracy = 74.702\n",
            "**************************************************\n",
            "\n",
            "Epoch 35\n"
          ]
        },
        {
          "output_type": "stream",
          "name": "stderr",
          "text": [
            "Training: 100%|██████████| 42/42 [00:36<00:00,  1.16it/s]\n",
            "Evaluating: 100%|██████████| 12/12 [00:09<00:00,  1.22it/s]\n"
          ]
        },
        {
          "output_type": "stream",
          "name": "stdout",
          "text": [
            "Training Loss = 0.4498463, Training Accuracy = 81.715\n",
            "Testing Loss = 0.5608988, Testing Accuracy = 74.834\n",
            "**************************************************\n",
            "\n",
            "Epoch 36\n"
          ]
        },
        {
          "output_type": "stream",
          "name": "stderr",
          "text": [
            "Training: 100%|██████████| 42/42 [00:36<00:00,  1.16it/s]\n",
            "Evaluating: 100%|██████████| 12/12 [00:09<00:00,  1.21it/s]\n"
          ]
        },
        {
          "output_type": "stream",
          "name": "stdout",
          "text": [
            "Training Loss = 0.4713236, Training Accuracy = 82.622\n",
            "Testing Loss = 0.5914244, Testing Accuracy = 74.305\n",
            "**************************************************\n",
            "\n",
            "Epoch 37\n"
          ]
        },
        {
          "output_type": "stream",
          "name": "stderr",
          "text": [
            "Training: 100%|██████████| 42/42 [00:36<00:00,  1.16it/s]\n",
            "Evaluating: 100%|██████████| 12/12 [00:09<00:00,  1.26it/s]\n"
          ]
        },
        {
          "output_type": "stream",
          "name": "stdout",
          "text": [
            "Training Loss = 0.4375707, Training Accuracy = 83.037\n",
            "Testing Loss = 0.5343176, Testing Accuracy = 75.629\n",
            "**************************************************\n",
            "\n",
            "Epoch 38\n"
          ]
        },
        {
          "output_type": "stream",
          "name": "stderr",
          "text": [
            "Training: 100%|██████████| 42/42 [00:37<00:00,  1.13it/s]\n",
            "Evaluating: 100%|██████████| 12/12 [00:09<00:00,  1.23it/s]\n"
          ]
        },
        {
          "output_type": "stream",
          "name": "stdout",
          "text": [
            "Training Loss = 0.4693495, Training Accuracy = 81.300\n",
            "Testing Loss = 0.5297959, Testing Accuracy = 75.629\n",
            "**************************************************\n",
            "\n",
            "Epoch 39\n"
          ]
        },
        {
          "output_type": "stream",
          "name": "stderr",
          "text": [
            "Training: 100%|██████████| 42/42 [00:36<00:00,  1.15it/s]\n",
            "Evaluating: 100%|██████████| 12/12 [00:09<00:00,  1.22it/s]\n"
          ]
        },
        {
          "output_type": "stream",
          "name": "stdout",
          "text": [
            "Training Loss = 0.4540461, Training Accuracy = 81.904\n",
            "Testing Loss = 0.5162794, Testing Accuracy = 76.159\n",
            "**************************************************\n",
            "\n",
            "Epoch 40\n"
          ]
        },
        {
          "output_type": "stream",
          "name": "stderr",
          "text": [
            "Training: 100%|██████████| 42/42 [00:36<00:00,  1.16it/s]\n",
            "Evaluating: 100%|██████████| 12/12 [00:09<00:00,  1.20it/s]\n"
          ]
        },
        {
          "output_type": "stream",
          "name": "stdout",
          "text": [
            "Training Loss = 0.4441212, Training Accuracy = 82.622\n",
            "Testing Loss = 0.5428167, Testing Accuracy = 75.364\n",
            "**************************************************\n",
            "\n",
            "Epoch 41\n"
          ]
        },
        {
          "output_type": "stream",
          "name": "stderr",
          "text": [
            "Training: 100%|██████████| 42/42 [00:36<00:00,  1.16it/s]\n",
            "Evaluating: 100%|██████████| 12/12 [00:09<00:00,  1.21it/s]\n"
          ]
        },
        {
          "output_type": "stream",
          "name": "stdout",
          "text": [
            "Training Loss = 0.4501447, Training Accuracy = 82.509\n",
            "Testing Loss = 0.5232463, Testing Accuracy = 76.026\n",
            "**************************************************\n",
            "\n",
            "Epoch 42\n"
          ]
        },
        {
          "output_type": "stream",
          "name": "stderr",
          "text": [
            "Training: 100%|██████████| 42/42 [00:36<00:00,  1.14it/s]\n",
            "Evaluating: 100%|██████████| 12/12 [00:09<00:00,  1.29it/s]\n"
          ]
        },
        {
          "output_type": "stream",
          "name": "stdout",
          "text": [
            "Training Loss = 0.4475891, Training Accuracy = 82.546\n",
            "Testing Loss = 0.4930778, Testing Accuracy = 77.219\n",
            "New best accuracy: 77.219 at epoch 42\n",
            "**************************************************\n",
            "\n",
            "Epoch 43\n"
          ]
        },
        {
          "output_type": "stream",
          "name": "stderr",
          "text": [
            "Training: 100%|██████████| 42/42 [00:36<00:00,  1.16it/s]\n",
            "Evaluating: 100%|██████████| 12/12 [00:09<00:00,  1.21it/s]\n"
          ]
        },
        {
          "output_type": "stream",
          "name": "stdout",
          "text": [
            "Training Loss = 0.4549450, Training Accuracy = 82.244\n",
            "Testing Loss = 0.4999342, Testing Accuracy = 76.424\n",
            "**************************************************\n",
            "\n",
            "Epoch 44\n"
          ]
        },
        {
          "output_type": "stream",
          "name": "stderr",
          "text": [
            "Training: 100%|██████████| 42/42 [00:37<00:00,  1.13it/s]\n",
            "Evaluating: 100%|██████████| 12/12 [00:09<00:00,  1.22it/s]\n"
          ]
        },
        {
          "output_type": "stream",
          "name": "stdout",
          "text": [
            "Training Loss = 0.4445699, Training Accuracy = 82.660\n",
            "Testing Loss = 0.5632325, Testing Accuracy = 74.967\n",
            "**************************************************\n",
            "\n",
            "Epoch 45\n"
          ]
        },
        {
          "output_type": "stream",
          "name": "stderr",
          "text": [
            "Training: 100%|██████████| 42/42 [00:36<00:00,  1.16it/s]\n",
            "Evaluating: 100%|██████████| 12/12 [00:09<00:00,  1.22it/s]\n"
          ]
        },
        {
          "output_type": "stream",
          "name": "stdout",
          "text": [
            "Training Loss = 0.4660990, Training Accuracy = 81.980\n",
            "Testing Loss = 0.5664923, Testing Accuracy = 74.305\n",
            "**************************************************\n",
            "\n",
            "Epoch 46\n"
          ]
        },
        {
          "output_type": "stream",
          "name": "stderr",
          "text": [
            "Training: 100%|██████████| 42/42 [00:36<00:00,  1.16it/s]\n",
            "Evaluating: 100%|██████████| 12/12 [00:09<00:00,  1.22it/s]\n"
          ]
        },
        {
          "output_type": "stream",
          "name": "stdout",
          "text": [
            "Training Loss = 0.4518027, Training Accuracy = 82.282\n",
            "Testing Loss = 0.5388857, Testing Accuracy = 75.629\n",
            "**************************************************\n",
            "\n",
            "Epoch 47\n"
          ]
        },
        {
          "output_type": "stream",
          "name": "stderr",
          "text": [
            "Training: 100%|██████████| 42/42 [00:37<00:00,  1.12it/s]\n",
            "Evaluating: 100%|██████████| 12/12 [00:09<00:00,  1.30it/s]\n"
          ]
        },
        {
          "output_type": "stream",
          "name": "stdout",
          "text": [
            "Training Loss = 0.4714179, Training Accuracy = 81.866\n",
            "Testing Loss = 0.5765138, Testing Accuracy = 73.642\n",
            "**************************************************\n",
            "\n",
            "Epoch 48\n"
          ]
        },
        {
          "output_type": "stream",
          "name": "stderr",
          "text": [
            "Training: 100%|██████████| 42/42 [00:36<00:00,  1.14it/s]\n",
            "Evaluating: 100%|██████████| 12/12 [00:09<00:00,  1.21it/s]\n"
          ]
        },
        {
          "output_type": "stream",
          "name": "stdout",
          "text": [
            "Training Loss = 0.4438375, Training Accuracy = 82.509\n",
            "Testing Loss = 0.5817936, Testing Accuracy = 74.040\n",
            "**************************************************\n",
            "\n",
            "Epoch 49\n"
          ]
        },
        {
          "output_type": "stream",
          "name": "stderr",
          "text": [
            "Training: 100%|██████████| 42/42 [00:36<00:00,  1.15it/s]\n",
            "Evaluating: 100%|██████████| 12/12 [00:10<00:00,  1.19it/s]\n"
          ]
        },
        {
          "output_type": "stream",
          "name": "stdout",
          "text": [
            "Training Loss = 0.4464220, Training Accuracy = 82.395\n",
            "Testing Loss = 0.5373439, Testing Accuracy = 75.894\n",
            "**************************************************\n",
            "\n",
            "Epoch 50\n"
          ]
        },
        {
          "output_type": "stream",
          "name": "stderr",
          "text": [
            "Training: 100%|██████████| 42/42 [00:37<00:00,  1.11it/s]\n",
            "Evaluating: 100%|██████████| 12/12 [00:09<00:00,  1.21it/s]"
          ]
        },
        {
          "output_type": "stream",
          "name": "stdout",
          "text": [
            "Training Loss = 0.4425154, Training Accuracy = 82.320\n",
            "Testing Loss = 0.5272685, Testing Accuracy = 75.894\n",
            "**************************************************\n",
            "\n"
          ]
        },
        {
          "output_type": "stream",
          "name": "stderr",
          "text": [
            "\n"
          ]
        }
      ]
    },
    {
      "cell_type": "code",
      "source": [
        "fig, ax = plt.subplots(1, 3, figsize=(20, 5), sharex=True)\n",
        "\n",
        "my_cnn.plot(ax=ax[0], y=[0, 2], style=[\"r\", \"b\"])\n",
        "my_cnn.plot(ax=ax[1], y=[1, 3], style=[\"r\", \"b\"])\n",
        "my_cnn.plot(ax=ax[2], y=[4], style=[\"b\"])\n",
        "\n",
        "for i in range(3):\n",
        "  ax[i].set_xlabel(\"Epochs\")\n",
        "  ax[i].grid(which=\"major\", axis=\"both\", color=\"g\", linestyle=\":\")\n",
        "\n",
        "ax[0].set_ylabel(\"Loss\")\n",
        "ax[1].set_ylabel(\"Accuracy (%)\")\n",
        "ax[2].set_ylabel(\"Learning Rate\")\n",
        "\n",
        "fig.suptitle('Custom CNN  Training Metrics', fontsize=16,)\n",
        "plt.show()"
      ],
      "metadata": {
        "colab": {
          "base_uri": "https://localhost:8080/",
          "height": 423
        },
        "id": "TAlLcIFdWZAw",
        "outputId": "626c6219-116e-4bdc-e128-7761652574f2"
      },
      "execution_count": 86,
      "outputs": [
        {
          "output_type": "display_data",
          "data": {
            "text/plain": [
              "<Figure size 2000x500 with 3 Axes>"
            ],
            "image/png": "[encoded data removed]"
          },
          "metadata": {}
        }
      ]
    },
    {
      "cell_type": "markdown",
      "source": [
        "# Transfer Learning"
      ],
      "metadata": {
        "id": "Kc4xQCD-hKsB"
      }
    },
    {
      "cell_type": "code",
      "source": [
        "model = models.resnet101(pretrained=True)"
      ],
      "metadata": {
        "colab": {
          "base_uri": "https://localhost:8080/"
        },
        "id": "gCs2GNsehMIn",
        "outputId": "50824c2a-00ad-4215-e3a4-1216fbf98366"
      },
      "execution_count": 87,
      "outputs": [
        {
          "output_type": "stream",
          "name": "stderr",
          "text": [
            "/usr/local/lib/python3.11/dist-packages/torchvision/models/_utils.py:208: UserWarning: The parameter 'pretrained' is deprecated since 0.13 and may be removed in the future, please use 'weights' instead.\n",
            "  warnings.warn(\n",
            "/usr/local/lib/python3.11/dist-packages/torchvision/models/_utils.py:223: UserWarning: Arguments other than a weight enum or `None` for 'weights' are deprecated since 0.13 and may be removed in the future. The current behavior is equivalent to passing `weights=ResNet101_Weights.IMAGENET1K_V1`. You can also use `weights=ResNet101_Weights.DEFAULT` to get the most up-to-date weights.\n",
            "  warnings.warn(msg)\n"
          ]
        }
      ]
    },
    {
      "cell_type": "code",
      "source": [
        "model.eval()\n",
        "\n",
        "for params in model.parameters():\n",
        "  params.requires_grad = False"
      ],
      "metadata": {
        "id": "ExahXDvDhWJN"
      },
      "execution_count": 88,
      "outputs": []
    },
    {
      "cell_type": "code",
      "source": [
        "num_ftrs = model.fc.in_features\n",
        "\n",
        "model.fc = nn.Linear(num_ftrs, 3)"
      ],
      "metadata": {
        "id": "c7eSD57QiFck"
      },
      "execution_count": 89,
      "outputs": []
    },
    {
      "cell_type": "code",
      "source": [
        "model = model.cuda()\n",
        "\n",
        "criterion=nn.CrossEntropyLoss(reduction=\"sum\")\n",
        "optimizer = torch.optim.Adam(model.parameters(), lr=lr)\n",
        "\n",
        "scheduler = lr_scheduler.ReduceLROnPlateau(optimizer=optimizer, mode=\"min\", patience=5, factor=0.1)"
      ],
      "metadata": {
        "id": "3RArg5hCiQEg"
      },
      "execution_count": 90,
      "outputs": []
    },
    {
      "cell_type": "code",
      "source": [
        "transfer_df = fit(model=model, train_dataloader=train_dl, val_dataloader=val_dl,\n",
        "            criterion=criterion, optimizer=optimizer, scheduler=scheduler,\n",
        "            epochs=10, experiment_name=\"tranfer\")"
      ],
      "metadata": {
        "colab": {
          "base_uri": "https://localhost:8080/"
        },
        "id": "nLMBggA7iWef",
        "outputId": "30d92565-5917-4930-cd01-580e19032f7e"
      },
      "execution_count": null,
      "outputs": [
        {
          "output_type": "stream",
          "name": "stdout",
          "text": [
            "Epoch 1\n"
          ]
        },
        {
          "output_type": "stream",
          "name": "stderr",
          "text": [
            "Training: 100%|██████████| 42/42 [00:42<00:00,  1.01s/it]\n",
            "Evaluating: 100%|██████████| 12/12 [00:11<00:00,  1.03it/s]\n"
          ]
        },
        {
          "output_type": "stream",
          "name": "stdout",
          "text": [
            "Training Loss = 0.5337260, Training Accuracy = 82.206\n",
            "Testing Loss = 0.2217884, Testing Accuracy = 97.219\n",
            "New best accuracy: 97.219 at epoch 1\n",
            "**************************************************\n",
            "\n",
            "Epoch 2\n"
          ]
        },
        {
          "output_type": "stream",
          "name": "stderr",
          "text": [
            "Training: 100%|██████████| 42/42 [00:42<00:00,  1.01s/it]\n",
            "Evaluating: 100%|██████████| 12/12 [00:11<00:00,  1.02it/s]\n"
          ]
        },
        {
          "output_type": "stream",
          "name": "stdout",
          "text": [
            "Training Loss = 0.1865556, Training Accuracy = 96.487\n",
            "Testing Loss = 0.1444169, Testing Accuracy = 96.556\n",
            "**************************************************\n",
            "\n",
            "Epoch 3\n"
          ]
        },
        {
          "output_type": "stream",
          "name": "stderr",
          "text": [
            "Training: 100%|██████████| 42/42 [00:42<00:00,  1.00s/it]\n",
            "Evaluating: 100%|██████████| 12/12 [00:11<00:00,  1.03it/s]\n"
          ]
        },
        {
          "output_type": "stream",
          "name": "stdout",
          "text": [
            "Training Loss = 0.1361905, Training Accuracy = 96.902\n",
            "Testing Loss = 0.1069768, Testing Accuracy = 97.483\n",
            "New best accuracy: 97.483 at epoch 3\n",
            "**************************************************\n",
            "\n",
            "Epoch 4\n"
          ]
        },
        {
          "output_type": "stream",
          "name": "stderr",
          "text": [
            "Training: 100%|██████████| 42/42 [00:42<00:00,  1.01s/it]\n",
            "Evaluating: 100%|██████████| 12/12 [00:11<00:00,  1.02it/s]\n"
          ]
        },
        {
          "output_type": "stream",
          "name": "stdout",
          "text": [
            "Training Loss = 0.1063768, Training Accuracy = 97.318\n",
            "Testing Loss = 0.0781104, Testing Accuracy = 98.808\n",
            "New best accuracy: 98.808 at epoch 4\n",
            "**************************************************\n",
            "\n",
            "Epoch 5\n"
          ]
        },
        {
          "output_type": "stream",
          "name": "stderr",
          "text": [
            "Training: 100%|██████████| 42/42 [00:41<00:00,  1.01it/s]\n",
            "Evaluating: 100%|██████████| 12/12 [00:11<00:00,  1.02it/s]\n"
          ]
        },
        {
          "output_type": "stream",
          "name": "stdout",
          "text": [
            "Training Loss = 0.0818416, Training Accuracy = 98.376\n",
            "Testing Loss = 0.0643300, Testing Accuracy = 99.338\n",
            "New best accuracy: 99.338 at epoch 5\n",
            "**************************************************\n",
            "\n",
            "Epoch 6\n"
          ]
        },
        {
          "output_type": "stream",
          "name": "stderr",
          "text": [
            "Training:  10%|▉         | 4/42 [00:05<00:47,  1.24s/it]"
          ]
        }
      ]
    },
    {
      "cell_type": "code",
      "source": [
        "fig, ax = plt.subplots(1, 3, figsize=(20, 5), sharex=True)\n",
        "\n",
        "transfer_df.plot(ax=ax[0], y=[0, 2], style=[\"r\", \"b\"])\n",
        "transfer_df.plot(ax=ax[1], y=[1, 3], style=[\"r\", \"b\"])\n",
        "transfer_df.plot(ax=ax[2], y=[4], style=[\"b\"])\n",
        "\n",
        "for i in range(3):\n",
        "  ax[i].set_xlabel(\"Epochs\")\n",
        "  ax[i].grid(which=\"major\", axis=\"both\", color=\"g\", linestyle=\":\")\n",
        "\n",
        "ax[0].set_ylabel(\"Loss\")\n",
        "ax[1].set_ylabel(\"Accuracy (%)\")\n",
        "ax[2].set_ylabel(\"Learning Rate\")\n",
        "\n",
        "fig.suptitle('Custom CNN  Training Metrics', fontsize=16,)\n",
        "plt.show()"
      ],
      "metadata": {
        "id": "tN_GetzkideN"
      },
      "execution_count": null,
      "outputs": []
    }
  ]
}