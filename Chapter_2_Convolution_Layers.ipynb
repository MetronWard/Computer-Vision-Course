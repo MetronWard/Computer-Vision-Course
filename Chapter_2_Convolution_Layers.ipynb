{
 "cells": [
  {
   "cell_type": "markdown",
   "id": "55c6ce0f",
   "metadata": {
    "id": "view-in-github",
    "papermill": {
     "duration": 0.006524,
     "end_time": "2025-08-09T03:47:34.530284",
     "exception": false,
     "start_time": "2025-08-09T03:47:34.523760",
     "status": "completed"
    },
    "tags": []
   },
   "source": [
    "<a href=\"https://colab.research.google.com/github/MetronWard/Computer-Vision-Course/blob/main/Chapter_2_Convolution_Layers.ipynb\" target=\"_parent\"><img src=\"https://colab.research.google.com/assets/colab-badge.svg\" alt=\"Open In Colab\"/></a>"
   ]
  },
  {
   "cell_type": "code",
   "execution_count": 1,
   "id": "ad1de3a5",
   "metadata": {
    "execution": {
     "iopub.execute_input": "2025-08-09T03:47:34.543194Z",
     "iopub.status.busy": "2025-08-09T03:47:34.542888Z",
     "iopub.status.idle": "2025-08-09T03:47:47.168273Z",
     "shell.execute_reply": "2025-08-09T03:47:47.167540Z"
    },
    "id": "i4EgU0ZXzBtt",
    "papermill": {
     "duration": 12.633719,
     "end_time": "2025-08-09T03:47:47.169906",
     "exception": false,
     "start_time": "2025-08-09T03:47:34.536187",
     "status": "completed"
    },
    "tags": []
   },
   "outputs": [],
   "source": [
    "import torch\n",
    "import torch.nn as nn\n",
    "import torch.optim.lr_scheduler as lr_scheduler\n",
    "from torch.utils.data import Dataset, DataLoader\n",
    "import torch.optim as optim\n",
    "\n",
    "import torchvision\n",
    "from torchvision import models\n",
    "import torchvision.transforms as T\n",
    "from torchvision.datasets import ImageFolder\n",
    "\n",
    "from sklearn.metrics import precision_score, recall_score, f1_score, confusion_matrix, ConfusionMatrixDisplay\n",
    "\n",
    "import pandas as pd\n",
    "import numpy as np\n",
    "import matplotlib.pyplot as plt\n",
    "\n",
    "from tqdm import tqdm\n",
    "import os"
   ]
  },
  {
   "cell_type": "markdown",
   "id": "d7646dad",
   "metadata": {
    "id": "HKghd_8pys-7",
    "papermill": {
     "duration": 0.00532,
     "end_time": "2025-08-09T03:47:47.181175",
     "exception": false,
     "start_time": "2025-08-09T03:47:47.175855",
     "status": "completed"
    },
    "tags": []
   },
   "source": [
    "# Download Dataset"
   ]
  },
  {
   "cell_type": "code",
   "execution_count": 2,
   "id": "a278e8ec",
   "metadata": {
    "execution": {
     "iopub.execute_input": "2025-08-09T03:47:47.193028Z",
     "iopub.status.busy": "2025-08-09T03:47:47.192564Z",
     "iopub.status.idle": "2025-08-09T03:47:47.613526Z",
     "shell.execute_reply": "2025-08-09T03:47:47.612578Z"
    },
    "id": "9evBQ1CqxIhR",
    "outputId": "15ef2776-0be9-4cc8-c235-2d55d79de034",
    "papermill": {
     "duration": 0.428339,
     "end_time": "2025-08-09T03:47:47.614740",
     "exception": false,
     "start_time": "2025-08-09T03:47:47.186401",
     "status": "completed"
    },
    "tags": []
   },
   "outputs": [
    {
     "name": "stdout",
     "output_type": "stream",
     "text": [
      "Path to dataset files: /kaggle/input/guava-disease-dataset\n"
     ]
    }
   ],
   "source": [
    "import kagglehub\n",
    "\n",
    "# Download latest version\n",
    "path = kagglehub.dataset_download(\"asadullahgalib/guava-disease-dataset\")\n",
    "\n",
    "print(\"Path to dataset files:\", path)"
   ]
  },
  {
   "cell_type": "code",
   "execution_count": 3,
   "id": "0be4dc92",
   "metadata": {
    "execution": {
     "iopub.execute_input": "2025-08-09T03:47:47.627019Z",
     "iopub.status.busy": "2025-08-09T03:47:47.626746Z",
     "iopub.status.idle": "2025-08-09T03:47:47.630552Z",
     "shell.execute_reply": "2025-08-09T03:47:47.629752Z"
    },
    "id": "7scBp9Jyz8yW",
    "papermill": {
     "duration": 0.011459,
     "end_time": "2025-08-09T03:47:47.631824",
     "exception": false,
     "start_time": "2025-08-09T03:47:47.620365",
     "status": "completed"
    },
    "tags": []
   },
   "outputs": [],
   "source": [
    "ds_folder = path+\"/GuavaDiseaseDataset/GuavaDiseaseDataset/\""
   ]
  },
  {
   "cell_type": "code",
   "execution_count": 4,
   "id": "1dcb24d4",
   "metadata": {
    "execution": {
     "iopub.execute_input": "2025-08-09T03:47:47.643624Z",
     "iopub.status.busy": "2025-08-09T03:47:47.643357Z",
     "iopub.status.idle": "2025-08-09T03:47:47.647192Z",
     "shell.execute_reply": "2025-08-09T03:47:47.646580Z"
    },
    "id": "cXY_pL2dy6oC",
    "papermill": {
     "duration": 0.011011,
     "end_time": "2025-08-09T03:47:47.648368",
     "exception": false,
     "start_time": "2025-08-09T03:47:47.637357",
     "status": "completed"
    },
    "tags": []
   },
   "outputs": [],
   "source": [
    "img_size = (224, 224)\n",
    "img_channels = 3\n",
    "batch_size = 64\n",
    "lr = 1e-3"
   ]
  },
  {
   "cell_type": "markdown",
   "id": "a3067990",
   "metadata": {
    "id": "Y1vc_Uw7y2ru",
    "papermill": {
     "duration": 0.005147,
     "end_time": "2025-08-09T03:47:47.659582",
     "exception": false,
     "start_time": "2025-08-09T03:47:47.654435",
     "status": "completed"
    },
    "tags": []
   },
   "source": [
    "# Datasets and DataLoaders"
   ]
  },
  {
   "cell_type": "code",
   "execution_count": 5,
   "id": "df8c6372",
   "metadata": {
    "execution": {
     "iopub.execute_input": "2025-08-09T03:47:47.671214Z",
     "iopub.status.busy": "2025-08-09T03:47:47.670947Z",
     "iopub.status.idle": "2025-08-09T03:47:49.583003Z",
     "shell.execute_reply": "2025-08-09T03:47:49.582130Z"
    },
    "id": "FKS1BtPFz6w8",
    "papermill": {
     "duration": 1.919631,
     "end_time": "2025-08-09T03:47:49.584581",
     "exception": false,
     "start_time": "2025-08-09T03:47:47.664950",
     "status": "completed"
    },
    "tags": []
   },
   "outputs": [],
   "source": [
    "train_dataset = ImageFolder(root=ds_folder + \"train/\",\n",
    "                            transform=T.Compose([\n",
    "                                T.Resize(img_size),\n",
    "                                T.RandomHorizontalFlip(0.5),\n",
    "                                T.RandomVerticalFlip(0.5),\n",
    "                                T.ToTensor(),\n",
    "                                T.Normalize([0.5]*3, [0.5]*3)]),\n",
    "                            )"
   ]
  },
  {
   "cell_type": "code",
   "execution_count": 6,
   "id": "05431ca6",
   "metadata": {
    "execution": {
     "iopub.execute_input": "2025-08-09T03:47:49.596723Z",
     "iopub.status.busy": "2025-08-09T03:47:49.596465Z",
     "iopub.status.idle": "2025-08-09T03:47:50.179443Z",
     "shell.execute_reply": "2025-08-09T03:47:50.178633Z"
    },
    "id": "HbqBHJBl0-sa",
    "papermill": {
     "duration": 0.590837,
     "end_time": "2025-08-09T03:47:50.181282",
     "exception": false,
     "start_time": "2025-08-09T03:47:49.590445",
     "status": "completed"
    },
    "tags": []
   },
   "outputs": [],
   "source": [
    "test_dataset = ImageFolder(root=ds_folder + \"test/\",\n",
    "                            transform=T.Compose([\n",
    "                                T.Resize(img_size),\n",
    "                                T.ToTensor(),\n",
    "                                T.Normalize([0.5]*3, [0.5]*3)]),\n",
    "                            )"
   ]
  },
  {
   "cell_type": "code",
   "execution_count": 7,
   "id": "406ad3df",
   "metadata": {
    "execution": {
     "iopub.execute_input": "2025-08-09T03:47:50.194355Z",
     "iopub.status.busy": "2025-08-09T03:47:50.193586Z",
     "iopub.status.idle": "2025-08-09T03:47:50.781182Z",
     "shell.execute_reply": "2025-08-09T03:47:50.780504Z"
    },
    "id": "Aa-blkKk1J_g",
    "papermill": {
     "duration": 0.595202,
     "end_time": "2025-08-09T03:47:50.782658",
     "exception": false,
     "start_time": "2025-08-09T03:47:50.187456",
     "status": "completed"
    },
    "tags": []
   },
   "outputs": [],
   "source": [
    "val_dataset = ImageFolder(root=ds_folder + \"val/\",\n",
    "                            transform=T.Compose([\n",
    "                                T.Resize(img_size),\n",
    "                                T.ToTensor(),\n",
    "                                T.Normalize([0.5]*3, [0.5]*3)]),\n",
    "                            )"
   ]
  },
  {
   "cell_type": "code",
   "execution_count": 8,
   "id": "cba85d9e",
   "metadata": {
    "execution": {
     "iopub.execute_input": "2025-08-09T03:47:50.795539Z",
     "iopub.status.busy": "2025-08-09T03:47:50.794641Z",
     "iopub.status.idle": "2025-08-09T03:47:50.799726Z",
     "shell.execute_reply": "2025-08-09T03:47:50.798898Z"
    },
    "id": "pEjSHbd01N4z",
    "papermill": {
     "duration": 0.012618,
     "end_time": "2025-08-09T03:47:50.801113",
     "exception": false,
     "start_time": "2025-08-09T03:47:50.788495",
     "status": "completed"
    },
    "tags": []
   },
   "outputs": [],
   "source": [
    "train_dl = DataLoader(train_dataset, batch_size=batch_size, shuffle=True)\n",
    "test_dl = DataLoader(test_dataset, batch_size=batch_size, shuffle=False)\n",
    "val_dl = DataLoader(val_dataset, batch_size=10, shuffle=False)"
   ]
  },
  {
   "cell_type": "code",
   "execution_count": 9,
   "id": "76a7ef5e",
   "metadata": {
    "execution": {
     "iopub.execute_input": "2025-08-09T03:47:50.812810Z",
     "iopub.status.busy": "2025-08-09T03:47:50.812558Z",
     "iopub.status.idle": "2025-08-09T03:47:50.816423Z",
     "shell.execute_reply": "2025-08-09T03:47:50.815654Z"
    },
    "papermill": {
     "duration": 0.010931,
     "end_time": "2025-08-09T03:47:50.817610",
     "exception": false,
     "start_time": "2025-08-09T03:47:50.806679",
     "status": "completed"
    },
    "tags": []
   },
   "outputs": [],
   "source": [
    "os.makedirs(\"Models\", exist_ok=True)"
   ]
  },
  {
   "cell_type": "markdown",
   "id": "d1b2f943",
   "metadata": {
    "id": "EXvnokzw12WD",
    "papermill": {
     "duration": 0.005147,
     "end_time": "2025-08-09T03:47:50.827912",
     "exception": false,
     "start_time": "2025-08-09T03:47:50.822765",
     "status": "completed"
    },
    "tags": []
   },
   "source": [
    "# Training Functins"
   ]
  },
  {
   "cell_type": "code",
   "execution_count": 10,
   "id": "311a48ba",
   "metadata": {
    "execution": {
     "iopub.execute_input": "2025-08-09T03:47:50.839262Z",
     "iopub.status.busy": "2025-08-09T03:47:50.838966Z",
     "iopub.status.idle": "2025-08-09T03:47:50.845125Z",
     "shell.execute_reply": "2025-08-09T03:47:50.844267Z"
    },
    "id": "PLpmcbBK15vq",
    "papermill": {
     "duration": 0.013365,
     "end_time": "2025-08-09T03:47:50.846440",
     "exception": false,
     "start_time": "2025-08-09T03:47:50.833075",
     "status": "completed"
    },
    "tags": []
   },
   "outputs": [],
   "source": [
    "def train_step(model, data_loader, criterion, optimizer, scheduler):\n",
    "\n",
    "  n_samples = len(data_loader.dataset)\n",
    "\n",
    "  progress_bar = tqdm(data_loader, desc=\"Training\")\n",
    "  total_loss = 0.0\n",
    "  total_correct = 0.0\n",
    "\n",
    "  model.train()\n",
    "\n",
    "  for image, label in progress_bar:\n",
    "    images, labels = image.cuda(), label.cuda()\n",
    "\n",
    "    optimizer.zero_grad()\n",
    "\n",
    "    predictions = model(images)\n",
    "    predicted_classes = torch.argmax(predictions, dim=1)\n",
    "    correct_classes = torch.sum(predicted_classes == labels)\n",
    "    loss = criterion(predictions, labels)\n",
    "\n",
    "    total_correct += correct_classes.item()\n",
    "    total_loss += loss.item()\n",
    "\n",
    "    loss.backward()\n",
    "    nn.utils.clip_grad_value_(model.parameters(), clip_value=0.1)\n",
    "    optimizer.step()\n",
    "  scheduler.step(loss.item())\n",
    "\n",
    "  return total_loss/n_samples, 100 * (total_correct/n_samples)"
   ]
  },
  {
   "cell_type": "code",
   "execution_count": 11,
   "id": "c22b85c6",
   "metadata": {
    "execution": {
     "iopub.execute_input": "2025-08-09T03:47:50.858606Z",
     "iopub.status.busy": "2025-08-09T03:47:50.858156Z",
     "iopub.status.idle": "2025-08-09T03:47:50.863690Z",
     "shell.execute_reply": "2025-08-09T03:47:50.862860Z"
    },
    "id": "54XJyd_76gW4",
    "papermill": {
     "duration": 0.012808,
     "end_time": "2025-08-09T03:47:50.864901",
     "exception": false,
     "start_time": "2025-08-09T03:47:50.852093",
     "status": "completed"
    },
    "tags": []
   },
   "outputs": [],
   "source": [
    "def evaluate(model, data_loader, criterion):\n",
    "\n",
    "  model.eval()\n",
    "\n",
    "  n_samples = len(data_loader.dataset)\n",
    "\n",
    "  progress_bar = tqdm(data_loader, desc=\"Evaluating\")\n",
    "  total_loss = 0.0\n",
    "  total_correct = 0.0\n",
    "\n",
    "  with torch.no_grad():\n",
    "\n",
    "    for image, label in progress_bar:\n",
    "      images, labels = image.cuda(), label.cuda()\n",
    "\n",
    "      predictions = model(images)\n",
    "      predicted_classes = torch.argmax(predictions, dim=1)\n",
    "      correct_classes = torch.sum(predicted_classes == labels)\n",
    "      loss = criterion(predictions, labels)\n",
    "\n",
    "      total_correct += correct_classes.item()\n",
    "      total_loss += loss.item()\n",
    "\n",
    "  return total_loss/n_samples, 100 * (total_correct/n_samples)"
   ]
  },
  {
   "cell_type": "code",
   "execution_count": 12,
   "id": "1cb19f56",
   "metadata": {
    "execution": {
     "iopub.execute_input": "2025-08-09T03:47:50.876484Z",
     "iopub.status.busy": "2025-08-09T03:47:50.876264Z",
     "iopub.status.idle": "2025-08-09T03:47:50.882707Z",
     "shell.execute_reply": "2025-08-09T03:47:50.882131Z"
    },
    "id": "1j7Q1jSS7jZy",
    "papermill": {
     "duration": 0.013694,
     "end_time": "2025-08-09T03:47:50.883907",
     "exception": false,
     "start_time": "2025-08-09T03:47:50.870213",
     "status": "completed"
    },
    "tags": []
   },
   "outputs": [],
   "source": [
    "def fit(model, train_dataloader, val_dataloader, criterion, optimizer, scheduler, epochs, experiment_name):\n",
    "\n",
    "  df = pd.DataFrame(np.empty([epochs, 5]),\n",
    "                    index=np.arange(epochs),\n",
    "                    columns=[\"Train_Loss\", \"Train_Acc\", \"Val_Loss\", \"Val_Acc\", \"lr\"])\n",
    "\n",
    "  highest_acc = 0.00\n",
    "\n",
    "  for epoch in range(epochs):\n",
    "    print(f\"Epoch {epoch+1}\")\n",
    "\n",
    "    df.iloc[epoch, 0], df.iloc[epoch, 1] = train_step(model=model, data_loader=train_dataloader,\n",
    "                                            criterion=criterion, optimizer=optimizer,\n",
    "                                            scheduler=scheduler)\n",
    "\n",
    "    df.iloc[epoch, 2], df.iloc[epoch, 3] = evaluate(model=model, data_loader=val_dataloader,\n",
    "                                            criterion=criterion)\n",
    "\n",
    "    df.iloc[epoch, 4] = optimizer.param_groups[0][\"lr\"]\n",
    "\n",
    "    print(f\"Training Loss = {df.iloc[epoch, 0]:.7f}, Training Accuracy = {df.iloc[epoch, 1]:.3f}\\nTesting Loss = {df.iloc[epoch, 2]:.7f}, Testing Accuracy = {df.iloc[epoch, 3]:.3f}\")\n",
    "\n",
    "\n",
    "    if df.iloc[epoch, 3] > highest_acc:\n",
    "      torch.save(model.state_dict(), f\"Models/{experiment_name}.pth\")\n",
    "      highest_acc = df.iloc[epoch, 3]\n",
    "      print(f\"New best accuracy: {highest_acc:.3f} at epoch {epoch+1}\")\n",
    "\n",
    "    print(\"*\"*50)\n",
    "    print(\"\")\n",
    "\n",
    "  return df"
   ]
  },
  {
   "cell_type": "markdown",
   "id": "2392d1c7",
   "metadata": {
    "id": "tTezZovI-vLs",
    "papermill": {
     "duration": 0.005054,
     "end_time": "2025-08-09T03:47:50.894345",
     "exception": false,
     "start_time": "2025-08-09T03:47:50.889291",
     "status": "completed"
    },
    "tags": []
   },
   "source": [
    "# FC Neural Network"
   ]
  },
  {
   "cell_type": "code",
   "execution_count": 13,
   "id": "32a08bf5",
   "metadata": {
    "execution": {
     "iopub.execute_input": "2025-08-09T03:47:50.905275Z",
     "iopub.status.busy": "2025-08-09T03:47:50.904997Z",
     "iopub.status.idle": "2025-08-09T03:47:50.910443Z",
     "shell.execute_reply": "2025-08-09T03:47:50.909854Z"
    },
    "id": "6fiFsd15_VwJ",
    "papermill": {
     "duration": 0.012293,
     "end_time": "2025-08-09T03:47:50.911519",
     "exception": false,
     "start_time": "2025-08-09T03:47:50.899226",
     "status": "completed"
    },
    "tags": []
   },
   "outputs": [],
   "source": [
    "class FC_Model(nn.Module):\n",
    "  def __init__(self, skeleton:list, num_classes):\n",
    "    super().__init__()\n",
    "    layer_list = []\n",
    "    for i in range(len(skeleton) -1):\n",
    "      layer_list.append(nn.Linear(skeleton[i], skeleton[i+1]))\n",
    "      layer_list.append(nn.BatchNorm1d(skeleton[i+1]))\n",
    "      layer_list.append(nn.Dropout1d(0.5))\n",
    "      layer_list.append(nn.ReLU())\n",
    "    layer_list.append(nn.Linear(skeleton[-1], num_classes))\n",
    "    self.model = nn.Sequential(*layer_list)\n",
    "\n",
    "  def forward(self, images):\n",
    "    inputs = images.view(images.shape[0], -1)\n",
    "    output = self.model(inputs)\n",
    "    return output"
   ]
  },
  {
   "cell_type": "code",
   "execution_count": 14,
   "id": "4744fb4d",
   "metadata": {
    "execution": {
     "iopub.execute_input": "2025-08-09T03:47:50.923039Z",
     "iopub.status.busy": "2025-08-09T03:47:50.922791Z",
     "iopub.status.idle": "2025-08-09T03:47:51.327900Z",
     "shell.execute_reply": "2025-08-09T03:47:51.327158Z"
    },
    "id": "MZ82ZHpvAmU1",
    "papermill": {
     "duration": 0.412433,
     "end_time": "2025-08-09T03:47:51.329486",
     "exception": false,
     "start_time": "2025-08-09T03:47:50.917053",
     "status": "completed"
    },
    "tags": []
   },
   "outputs": [],
   "source": [
    "model = FC_Model(skeleton=[img_size[0]*img_size[1]*3, 100, 50, 20], num_classes=3).cuda()"
   ]
  },
  {
   "cell_type": "code",
   "execution_count": 15,
   "id": "1a0515d0",
   "metadata": {
    "execution": {
     "iopub.execute_input": "2025-08-09T03:47:51.343237Z",
     "iopub.status.busy": "2025-08-09T03:47:51.342977Z",
     "iopub.status.idle": "2025-08-09T03:47:51.347507Z",
     "shell.execute_reply": "2025-08-09T03:47:51.346866Z"
    },
    "id": "VBSuN6ug-1qJ",
    "papermill": {
     "duration": 0.01211,
     "end_time": "2025-08-09T03:47:51.348727",
     "exception": false,
     "start_time": "2025-08-09T03:47:51.336617",
     "status": "completed"
    },
    "tags": []
   },
   "outputs": [],
   "source": [
    "criterion = nn.CrossEntropyLoss()\n",
    "optimizer = optim.Adam(model.parameters(), lr=lr)\n",
    "scheduler = lr_scheduler.ReduceLROnPlateau(optimizer=optimizer, mode=\"min\", patience=5, factor=0.1)"
   ]
  },
  {
   "cell_type": "code",
   "execution_count": 16,
   "id": "042bcb54",
   "metadata": {
    "execution": {
     "iopub.execute_input": "2025-08-09T03:47:51.360492Z",
     "iopub.status.busy": "2025-08-09T03:47:51.360282Z",
     "iopub.status.idle": "2025-08-09T04:20:34.407247Z",
     "shell.execute_reply": "2025-08-09T04:20:34.406197Z"
    },
    "id": "qE-E0nCWBGPl",
    "outputId": "6404a59f-c1bf-4237-a471-3d954debbea6",
    "papermill": {
     "duration": 1963.054477,
     "end_time": "2025-08-09T04:20:34.408945",
     "exception": false,
     "start_time": "2025-08-09T03:47:51.354468",
     "status": "completed"
    },
    "tags": []
   },
   "outputs": [
    {
     "name": "stdout",
     "output_type": "stream",
     "text": [
      "Epoch 1\n"
     ]
    },
    {
     "name": "stderr",
     "output_type": "stream",
     "text": [
      "Training: 100%|██████████| 42/42 [00:46<00:00,  1.11s/it]\n",
      "Evaluating: 100%|██████████| 76/76 [00:12<00:00,  5.88it/s]\n"
     ]
    },
    {
     "name": "stdout",
     "output_type": "stream",
     "text": [
      "Training Loss = 0.0177405, Training Accuracy = 37.061\n",
      "Testing Loss = 0.1026933, Testing Accuracy = 41.192\n",
      "New best accuracy: 41.192 at epoch 1\n",
      "**************************************************\n",
      "\n",
      "Epoch 2\n"
     ]
    },
    {
     "name": "stderr",
     "output_type": "stream",
     "text": [
      "Training: 100%|██████████| 42/42 [00:30<00:00,  1.39it/s]\n",
      "Evaluating: 100%|██████████| 76/76 [00:08<00:00,  8.84it/s]\n"
     ]
    },
    {
     "name": "stdout",
     "output_type": "stream",
     "text": [
      "Training Loss = 0.0166419, Training Accuracy = 40.348\n",
      "Testing Loss = 0.1032710, Testing Accuracy = 38.808\n",
      "**************************************************\n",
      "\n",
      "Epoch 3\n"
     ]
    },
    {
     "name": "stderr",
     "output_type": "stream",
     "text": [
      "Training: 100%|██████████| 42/42 [00:30<00:00,  1.37it/s]\n",
      "Evaluating: 100%|██████████| 76/76 [00:08<00:00,  9.06it/s]\n"
     ]
    },
    {
     "name": "stdout",
     "output_type": "stream",
     "text": [
      "Training Loss = 0.0164198, Training Accuracy = 41.519\n",
      "Testing Loss = 0.1002177, Testing Accuracy = 48.344\n",
      "New best accuracy: 48.344 at epoch 3\n",
      "**************************************************\n",
      "\n",
      "Epoch 4\n"
     ]
    },
    {
     "name": "stderr",
     "output_type": "stream",
     "text": [
      "Training: 100%|██████████| 42/42 [00:30<00:00,  1.39it/s]\n",
      "Evaluating: 100%|██████████| 76/76 [00:08<00:00,  8.91it/s]\n"
     ]
    },
    {
     "name": "stdout",
     "output_type": "stream",
     "text": [
      "Training Loss = 0.0162561, Training Accuracy = 42.199\n",
      "Testing Loss = 0.0987521, Testing Accuracy = 59.735\n",
      "New best accuracy: 59.735 at epoch 4\n",
      "**************************************************\n",
      "\n",
      "Epoch 5\n"
     ]
    },
    {
     "name": "stderr",
     "output_type": "stream",
     "text": [
      "Training: 100%|██████████| 42/42 [00:29<00:00,  1.40it/s]\n",
      "Evaluating: 100%|██████████| 76/76 [00:08<00:00,  8.66it/s]\n"
     ]
    },
    {
     "name": "stdout",
     "output_type": "stream",
     "text": [
      "Training Loss = 0.0162600, Training Accuracy = 42.539\n",
      "Testing Loss = 0.0954883, Testing Accuracy = 62.517\n",
      "New best accuracy: 62.517 at epoch 5\n",
      "**************************************************\n",
      "\n",
      "Epoch 6\n"
     ]
    },
    {
     "name": "stderr",
     "output_type": "stream",
     "text": [
      "Training: 100%|██████████| 42/42 [00:30<00:00,  1.39it/s]\n",
      "Evaluating: 100%|██████████| 76/76 [00:08<00:00,  8.98it/s]\n"
     ]
    },
    {
     "name": "stdout",
     "output_type": "stream",
     "text": [
      "Training Loss = 0.0162934, Training Accuracy = 42.199\n",
      "Testing Loss = 0.0952042, Testing Accuracy = 67.417\n",
      "New best accuracy: 67.417 at epoch 6\n",
      "**************************************************\n",
      "\n",
      "Epoch 7\n"
     ]
    },
    {
     "name": "stderr",
     "output_type": "stream",
     "text": [
      "Training: 100%|██████████| 42/42 [00:30<00:00,  1.40it/s]\n",
      "Evaluating: 100%|██████████| 76/76 [00:08<00:00,  9.00it/s]\n"
     ]
    },
    {
     "name": "stdout",
     "output_type": "stream",
     "text": [
      "Training Loss = 0.0162251, Training Accuracy = 41.556\n",
      "Testing Loss = 0.0943905, Testing Accuracy = 72.583\n",
      "New best accuracy: 72.583 at epoch 7\n",
      "**************************************************\n",
      "\n",
      "Epoch 8\n"
     ]
    },
    {
     "name": "stderr",
     "output_type": "stream",
     "text": [
      "Training: 100%|██████████| 42/42 [00:30<00:00,  1.39it/s]\n",
      "Evaluating: 100%|██████████| 76/76 [00:08<00:00,  8.87it/s]\n"
     ]
    },
    {
     "name": "stdout",
     "output_type": "stream",
     "text": [
      "Training Loss = 0.0161556, Training Accuracy = 42.803\n",
      "Testing Loss = 0.0946250, Testing Accuracy = 71.656\n",
      "**************************************************\n",
      "\n",
      "Epoch 9\n"
     ]
    },
    {
     "name": "stderr",
     "output_type": "stream",
     "text": [
      "Training: 100%|██████████| 42/42 [00:30<00:00,  1.36it/s]\n",
      "Evaluating: 100%|██████████| 76/76 [00:08<00:00,  8.63it/s]\n"
     ]
    },
    {
     "name": "stdout",
     "output_type": "stream",
     "text": [
      "Training Loss = 0.0159824, Training Accuracy = 43.634\n",
      "Testing Loss = 0.0949526, Testing Accuracy = 72.053\n",
      "**************************************************\n",
      "\n",
      "Epoch 10\n"
     ]
    },
    {
     "name": "stderr",
     "output_type": "stream",
     "text": [
      "Training: 100%|██████████| 42/42 [00:30<00:00,  1.37it/s]\n",
      "Evaluating: 100%|██████████| 76/76 [00:08<00:00,  8.92it/s]\n"
     ]
    },
    {
     "name": "stdout",
     "output_type": "stream",
     "text": [
      "Training Loss = 0.0158497, Training Accuracy = 42.803\n",
      "Testing Loss = 0.0923590, Testing Accuracy = 74.834\n",
      "New best accuracy: 74.834 at epoch 10\n",
      "**************************************************\n",
      "\n",
      "Epoch 11\n"
     ]
    },
    {
     "name": "stderr",
     "output_type": "stream",
     "text": [
      "Training: 100%|██████████| 42/42 [00:30<00:00,  1.39it/s]\n",
      "Evaluating: 100%|██████████| 76/76 [00:08<00:00,  9.15it/s]\n"
     ]
    },
    {
     "name": "stdout",
     "output_type": "stream",
     "text": [
      "Training Loss = 0.0159012, Training Accuracy = 43.672\n",
      "Testing Loss = 0.0910529, Testing Accuracy = 75.232\n",
      "New best accuracy: 75.232 at epoch 11\n",
      "**************************************************\n",
      "\n",
      "Epoch 12\n"
     ]
    },
    {
     "name": "stderr",
     "output_type": "stream",
     "text": [
      "Training: 100%|██████████| 42/42 [00:30<00:00,  1.39it/s]\n",
      "Evaluating: 100%|██████████| 76/76 [00:08<00:00,  9.10it/s]\n"
     ]
    },
    {
     "name": "stdout",
     "output_type": "stream",
     "text": [
      "Training Loss = 0.0157631, Training Accuracy = 44.352\n",
      "Testing Loss = 0.0904733, Testing Accuracy = 74.967\n",
      "**************************************************\n",
      "\n",
      "Epoch 13\n"
     ]
    },
    {
     "name": "stderr",
     "output_type": "stream",
     "text": [
      "Training: 100%|██████████| 42/42 [00:29<00:00,  1.41it/s]\n",
      "Evaluating: 100%|██████████| 76/76 [00:08<00:00,  9.16it/s]\n"
     ]
    },
    {
     "name": "stdout",
     "output_type": "stream",
     "text": [
      "Training Loss = 0.0159519, Training Accuracy = 42.463\n",
      "Testing Loss = 0.0877058, Testing Accuracy = 77.086\n",
      "New best accuracy: 77.086 at epoch 13\n",
      "**************************************************\n",
      "\n",
      "Epoch 14\n"
     ]
    },
    {
     "name": "stderr",
     "output_type": "stream",
     "text": [
      "Training: 100%|██████████| 42/42 [00:30<00:00,  1.37it/s]\n",
      "Evaluating: 100%|██████████| 76/76 [00:08<00:00,  8.87it/s]\n"
     ]
    },
    {
     "name": "stdout",
     "output_type": "stream",
     "text": [
      "Training Loss = 0.0158580, Training Accuracy = 43.597\n",
      "Testing Loss = 0.0895390, Testing Accuracy = 75.232\n",
      "**************************************************\n",
      "\n",
      "Epoch 15\n"
     ]
    },
    {
     "name": "stderr",
     "output_type": "stream",
     "text": [
      "Training: 100%|██████████| 42/42 [00:29<00:00,  1.41it/s]\n",
      "Evaluating: 100%|██████████| 76/76 [00:08<00:00,  9.09it/s]\n"
     ]
    },
    {
     "name": "stdout",
     "output_type": "stream",
     "text": [
      "Training Loss = 0.0157541, Training Accuracy = 44.012\n",
      "Testing Loss = 0.0892305, Testing Accuracy = 75.497\n",
      "**************************************************\n",
      "\n",
      "Epoch 16\n"
     ]
    },
    {
     "name": "stderr",
     "output_type": "stream",
     "text": [
      "Training: 100%|██████████| 42/42 [00:29<00:00,  1.41it/s]\n",
      "Evaluating: 100%|██████████| 76/76 [00:08<00:00,  9.04it/s]\n"
     ]
    },
    {
     "name": "stdout",
     "output_type": "stream",
     "text": [
      "Training Loss = 0.0157275, Training Accuracy = 44.239\n",
      "Testing Loss = 0.0901266, Testing Accuracy = 75.232\n",
      "**************************************************\n",
      "\n",
      "Epoch 17\n"
     ]
    },
    {
     "name": "stderr",
     "output_type": "stream",
     "text": [
      "Training: 100%|██████████| 42/42 [00:29<00:00,  1.41it/s]\n",
      "Evaluating: 100%|██████████| 76/76 [00:08<00:00,  9.21it/s]\n"
     ]
    },
    {
     "name": "stdout",
     "output_type": "stream",
     "text": [
      "Training Loss = 0.0156103, Training Accuracy = 45.825\n",
      "Testing Loss = 0.0902716, Testing Accuracy = 74.305\n",
      "**************************************************\n",
      "\n",
      "Epoch 18\n"
     ]
    },
    {
     "name": "stderr",
     "output_type": "stream",
     "text": [
      "Training: 100%|██████████| 42/42 [00:31<00:00,  1.35it/s]\n",
      "Evaluating: 100%|██████████| 76/76 [00:08<00:00,  8.53it/s]\n"
     ]
    },
    {
     "name": "stdout",
     "output_type": "stream",
     "text": [
      "Training Loss = 0.0156843, Training Accuracy = 46.128\n",
      "Testing Loss = 0.0896209, Testing Accuracy = 75.232\n",
      "**************************************************\n",
      "\n",
      "Epoch 19\n"
     ]
    },
    {
     "name": "stderr",
     "output_type": "stream",
     "text": [
      "Training: 100%|██████████| 42/42 [00:30<00:00,  1.37it/s]\n",
      "Evaluating: 100%|██████████| 76/76 [00:09<00:00,  8.41it/s]\n"
     ]
    },
    {
     "name": "stdout",
     "output_type": "stream",
     "text": [
      "Training Loss = 0.0156569, Training Accuracy = 46.543\n",
      "Testing Loss = 0.0886230, Testing Accuracy = 76.291\n",
      "**************************************************\n",
      "\n",
      "Epoch 20\n"
     ]
    },
    {
     "name": "stderr",
     "output_type": "stream",
     "text": [
      "Training: 100%|██████████| 42/42 [00:30<00:00,  1.37it/s]\n",
      "Evaluating: 100%|██████████| 76/76 [00:08<00:00,  8.88it/s]\n"
     ]
    },
    {
     "name": "stdout",
     "output_type": "stream",
     "text": [
      "Training Loss = 0.0155424, Training Accuracy = 47.223\n",
      "Testing Loss = 0.0903967, Testing Accuracy = 75.497\n",
      "**************************************************\n",
      "\n",
      "Epoch 21\n"
     ]
    },
    {
     "name": "stderr",
     "output_type": "stream",
     "text": [
      "Training: 100%|██████████| 42/42 [00:30<00:00,  1.37it/s]\n",
      "Evaluating: 100%|██████████| 76/76 [00:08<00:00,  8.93it/s]\n"
     ]
    },
    {
     "name": "stdout",
     "output_type": "stream",
     "text": [
      "Training Loss = 0.0156319, Training Accuracy = 47.299\n",
      "Testing Loss = 0.0886082, Testing Accuracy = 76.026\n",
      "**************************************************\n",
      "\n",
      "Epoch 22\n"
     ]
    },
    {
     "name": "stderr",
     "output_type": "stream",
     "text": [
      "Training: 100%|██████████| 42/42 [00:30<00:00,  1.38it/s]\n",
      "Evaluating: 100%|██████████| 76/76 [00:08<00:00,  8.94it/s]\n"
     ]
    },
    {
     "name": "stdout",
     "output_type": "stream",
     "text": [
      "Training Loss = 0.0155037, Training Accuracy = 47.828\n",
      "Testing Loss = 0.0877749, Testing Accuracy = 76.291\n",
      "**************************************************\n",
      "\n",
      "Epoch 23\n"
     ]
    },
    {
     "name": "stderr",
     "output_type": "stream",
     "text": [
      "Training: 100%|██████████| 42/42 [00:30<00:00,  1.38it/s]\n",
      "Evaluating: 100%|██████████| 76/76 [00:08<00:00,  8.75it/s]\n"
     ]
    },
    {
     "name": "stdout",
     "output_type": "stream",
     "text": [
      "Training Loss = 0.0156416, Training Accuracy = 46.619\n",
      "Testing Loss = 0.0891428, Testing Accuracy = 75.762\n",
      "**************************************************\n",
      "\n",
      "Epoch 24\n"
     ]
    },
    {
     "name": "stderr",
     "output_type": "stream",
     "text": [
      "Training: 100%|██████████| 42/42 [00:30<00:00,  1.38it/s]\n",
      "Evaluating: 100%|██████████| 76/76 [00:08<00:00,  9.00it/s]\n"
     ]
    },
    {
     "name": "stdout",
     "output_type": "stream",
     "text": [
      "Training Loss = 0.0156722, Training Accuracy = 46.128\n",
      "Testing Loss = 0.0880190, Testing Accuracy = 77.881\n",
      "New best accuracy: 77.881 at epoch 24\n",
      "**************************************************\n",
      "\n",
      "Epoch 25\n"
     ]
    },
    {
     "name": "stderr",
     "output_type": "stream",
     "text": [
      "Training: 100%|██████████| 42/42 [00:30<00:00,  1.39it/s]\n",
      "Evaluating: 100%|██████████| 76/76 [00:08<00:00,  8.84it/s]\n"
     ]
    },
    {
     "name": "stdout",
     "output_type": "stream",
     "text": [
      "Training Loss = 0.0157554, Training Accuracy = 46.657\n",
      "Testing Loss = 0.0877518, Testing Accuracy = 76.424\n",
      "**************************************************\n",
      "\n",
      "Epoch 26\n"
     ]
    },
    {
     "name": "stderr",
     "output_type": "stream",
     "text": [
      "Training: 100%|██████████| 42/42 [00:30<00:00,  1.37it/s]\n",
      "Evaluating: 100%|██████████| 76/76 [00:08<00:00,  8.71it/s]\n"
     ]
    },
    {
     "name": "stdout",
     "output_type": "stream",
     "text": [
      "Training Loss = 0.0156021, Training Accuracy = 46.959\n",
      "Testing Loss = 0.0883233, Testing Accuracy = 76.159\n",
      "**************************************************\n",
      "\n",
      "Epoch 27\n"
     ]
    },
    {
     "name": "stderr",
     "output_type": "stream",
     "text": [
      "Training: 100%|██████████| 42/42 [00:30<00:00,  1.37it/s]\n",
      "Evaluating: 100%|██████████| 76/76 [00:08<00:00,  8.70it/s]\n"
     ]
    },
    {
     "name": "stdout",
     "output_type": "stream",
     "text": [
      "Training Loss = 0.0156672, Training Accuracy = 46.241\n",
      "Testing Loss = 0.0877439, Testing Accuracy = 74.967\n",
      "**************************************************\n",
      "\n",
      "Epoch 28\n"
     ]
    },
    {
     "name": "stderr",
     "output_type": "stream",
     "text": [
      "Training: 100%|██████████| 42/42 [00:30<00:00,  1.38it/s]\n",
      "Evaluating: 100%|██████████| 76/76 [00:08<00:00,  8.99it/s]\n"
     ]
    },
    {
     "name": "stdout",
     "output_type": "stream",
     "text": [
      "Training Loss = 0.0156547, Training Accuracy = 46.090\n",
      "Testing Loss = 0.0873535, Testing Accuracy = 75.762\n",
      "**************************************************\n",
      "\n",
      "Epoch 29\n"
     ]
    },
    {
     "name": "stderr",
     "output_type": "stream",
     "text": [
      "Training: 100%|██████████| 42/42 [00:30<00:00,  1.39it/s]\n",
      "Evaluating: 100%|██████████| 76/76 [00:08<00:00,  9.11it/s]\n"
     ]
    },
    {
     "name": "stdout",
     "output_type": "stream",
     "text": [
      "Training Loss = 0.0155284, Training Accuracy = 47.601\n",
      "Testing Loss = 0.0879545, Testing Accuracy = 76.291\n",
      "**************************************************\n",
      "\n",
      "Epoch 30\n"
     ]
    },
    {
     "name": "stderr",
     "output_type": "stream",
     "text": [
      "Training: 100%|██████████| 42/42 [00:30<00:00,  1.38it/s]\n",
      "Evaluating: 100%|██████████| 76/76 [00:08<00:00,  8.99it/s]\n"
     ]
    },
    {
     "name": "stdout",
     "output_type": "stream",
     "text": [
      "Training Loss = 0.0155462, Training Accuracy = 47.488\n",
      "Testing Loss = 0.0877391, Testing Accuracy = 76.556\n",
      "**************************************************\n",
      "\n",
      "Epoch 31\n"
     ]
    },
    {
     "name": "stderr",
     "output_type": "stream",
     "text": [
      "Training: 100%|██████████| 42/42 [00:30<00:00,  1.39it/s]\n",
      "Evaluating: 100%|██████████| 76/76 [00:08<00:00,  9.08it/s]\n"
     ]
    },
    {
     "name": "stdout",
     "output_type": "stream",
     "text": [
      "Training Loss = 0.0154988, Training Accuracy = 47.903\n",
      "Testing Loss = 0.0879007, Testing Accuracy = 75.762\n",
      "**************************************************\n",
      "\n",
      "Epoch 32\n"
     ]
    },
    {
     "name": "stderr",
     "output_type": "stream",
     "text": [
      "Training: 100%|██████████| 42/42 [00:30<00:00,  1.37it/s]\n",
      "Evaluating: 100%|██████████| 76/76 [00:08<00:00,  8.84it/s]\n"
     ]
    },
    {
     "name": "stdout",
     "output_type": "stream",
     "text": [
      "Training Loss = 0.0155151, Training Accuracy = 47.337\n",
      "Testing Loss = 0.0852735, Testing Accuracy = 78.278\n",
      "New best accuracy: 78.278 at epoch 32\n",
      "**************************************************\n",
      "\n",
      "Epoch 33\n"
     ]
    },
    {
     "name": "stderr",
     "output_type": "stream",
     "text": [
      "Training: 100%|██████████| 42/42 [00:29<00:00,  1.41it/s]\n",
      "Evaluating: 100%|██████████| 76/76 [00:08<00:00,  9.13it/s]\n"
     ]
    },
    {
     "name": "stdout",
     "output_type": "stream",
     "text": [
      "Training Loss = 0.0155573, Training Accuracy = 46.241\n",
      "Testing Loss = 0.0858320, Testing Accuracy = 78.808\n",
      "New best accuracy: 78.808 at epoch 33\n",
      "**************************************************\n",
      "\n",
      "Epoch 34\n"
     ]
    },
    {
     "name": "stderr",
     "output_type": "stream",
     "text": [
      "Training: 100%|██████████| 42/42 [00:29<00:00,  1.41it/s]\n",
      "Evaluating: 100%|██████████| 76/76 [00:08<00:00,  8.93it/s]\n"
     ]
    },
    {
     "name": "stdout",
     "output_type": "stream",
     "text": [
      "Training Loss = 0.0153987, Training Accuracy = 47.639\n",
      "Testing Loss = 0.0872990, Testing Accuracy = 75.762\n",
      "**************************************************\n",
      "\n",
      "Epoch 35\n"
     ]
    },
    {
     "name": "stderr",
     "output_type": "stream",
     "text": [
      "Training: 100%|██████████| 42/42 [00:29<00:00,  1.41it/s]\n",
      "Evaluating: 100%|██████████| 76/76 [00:08<00:00,  9.08it/s]\n"
     ]
    },
    {
     "name": "stdout",
     "output_type": "stream",
     "text": [
      "Training Loss = 0.0155716, Training Accuracy = 46.505\n",
      "Testing Loss = 0.0876944, Testing Accuracy = 77.351\n",
      "**************************************************\n",
      "\n",
      "Epoch 36\n"
     ]
    },
    {
     "name": "stderr",
     "output_type": "stream",
     "text": [
      "Training: 100%|██████████| 42/42 [00:30<00:00,  1.39it/s]\n",
      "Evaluating: 100%|██████████| 76/76 [00:08<00:00,  8.84it/s]\n"
     ]
    },
    {
     "name": "stdout",
     "output_type": "stream",
     "text": [
      "Training Loss = 0.0155804, Training Accuracy = 47.110\n",
      "Testing Loss = 0.0880620, Testing Accuracy = 75.894\n",
      "**************************************************\n",
      "\n",
      "Epoch 37\n"
     ]
    },
    {
     "name": "stderr",
     "output_type": "stream",
     "text": [
      "Training: 100%|██████████| 42/42 [00:30<00:00,  1.40it/s]\n",
      "Evaluating: 100%|██████████| 76/76 [00:08<00:00,  8.91it/s]\n"
     ]
    },
    {
     "name": "stdout",
     "output_type": "stream",
     "text": [
      "Training Loss = 0.0155768, Training Accuracy = 47.639\n",
      "Testing Loss = 0.0862395, Testing Accuracy = 78.543\n",
      "**************************************************\n",
      "\n",
      "Epoch 38\n"
     ]
    },
    {
     "name": "stderr",
     "output_type": "stream",
     "text": [
      "Training: 100%|██████████| 42/42 [00:30<00:00,  1.38it/s]\n",
      "Evaluating: 100%|██████████| 76/76 [00:08<00:00,  8.97it/s]\n"
     ]
    },
    {
     "name": "stdout",
     "output_type": "stream",
     "text": [
      "Training Loss = 0.0157285, Training Accuracy = 46.203\n",
      "Testing Loss = 0.0882680, Testing Accuracy = 75.497\n",
      "**************************************************\n",
      "\n",
      "Epoch 39\n"
     ]
    },
    {
     "name": "stderr",
     "output_type": "stream",
     "text": [
      "Training: 100%|██████████| 42/42 [00:30<00:00,  1.39it/s]\n",
      "Evaluating: 100%|██████████| 76/76 [00:08<00:00,  8.77it/s]\n"
     ]
    },
    {
     "name": "stdout",
     "output_type": "stream",
     "text": [
      "Training Loss = 0.0156977, Training Accuracy = 45.977\n",
      "Testing Loss = 0.0859945, Testing Accuracy = 78.411\n",
      "**************************************************\n",
      "\n",
      "Epoch 40\n"
     ]
    },
    {
     "name": "stderr",
     "output_type": "stream",
     "text": [
      "Training: 100%|██████████| 42/42 [00:30<00:00,  1.39it/s]\n",
      "Evaluating: 100%|██████████| 76/76 [00:08<00:00,  9.13it/s]\n"
     ]
    },
    {
     "name": "stdout",
     "output_type": "stream",
     "text": [
      "Training Loss = 0.0154730, Training Accuracy = 47.526\n",
      "Testing Loss = 0.0865851, Testing Accuracy = 75.894\n",
      "**************************************************\n",
      "\n",
      "Epoch 41\n"
     ]
    },
    {
     "name": "stderr",
     "output_type": "stream",
     "text": [
      "Training: 100%|██████████| 42/42 [00:30<00:00,  1.38it/s]\n",
      "Evaluating: 100%|██████████| 76/76 [00:09<00:00,  8.31it/s]\n"
     ]
    },
    {
     "name": "stdout",
     "output_type": "stream",
     "text": [
      "Training Loss = 0.0153773, Training Accuracy = 47.488\n",
      "Testing Loss = 0.0879684, Testing Accuracy = 75.497\n",
      "**************************************************\n",
      "\n",
      "Epoch 42\n"
     ]
    },
    {
     "name": "stderr",
     "output_type": "stream",
     "text": [
      "Training: 100%|██████████| 42/42 [00:29<00:00,  1.43it/s]\n",
      "Evaluating: 100%|██████████| 76/76 [00:08<00:00,  8.72it/s]\n"
     ]
    },
    {
     "name": "stdout",
     "output_type": "stream",
     "text": [
      "Training Loss = 0.0155629, Training Accuracy = 46.468\n",
      "Testing Loss = 0.0876225, Testing Accuracy = 77.483\n",
      "**************************************************\n",
      "\n",
      "Epoch 43\n"
     ]
    },
    {
     "name": "stderr",
     "output_type": "stream",
     "text": [
      "Training: 100%|██████████| 42/42 [00:30<00:00,  1.40it/s]\n",
      "Evaluating: 100%|██████████| 76/76 [00:08<00:00,  9.00it/s]\n"
     ]
    },
    {
     "name": "stdout",
     "output_type": "stream",
     "text": [
      "Training Loss = 0.0155086, Training Accuracy = 46.921\n",
      "Testing Loss = 0.0874393, Testing Accuracy = 76.026\n",
      "**************************************************\n",
      "\n",
      "Epoch 44\n"
     ]
    },
    {
     "name": "stderr",
     "output_type": "stream",
     "text": [
      "Training: 100%|██████████| 42/42 [00:29<00:00,  1.41it/s]\n",
      "Evaluating: 100%|██████████| 76/76 [00:08<00:00,  9.08it/s]\n"
     ]
    },
    {
     "name": "stdout",
     "output_type": "stream",
     "text": [
      "Training Loss = 0.0155107, Training Accuracy = 48.168\n",
      "Testing Loss = 0.0871870, Testing Accuracy = 75.894\n",
      "**************************************************\n",
      "\n",
      "Epoch 45\n"
     ]
    },
    {
     "name": "stderr",
     "output_type": "stream",
     "text": [
      "Training: 100%|██████████| 42/42 [00:30<00:00,  1.38it/s]\n",
      "Evaluating: 100%|██████████| 76/76 [00:08<00:00,  9.02it/s]\n"
     ]
    },
    {
     "name": "stdout",
     "output_type": "stream",
     "text": [
      "Training Loss = 0.0156208, Training Accuracy = 46.128\n",
      "Testing Loss = 0.0866550, Testing Accuracy = 75.894\n",
      "**************************************************\n",
      "\n",
      "Epoch 46\n"
     ]
    },
    {
     "name": "stderr",
     "output_type": "stream",
     "text": [
      "Training: 100%|██████████| 42/42 [00:30<00:00,  1.40it/s]\n",
      "Evaluating: 100%|██████████| 76/76 [00:08<00:00,  8.83it/s]\n"
     ]
    },
    {
     "name": "stdout",
     "output_type": "stream",
     "text": [
      "Training Loss = 0.0154478, Training Accuracy = 46.883\n",
      "Testing Loss = 0.0875102, Testing Accuracy = 75.629\n",
      "**************************************************\n",
      "\n",
      "Epoch 47\n"
     ]
    },
    {
     "name": "stderr",
     "output_type": "stream",
     "text": [
      "Training: 100%|██████████| 42/42 [00:30<00:00,  1.40it/s]\n",
      "Evaluating: 100%|██████████| 76/76 [00:08<00:00,  8.96it/s]\n"
     ]
    },
    {
     "name": "stdout",
     "output_type": "stream",
     "text": [
      "Training Loss = 0.0156060, Training Accuracy = 47.790\n",
      "Testing Loss = 0.0859488, Testing Accuracy = 76.821\n",
      "**************************************************\n",
      "\n",
      "Epoch 48\n"
     ]
    },
    {
     "name": "stderr",
     "output_type": "stream",
     "text": [
      "Training: 100%|██████████| 42/42 [00:30<00:00,  1.37it/s]\n",
      "Evaluating: 100%|██████████| 76/76 [00:08<00:00,  9.11it/s]\n"
     ]
    },
    {
     "name": "stdout",
     "output_type": "stream",
     "text": [
      "Training Loss = 0.0154450, Training Accuracy = 46.808\n",
      "Testing Loss = 0.0870971, Testing Accuracy = 76.159\n",
      "**************************************************\n",
      "\n",
      "Epoch 49\n"
     ]
    },
    {
     "name": "stderr",
     "output_type": "stream",
     "text": [
      "Training: 100%|██████████| 42/42 [00:29<00:00,  1.40it/s]\n",
      "Evaluating: 100%|██████████| 76/76 [00:08<00:00,  8.81it/s]\n"
     ]
    },
    {
     "name": "stdout",
     "output_type": "stream",
     "text": [
      "Training Loss = 0.0156517, Training Accuracy = 46.203\n",
      "Testing Loss = 0.0867211, Testing Accuracy = 77.616\n",
      "**************************************************\n",
      "\n",
      "Epoch 50\n"
     ]
    },
    {
     "name": "stderr",
     "output_type": "stream",
     "text": [
      "Training: 100%|██████████| 42/42 [00:29<00:00,  1.41it/s]\n",
      "Evaluating: 100%|██████████| 76/76 [00:08<00:00,  8.72it/s]"
     ]
    },
    {
     "name": "stdout",
     "output_type": "stream",
     "text": [
      "Training Loss = 0.0156719, Training Accuracy = 45.599\n",
      "Testing Loss = 0.0865261, Testing Accuracy = 77.881\n",
      "**************************************************\n",
      "\n"
     ]
    },
    {
     "name": "stderr",
     "output_type": "stream",
     "text": [
      "\n"
     ]
    }
   ],
   "source": [
    "fc_df = fit(model=model, train_dataloader=train_dl, val_dataloader=val_dl,\n",
    "            criterion=criterion, optimizer=optimizer, scheduler=scheduler,\n",
    "            epochs=50, experiment_name=\"fully_connected\")"
   ]
  },
  {
   "cell_type": "code",
   "execution_count": 17,
   "id": "758939a1",
   "metadata": {
    "execution": {
     "iopub.execute_input": "2025-08-09T04:20:35.046824Z",
     "iopub.status.busy": "2025-08-09T04:20:35.046540Z",
     "iopub.status.idle": "2025-08-09T04:20:35.731827Z",
     "shell.execute_reply": "2025-08-09T04:20:35.730876Z"
    },
    "id": "-afRr00cOOn3",
    "outputId": "70fabd3a-37fe-446a-a860-9a31378a6148",
    "papermill": {
     "duration": 0.971626,
     "end_time": "2025-08-09T04:20:35.734490",
     "exception": false,
     "start_time": "2025-08-09T04:20:34.762864",
     "status": "completed"
    },
    "tags": []
   },
   "outputs": [
    {
     "data": {
      "image/png": "[encoded data removed]",
      "text/plain": [
       "<Figure size 2000x500 with 3 Axes>"
      ]
     },
     "metadata": {},
     "output_type": "display_data"
    }
   ],
   "source": [
    "fig, ax = plt.subplots(1, 3, figsize=(20, 5), sharex=True)\n",
    "\n",
    "fc_df.plot(ax=ax[0], y=[0, 2], style=[\"r\", \"b\"])\n",
    "fc_df.plot(ax=ax[1], y=[1, 3], style=[\"r\", \"b\"])\n",
    "fc_df.plot(ax=ax[2], y=[4], style=[\"b\"])\n",
    "\n",
    "for i in range(3):\n",
    "  ax[i].set_xlabel(\"Epochs\")\n",
    "  ax[i].grid(which=\"major\", axis=\"both\", color=\"g\", linestyle=\":\")\n",
    "\n",
    "ax[0].set_ylabel(\"Loss\")\n",
    "ax[1].set_ylabel(\"Accuracy (%)\")\n",
    "ax[2].set_ylabel(\"Learning Rate\")\n",
    "\n",
    "fig.suptitle('Fully Connected Neural Network Training Metrics', fontsize=16,)\n",
    "plt.show()"
   ]
  },
  {
   "cell_type": "markdown",
   "id": "cacf6999",
   "metadata": {
    "id": "pd7A0FxMRNSS",
    "papermill": {
     "duration": 0.28587,
     "end_time": "2025-08-09T04:20:36.324276",
     "exception": false,
     "start_time": "2025-08-09T04:20:36.038406",
     "status": "completed"
    },
    "tags": []
   },
   "source": [
    "# Custom CNN Layer - RESNet 9"
   ]
  },
  {
   "cell_type": "code",
   "execution_count": 18,
   "id": "f376e442",
   "metadata": {
    "execution": {
     "iopub.execute_input": "2025-08-09T04:20:36.901215Z",
     "iopub.status.busy": "2025-08-09T04:20:36.900950Z",
     "iopub.status.idle": "2025-08-09T04:20:36.905713Z",
     "shell.execute_reply": "2025-08-09T04:20:36.904876Z"
    },
    "id": "DEM3AM2_RUS9",
    "papermill": {
     "duration": 0.291995,
     "end_time": "2025-08-09T04:20:36.907364",
     "exception": false,
     "start_time": "2025-08-09T04:20:36.615369",
     "status": "completed"
    },
    "tags": []
   },
   "outputs": [],
   "source": [
    "def basic(in_channels, out_channels):\n",
    "  return nn.Sequential(\n",
    "      nn.Conv2d(in_channels, out_channels, kernel_size=3, padding=1, bias=False),\n",
    "      nn.BatchNorm2d(out_channels),\n",
    "      nn.ReLU(inplace=True),\n",
    "  )"
   ]
  },
  {
   "cell_type": "code",
   "execution_count": 19,
   "id": "e7d12d74",
   "metadata": {
    "execution": {
     "iopub.execute_input": "2025-08-09T04:20:37.522764Z",
     "iopub.status.busy": "2025-08-09T04:20:37.522449Z",
     "iopub.status.idle": "2025-08-09T04:20:37.527399Z",
     "shell.execute_reply": "2025-08-09T04:20:37.526592Z"
    },
    "id": "H-C5w-UgS_Nw",
    "papermill": {
     "duration": 0.279947,
     "end_time": "2025-08-09T04:20:37.528698",
     "exception": false,
     "start_time": "2025-08-09T04:20:37.248751",
     "status": "completed"
    },
    "tags": []
   },
   "outputs": [],
   "source": [
    "class RS_block(nn.Module):\n",
    "  def __init__(self, in_channels, *args, **kwargs) -> None:\n",
    "    super().__init__(*args, **kwargs)\n",
    "    self.net = nn.Sequential(\n",
    "        basic(in_channels, in_channels),\n",
    "        basic(in_channels, in_channels),\n",
    "    )\n",
    "\n",
    "  def forward(self, x):\n",
    "    return x + self.net(x)"
   ]
  },
  {
   "cell_type": "code",
   "execution_count": 20,
   "id": "e2547f83",
   "metadata": {
    "execution": {
     "iopub.execute_input": "2025-08-09T04:20:38.075592Z",
     "iopub.status.busy": "2025-08-09T04:20:38.075303Z",
     "iopub.status.idle": "2025-08-09T04:20:38.080573Z",
     "shell.execute_reply": "2025-08-09T04:20:38.079929Z"
    },
    "id": "9NeunFiBT96T",
    "papermill": {
     "duration": 0.279801,
     "end_time": "2025-08-09T04:20:38.081727",
     "exception": false,
     "start_time": "2025-08-09T04:20:37.801926",
     "status": "completed"
    },
    "tags": []
   },
   "outputs": [],
   "source": [
    "class ResNet9(nn.Module):\n",
    "\n",
    "  def __init__(self, in_channels=img_channels, num_classes=3, *args, **kwargs) -> None:\n",
    "    super().__init__(*args, **kwargs)\n",
    "    self.net = nn.Sequential(\n",
    "        basic(in_channels, 64),\n",
    "        basic(64, 128), nn.MaxPool2d(2),\n",
    "        RS_block(128),\n",
    "        basic(128, 256), nn.MaxPool2d(2),\n",
    "        basic(256, 512), nn.MaxPool2d(2),\n",
    "        RS_block(512),\n",
    "        nn.AdaptiveAvgPool2d((1, 1)),\n",
    "        nn.Flatten(),\n",
    "        nn.Linear(512, num_classes)\n",
    "    )\n",
    "\n",
    "  def forward(self, x):\n",
    "    output = self.net(x)\n",
    "    return output"
   ]
  },
  {
   "cell_type": "code",
   "execution_count": 21,
   "id": "83779a8b",
   "metadata": {
    "execution": {
     "iopub.execute_input": "2025-08-09T04:20:38.635049Z",
     "iopub.status.busy": "2025-08-09T04:20:38.634718Z",
     "iopub.status.idle": "2025-08-09T04:20:38.695551Z",
     "shell.execute_reply": "2025-08-09T04:20:38.694884Z"
    },
    "id": "4YLuiNHyVGnb",
    "papermill": {
     "duration": 0.336655,
     "end_time": "2025-08-09T04:20:38.697051",
     "exception": false,
     "start_time": "2025-08-09T04:20:38.360396",
     "status": "completed"
    },
    "tags": []
   },
   "outputs": [],
   "source": [
    "model = ResNet9().cuda()\n",
    "\n",
    "criterion=nn.CrossEntropyLoss(reduction=\"sum\")\n",
    "optimizer = torch.optim.Adam(model.parameters(), lr=lr)\n",
    "\n",
    "scheduler = lr_scheduler.ReduceLROnPlateau(optimizer=optimizer, mode=\"min\", patience=5, factor=0.1)"
   ]
  },
  {
   "cell_type": "code",
   "execution_count": 22,
   "id": "4874061c",
   "metadata": {
    "execution": {
     "iopub.execute_input": "2025-08-09T04:20:39.307502Z",
     "iopub.status.busy": "2025-08-09T04:20:39.306681Z",
     "iopub.status.idle": "2025-08-09T05:02:19.023053Z",
     "shell.execute_reply": "2025-08-09T05:02:19.022208Z"
    },
    "id": "pg_Rs-TUV7ca",
    "outputId": "36b947b6-57cb-493b-a609-976e018bfd67",
    "papermill": {
     "duration": 2499.987387,
     "end_time": "2025-08-09T05:02:19.024546",
     "exception": false,
     "start_time": "2025-08-09T04:20:39.037159",
     "status": "completed"
    },
    "tags": []
   },
   "outputs": [
    {
     "name": "stdout",
     "output_type": "stream",
     "text": [
      "Epoch 1\n"
     ]
    },
    {
     "name": "stderr",
     "output_type": "stream",
     "text": [
      "Training: 100%|██████████| 42/42 [00:40<00:00,  1.03it/s]\n",
      "Evaluating: 100%|██████████| 76/76 [00:11<00:00,  6.86it/s]\n"
     ]
    },
    {
     "name": "stdout",
     "output_type": "stream",
     "text": [
      "Training Loss = 0.3676264, Training Accuracy = 85.757\n",
      "Testing Loss = 1.1914109, Testing Accuracy = 62.649\n",
      "New best accuracy: 62.649 at epoch 1\n",
      "**************************************************\n",
      "\n",
      "Epoch 2\n"
     ]
    },
    {
     "name": "stderr",
     "output_type": "stream",
     "text": [
      "Training: 100%|██████████| 42/42 [00:38<00:00,  1.08it/s]\n",
      "Evaluating: 100%|██████████| 76/76 [00:11<00:00,  6.83it/s]\n"
     ]
    },
    {
     "name": "stdout",
     "output_type": "stream",
     "text": [
      "Training Loss = 0.1674796, Training Accuracy = 94.258\n",
      "Testing Loss = 0.2952269, Testing Accuracy = 86.887\n",
      "New best accuracy: 86.887 at epoch 2\n",
      "**************************************************\n",
      "\n",
      "Epoch 3\n"
     ]
    },
    {
     "name": "stderr",
     "output_type": "stream",
     "text": [
      "Training: 100%|██████████| 42/42 [00:38<00:00,  1.08it/s]\n",
      "Evaluating: 100%|██████████| 76/76 [00:10<00:00,  6.91it/s]\n"
     ]
    },
    {
     "name": "stdout",
     "output_type": "stream",
     "text": [
      "Training Loss = 0.1196422, Training Accuracy = 95.769\n",
      "Testing Loss = 2.7302212, Testing Accuracy = 60.795\n",
      "**************************************************\n",
      "\n",
      "Epoch 4\n"
     ]
    },
    {
     "name": "stderr",
     "output_type": "stream",
     "text": [
      "Training: 100%|██████████| 42/42 [00:39<00:00,  1.06it/s]\n",
      "Evaluating: 100%|██████████| 76/76 [00:10<00:00,  7.03it/s]\n"
     ]
    },
    {
     "name": "stdout",
     "output_type": "stream",
     "text": [
      "Training Loss = 0.0888291, Training Accuracy = 96.713\n",
      "Testing Loss = 0.0695234, Testing Accuracy = 97.086\n",
      "New best accuracy: 97.086 at epoch 4\n",
      "**************************************************\n",
      "\n",
      "Epoch 5\n"
     ]
    },
    {
     "name": "stderr",
     "output_type": "stream",
     "text": [
      "Training: 100%|██████████| 42/42 [00:38<00:00,  1.08it/s]\n",
      "Evaluating: 100%|██████████| 76/76 [00:11<00:00,  6.81it/s]\n"
     ]
    },
    {
     "name": "stdout",
     "output_type": "stream",
     "text": [
      "Training Loss = 0.0661752, Training Accuracy = 97.393\n",
      "Testing Loss = 0.6036015, Testing Accuracy = 82.781\n",
      "**************************************************\n",
      "\n",
      "Epoch 6\n"
     ]
    },
    {
     "name": "stderr",
     "output_type": "stream",
     "text": [
      "Training: 100%|██████████| 42/42 [00:38<00:00,  1.08it/s]\n",
      "Evaluating: 100%|██████████| 76/76 [00:10<00:00,  6.99it/s]\n"
     ]
    },
    {
     "name": "stdout",
     "output_type": "stream",
     "text": [
      "Training Loss = 0.0666097, Training Accuracy = 97.393\n",
      "Testing Loss = 0.0907346, Testing Accuracy = 96.159\n",
      "**************************************************\n",
      "\n",
      "Epoch 7\n"
     ]
    },
    {
     "name": "stderr",
     "output_type": "stream",
     "text": [
      "Training: 100%|██████████| 42/42 [00:39<00:00,  1.07it/s]\n",
      "Evaluating: 100%|██████████| 76/76 [00:11<00:00,  6.73it/s]\n"
     ]
    },
    {
     "name": "stdout",
     "output_type": "stream",
     "text": [
      "Training Loss = 0.0747450, Training Accuracy = 97.053\n",
      "Testing Loss = 0.4275854, Testing Accuracy = 85.563\n",
      "**************************************************\n",
      "\n",
      "Epoch 8\n"
     ]
    },
    {
     "name": "stderr",
     "output_type": "stream",
     "text": [
      "Training: 100%|██████████| 42/42 [00:39<00:00,  1.08it/s]\n",
      "Evaluating: 100%|██████████| 76/76 [00:10<00:00,  7.02it/s]\n"
     ]
    },
    {
     "name": "stdout",
     "output_type": "stream",
     "text": [
      "Training Loss = 0.0707804, Training Accuracy = 97.507\n",
      "Testing Loss = 0.1143861, Testing Accuracy = 95.894\n",
      "**************************************************\n",
      "\n",
      "Epoch 9\n"
     ]
    },
    {
     "name": "stderr",
     "output_type": "stream",
     "text": [
      "Training: 100%|██████████| 42/42 [00:38<00:00,  1.08it/s]\n",
      "Evaluating: 100%|██████████| 76/76 [00:10<00:00,  7.13it/s]\n"
     ]
    },
    {
     "name": "stdout",
     "output_type": "stream",
     "text": [
      "Training Loss = 0.0335449, Training Accuracy = 98.942\n",
      "Testing Loss = 0.1793262, Testing Accuracy = 93.377\n",
      "**************************************************\n",
      "\n",
      "Epoch 10\n"
     ]
    },
    {
     "name": "stderr",
     "output_type": "stream",
     "text": [
      "Training: 100%|██████████| 42/42 [00:38<00:00,  1.09it/s]\n",
      "Evaluating: 100%|██████████| 76/76 [00:10<00:00,  7.10it/s]\n"
     ]
    },
    {
     "name": "stdout",
     "output_type": "stream",
     "text": [
      "Training Loss = 0.0447057, Training Accuracy = 98.338\n",
      "Testing Loss = 0.0443548, Testing Accuracy = 98.543\n",
      "New best accuracy: 98.543 at epoch 10\n",
      "**************************************************\n",
      "\n",
      "Epoch 11\n"
     ]
    },
    {
     "name": "stderr",
     "output_type": "stream",
     "text": [
      "Training: 100%|██████████| 42/42 [00:38<00:00,  1.09it/s]\n",
      "Evaluating: 100%|██████████| 76/76 [00:10<00:00,  6.93it/s]\n"
     ]
    },
    {
     "name": "stdout",
     "output_type": "stream",
     "text": [
      "Training Loss = 0.0515233, Training Accuracy = 98.224\n",
      "Testing Loss = 0.0778269, Testing Accuracy = 96.689\n",
      "**************************************************\n",
      "\n",
      "Epoch 12\n"
     ]
    },
    {
     "name": "stderr",
     "output_type": "stream",
     "text": [
      "Training: 100%|██████████| 42/42 [00:38<00:00,  1.08it/s]\n",
      "Evaluating: 100%|██████████| 76/76 [00:10<00:00,  6.98it/s]\n"
     ]
    },
    {
     "name": "stdout",
     "output_type": "stream",
     "text": [
      "Training Loss = 0.0304595, Training Accuracy = 98.829\n",
      "Testing Loss = 0.0184748, Testing Accuracy = 99.470\n",
      "New best accuracy: 99.470 at epoch 12\n",
      "**************************************************\n",
      "\n",
      "Epoch 13\n"
     ]
    },
    {
     "name": "stderr",
     "output_type": "stream",
     "text": [
      "Training: 100%|██████████| 42/42 [00:38<00:00,  1.08it/s]\n",
      "Evaluating: 100%|██████████| 76/76 [00:10<00:00,  6.92it/s]\n"
     ]
    },
    {
     "name": "stdout",
     "output_type": "stream",
     "text": [
      "Training Loss = 0.0182933, Training Accuracy = 99.471\n",
      "Testing Loss = 0.0188702, Testing Accuracy = 99.338\n",
      "**************************************************\n",
      "\n",
      "Epoch 14\n"
     ]
    },
    {
     "name": "stderr",
     "output_type": "stream",
     "text": [
      "Training: 100%|██████████| 42/42 [00:38<00:00,  1.08it/s]\n",
      "Evaluating: 100%|██████████| 76/76 [00:10<00:00,  6.93it/s]\n"
     ]
    },
    {
     "name": "stdout",
     "output_type": "stream",
     "text": [
      "Training Loss = 0.0201598, Training Accuracy = 99.320\n",
      "Testing Loss = 0.0173324, Testing Accuracy = 99.338\n",
      "**************************************************\n",
      "\n",
      "Epoch 15\n"
     ]
    },
    {
     "name": "stderr",
     "output_type": "stream",
     "text": [
      "Training: 100%|██████████| 42/42 [00:38<00:00,  1.08it/s]\n",
      "Evaluating: 100%|██████████| 76/76 [00:10<00:00,  7.03it/s]\n"
     ]
    },
    {
     "name": "stdout",
     "output_type": "stream",
     "text": [
      "Training Loss = 0.0145747, Training Accuracy = 99.471\n",
      "Testing Loss = 0.0174584, Testing Accuracy = 99.205\n",
      "**************************************************\n",
      "\n",
      "Epoch 16\n"
     ]
    },
    {
     "name": "stderr",
     "output_type": "stream",
     "text": [
      "Training: 100%|██████████| 42/42 [00:39<00:00,  1.07it/s]\n",
      "Evaluating: 100%|██████████| 76/76 [00:11<00:00,  6.78it/s]\n"
     ]
    },
    {
     "name": "stdout",
     "output_type": "stream",
     "text": [
      "Training Loss = 0.0152587, Training Accuracy = 99.660\n",
      "Testing Loss = 0.0212368, Testing Accuracy = 99.205\n",
      "**************************************************\n",
      "\n",
      "Epoch 17\n"
     ]
    },
    {
     "name": "stderr",
     "output_type": "stream",
     "text": [
      "Training: 100%|██████████| 42/42 [00:38<00:00,  1.08it/s]\n",
      "Evaluating: 100%|██████████| 76/76 [00:11<00:00,  6.88it/s]\n"
     ]
    },
    {
     "name": "stdout",
     "output_type": "stream",
     "text": [
      "Training Loss = 0.0133665, Training Accuracy = 99.547\n",
      "Testing Loss = 0.0142997, Testing Accuracy = 99.470\n",
      "**************************************************\n",
      "\n",
      "Epoch 18\n"
     ]
    },
    {
     "name": "stderr",
     "output_type": "stream",
     "text": [
      "Training: 100%|██████████| 42/42 [00:39<00:00,  1.07it/s]\n",
      "Evaluating: 100%|██████████| 76/76 [00:11<00:00,  6.65it/s]\n"
     ]
    },
    {
     "name": "stdout",
     "output_type": "stream",
     "text": [
      "Training Loss = 0.0152929, Training Accuracy = 99.509\n",
      "Testing Loss = 0.0146289, Testing Accuracy = 99.470\n",
      "**************************************************\n",
      "\n",
      "Epoch 19\n"
     ]
    },
    {
     "name": "stderr",
     "output_type": "stream",
     "text": [
      "Training: 100%|██████████| 42/42 [00:38<00:00,  1.08it/s]\n",
      "Evaluating: 100%|██████████| 76/76 [00:10<00:00,  6.91it/s]\n"
     ]
    },
    {
     "name": "stdout",
     "output_type": "stream",
     "text": [
      "Training Loss = 0.0192078, Training Accuracy = 99.358\n",
      "Testing Loss = 0.0187574, Testing Accuracy = 99.073\n",
      "**************************************************\n",
      "\n",
      "Epoch 20\n"
     ]
    },
    {
     "name": "stderr",
     "output_type": "stream",
     "text": [
      "Training: 100%|██████████| 42/42 [00:38<00:00,  1.08it/s]\n",
      "Evaluating: 100%|██████████| 76/76 [00:11<00:00,  6.88it/s]\n"
     ]
    },
    {
     "name": "stdout",
     "output_type": "stream",
     "text": [
      "Training Loss = 0.0140564, Training Accuracy = 99.471\n",
      "Testing Loss = 0.0125045, Testing Accuracy = 99.735\n",
      "New best accuracy: 99.735 at epoch 20\n",
      "**************************************************\n",
      "\n",
      "Epoch 21\n"
     ]
    },
    {
     "name": "stderr",
     "output_type": "stream",
     "text": [
      "Training: 100%|██████████| 42/42 [00:38<00:00,  1.09it/s]\n",
      "Evaluating: 100%|██████████| 76/76 [00:10<00:00,  6.91it/s]\n"
     ]
    },
    {
     "name": "stdout",
     "output_type": "stream",
     "text": [
      "Training Loss = 0.0176285, Training Accuracy = 99.433\n",
      "Testing Loss = 0.0154962, Testing Accuracy = 99.338\n",
      "**************************************************\n",
      "\n",
      "Epoch 22\n"
     ]
    },
    {
     "name": "stderr",
     "output_type": "stream",
     "text": [
      "Training: 100%|██████████| 42/42 [00:38<00:00,  1.10it/s]\n",
      "Evaluating: 100%|██████████| 76/76 [00:10<00:00,  7.04it/s]\n"
     ]
    },
    {
     "name": "stdout",
     "output_type": "stream",
     "text": [
      "Training Loss = 0.0120640, Training Accuracy = 99.660\n",
      "Testing Loss = 0.0122032, Testing Accuracy = 99.470\n",
      "**************************************************\n",
      "\n",
      "Epoch 23\n"
     ]
    },
    {
     "name": "stderr",
     "output_type": "stream",
     "text": [
      "Training: 100%|██████████| 42/42 [00:37<00:00,  1.11it/s]\n",
      "Evaluating: 100%|██████████| 76/76 [00:10<00:00,  7.06it/s]\n"
     ]
    },
    {
     "name": "stdout",
     "output_type": "stream",
     "text": [
      "Training Loss = 0.0123473, Training Accuracy = 99.622\n",
      "Testing Loss = 0.0185801, Testing Accuracy = 99.470\n",
      "**************************************************\n",
      "\n",
      "Epoch 24\n"
     ]
    },
    {
     "name": "stderr",
     "output_type": "stream",
     "text": [
      "Training: 100%|██████████| 42/42 [00:38<00:00,  1.09it/s]\n",
      "Evaluating: 100%|██████████| 76/76 [00:10<00:00,  6.97it/s]\n"
     ]
    },
    {
     "name": "stdout",
     "output_type": "stream",
     "text": [
      "Training Loss = 0.0118610, Training Accuracy = 99.622\n",
      "Testing Loss = 0.0111980, Testing Accuracy = 99.603\n",
      "**************************************************\n",
      "\n",
      "Epoch 25\n"
     ]
    },
    {
     "name": "stderr",
     "output_type": "stream",
     "text": [
      "Training: 100%|██████████| 42/42 [00:39<00:00,  1.07it/s]\n",
      "Evaluating: 100%|██████████| 76/76 [00:11<00:00,  6.82it/s]\n"
     ]
    },
    {
     "name": "stdout",
     "output_type": "stream",
     "text": [
      "Training Loss = 0.0116981, Training Accuracy = 99.698\n",
      "Testing Loss = 0.0118494, Testing Accuracy = 99.603\n",
      "**************************************************\n",
      "\n",
      "Epoch 26\n"
     ]
    },
    {
     "name": "stderr",
     "output_type": "stream",
     "text": [
      "Training: 100%|██████████| 42/42 [00:38<00:00,  1.09it/s]\n",
      "Evaluating: 100%|██████████| 76/76 [00:10<00:00,  6.92it/s]\n"
     ]
    },
    {
     "name": "stdout",
     "output_type": "stream",
     "text": [
      "Training Loss = 0.0115649, Training Accuracy = 99.584\n",
      "Testing Loss = 0.0111647, Testing Accuracy = 99.603\n",
      "**************************************************\n",
      "\n",
      "Epoch 27\n"
     ]
    },
    {
     "name": "stderr",
     "output_type": "stream",
     "text": [
      "Training: 100%|██████████| 42/42 [00:38<00:00,  1.08it/s]\n",
      "Evaluating: 100%|██████████| 76/76 [00:10<00:00,  6.91it/s]\n"
     ]
    },
    {
     "name": "stdout",
     "output_type": "stream",
     "text": [
      "Training Loss = 0.0099227, Training Accuracy = 99.660\n",
      "Testing Loss = 0.0105028, Testing Accuracy = 99.603\n",
      "**************************************************\n",
      "\n",
      "Epoch 28\n"
     ]
    },
    {
     "name": "stderr",
     "output_type": "stream",
     "text": [
      "Training: 100%|██████████| 42/42 [00:38<00:00,  1.08it/s]\n",
      "Evaluating: 100%|██████████| 76/76 [00:11<00:00,  6.86it/s]\n"
     ]
    },
    {
     "name": "stdout",
     "output_type": "stream",
     "text": [
      "Training Loss = 0.0087661, Training Accuracy = 99.773\n",
      "Testing Loss = 0.0102909, Testing Accuracy = 99.603\n",
      "**************************************************\n",
      "\n",
      "Epoch 29\n"
     ]
    },
    {
     "name": "stderr",
     "output_type": "stream",
     "text": [
      "Training: 100%|██████████| 42/42 [00:39<00:00,  1.07it/s]\n",
      "Evaluating: 100%|██████████| 76/76 [00:11<00:00,  6.82it/s]\n"
     ]
    },
    {
     "name": "stdout",
     "output_type": "stream",
     "text": [
      "Training Loss = 0.0109859, Training Accuracy = 99.698\n",
      "Testing Loss = 0.0099556, Testing Accuracy = 99.603\n",
      "**************************************************\n",
      "\n",
      "Epoch 30\n"
     ]
    },
    {
     "name": "stderr",
     "output_type": "stream",
     "text": [
      "Training: 100%|██████████| 42/42 [00:39<00:00,  1.07it/s]\n",
      "Evaluating: 100%|██████████| 76/76 [00:10<00:00,  6.96it/s]\n"
     ]
    },
    {
     "name": "stdout",
     "output_type": "stream",
     "text": [
      "Training Loss = 0.0106454, Training Accuracy = 99.660\n",
      "Testing Loss = 0.0105912, Testing Accuracy = 99.603\n",
      "**************************************************\n",
      "\n",
      "Epoch 31\n"
     ]
    },
    {
     "name": "stderr",
     "output_type": "stream",
     "text": [
      "Training: 100%|██████████| 42/42 [00:39<00:00,  1.08it/s]\n",
      "Evaluating: 100%|██████████| 76/76 [00:11<00:00,  6.89it/s]\n"
     ]
    },
    {
     "name": "stdout",
     "output_type": "stream",
     "text": [
      "Training Loss = 0.0099010, Training Accuracy = 99.622\n",
      "Testing Loss = 0.0102463, Testing Accuracy = 99.603\n",
      "**************************************************\n",
      "\n",
      "Epoch 32\n"
     ]
    },
    {
     "name": "stderr",
     "output_type": "stream",
     "text": [
      "Training: 100%|██████████| 42/42 [00:39<00:00,  1.07it/s]\n",
      "Evaluating: 100%|██████████| 76/76 [00:10<00:00,  6.96it/s]\n"
     ]
    },
    {
     "name": "stdout",
     "output_type": "stream",
     "text": [
      "Training Loss = 0.0099496, Training Accuracy = 99.622\n",
      "Testing Loss = 0.0106060, Testing Accuracy = 99.603\n",
      "**************************************************\n",
      "\n",
      "Epoch 33\n"
     ]
    },
    {
     "name": "stderr",
     "output_type": "stream",
     "text": [
      "Training: 100%|██████████| 42/42 [00:39<00:00,  1.07it/s]\n",
      "Evaluating: 100%|██████████| 76/76 [00:11<00:00,  6.87it/s]\n"
     ]
    },
    {
     "name": "stdout",
     "output_type": "stream",
     "text": [
      "Training Loss = 0.0105522, Training Accuracy = 99.622\n",
      "Testing Loss = 0.0106304, Testing Accuracy = 99.603\n",
      "**************************************************\n",
      "\n",
      "Epoch 34\n"
     ]
    },
    {
     "name": "stderr",
     "output_type": "stream",
     "text": [
      "Training: 100%|██████████| 42/42 [00:38<00:00,  1.09it/s]\n",
      "Evaluating: 100%|██████████| 76/76 [00:10<00:00,  7.08it/s]\n"
     ]
    },
    {
     "name": "stdout",
     "output_type": "stream",
     "text": [
      "Training Loss = 0.0091089, Training Accuracy = 99.622\n",
      "Testing Loss = 0.0103140, Testing Accuracy = 99.603\n",
      "**************************************************\n",
      "\n",
      "Epoch 35\n"
     ]
    },
    {
     "name": "stderr",
     "output_type": "stream",
     "text": [
      "Training: 100%|██████████| 42/42 [00:37<00:00,  1.11it/s]\n",
      "Evaluating: 100%|██████████| 76/76 [00:10<00:00,  7.07it/s]\n"
     ]
    },
    {
     "name": "stdout",
     "output_type": "stream",
     "text": [
      "Training Loss = 0.0106455, Training Accuracy = 99.660\n",
      "Testing Loss = 0.0107994, Testing Accuracy = 99.603\n",
      "**************************************************\n",
      "\n",
      "Epoch 36\n"
     ]
    },
    {
     "name": "stderr",
     "output_type": "stream",
     "text": [
      "Training: 100%|██████████| 42/42 [00:37<00:00,  1.12it/s]\n",
      "Evaluating: 100%|██████████| 76/76 [00:10<00:00,  7.25it/s]\n"
     ]
    },
    {
     "name": "stdout",
     "output_type": "stream",
     "text": [
      "Training Loss = 0.0096884, Training Accuracy = 99.736\n",
      "Testing Loss = 0.0119255, Testing Accuracy = 99.603\n",
      "**************************************************\n",
      "\n",
      "Epoch 37\n"
     ]
    },
    {
     "name": "stderr",
     "output_type": "stream",
     "text": [
      "Training: 100%|██████████| 42/42 [00:37<00:00,  1.12it/s]\n",
      "Evaluating: 100%|██████████| 76/76 [00:10<00:00,  7.02it/s]\n"
     ]
    },
    {
     "name": "stdout",
     "output_type": "stream",
     "text": [
      "Training Loss = 0.0109268, Training Accuracy = 99.622\n",
      "Testing Loss = 0.0103634, Testing Accuracy = 99.603\n",
      "**************************************************\n",
      "\n",
      "Epoch 38\n"
     ]
    },
    {
     "name": "stderr",
     "output_type": "stream",
     "text": [
      "Training: 100%|██████████| 42/42 [00:37<00:00,  1.12it/s]\n",
      "Evaluating: 100%|██████████| 76/76 [00:10<00:00,  7.25it/s]\n"
     ]
    },
    {
     "name": "stdout",
     "output_type": "stream",
     "text": [
      "Training Loss = 0.0093181, Training Accuracy = 99.736\n",
      "Testing Loss = 0.0102002, Testing Accuracy = 99.603\n",
      "**************************************************\n",
      "\n",
      "Epoch 39\n"
     ]
    },
    {
     "name": "stderr",
     "output_type": "stream",
     "text": [
      "Training: 100%|██████████| 42/42 [00:38<00:00,  1.10it/s]\n",
      "Evaluating: 100%|██████████| 76/76 [00:10<00:00,  7.18it/s]\n"
     ]
    },
    {
     "name": "stdout",
     "output_type": "stream",
     "text": [
      "Training Loss = 0.0100818, Training Accuracy = 99.698\n",
      "Testing Loss = 0.0107729, Testing Accuracy = 99.603\n",
      "**************************************************\n",
      "\n",
      "Epoch 40\n"
     ]
    },
    {
     "name": "stderr",
     "output_type": "stream",
     "text": [
      "Training: 100%|██████████| 42/42 [00:37<00:00,  1.12it/s]\n",
      "Evaluating: 100%|██████████| 76/76 [00:10<00:00,  7.22it/s]\n"
     ]
    },
    {
     "name": "stdout",
     "output_type": "stream",
     "text": [
      "Training Loss = 0.0074561, Training Accuracy = 99.849\n",
      "Testing Loss = 0.0111832, Testing Accuracy = 99.603\n",
      "**************************************************\n",
      "\n",
      "Epoch 41\n"
     ]
    },
    {
     "name": "stderr",
     "output_type": "stream",
     "text": [
      "Training: 100%|██████████| 42/42 [00:38<00:00,  1.10it/s]\n",
      "Evaluating: 100%|██████████| 76/76 [00:11<00:00,  6.87it/s]\n"
     ]
    },
    {
     "name": "stdout",
     "output_type": "stream",
     "text": [
      "Training Loss = 0.0097844, Training Accuracy = 99.736\n",
      "Testing Loss = 0.0103805, Testing Accuracy = 99.603\n",
      "**************************************************\n",
      "\n",
      "Epoch 42\n"
     ]
    },
    {
     "name": "stderr",
     "output_type": "stream",
     "text": [
      "Training: 100%|██████████| 42/42 [00:37<00:00,  1.11it/s]\n",
      "Evaluating: 100%|██████████| 76/76 [00:10<00:00,  6.94it/s]\n"
     ]
    },
    {
     "name": "stdout",
     "output_type": "stream",
     "text": [
      "Training Loss = 0.0097844, Training Accuracy = 99.698\n",
      "Testing Loss = 0.0111894, Testing Accuracy = 99.603\n",
      "**************************************************\n",
      "\n",
      "Epoch 43\n"
     ]
    },
    {
     "name": "stderr",
     "output_type": "stream",
     "text": [
      "Training: 100%|██████████| 42/42 [00:39<00:00,  1.08it/s]\n",
      "Evaluating: 100%|██████████| 76/76 [00:11<00:00,  6.88it/s]\n"
     ]
    },
    {
     "name": "stdout",
     "output_type": "stream",
     "text": [
      "Training Loss = 0.0094272, Training Accuracy = 99.622\n",
      "Testing Loss = 0.0125709, Testing Accuracy = 99.603\n",
      "**************************************************\n",
      "\n",
      "Epoch 44\n"
     ]
    },
    {
     "name": "stderr",
     "output_type": "stream",
     "text": [
      "Training: 100%|██████████| 42/42 [00:38<00:00,  1.08it/s]\n",
      "Evaluating: 100%|██████████| 76/76 [00:11<00:00,  6.90it/s]\n"
     ]
    },
    {
     "name": "stdout",
     "output_type": "stream",
     "text": [
      "Training Loss = 0.0114911, Training Accuracy = 99.660\n",
      "Testing Loss = 0.0112253, Testing Accuracy = 99.603\n",
      "**************************************************\n",
      "\n",
      "Epoch 45\n"
     ]
    },
    {
     "name": "stderr",
     "output_type": "stream",
     "text": [
      "Training: 100%|██████████| 42/42 [00:39<00:00,  1.07it/s]\n",
      "Evaluating: 100%|██████████| 76/76 [00:11<00:00,  6.80it/s]\n"
     ]
    },
    {
     "name": "stdout",
     "output_type": "stream",
     "text": [
      "Training Loss = 0.0112073, Training Accuracy = 99.698\n",
      "Testing Loss = 0.0108617, Testing Accuracy = 99.603\n",
      "**************************************************\n",
      "\n",
      "Epoch 46\n"
     ]
    },
    {
     "name": "stderr",
     "output_type": "stream",
     "text": [
      "Training: 100%|██████████| 42/42 [00:40<00:00,  1.04it/s]\n",
      "Evaluating: 100%|██████████| 76/76 [00:11<00:00,  6.53it/s]\n"
     ]
    },
    {
     "name": "stdout",
     "output_type": "stream",
     "text": [
      "Training Loss = 0.0094536, Training Accuracy = 99.698\n",
      "Testing Loss = 0.0105269, Testing Accuracy = 99.603\n",
      "**************************************************\n",
      "\n",
      "Epoch 47\n"
     ]
    },
    {
     "name": "stderr",
     "output_type": "stream",
     "text": [
      "Training: 100%|██████████| 42/42 [00:40<00:00,  1.05it/s]\n",
      "Evaluating: 100%|██████████| 76/76 [00:11<00:00,  6.78it/s]\n"
     ]
    },
    {
     "name": "stdout",
     "output_type": "stream",
     "text": [
      "Training Loss = 0.0094111, Training Accuracy = 99.811\n",
      "Testing Loss = 0.0118177, Testing Accuracy = 99.735\n",
      "**************************************************\n",
      "\n",
      "Epoch 48\n"
     ]
    },
    {
     "name": "stderr",
     "output_type": "stream",
     "text": [
      "Training: 100%|██████████| 42/42 [00:39<00:00,  1.05it/s]\n",
      "Evaluating: 100%|██████████| 76/76 [00:11<00:00,  6.79it/s]\n"
     ]
    },
    {
     "name": "stdout",
     "output_type": "stream",
     "text": [
      "Training Loss = 0.0083952, Training Accuracy = 99.736\n",
      "Testing Loss = 0.0113012, Testing Accuracy = 99.603\n",
      "**************************************************\n",
      "\n",
      "Epoch 49\n"
     ]
    },
    {
     "name": "stderr",
     "output_type": "stream",
     "text": [
      "Training: 100%|██████████| 42/42 [00:39<00:00,  1.07it/s]\n",
      "Evaluating: 100%|██████████| 76/76 [00:11<00:00,  6.64it/s]\n"
     ]
    },
    {
     "name": "stdout",
     "output_type": "stream",
     "text": [
      "Training Loss = 0.0094087, Training Accuracy = 99.811\n",
      "Testing Loss = 0.0099757, Testing Accuracy = 99.603\n",
      "**************************************************\n",
      "\n",
      "Epoch 50\n"
     ]
    },
    {
     "name": "stderr",
     "output_type": "stream",
     "text": [
      "Training: 100%|██████████| 42/42 [00:39<00:00,  1.07it/s]\n",
      "Evaluating: 100%|██████████| 76/76 [00:10<00:00,  6.98it/s]"
     ]
    },
    {
     "name": "stdout",
     "output_type": "stream",
     "text": [
      "Training Loss = 0.0127983, Training Accuracy = 99.547\n",
      "Testing Loss = 0.0105312, Testing Accuracy = 99.603\n",
      "**************************************************\n",
      "\n"
     ]
    },
    {
     "name": "stderr",
     "output_type": "stream",
     "text": [
      "\n"
     ]
    }
   ],
   "source": [
    "my_cnn = fit(model=model, train_dataloader=train_dl, val_dataloader=val_dl,\n",
    "            criterion=criterion, optimizer=optimizer, scheduler=scheduler,\n",
    "            epochs=50, experiment_name=\"my_cnn\")"
   ]
  },
  {
   "cell_type": "code",
   "execution_count": 23,
   "id": "f3f848f9",
   "metadata": {
    "execution": {
     "iopub.execute_input": "2025-08-09T05:02:20.222318Z",
     "iopub.status.busy": "2025-08-09T05:02:20.222006Z",
     "iopub.status.idle": "2025-08-09T05:02:20.737088Z",
     "shell.execute_reply": "2025-08-09T05:02:20.736277Z"
    },
    "id": "TAlLcIFdWZAw",
    "outputId": "626c6219-116e-4bdc-e128-7761652574f2",
    "papermill": {
     "duration": 1.160901,
     "end_time": "2025-08-09T05:02:20.739959",
     "exception": false,
     "start_time": "2025-08-09T05:02:19.579058",
     "status": "completed"
    },
    "tags": []
   },
   "outputs": [
    {
     "data": {
      "image/png": "[encoded data removed]",
      "text/plain": [
       "<Figure size 2000x500 with 3 Axes>"
      ]
     },
     "metadata": {},
     "output_type": "display_data"
    }
   ],
   "source": [
    "fig, ax = plt.subplots(1, 3, figsize=(20, 5), sharex=True)\n",
    "\n",
    "my_cnn.plot(ax=ax[0], y=[0, 2], style=[\"r\", \"b\"])\n",
    "my_cnn.plot(ax=ax[1], y=[1, 3], style=[\"r\", \"b\"])\n",
    "my_cnn.plot(ax=ax[2], y=[4], style=[\"b\"])\n",
    "\n",
    "for i in range(3):\n",
    "  ax[i].set_xlabel(\"Epochs\")\n",
    "  ax[i].grid(which=\"major\", axis=\"both\", color=\"g\", linestyle=\":\")\n",
    "\n",
    "ax[0].set_ylabel(\"Loss\")\n",
    "ax[1].set_ylabel(\"Accuracy (%)\")\n",
    "ax[2].set_ylabel(\"Learning Rate\")\n",
    "\n",
    "fig.suptitle('Custom CNN  Training Metrics', fontsize=16,)\n",
    "plt.show()"
   ]
  },
  {
   "cell_type": "markdown",
   "id": "86307a69",
   "metadata": {
    "id": "Kc4xQCD-hKsB",
    "papermill": {
     "duration": 0.640903,
     "end_time": "2025-08-09T05:02:21.951419",
     "exception": false,
     "start_time": "2025-08-09T05:02:21.310516",
     "status": "completed"
    },
    "tags": []
   },
   "source": [
    "# Transfer Learning"
   ]
  },
  {
   "cell_type": "code",
   "execution_count": 24,
   "id": "065f2da2",
   "metadata": {
    "execution": {
     "iopub.execute_input": "2025-08-09T05:02:23.088517Z",
     "iopub.status.busy": "2025-08-09T05:02:23.088221Z",
     "iopub.status.idle": "2025-08-09T05:02:25.093775Z",
     "shell.execute_reply": "2025-08-09T05:02:25.092860Z"
    },
    "id": "gCs2GNsehMIn",
    "outputId": "50824c2a-00ad-4215-e3a4-1216fbf98366",
    "papermill": {
     "duration": 2.582904,
     "end_time": "2025-08-09T05:02:25.095389",
     "exception": false,
     "start_time": "2025-08-09T05:02:22.512485",
     "status": "completed"
    },
    "tags": []
   },
   "outputs": [
    {
     "name": "stderr",
     "output_type": "stream",
     "text": [
      "/usr/local/lib/python3.11/dist-packages/torchvision/models/_utils.py:208: UserWarning: The parameter 'pretrained' is deprecated since 0.13 and may be removed in the future, please use 'weights' instead.\n",
      "  warnings.warn(\n",
      "/usr/local/lib/python3.11/dist-packages/torchvision/models/_utils.py:223: UserWarning: Arguments other than a weight enum or `None` for 'weights' are deprecated since 0.13 and may be removed in the future. The current behavior is equivalent to passing `weights=ResNet101_Weights.IMAGENET1K_V1`. You can also use `weights=ResNet101_Weights.DEFAULT` to get the most up-to-date weights.\n",
      "  warnings.warn(msg)\n",
      "Downloading: \"https://download.pytorch.org/models/resnet101-63fe2227.pth\" to /root/.cache/torch/hub/checkpoints/resnet101-63fe2227.pth\n",
      "100%|██████████| 171M/171M [00:00<00:00, 181MB/s]\n"
     ]
    }
   ],
   "source": [
    "model = models.resnet101(pretrained=True)"
   ]
  },
  {
   "cell_type": "code",
   "execution_count": 25,
   "id": "d17a8101",
   "metadata": {
    "execution": {
     "iopub.execute_input": "2025-08-09T05:02:26.308443Z",
     "iopub.status.busy": "2025-08-09T05:02:26.308149Z",
     "iopub.status.idle": "2025-08-09T05:02:26.314240Z",
     "shell.execute_reply": "2025-08-09T05:02:26.313483Z"
    },
    "id": "ExahXDvDhWJN",
    "papermill": {
     "duration": 0.550535,
     "end_time": "2025-08-09T05:02:26.315634",
     "exception": false,
     "start_time": "2025-08-09T05:02:25.765099",
     "status": "completed"
    },
    "tags": []
   },
   "outputs": [],
   "source": [
    "model.eval()\n",
    "\n",
    "for params in model.parameters():\n",
    "  params.requires_grad = False"
   ]
  },
  {
   "cell_type": "code",
   "execution_count": 26,
   "id": "cfa47e0c",
   "metadata": {
    "execution": {
     "iopub.execute_input": "2025-08-09T05:02:27.518455Z",
     "iopub.status.busy": "2025-08-09T05:02:27.517776Z",
     "iopub.status.idle": "2025-08-09T05:02:27.522402Z",
     "shell.execute_reply": "2025-08-09T05:02:27.521791Z"
    },
    "id": "c7eSD57QiFck",
    "papermill": {
     "duration": 0.582049,
     "end_time": "2025-08-09T05:02:27.523671",
     "exception": false,
     "start_time": "2025-08-09T05:02:26.941622",
     "status": "completed"
    },
    "tags": []
   },
   "outputs": [],
   "source": [
    "num_ftrs = model.fc.in_features\n",
    "\n",
    "model.fc = nn.Linear(num_ftrs, 3)"
   ]
  },
  {
   "cell_type": "code",
   "execution_count": 27,
   "id": "aaad18e1",
   "metadata": {
    "execution": {
     "iopub.execute_input": "2025-08-09T05:02:28.728753Z",
     "iopub.status.busy": "2025-08-09T05:02:28.728371Z",
     "iopub.status.idle": "2025-08-09T05:02:28.804277Z",
     "shell.execute_reply": "2025-08-09T05:02:28.803404Z"
    },
    "id": "3RArg5hCiQEg",
    "papermill": {
     "duration": 0.634323,
     "end_time": "2025-08-09T05:02:28.805870",
     "exception": false,
     "start_time": "2025-08-09T05:02:28.171547",
     "status": "completed"
    },
    "tags": []
   },
   "outputs": [],
   "source": [
    "model = model.cuda()\n",
    "\n",
    "criterion=nn.CrossEntropyLoss(reduction=\"sum\")\n",
    "optimizer = torch.optim.Adam(model.parameters(), lr=lr)\n",
    "\n",
    "scheduler = lr_scheduler.ReduceLROnPlateau(optimizer=optimizer, mode=\"min\", patience=5, factor=0.1)"
   ]
  },
  {
   "cell_type": "code",
   "execution_count": 28,
   "id": "1cc5b3a9",
   "metadata": {
    "execution": {
     "iopub.execute_input": "2025-08-09T05:02:30.093565Z",
     "iopub.status.busy": "2025-08-09T05:02:30.093291Z",
     "iopub.status.idle": "2025-08-09T05:18:17.933028Z",
     "shell.execute_reply": "2025-08-09T05:18:17.932194Z"
    },
    "id": "nLMBggA7iWef",
    "outputId": "30d92565-5917-4930-cd01-580e19032f7e",
    "papermill": {
     "duration": 948.43094,
     "end_time": "2025-08-09T05:18:17.934353",
     "exception": false,
     "start_time": "2025-08-09T05:02:29.503413",
     "status": "completed"
    },
    "tags": []
   },
   "outputs": [
    {
     "name": "stdout",
     "output_type": "stream",
     "text": [
      "Epoch 1\n"
     ]
    },
    {
     "name": "stderr",
     "output_type": "stream",
     "text": [
      "Training: 100%|██████████| 42/42 [00:36<00:00,  1.16it/s]\n",
      "Evaluating: 100%|██████████| 76/76 [00:10<00:00,  7.03it/s]\n"
     ]
    },
    {
     "name": "stdout",
     "output_type": "stream",
     "text": [
      "Training Loss = 0.5808492, Training Accuracy = 78.920\n",
      "Testing Loss = 0.2502943, Testing Accuracy = 94.834\n",
      "New best accuracy: 94.834 at epoch 1\n",
      "**************************************************\n",
      "\n",
      "Epoch 2\n"
     ]
    },
    {
     "name": "stderr",
     "output_type": "stream",
     "text": [
      "Training: 100%|██████████| 42/42 [00:36<00:00,  1.15it/s]\n",
      "Evaluating: 100%|██████████| 76/76 [00:10<00:00,  7.05it/s]\n"
     ]
    },
    {
     "name": "stdout",
     "output_type": "stream",
     "text": [
      "Training Loss = 0.1988877, Training Accuracy = 94.938\n",
      "Testing Loss = 0.1388103, Testing Accuracy = 97.881\n",
      "New best accuracy: 97.881 at epoch 2\n",
      "**************************************************\n",
      "\n",
      "Epoch 3\n"
     ]
    },
    {
     "name": "stderr",
     "output_type": "stream",
     "text": [
      "Training: 100%|██████████| 42/42 [00:36<00:00,  1.14it/s]\n",
      "Evaluating: 100%|██████████| 76/76 [00:10<00:00,  7.08it/s]\n"
     ]
    },
    {
     "name": "stdout",
     "output_type": "stream",
     "text": [
      "Training Loss = 0.1346972, Training Accuracy = 96.411\n",
      "Testing Loss = 0.0920644, Testing Accuracy = 98.278\n",
      "New best accuracy: 98.278 at epoch 3\n",
      "**************************************************\n",
      "\n",
      "Epoch 4\n"
     ]
    },
    {
     "name": "stderr",
     "output_type": "stream",
     "text": [
      "Training: 100%|██████████| 42/42 [00:36<00:00,  1.16it/s]\n",
      "Evaluating: 100%|██████████| 76/76 [00:10<00:00,  7.07it/s]\n"
     ]
    },
    {
     "name": "stdout",
     "output_type": "stream",
     "text": [
      "Training Loss = 0.1037624, Training Accuracy = 96.978\n",
      "Testing Loss = 0.0827601, Testing Accuracy = 97.616\n",
      "**************************************************\n",
      "\n",
      "Epoch 5\n"
     ]
    },
    {
     "name": "stderr",
     "output_type": "stream",
     "text": [
      "Training: 100%|██████████| 42/42 [00:36<00:00,  1.15it/s]\n",
      "Evaluating: 100%|██████████| 76/76 [00:10<00:00,  7.04it/s]\n"
     ]
    },
    {
     "name": "stdout",
     "output_type": "stream",
     "text": [
      "Training Loss = 0.0886146, Training Accuracy = 97.658\n",
      "Testing Loss = 0.0672890, Testing Accuracy = 98.278\n",
      "**************************************************\n",
      "\n",
      "Epoch 6\n"
     ]
    },
    {
     "name": "stderr",
     "output_type": "stream",
     "text": [
      "Training: 100%|██████████| 42/42 [00:35<00:00,  1.17it/s]\n",
      "Evaluating: 100%|██████████| 76/76 [00:10<00:00,  7.16it/s]\n"
     ]
    },
    {
     "name": "stdout",
     "output_type": "stream",
     "text": [
      "Training Loss = 0.0746871, Training Accuracy = 97.771\n",
      "Testing Loss = 0.0639993, Testing Accuracy = 98.278\n",
      "**************************************************\n",
      "\n",
      "Epoch 7\n"
     ]
    },
    {
     "name": "stderr",
     "output_type": "stream",
     "text": [
      "Training: 100%|██████████| 42/42 [00:36<00:00,  1.16it/s]\n",
      "Evaluating: 100%|██████████| 76/76 [00:10<00:00,  7.17it/s]\n"
     ]
    },
    {
     "name": "stdout",
     "output_type": "stream",
     "text": [
      "Training Loss = 0.0730383, Training Accuracy = 97.809\n",
      "Testing Loss = 0.0504116, Testing Accuracy = 98.808\n",
      "New best accuracy: 98.808 at epoch 7\n",
      "**************************************************\n",
      "\n",
      "Epoch 8\n"
     ]
    },
    {
     "name": "stderr",
     "output_type": "stream",
     "text": [
      "Training: 100%|██████████| 42/42 [00:36<00:00,  1.16it/s]\n",
      "Evaluating: 100%|██████████| 76/76 [00:10<00:00,  7.08it/s]\n"
     ]
    },
    {
     "name": "stdout",
     "output_type": "stream",
     "text": [
      "Training Loss = 0.0677788, Training Accuracy = 98.036\n",
      "Testing Loss = 0.0383644, Testing Accuracy = 99.205\n",
      "New best accuracy: 99.205 at epoch 8\n",
      "**************************************************\n",
      "\n",
      "Epoch 9\n"
     ]
    },
    {
     "name": "stderr",
     "output_type": "stream",
     "text": [
      "Training: 100%|██████████| 42/42 [00:36<00:00,  1.14it/s]\n",
      "Evaluating: 100%|██████████| 76/76 [00:10<00:00,  6.98it/s]\n"
     ]
    },
    {
     "name": "stdout",
     "output_type": "stream",
     "text": [
      "Training Loss = 0.0568027, Training Accuracy = 98.602\n",
      "Testing Loss = 0.0653573, Testing Accuracy = 98.013\n",
      "**************************************************\n",
      "\n",
      "Epoch 10\n"
     ]
    },
    {
     "name": "stderr",
     "output_type": "stream",
     "text": [
      "Training: 100%|██████████| 42/42 [00:36<00:00,  1.16it/s]\n",
      "Evaluating: 100%|██████████| 76/76 [00:10<00:00,  7.15it/s]\n"
     ]
    },
    {
     "name": "stdout",
     "output_type": "stream",
     "text": [
      "Training Loss = 0.0516059, Training Accuracy = 98.602\n",
      "Testing Loss = 0.0374929, Testing Accuracy = 99.205\n",
      "**************************************************\n",
      "\n",
      "Epoch 11\n"
     ]
    },
    {
     "name": "stderr",
     "output_type": "stream",
     "text": [
      "Training: 100%|██████████| 42/42 [00:36<00:00,  1.15it/s]\n",
      "Evaluating: 100%|██████████| 76/76 [00:10<00:00,  7.06it/s]\n"
     ]
    },
    {
     "name": "stdout",
     "output_type": "stream",
     "text": [
      "Training Loss = 0.0400636, Training Accuracy = 98.980\n",
      "Testing Loss = 0.0268923, Testing Accuracy = 99.205\n",
      "**************************************************\n",
      "\n",
      "Epoch 12\n"
     ]
    },
    {
     "name": "stderr",
     "output_type": "stream",
     "text": [
      "Training: 100%|██████████| 42/42 [00:36<00:00,  1.15it/s]\n",
      "Evaluating: 100%|██████████| 76/76 [00:10<00:00,  7.03it/s]\n"
     ]
    },
    {
     "name": "stdout",
     "output_type": "stream",
     "text": [
      "Training Loss = 0.0459140, Training Accuracy = 98.376\n",
      "Testing Loss = 0.0257175, Testing Accuracy = 99.205\n",
      "**************************************************\n",
      "\n",
      "Epoch 13\n"
     ]
    },
    {
     "name": "stderr",
     "output_type": "stream",
     "text": [
      "Training: 100%|██████████| 42/42 [00:36<00:00,  1.16it/s]\n",
      "Evaluating: 100%|██████████| 76/76 [00:10<00:00,  6.97it/s]\n"
     ]
    },
    {
     "name": "stdout",
     "output_type": "stream",
     "text": [
      "Training Loss = 0.0379569, Training Accuracy = 98.753\n",
      "Testing Loss = 0.0275920, Testing Accuracy = 99.205\n",
      "**************************************************\n",
      "\n",
      "Epoch 14\n"
     ]
    },
    {
     "name": "stderr",
     "output_type": "stream",
     "text": [
      "Training: 100%|██████████| 42/42 [00:36<00:00,  1.17it/s]\n",
      "Evaluating: 100%|██████████| 76/76 [00:10<00:00,  7.07it/s]\n"
     ]
    },
    {
     "name": "stdout",
     "output_type": "stream",
     "text": [
      "Training Loss = 0.0379943, Training Accuracy = 98.753\n",
      "Testing Loss = 0.0223188, Testing Accuracy = 99.205\n",
      "**************************************************\n",
      "\n",
      "Epoch 15\n"
     ]
    },
    {
     "name": "stderr",
     "output_type": "stream",
     "text": [
      "Training: 100%|██████████| 42/42 [00:35<00:00,  1.17it/s]\n",
      "Evaluating: 100%|██████████| 76/76 [00:10<00:00,  7.11it/s]\n"
     ]
    },
    {
     "name": "stdout",
     "output_type": "stream",
     "text": [
      "Training Loss = 0.0391727, Training Accuracy = 98.716\n",
      "Testing Loss = 0.0286066, Testing Accuracy = 99.205\n",
      "**************************************************\n",
      "\n",
      "Epoch 16\n"
     ]
    },
    {
     "name": "stderr",
     "output_type": "stream",
     "text": [
      "Training: 100%|██████████| 42/42 [00:36<00:00,  1.14it/s]\n",
      "Evaluating: 100%|██████████| 76/76 [00:10<00:00,  6.91it/s]\n"
     ]
    },
    {
     "name": "stdout",
     "output_type": "stream",
     "text": [
      "Training Loss = 0.0433233, Training Accuracy = 98.413\n",
      "Testing Loss = 0.0524746, Testing Accuracy = 98.146\n",
      "**************************************************\n",
      "\n",
      "Epoch 17\n"
     ]
    },
    {
     "name": "stderr",
     "output_type": "stream",
     "text": [
      "Training: 100%|██████████| 42/42 [00:36<00:00,  1.15it/s]\n",
      "Evaluating: 100%|██████████| 76/76 [00:10<00:00,  7.05it/s]\n"
     ]
    },
    {
     "name": "stdout",
     "output_type": "stream",
     "text": [
      "Training Loss = 0.0622246, Training Accuracy = 97.658\n",
      "Testing Loss = 0.0265723, Testing Accuracy = 99.338\n",
      "New best accuracy: 99.338 at epoch 17\n",
      "**************************************************\n",
      "\n",
      "Epoch 18\n"
     ]
    },
    {
     "name": "stderr",
     "output_type": "stream",
     "text": [
      "Training: 100%|██████████| 42/42 [00:35<00:00,  1.17it/s]\n",
      "Evaluating: 100%|██████████| 76/76 [00:10<00:00,  7.17it/s]\n"
     ]
    },
    {
     "name": "stdout",
     "output_type": "stream",
     "text": [
      "Training Loss = 0.0333017, Training Accuracy = 98.867\n",
      "Testing Loss = 0.0207012, Testing Accuracy = 99.470\n",
      "New best accuracy: 99.470 at epoch 18\n",
      "**************************************************\n",
      "\n",
      "Epoch 19\n"
     ]
    },
    {
     "name": "stderr",
     "output_type": "stream",
     "text": [
      "Training: 100%|██████████| 42/42 [00:37<00:00,  1.13it/s]\n",
      "Evaluating: 100%|██████████| 76/76 [00:11<00:00,  6.69it/s]\n"
     ]
    },
    {
     "name": "stdout",
     "output_type": "stream",
     "text": [
      "Training Loss = 0.0307376, Training Accuracy = 99.018\n",
      "Testing Loss = 0.0228009, Testing Accuracy = 99.868\n",
      "New best accuracy: 99.868 at epoch 19\n",
      "**************************************************\n",
      "\n",
      "Epoch 20\n"
     ]
    },
    {
     "name": "stderr",
     "output_type": "stream",
     "text": [
      "Training: 100%|██████████| 42/42 [00:37<00:00,  1.11it/s]\n",
      "Evaluating: 100%|██████████| 76/76 [00:10<00:00,  7.26it/s]"
     ]
    },
    {
     "name": "stdout",
     "output_type": "stream",
     "text": [
      "Training Loss = 0.0250482, Training Accuracy = 99.207\n",
      "Testing Loss = 0.0322922, Testing Accuracy = 98.808\n",
      "**************************************************\n",
      "\n"
     ]
    },
    {
     "name": "stderr",
     "output_type": "stream",
     "text": [
      "\n"
     ]
    }
   ],
   "source": [
    "transfer_df = fit(model=model, train_dataloader=train_dl, val_dataloader=val_dl,\n",
    "            criterion=criterion, optimizer=optimizer, scheduler=scheduler,\n",
    "            epochs=20, experiment_name=\"tranfer\")"
   ]
  },
  {
   "cell_type": "code",
   "execution_count": 29,
   "id": "466375af",
   "metadata": {
    "execution": {
     "iopub.execute_input": "2025-08-09T05:18:19.360554Z",
     "iopub.status.busy": "2025-08-09T05:18:19.359774Z",
     "iopub.status.idle": "2025-08-09T05:18:19.884384Z",
     "shell.execute_reply": "2025-08-09T05:18:19.883590Z"
    },
    "id": "tN_GetzkideN",
    "papermill": {
     "duration": 1.186633,
     "end_time": "2025-08-09T05:18:19.886791",
     "exception": false,
     "start_time": "2025-08-09T05:18:18.700158",
     "status": "completed"
    },
    "tags": []
   },
   "outputs": [
    {
     "data": {
      "image/png": "[encoded data removed]",
      "text/plain": [
       "<Figure size 2000x500 with 3 Axes>"
      ]
     },
     "metadata": {},
     "output_type": "display_data"
    }
   ],
   "source": [
    "fig, ax = plt.subplots(1, 3, figsize=(20, 5), sharex=True)\n",
    "\n",
    "transfer_df.plot(ax=ax[0], y=[0, 2], style=[\"r\", \"b\"])\n",
    "transfer_df.plot(ax=ax[1], y=[1, 3], style=[\"r\", \"b\"])\n",
    "transfer_df.plot(ax=ax[2], y=[4], style=[\"b\"])\n",
    "\n",
    "for i in range(3):\n",
    "  ax[i].set_xlabel(\"Epochs\")\n",
    "  ax[i].grid(which=\"major\", axis=\"both\", color=\"g\", linestyle=\":\")\n",
    "\n",
    "ax[0].set_ylabel(\"Loss\")\n",
    "ax[1].set_ylabel(\"Accuracy (%)\")\n",
    "ax[2].set_ylabel(\"Learning Rate\")\n",
    "\n",
    "fig.suptitle('Custom CNN  Training Metrics', fontsize=16,)\n",
    "plt.show()"
   ]
  },
  {
   "cell_type": "markdown",
   "id": "d49f5522",
   "metadata": {
    "papermill": {
     "duration": 0.756355,
     "end_time": "2025-08-09T05:18:21.304257",
     "exception": false,
     "start_time": "2025-08-09T05:18:20.547902",
     "status": "completed"
    },
    "tags": []
   },
   "source": [
    "# Model Inferences"
   ]
  },
  {
   "cell_type": "code",
   "execution_count": null,
   "id": "ee5c7bb4",
   "metadata": {
    "papermill": {
     "duration": 0.655421,
     "end_time": "2025-08-09T05:18:22.702637",
     "exception": false,
     "start_time": "2025-08-09T05:18:22.047216",
     "status": "completed"
    },
    "tags": []
   },
   "outputs": [],
   "source": []
  }
 ],
 "metadata": {
  "accelerator": "GPU",
  "colab": {
   "authorship_tag": "ABX9TyPNE/yT2CGIj8CDFF/Qdmyt",
   "gpuType": "T4",
   "include_colab_link": true,
   "provenance": []
  },
  "kaggle": {
   "accelerator": "gpu",
   "dataSources": [
    {
     "datasetId": 6003511,
     "sourceId": 9797363,
     "sourceType": "datasetVersion"
    }
   ],
   "dockerImageVersionId": 31090,
   "isGpuEnabled": true,
   "isInternetEnabled": true,
   "language": "python",
   "sourceType": "notebook"
  },
  "kernelspec": {
   "display_name": "Python 3",
   "language": "python",
   "name": "python3"
  },
  "language_info": {
   "codemirror_mode": {
    "name": "ipython",
    "version": 3
   },
   "file_extension": ".py",
   "mimetype": "text/x-python",
   "name": "python",
   "nbconvert_exporter": "python",
   "pygments_lexer": "ipython3",
   "version": "3.11.13"
  },
  "papermill": {
   "default_parameters": {},
   "duration": 5456.325958,
   "end_time": "2025-08-09T05:18:26.149992",
   "environment_variables": {},
   "exception": null,
   "input_path": "__notebook__.ipynb",
   "output_path": "__notebook__.ipynb",
   "parameters": {},
   "start_time": "2025-08-09T03:47:29.824034",
   "version": "2.6.0"
  }
 },
 "nbformat": 4,
 "nbformat_minor": 5
}
