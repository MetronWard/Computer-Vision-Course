{
 "cells": [
  {
   "cell_type": "markdown",
   "id": "f69c171a",
   "metadata": {
    "id": "view-in-github",
    "papermill": {
     "duration": 0.00525,
     "end_time": "2025-08-08T11:04:51.182959",
     "exception": false,
     "start_time": "2025-08-08T11:04:51.177709",
     "status": "completed"
    },
    "tags": []
   },
   "source": [
    "<a href=\"https://colab.research.google.com/github/MetronWard/Computer-Vision-Course/blob/main/Chapter_2_Convolution_Layers.ipynb\" target=\"_parent\"><img src=\"https://colab.research.google.com/assets/colab-badge.svg\" alt=\"Open In Colab\"/></a>"
   ]
  },
  {
   "cell_type": "code",
   "execution_count": 1,
   "id": "111ff083",
   "metadata": {
    "execution": {
     "iopub.execute_input": "2025-08-08T11:04:51.192925Z",
     "iopub.status.busy": "2025-08-08T11:04:51.192549Z",
     "iopub.status.idle": "2025-08-08T11:05:03.085964Z",
     "shell.execute_reply": "2025-08-08T11:05:03.085305Z"
    },
    "id": "i4EgU0ZXzBtt",
    "papermill": {
     "duration": 11.899874,
     "end_time": "2025-08-08T11:05:03.087368",
     "exception": false,
     "start_time": "2025-08-08T11:04:51.187494",
     "status": "completed"
    },
    "tags": []
   },
   "outputs": [],
   "source": [
    "import torch\n",
    "import torch.nn as nn\n",
    "import torch.optim.lr_scheduler as lr_scheduler\n",
    "from torch.utils.data import Dataset, DataLoader\n",
    "import torch.optim as optim\n",
    "\n",
    "import torchvision\n",
    "from torchvision import models\n",
    "import torchvision.transforms as T\n",
    "from torchvision.datasets import ImageFolder\n",
    "\n",
    "from sklearn.metrics import precision_score, recall_score, f1_score, confusion_matrix, ConfusionMatrixDisplay\n",
    "\n",
    "import pandas as pd\n",
    "import numpy as np\n",
    "import matplotlib.pyplot as plt\n",
    "\n",
    "from tqdm import tqdm"
   ]
  },
  {
   "cell_type": "markdown",
   "id": "1b640c28",
   "metadata": {
    "id": "HKghd_8pys-7",
    "papermill": {
     "duration": 0.004193,
     "end_time": "2025-08-08T11:05:03.096475",
     "exception": false,
     "start_time": "2025-08-08T11:05:03.092282",
     "status": "completed"
    },
    "tags": []
   },
   "source": [
    "# Download Dataset"
   ]
  },
  {
   "cell_type": "code",
   "execution_count": 2,
   "id": "519fad2c",
   "metadata": {
    "execution": {
     "iopub.execute_input": "2025-08-08T11:05:03.106121Z",
     "iopub.status.busy": "2025-08-08T11:05:03.105763Z",
     "iopub.status.idle": "2025-08-08T11:05:03.544990Z",
     "shell.execute_reply": "2025-08-08T11:05:03.544171Z"
    },
    "id": "9evBQ1CqxIhR",
    "outputId": "15ef2776-0be9-4cc8-c235-2d55d79de034",
    "papermill": {
     "duration": 0.445442,
     "end_time": "2025-08-08T11:05:03.546255",
     "exception": false,
     "start_time": "2025-08-08T11:05:03.100813",
     "status": "completed"
    },
    "tags": []
   },
   "outputs": [
    {
     "name": "stdout",
     "output_type": "stream",
     "text": [
      "Path to dataset files: /kaggle/input/guava-disease-dataset\n"
     ]
    }
   ],
   "source": [
    "import kagglehub\n",
    "\n",
    "# Download latest version\n",
    "path = kagglehub.dataset_download(\"asadullahgalib/guava-disease-dataset\")\n",
    "\n",
    "print(\"Path to dataset files:\", path)"
   ]
  },
  {
   "cell_type": "code",
   "execution_count": 3,
   "id": "9f94c51f",
   "metadata": {
    "execution": {
     "iopub.execute_input": "2025-08-08T11:05:03.556239Z",
     "iopub.status.busy": "2025-08-08T11:05:03.556018Z",
     "iopub.status.idle": "2025-08-08T11:05:03.559353Z",
     "shell.execute_reply": "2025-08-08T11:05:03.558656Z"
    },
    "id": "7scBp9Jyz8yW",
    "papermill": {
     "duration": 0.009496,
     "end_time": "2025-08-08T11:05:03.560506",
     "exception": false,
     "start_time": "2025-08-08T11:05:03.551010",
     "status": "completed"
    },
    "tags": []
   },
   "outputs": [],
   "source": [
    "ds_folder = path+\"/GuavaDiseaseDataset/GuavaDiseaseDataset/\""
   ]
  },
  {
   "cell_type": "code",
   "execution_count": 4,
   "id": "fd3cd55c",
   "metadata": {
    "execution": {
     "iopub.execute_input": "2025-08-08T11:05:03.569712Z",
     "iopub.status.busy": "2025-08-08T11:05:03.569490Z",
     "iopub.status.idle": "2025-08-08T11:05:03.572942Z",
     "shell.execute_reply": "2025-08-08T11:05:03.572240Z"
    },
    "id": "cXY_pL2dy6oC",
    "papermill": {
     "duration": 0.009277,
     "end_time": "2025-08-08T11:05:03.573993",
     "exception": false,
     "start_time": "2025-08-08T11:05:03.564716",
     "status": "completed"
    },
    "tags": []
   },
   "outputs": [],
   "source": [
    "img_size = (224, 224)\n",
    "img_channels = 3\n",
    "batch_size = 64\n",
    "lr = 1e-3"
   ]
  },
  {
   "cell_type": "markdown",
   "id": "0e370bcb",
   "metadata": {
    "id": "Y1vc_Uw7y2ru",
    "papermill": {
     "duration": 0.004681,
     "end_time": "2025-08-08T11:05:03.582910",
     "exception": false,
     "start_time": "2025-08-08T11:05:03.578229",
     "status": "completed"
    },
    "tags": []
   },
   "source": [
    "# Datasets and DataLoaders"
   ]
  },
  {
   "cell_type": "code",
   "execution_count": 5,
   "id": "7b645c02",
   "metadata": {
    "execution": {
     "iopub.execute_input": "2025-08-08T11:05:03.592278Z",
     "iopub.status.busy": "2025-08-08T11:05:03.592036Z",
     "iopub.status.idle": "2025-08-08T11:05:07.079807Z",
     "shell.execute_reply": "2025-08-08T11:05:07.079091Z"
    },
    "id": "FKS1BtPFz6w8",
    "papermill": {
     "duration": 3.494262,
     "end_time": "2025-08-08T11:05:07.081300",
     "exception": false,
     "start_time": "2025-08-08T11:05:03.587038",
     "status": "completed"
    },
    "tags": []
   },
   "outputs": [],
   "source": [
    "train_dataset = ImageFolder(root=ds_folder + \"train/\",\n",
    "                            transform=T.Compose([\n",
    "                                T.Resize(img_size),\n",
    "                                T.RandomHorizontalFlip(0.5),\n",
    "                                T.RandomVerticalFlip(0.5),\n",
    "                                T.ToTensor(),\n",
    "                                T.Normalize([0.5]*3, [0.5]*3)]),\n",
    "                            )"
   ]
  },
  {
   "cell_type": "code",
   "execution_count": 6,
   "id": "f9a01a76",
   "metadata": {
    "execution": {
     "iopub.execute_input": "2025-08-08T11:05:07.092700Z",
     "iopub.status.busy": "2025-08-08T11:05:07.092152Z",
     "iopub.status.idle": "2025-08-08T11:05:07.631476Z",
     "shell.execute_reply": "2025-08-08T11:05:07.630673Z"
    },
    "id": "HbqBHJBl0-sa",
    "papermill": {
     "duration": 0.546675,
     "end_time": "2025-08-08T11:05:07.633055",
     "exception": false,
     "start_time": "2025-08-08T11:05:07.086380",
     "status": "completed"
    },
    "tags": []
   },
   "outputs": [],
   "source": [
    "test_dataset = ImageFolder(root=ds_folder + \"test/\",\n",
    "                            transform=T.Compose([\n",
    "                                T.Resize(img_size),\n",
    "                                T.ToTensor(),\n",
    "                                T.Normalize([0.5]*3, [0.5]*3)]),\n",
    "                            )"
   ]
  },
  {
   "cell_type": "code",
   "execution_count": 7,
   "id": "626ca920",
   "metadata": {
    "execution": {
     "iopub.execute_input": "2025-08-08T11:05:07.643280Z",
     "iopub.status.busy": "2025-08-08T11:05:07.643015Z",
     "iopub.status.idle": "2025-08-08T11:05:08.620099Z",
     "shell.execute_reply": "2025-08-08T11:05:08.619437Z"
    },
    "id": "Aa-blkKk1J_g",
    "papermill": {
     "duration": 0.983574,
     "end_time": "2025-08-08T11:05:08.621399",
     "exception": false,
     "start_time": "2025-08-08T11:05:07.637825",
     "status": "completed"
    },
    "tags": []
   },
   "outputs": [],
   "source": [
    "val_dataset = ImageFolder(root=ds_folder + \"val/\",\n",
    "                            transform=T.Compose([\n",
    "                                T.Resize(img_size),\n",
    "                                T.ToTensor(),\n",
    "                                T.Normalize([0.5]*3, [0.5]*3)]),\n",
    "                            )"
   ]
  },
  {
   "cell_type": "code",
   "execution_count": 8,
   "id": "3373760a",
   "metadata": {
    "execution": {
     "iopub.execute_input": "2025-08-08T11:05:08.631787Z",
     "iopub.status.busy": "2025-08-08T11:05:08.631276Z",
     "iopub.status.idle": "2025-08-08T11:05:08.635402Z",
     "shell.execute_reply": "2025-08-08T11:05:08.634722Z"
    },
    "id": "pEjSHbd01N4z",
    "papermill": {
     "duration": 0.01043,
     "end_time": "2025-08-08T11:05:08.636455",
     "exception": false,
     "start_time": "2025-08-08T11:05:08.626025",
     "status": "completed"
    },
    "tags": []
   },
   "outputs": [],
   "source": [
    "train_dl = DataLoader(train_dataset, batch_size=batch_size, shuffle=True)\n",
    "test_dl = DataLoader(test_dataset, batch_size=batch_size, shuffle=False)\n",
    "val_dl = DataLoader(val_dataset, batch_size=10, shuffle=False)"
   ]
  },
  {
   "cell_type": "markdown",
   "id": "c994a4a6",
   "metadata": {
    "id": "EXvnokzw12WD",
    "papermill": {
     "duration": 0.004266,
     "end_time": "2025-08-08T11:05:08.645231",
     "exception": false,
     "start_time": "2025-08-08T11:05:08.640965",
     "status": "completed"
    },
    "tags": []
   },
   "source": [
    "# Training Functins"
   ]
  },
  {
   "cell_type": "code",
   "execution_count": 9,
   "id": "0ac511fe",
   "metadata": {
    "execution": {
     "iopub.execute_input": "2025-08-08T11:05:08.655040Z",
     "iopub.status.busy": "2025-08-08T11:05:08.654765Z",
     "iopub.status.idle": "2025-08-08T11:05:08.660189Z",
     "shell.execute_reply": "2025-08-08T11:05:08.659609Z"
    },
    "id": "PLpmcbBK15vq",
    "papermill": {
     "duration": 0.011587,
     "end_time": "2025-08-08T11:05:08.661256",
     "exception": false,
     "start_time": "2025-08-08T11:05:08.649669",
     "status": "completed"
    },
    "tags": []
   },
   "outputs": [],
   "source": [
    "def train_step(model, data_loader, criterion, optimizer, scheduler):\n",
    "\n",
    "  n_samples = len(data_loader.dataset)\n",
    "\n",
    "  progress_bar = tqdm(data_loader, desc=\"Training\")\n",
    "  total_loss = 0.0\n",
    "  total_correct = 0.0\n",
    "\n",
    "  model.train()\n",
    "\n",
    "  for image, label in progress_bar:\n",
    "    images, labels = image.cuda(), label.cuda()\n",
    "\n",
    "    optimizer.zero_grad()\n",
    "\n",
    "    predictions = model(images)\n",
    "    predicted_classes = torch.argmax(predictions, dim=1)\n",
    "    correct_classes = torch.sum(predicted_classes == labels)\n",
    "    loss = criterion(predictions, labels)\n",
    "\n",
    "    total_correct += correct_classes.item()\n",
    "    total_loss += loss.item()\n",
    "\n",
    "    loss.backward()\n",
    "    nn.utils.clip_grad_value_(model.parameters(), clip_value=0.1)\n",
    "    optimizer.step()\n",
    "  scheduler.step(loss.item())\n",
    "\n",
    "  return total_loss/n_samples, 100 * (total_correct/n_samples)"
   ]
  },
  {
   "cell_type": "code",
   "execution_count": 10,
   "id": "a8f1cbc3",
   "metadata": {
    "execution": {
     "iopub.execute_input": "2025-08-08T11:05:08.671299Z",
     "iopub.status.busy": "2025-08-08T11:05:08.671063Z",
     "iopub.status.idle": "2025-08-08T11:05:08.676109Z",
     "shell.execute_reply": "2025-08-08T11:05:08.675551Z"
    },
    "id": "54XJyd_76gW4",
    "papermill": {
     "duration": 0.011369,
     "end_time": "2025-08-08T11:05:08.677082",
     "exception": false,
     "start_time": "2025-08-08T11:05:08.665713",
     "status": "completed"
    },
    "tags": []
   },
   "outputs": [],
   "source": [
    "def evaluate(model, data_loader, criterion):\n",
    "\n",
    "  model.eval()\n",
    "\n",
    "  n_samples = len(data_loader.dataset)\n",
    "\n",
    "  progress_bar = tqdm(data_loader, desc=\"Evaluating\")\n",
    "  total_loss = 0.0\n",
    "  total_correct = 0.0\n",
    "\n",
    "  with torch.no_grad():\n",
    "\n",
    "    for image, label in progress_bar:\n",
    "      images, labels = image.cuda(), label.cuda()\n",
    "\n",
    "      predictions = model(images)\n",
    "      predicted_classes = torch.argmax(predictions, dim=1)\n",
    "      correct_classes = torch.sum(predicted_classes == labels)\n",
    "      loss = criterion(predictions, labels)\n",
    "\n",
    "      total_correct += correct_classes.item()\n",
    "      total_loss += loss.item()\n",
    "\n",
    "  return total_loss/n_samples, 100 * (total_correct/n_samples)"
   ]
  },
  {
   "cell_type": "code",
   "execution_count": 11,
   "id": "13687e34",
   "metadata": {
    "execution": {
     "iopub.execute_input": "2025-08-08T11:05:08.687447Z",
     "iopub.status.busy": "2025-08-08T11:05:08.686864Z",
     "iopub.status.idle": "2025-08-08T11:05:08.693497Z",
     "shell.execute_reply": "2025-08-08T11:05:08.692663Z"
    },
    "id": "1j7Q1jSS7jZy",
    "papermill": {
     "duration": 0.012989,
     "end_time": "2025-08-08T11:05:08.694736",
     "exception": false,
     "start_time": "2025-08-08T11:05:08.681747",
     "status": "completed"
    },
    "tags": []
   },
   "outputs": [],
   "source": [
    "def fit(model, train_dataloader, val_dataloader, criterion, optimizer, scheduler, epochs, experiment_name):\n",
    "\n",
    "  df = pd.DataFrame(np.empty([epochs, 5]),\n",
    "                    index=np.arange(epochs),\n",
    "                    columns=[\"Train_Loss\", \"Train_Acc\", \"Val_Loss\", \"Val_Acc\", \"lr\"])\n",
    "\n",
    "  highest_acc = 0.00\n",
    "\n",
    "  for epoch in range(epochs):\n",
    "    print(f\"Epoch {epoch+1}\")\n",
    "\n",
    "    df.iloc[epoch, 0], df.iloc[epoch, 1] = train_step(model=model, data_loader=train_dataloader,\n",
    "                                            criterion=criterion, optimizer=optimizer,\n",
    "                                            scheduler=scheduler)\n",
    "\n",
    "    df.iloc[epoch, 2], df.iloc[epoch, 3] = evaluate(model=model, data_loader=val_dataloader,\n",
    "                                            criterion=criterion)\n",
    "\n",
    "    df.iloc[epoch, 4] = optimizer.param_groups[0][\"lr\"]\n",
    "\n",
    "    print(f\"Training Loss = {df.iloc[epoch, 0]:.7f}, Training Accuracy = {df.iloc[epoch, 1]:.3f}\\nTesting Loss = {df.iloc[epoch, 2]:.7f}, Testing Accuracy = {df.iloc[epoch, 3]:.3f}\")\n",
    "\n",
    "\n",
    "    if df.iloc[epoch, 3] > highest_acc:\n",
    "      torch.save(model.state_dict(), f\"{experiment_name}.pth\")\n",
    "      highest_acc = df.iloc[epoch, 3]\n",
    "      print(f\"New best accuracy: {highest_acc:.3f} at epoch {epoch+1}\")\n",
    "\n",
    "    print(\"*\"*50)\n",
    "    print(\"\")\n",
    "\n",
    "  return df"
   ]
  },
  {
   "cell_type": "markdown",
   "id": "77dcf37f",
   "metadata": {
    "id": "tTezZovI-vLs",
    "papermill": {
     "duration": 0.004099,
     "end_time": "2025-08-08T11:05:08.703520",
     "exception": false,
     "start_time": "2025-08-08T11:05:08.699421",
     "status": "completed"
    },
    "tags": []
   },
   "source": [
    "# FC Neural Network"
   ]
  },
  {
   "cell_type": "code",
   "execution_count": 12,
   "id": "954cd9b9",
   "metadata": {
    "execution": {
     "iopub.execute_input": "2025-08-08T11:05:08.713391Z",
     "iopub.status.busy": "2025-08-08T11:05:08.712901Z",
     "iopub.status.idle": "2025-08-08T11:05:08.717979Z",
     "shell.execute_reply": "2025-08-08T11:05:08.717395Z"
    },
    "id": "6fiFsd15_VwJ",
    "papermill": {
     "duration": 0.011452,
     "end_time": "2025-08-08T11:05:08.719132",
     "exception": false,
     "start_time": "2025-08-08T11:05:08.707680",
     "status": "completed"
    },
    "tags": []
   },
   "outputs": [],
   "source": [
    "class FC_Model(nn.Module):\n",
    "  def __init__(self, skeleton:list, num_classes):\n",
    "    super().__init__()\n",
    "    layer_list = []\n",
    "    for i in range(len(skeleton) -1):\n",
    "      layer_list.append(nn.Linear(skeleton[i], skeleton[i+1]))\n",
    "      layer_list.append(nn.BatchNorm1d(skeleton[i+1]))\n",
    "      layer_list.append(nn.Dropout1d(0.5))\n",
    "      layer_list.append(nn.ReLU())\n",
    "    layer_list.append(nn.Linear(skeleton[-1], num_classes))\n",
    "    self.model = nn.Sequential(*layer_list)\n",
    "\n",
    "  def forward(self, images):\n",
    "    inputs = images.view(images.shape[0], -1)\n",
    "    output = self.model(inputs)\n",
    "    return output"
   ]
  },
  {
   "cell_type": "code",
   "execution_count": 13,
   "id": "53696538",
   "metadata": {
    "execution": {
     "iopub.execute_input": "2025-08-08T11:05:08.729145Z",
     "iopub.status.busy": "2025-08-08T11:05:08.728899Z",
     "iopub.status.idle": "2025-08-08T11:05:09.106788Z",
     "shell.execute_reply": "2025-08-08T11:05:09.105980Z"
    },
    "id": "MZ82ZHpvAmU1",
    "papermill": {
     "duration": 0.384502,
     "end_time": "2025-08-08T11:05:09.108237",
     "exception": false,
     "start_time": "2025-08-08T11:05:08.723735",
     "status": "completed"
    },
    "tags": []
   },
   "outputs": [],
   "source": [
    "model = FC_Model(skeleton=[img_size[0]*img_size[1]*3, 100, 50, 20], num_classes=3).cuda()"
   ]
  },
  {
   "cell_type": "code",
   "execution_count": 14,
   "id": "22541883",
   "metadata": {
    "execution": {
     "iopub.execute_input": "2025-08-08T11:05:09.118903Z",
     "iopub.status.busy": "2025-08-08T11:05:09.118075Z",
     "iopub.status.idle": "2025-08-08T11:05:09.122735Z",
     "shell.execute_reply": "2025-08-08T11:05:09.122153Z"
    },
    "id": "VBSuN6ug-1qJ",
    "papermill": {
     "duration": 0.010882,
     "end_time": "2025-08-08T11:05:09.123906",
     "exception": false,
     "start_time": "2025-08-08T11:05:09.113024",
     "status": "completed"
    },
    "tags": []
   },
   "outputs": [],
   "source": [
    "criterion = nn.CrossEntropyLoss()\n",
    "optimizer = optim.Adam(model.parameters(), lr=lr)\n",
    "scheduler = lr_scheduler.ReduceLROnPlateau(optimizer=optimizer, mode=\"min\", patience=5, factor=0.1)"
   ]
  },
  {
   "cell_type": "code",
   "execution_count": 15,
   "id": "7b224231",
   "metadata": {
    "execution": {
     "iopub.execute_input": "2025-08-08T11:05:09.134393Z",
     "iopub.status.busy": "2025-08-08T11:05:09.133764Z",
     "iopub.status.idle": "2025-08-08T11:35:06.621669Z",
     "shell.execute_reply": "2025-08-08T11:35:06.620856Z"
    },
    "id": "qE-E0nCWBGPl",
    "outputId": "6404a59f-c1bf-4237-a471-3d954debbea6",
    "papermill": {
     "duration": 1797.494658,
     "end_time": "2025-08-08T11:35:06.623042",
     "exception": false,
     "start_time": "2025-08-08T11:05:09.128384",
     "status": "completed"
    },
    "tags": []
   },
   "outputs": [
    {
     "name": "stdout",
     "output_type": "stream",
     "text": [
      "Epoch 1\n"
     ]
    },
    {
     "name": "stderr",
     "output_type": "stream",
     "text": [
      "Training: 100%|██████████| 42/42 [00:45<00:00,  1.09s/it]\n",
      "Evaluating: 100%|██████████| 76/76 [00:12<00:00,  6.02it/s]\n"
     ]
    },
    {
     "name": "stdout",
     "output_type": "stream",
     "text": [
      "Training Loss = 0.0169596, Training Accuracy = 41.141\n",
      "Testing Loss = 0.1010793, Testing Accuracy = 65.166\n",
      "New best accuracy: 65.166 at epoch 1\n",
      "**************************************************\n",
      "\n",
      "Epoch 2\n"
     ]
    },
    {
     "name": "stderr",
     "output_type": "stream",
     "text": [
      "Training: 100%|██████████| 42/42 [00:27<00:00,  1.51it/s]\n",
      "Evaluating: 100%|██████████| 76/76 [00:07<00:00,  9.76it/s]\n"
     ]
    },
    {
     "name": "stdout",
     "output_type": "stream",
     "text": [
      "Training Loss = 0.0164355, Training Accuracy = 44.352\n",
      "Testing Loss = 0.0988061, Testing Accuracy = 70.993\n",
      "New best accuracy: 70.993 at epoch 2\n",
      "**************************************************\n",
      "\n",
      "Epoch 3\n"
     ]
    },
    {
     "name": "stderr",
     "output_type": "stream",
     "text": [
      "Training: 100%|██████████| 42/42 [00:27<00:00,  1.55it/s]\n",
      "Evaluating: 100%|██████████| 76/76 [00:07<00:00,  9.57it/s]\n"
     ]
    },
    {
     "name": "stdout",
     "output_type": "stream",
     "text": [
      "Training Loss = 0.0164035, Training Accuracy = 45.259\n",
      "Testing Loss = 0.0982131, Testing Accuracy = 69.007\n",
      "**************************************************\n",
      "\n",
      "Epoch 4\n"
     ]
    },
    {
     "name": "stderr",
     "output_type": "stream",
     "text": [
      "Training: 100%|██████████| 42/42 [00:27<00:00,  1.51it/s]\n",
      "Evaluating: 100%|██████████| 76/76 [00:07<00:00,  9.61it/s]\n"
     ]
    },
    {
     "name": "stdout",
     "output_type": "stream",
     "text": [
      "Training Loss = 0.0164194, Training Accuracy = 44.428\n",
      "Testing Loss = 0.0969855, Testing Accuracy = 73.245\n",
      "New best accuracy: 73.245 at epoch 4\n",
      "**************************************************\n",
      "\n",
      "Epoch 5\n"
     ]
    },
    {
     "name": "stderr",
     "output_type": "stream",
     "text": [
      "Training: 100%|██████████| 42/42 [00:27<00:00,  1.52it/s]\n",
      "Evaluating: 100%|██████████| 76/76 [00:08<00:00,  9.33it/s]\n"
     ]
    },
    {
     "name": "stdout",
     "output_type": "stream",
     "text": [
      "Training Loss = 0.0160646, Training Accuracy = 46.430\n",
      "Testing Loss = 0.0966146, Testing Accuracy = 72.053\n",
      "**************************************************\n",
      "\n",
      "Epoch 6\n"
     ]
    },
    {
     "name": "stderr",
     "output_type": "stream",
     "text": [
      "Training: 100%|██████████| 42/42 [00:27<00:00,  1.53it/s]\n",
      "Evaluating: 100%|██████████| 76/76 [00:07<00:00,  9.80it/s]\n"
     ]
    },
    {
     "name": "stdout",
     "output_type": "stream",
     "text": [
      "Training Loss = 0.0162099, Training Accuracy = 45.108\n",
      "Testing Loss = 0.0951377, Testing Accuracy = 71.391\n",
      "**************************************************\n",
      "\n",
      "Epoch 7\n"
     ]
    },
    {
     "name": "stderr",
     "output_type": "stream",
     "text": [
      "Training: 100%|██████████| 42/42 [00:26<00:00,  1.57it/s]\n",
      "Evaluating: 100%|██████████| 76/76 [00:07<00:00,  9.66it/s]\n"
     ]
    },
    {
     "name": "stdout",
     "output_type": "stream",
     "text": [
      "Training Loss = 0.0159568, Training Accuracy = 45.410\n",
      "Testing Loss = 0.0954771, Testing Accuracy = 69.404\n",
      "**************************************************\n",
      "\n",
      "Epoch 8\n"
     ]
    },
    {
     "name": "stderr",
     "output_type": "stream",
     "text": [
      "Training: 100%|██████████| 42/42 [00:27<00:00,  1.55it/s]\n",
      "Evaluating: 100%|██████████| 76/76 [00:07<00:00, 10.17it/s]\n"
     ]
    },
    {
     "name": "stdout",
     "output_type": "stream",
     "text": [
      "Training Loss = 0.0160297, Training Accuracy = 45.637\n",
      "Testing Loss = 0.0956853, Testing Accuracy = 70.993\n",
      "**************************************************\n",
      "\n",
      "Epoch 9\n"
     ]
    },
    {
     "name": "stderr",
     "output_type": "stream",
     "text": [
      "Training: 100%|██████████| 42/42 [00:26<00:00,  1.56it/s]\n",
      "Evaluating: 100%|██████████| 76/76 [00:07<00:00,  9.84it/s]\n"
     ]
    },
    {
     "name": "stdout",
     "output_type": "stream",
     "text": [
      "Training Loss = 0.0158646, Training Accuracy = 45.372\n",
      "Testing Loss = 0.0947066, Testing Accuracy = 72.053\n",
      "**************************************************\n",
      "\n",
      "Epoch 10\n"
     ]
    },
    {
     "name": "stderr",
     "output_type": "stream",
     "text": [
      "Training: 100%|██████████| 42/42 [00:27<00:00,  1.54it/s]\n",
      "Evaluating: 100%|██████████| 76/76 [00:07<00:00, 10.29it/s]\n"
     ]
    },
    {
     "name": "stdout",
     "output_type": "stream",
     "text": [
      "Training Loss = 0.0159127, Training Accuracy = 46.165\n",
      "Testing Loss = 0.0933639, Testing Accuracy = 75.099\n",
      "New best accuracy: 75.099 at epoch 10\n",
      "**************************************************\n",
      "\n",
      "Epoch 11\n"
     ]
    },
    {
     "name": "stderr",
     "output_type": "stream",
     "text": [
      "Training: 100%|██████████| 42/42 [00:27<00:00,  1.55it/s]\n",
      "Evaluating: 100%|██████████| 76/76 [00:07<00:00,  9.80it/s]\n"
     ]
    },
    {
     "name": "stdout",
     "output_type": "stream",
     "text": [
      "Training Loss = 0.0159873, Training Accuracy = 45.750\n",
      "Testing Loss = 0.0936815, Testing Accuracy = 70.199\n",
      "**************************************************\n",
      "\n",
      "Epoch 12\n"
     ]
    },
    {
     "name": "stderr",
     "output_type": "stream",
     "text": [
      "Training: 100%|██████████| 42/42 [00:26<00:00,  1.56it/s]\n",
      "Evaluating: 100%|██████████| 76/76 [00:07<00:00,  9.91it/s]\n"
     ]
    },
    {
     "name": "stdout",
     "output_type": "stream",
     "text": [
      "Training Loss = 0.0159012, Training Accuracy = 46.430\n",
      "Testing Loss = 0.0927386, Testing Accuracy = 68.344\n",
      "**************************************************\n",
      "\n",
      "Epoch 13\n"
     ]
    },
    {
     "name": "stderr",
     "output_type": "stream",
     "text": [
      "Training: 100%|██████████| 42/42 [00:28<00:00,  1.49it/s]\n",
      "Evaluating: 100%|██████████| 76/76 [00:07<00:00,  9.66it/s]\n"
     ]
    },
    {
     "name": "stdout",
     "output_type": "stream",
     "text": [
      "Training Loss = 0.0158080, Training Accuracy = 45.712\n",
      "Testing Loss = 0.0936714, Testing Accuracy = 67.947\n",
      "**************************************************\n",
      "\n",
      "Epoch 14\n"
     ]
    },
    {
     "name": "stderr",
     "output_type": "stream",
     "text": [
      "Training: 100%|██████████| 42/42 [00:28<00:00,  1.50it/s]\n",
      "Evaluating: 100%|██████████| 76/76 [00:07<00:00,  9.68it/s]\n"
     ]
    },
    {
     "name": "stdout",
     "output_type": "stream",
     "text": [
      "Training Loss = 0.0157179, Training Accuracy = 46.241\n",
      "Testing Loss = 0.0910584, Testing Accuracy = 72.450\n",
      "**************************************************\n",
      "\n",
      "Epoch 15\n"
     ]
    },
    {
     "name": "stderr",
     "output_type": "stream",
     "text": [
      "Training: 100%|██████████| 42/42 [00:28<00:00,  1.48it/s]\n",
      "Evaluating: 100%|██████████| 76/76 [00:08<00:00,  9.34it/s]\n"
     ]
    },
    {
     "name": "stdout",
     "output_type": "stream",
     "text": [
      "Training Loss = 0.0156443, Training Accuracy = 46.128\n",
      "Testing Loss = 0.0900125, Testing Accuracy = 74.702\n",
      "**************************************************\n",
      "\n",
      "Epoch 16\n"
     ]
    },
    {
     "name": "stderr",
     "output_type": "stream",
     "text": [
      "Training: 100%|██████████| 42/42 [00:27<00:00,  1.51it/s]\n",
      "Evaluating: 100%|██████████| 76/76 [00:08<00:00,  9.34it/s]\n"
     ]
    },
    {
     "name": "stdout",
     "output_type": "stream",
     "text": [
      "Training Loss = 0.0157243, Training Accuracy = 45.825\n",
      "Testing Loss = 0.0872102, Testing Accuracy = 76.026\n",
      "New best accuracy: 76.026 at epoch 16\n",
      "**************************************************\n",
      "\n",
      "Epoch 17\n"
     ]
    },
    {
     "name": "stderr",
     "output_type": "stream",
     "text": [
      "Training: 100%|██████████| 42/42 [00:26<00:00,  1.56it/s]\n",
      "Evaluating: 100%|██████████| 76/76 [00:07<00:00, 10.23it/s]\n"
     ]
    },
    {
     "name": "stdout",
     "output_type": "stream",
     "text": [
      "Training Loss = 0.0158916, Training Accuracy = 45.825\n",
      "Testing Loss = 0.0875660, Testing Accuracy = 75.099\n",
      "**************************************************\n",
      "\n",
      "Epoch 18\n"
     ]
    },
    {
     "name": "stderr",
     "output_type": "stream",
     "text": [
      "Training: 100%|██████████| 42/42 [00:27<00:00,  1.54it/s]\n",
      "Evaluating: 100%|██████████| 76/76 [00:07<00:00,  9.89it/s]\n"
     ]
    },
    {
     "name": "stdout",
     "output_type": "stream",
     "text": [
      "Training Loss = 0.0154661, Training Accuracy = 47.072\n",
      "Testing Loss = 0.0887124, Testing Accuracy = 73.113\n",
      "**************************************************\n",
      "\n",
      "Epoch 19\n"
     ]
    },
    {
     "name": "stderr",
     "output_type": "stream",
     "text": [
      "Training: 100%|██████████| 42/42 [00:27<00:00,  1.54it/s]\n",
      "Evaluating: 100%|██████████| 76/76 [00:07<00:00,  9.84it/s]\n"
     ]
    },
    {
     "name": "stdout",
     "output_type": "stream",
     "text": [
      "Training Loss = 0.0155068, Training Accuracy = 47.412\n",
      "Testing Loss = 0.0881644, Testing Accuracy = 75.232\n",
      "**************************************************\n",
      "\n",
      "Epoch 20\n"
     ]
    },
    {
     "name": "stderr",
     "output_type": "stream",
     "text": [
      "Training: 100%|██████████| 42/42 [00:27<00:00,  1.51it/s]\n",
      "Evaluating: 100%|██████████| 76/76 [00:07<00:00,  9.91it/s]\n"
     ]
    },
    {
     "name": "stdout",
     "output_type": "stream",
     "text": [
      "Training Loss = 0.0154450, Training Accuracy = 47.185\n",
      "Testing Loss = 0.0894238, Testing Accuracy = 73.245\n",
      "**************************************************\n",
      "\n",
      "Epoch 21\n"
     ]
    },
    {
     "name": "stderr",
     "output_type": "stream",
     "text": [
      "Training: 100%|██████████| 42/42 [00:27<00:00,  1.53it/s]\n",
      "Evaluating: 100%|██████████| 76/76 [00:07<00:00,  9.96it/s]\n"
     ]
    },
    {
     "name": "stdout",
     "output_type": "stream",
     "text": [
      "Training Loss = 0.0156786, Training Accuracy = 46.014\n",
      "Testing Loss = 0.0859264, Testing Accuracy = 76.026\n",
      "**************************************************\n",
      "\n",
      "Epoch 22\n"
     ]
    },
    {
     "name": "stderr",
     "output_type": "stream",
     "text": [
      "Training: 100%|██████████| 42/42 [00:27<00:00,  1.54it/s]\n",
      "Evaluating: 100%|██████████| 76/76 [00:07<00:00, 10.12it/s]\n"
     ]
    },
    {
     "name": "stdout",
     "output_type": "stream",
     "text": [
      "Training Loss = 0.0155405, Training Accuracy = 47.299\n",
      "Testing Loss = 0.0858503, Testing Accuracy = 76.821\n",
      "New best accuracy: 76.821 at epoch 22\n",
      "**************************************************\n",
      "\n",
      "Epoch 23\n"
     ]
    },
    {
     "name": "stderr",
     "output_type": "stream",
     "text": [
      "Training: 100%|██████████| 42/42 [00:27<00:00,  1.52it/s]\n",
      "Evaluating: 100%|██████████| 76/76 [00:07<00:00,  9.81it/s]\n"
     ]
    },
    {
     "name": "stdout",
     "output_type": "stream",
     "text": [
      "Training Loss = 0.0156377, Training Accuracy = 46.657\n",
      "Testing Loss = 0.0862362, Testing Accuracy = 75.894\n",
      "**************************************************\n",
      "\n",
      "Epoch 24\n"
     ]
    },
    {
     "name": "stderr",
     "output_type": "stream",
     "text": [
      "Training: 100%|██████████| 42/42 [00:27<00:00,  1.53it/s]\n",
      "Evaluating: 100%|██████████| 76/76 [00:08<00:00,  9.42it/s]\n"
     ]
    },
    {
     "name": "stdout",
     "output_type": "stream",
     "text": [
      "Training Loss = 0.0157417, Training Accuracy = 45.259\n",
      "Testing Loss = 0.0865288, Testing Accuracy = 76.424\n",
      "**************************************************\n",
      "\n",
      "Epoch 25\n"
     ]
    },
    {
     "name": "stderr",
     "output_type": "stream",
     "text": [
      "Training: 100%|██████████| 42/42 [00:27<00:00,  1.54it/s]\n",
      "Evaluating: 100%|██████████| 76/76 [00:07<00:00,  9.71it/s]\n"
     ]
    },
    {
     "name": "stdout",
     "output_type": "stream",
     "text": [
      "Training Loss = 0.0156204, Training Accuracy = 45.674\n",
      "Testing Loss = 0.0875363, Testing Accuracy = 75.497\n",
      "**************************************************\n",
      "\n",
      "Epoch 26\n"
     ]
    },
    {
     "name": "stderr",
     "output_type": "stream",
     "text": [
      "Training: 100%|██████████| 42/42 [00:26<00:00,  1.56it/s]\n",
      "Evaluating: 100%|██████████| 76/76 [00:08<00:00,  9.38it/s]\n"
     ]
    },
    {
     "name": "stdout",
     "output_type": "stream",
     "text": [
      "Training Loss = 0.0156280, Training Accuracy = 46.505\n",
      "Testing Loss = 0.0888027, Testing Accuracy = 74.570\n",
      "**************************************************\n",
      "\n",
      "Epoch 27\n"
     ]
    },
    {
     "name": "stderr",
     "output_type": "stream",
     "text": [
      "Training: 100%|██████████| 42/42 [00:27<00:00,  1.53it/s]\n",
      "Evaluating: 100%|██████████| 76/76 [00:07<00:00,  9.85it/s]\n"
     ]
    },
    {
     "name": "stdout",
     "output_type": "stream",
     "text": [
      "Training Loss = 0.0154939, Training Accuracy = 47.223\n",
      "Testing Loss = 0.0901726, Testing Accuracy = 70.728\n",
      "**************************************************\n",
      "\n",
      "Epoch 28\n"
     ]
    },
    {
     "name": "stderr",
     "output_type": "stream",
     "text": [
      "Training: 100%|██████████| 42/42 [00:27<00:00,  1.52it/s]\n",
      "Evaluating: 100%|██████████| 76/76 [00:07<00:00,  9.98it/s]\n"
     ]
    },
    {
     "name": "stdout",
     "output_type": "stream",
     "text": [
      "Training Loss = 0.0157077, Training Accuracy = 45.977\n",
      "Testing Loss = 0.0862235, Testing Accuracy = 75.629\n",
      "**************************************************\n",
      "\n",
      "Epoch 29\n"
     ]
    },
    {
     "name": "stderr",
     "output_type": "stream",
     "text": [
      "Training: 100%|██████████| 42/42 [00:27<00:00,  1.50it/s]\n",
      "Evaluating: 100%|██████████| 76/76 [00:07<00:00,  9.99it/s]\n"
     ]
    },
    {
     "name": "stdout",
     "output_type": "stream",
     "text": [
      "Training Loss = 0.0155037, Training Accuracy = 47.941\n",
      "Testing Loss = 0.0870823, Testing Accuracy = 74.702\n",
      "**************************************************\n",
      "\n",
      "Epoch 30\n"
     ]
    },
    {
     "name": "stderr",
     "output_type": "stream",
     "text": [
      "Training: 100%|██████████| 42/42 [00:28<00:00,  1.48it/s]\n",
      "Evaluating: 100%|██████████| 76/76 [00:07<00:00,  9.57it/s]\n"
     ]
    },
    {
     "name": "stdout",
     "output_type": "stream",
     "text": [
      "Training Loss = 0.0155033, Training Accuracy = 46.543\n",
      "Testing Loss = 0.0895870, Testing Accuracy = 72.583\n",
      "**************************************************\n",
      "\n",
      "Epoch 31\n"
     ]
    },
    {
     "name": "stderr",
     "output_type": "stream",
     "text": [
      "Training: 100%|██████████| 42/42 [00:28<00:00,  1.48it/s]\n",
      "Evaluating: 100%|██████████| 76/76 [00:08<00:00,  9.42it/s]\n"
     ]
    },
    {
     "name": "stdout",
     "output_type": "stream",
     "text": [
      "Training Loss = 0.0154570, Training Accuracy = 46.203\n",
      "Testing Loss = 0.0873861, Testing Accuracy = 76.291\n",
      "**************************************************\n",
      "\n",
      "Epoch 32\n"
     ]
    },
    {
     "name": "stderr",
     "output_type": "stream",
     "text": [
      "Training: 100%|██████████| 42/42 [00:28<00:00,  1.46it/s]\n",
      "Evaluating: 100%|██████████| 76/76 [00:08<00:00,  9.27it/s]\n"
     ]
    },
    {
     "name": "stdout",
     "output_type": "stream",
     "text": [
      "Training Loss = 0.0153466, Training Accuracy = 47.752\n",
      "Testing Loss = 0.0883421, Testing Accuracy = 74.702\n",
      "**************************************************\n",
      "\n",
      "Epoch 33\n"
     ]
    },
    {
     "name": "stderr",
     "output_type": "stream",
     "text": [
      "Training: 100%|██████████| 42/42 [00:28<00:00,  1.49it/s]\n",
      "Evaluating: 100%|██████████| 76/76 [00:08<00:00,  8.93it/s]\n"
     ]
    },
    {
     "name": "stdout",
     "output_type": "stream",
     "text": [
      "Training Loss = 0.0156723, Training Accuracy = 45.599\n",
      "Testing Loss = 0.0875944, Testing Accuracy = 73.907\n",
      "**************************************************\n",
      "\n",
      "Epoch 34\n"
     ]
    },
    {
     "name": "stderr",
     "output_type": "stream",
     "text": [
      "Training: 100%|██████████| 42/42 [00:28<00:00,  1.50it/s]\n",
      "Evaluating: 100%|██████████| 76/76 [00:07<00:00,  9.56it/s]\n"
     ]
    },
    {
     "name": "stdout",
     "output_type": "stream",
     "text": [
      "Training Loss = 0.0156187, Training Accuracy = 46.241\n",
      "Testing Loss = 0.0881567, Testing Accuracy = 73.907\n",
      "**************************************************\n",
      "\n",
      "Epoch 35\n"
     ]
    },
    {
     "name": "stderr",
     "output_type": "stream",
     "text": [
      "Training: 100%|██████████| 42/42 [00:28<00:00,  1.48it/s]\n",
      "Evaluating: 100%|██████████| 76/76 [00:07<00:00,  9.88it/s]\n"
     ]
    },
    {
     "name": "stdout",
     "output_type": "stream",
     "text": [
      "Training Loss = 0.0154472, Training Accuracy = 47.261\n",
      "Testing Loss = 0.0886133, Testing Accuracy = 74.570\n",
      "**************************************************\n",
      "\n",
      "Epoch 36\n"
     ]
    },
    {
     "name": "stderr",
     "output_type": "stream",
     "text": [
      "Training: 100%|██████████| 42/42 [00:27<00:00,  1.52it/s]\n",
      "Evaluating: 100%|██████████| 76/76 [00:07<00:00,  9.81it/s]\n"
     ]
    },
    {
     "name": "stdout",
     "output_type": "stream",
     "text": [
      "Training Loss = 0.0156211, Training Accuracy = 46.505\n",
      "Testing Loss = 0.0887665, Testing Accuracy = 73.377\n",
      "**************************************************\n",
      "\n",
      "Epoch 37\n"
     ]
    },
    {
     "name": "stderr",
     "output_type": "stream",
     "text": [
      "Training: 100%|██████████| 42/42 [00:27<00:00,  1.52it/s]\n",
      "Evaluating: 100%|██████████| 76/76 [00:07<00:00,  9.89it/s]\n"
     ]
    },
    {
     "name": "stdout",
     "output_type": "stream",
     "text": [
      "Training Loss = 0.0156467, Training Accuracy = 46.354\n",
      "Testing Loss = 0.0874293, Testing Accuracy = 74.834\n",
      "**************************************************\n",
      "\n",
      "Epoch 38\n"
     ]
    },
    {
     "name": "stderr",
     "output_type": "stream",
     "text": [
      "Training: 100%|██████████| 42/42 [00:27<00:00,  1.51it/s]\n",
      "Evaluating: 100%|██████████| 76/76 [00:08<00:00,  9.04it/s]\n"
     ]
    },
    {
     "name": "stdout",
     "output_type": "stream",
     "text": [
      "Training Loss = 0.0155539, Training Accuracy = 46.808\n",
      "Testing Loss = 0.0885510, Testing Accuracy = 73.377\n",
      "**************************************************\n",
      "\n",
      "Epoch 39\n"
     ]
    },
    {
     "name": "stderr",
     "output_type": "stream",
     "text": [
      "Training: 100%|██████████| 42/42 [00:28<00:00,  1.48it/s]\n",
      "Evaluating: 100%|██████████| 76/76 [00:08<00:00,  9.43it/s]\n"
     ]
    },
    {
     "name": "stdout",
     "output_type": "stream",
     "text": [
      "Training Loss = 0.0154478, Training Accuracy = 47.299\n",
      "Testing Loss = 0.0892891, Testing Accuracy = 73.377\n",
      "**************************************************\n",
      "\n",
      "Epoch 40\n"
     ]
    },
    {
     "name": "stderr",
     "output_type": "stream",
     "text": [
      "Training: 100%|██████████| 42/42 [00:28<00:00,  1.47it/s]\n",
      "Evaluating: 100%|██████████| 76/76 [00:08<00:00,  9.20it/s]\n"
     ]
    },
    {
     "name": "stdout",
     "output_type": "stream",
     "text": [
      "Training Loss = 0.0153078, Training Accuracy = 47.601\n",
      "Testing Loss = 0.0855213, Testing Accuracy = 76.556\n",
      "**************************************************\n",
      "\n",
      "Epoch 41\n"
     ]
    },
    {
     "name": "stderr",
     "output_type": "stream",
     "text": [
      "Training: 100%|██████████| 42/42 [00:28<00:00,  1.47it/s]\n",
      "Evaluating: 100%|██████████| 76/76 [00:08<00:00,  9.25it/s]\n"
     ]
    },
    {
     "name": "stdout",
     "output_type": "stream",
     "text": [
      "Training Loss = 0.0155784, Training Accuracy = 46.845\n",
      "Testing Loss = 0.0881237, Testing Accuracy = 73.775\n",
      "**************************************************\n",
      "\n",
      "Epoch 42\n"
     ]
    },
    {
     "name": "stderr",
     "output_type": "stream",
     "text": [
      "Training: 100%|██████████| 42/42 [00:28<00:00,  1.46it/s]\n",
      "Evaluating: 100%|██████████| 76/76 [00:07<00:00,  9.54it/s]\n"
     ]
    },
    {
     "name": "stdout",
     "output_type": "stream",
     "text": [
      "Training Loss = 0.0156361, Training Accuracy = 46.392\n",
      "Testing Loss = 0.0887193, Testing Accuracy = 73.642\n",
      "**************************************************\n",
      "\n",
      "Epoch 43\n"
     ]
    },
    {
     "name": "stderr",
     "output_type": "stream",
     "text": [
      "Training: 100%|██████████| 42/42 [00:27<00:00,  1.52it/s]\n",
      "Evaluating: 100%|██████████| 76/76 [00:07<00:00, 10.04it/s]\n"
     ]
    },
    {
     "name": "stdout",
     "output_type": "stream",
     "text": [
      "Training Loss = 0.0156745, Training Accuracy = 46.581\n",
      "Testing Loss = 0.0887489, Testing Accuracy = 73.510\n",
      "**************************************************\n",
      "\n",
      "Epoch 44\n"
     ]
    },
    {
     "name": "stderr",
     "output_type": "stream",
     "text": [
      "Training: 100%|██████████| 42/42 [00:26<00:00,  1.58it/s]\n",
      "Evaluating: 100%|██████████| 76/76 [00:07<00:00, 10.20it/s]\n"
     ]
    },
    {
     "name": "stdout",
     "output_type": "stream",
     "text": [
      "Training Loss = 0.0155308, Training Accuracy = 46.808\n",
      "Testing Loss = 0.0887831, Testing Accuracy = 73.113\n",
      "**************************************************\n",
      "\n",
      "Epoch 45\n"
     ]
    },
    {
     "name": "stderr",
     "output_type": "stream",
     "text": [
      "Training: 100%|██████████| 42/42 [00:27<00:00,  1.55it/s]\n",
      "Evaluating: 100%|██████████| 76/76 [00:07<00:00, 10.26it/s]\n"
     ]
    },
    {
     "name": "stdout",
     "output_type": "stream",
     "text": [
      "Training Loss = 0.0153893, Training Accuracy = 47.866\n",
      "Testing Loss = 0.0868034, Testing Accuracy = 76.026\n",
      "**************************************************\n",
      "\n",
      "Epoch 46\n"
     ]
    },
    {
     "name": "stderr",
     "output_type": "stream",
     "text": [
      "Training: 100%|██████████| 42/42 [00:26<00:00,  1.56it/s]\n",
      "Evaluating: 100%|██████████| 76/76 [00:07<00:00,  9.81it/s]\n"
     ]
    },
    {
     "name": "stdout",
     "output_type": "stream",
     "text": [
      "Training Loss = 0.0155467, Training Accuracy = 47.072\n",
      "Testing Loss = 0.0869860, Testing Accuracy = 75.497\n",
      "**************************************************\n",
      "\n",
      "Epoch 47\n"
     ]
    },
    {
     "name": "stderr",
     "output_type": "stream",
     "text": [
      "Training: 100%|██████████| 42/42 [00:26<00:00,  1.56it/s]\n",
      "Evaluating: 100%|██████████| 76/76 [00:07<00:00, 10.02it/s]\n"
     ]
    },
    {
     "name": "stdout",
     "output_type": "stream",
     "text": [
      "Training Loss = 0.0154314, Training Accuracy = 46.581\n",
      "Testing Loss = 0.0883533, Testing Accuracy = 73.642\n",
      "**************************************************\n",
      "\n",
      "Epoch 48\n"
     ]
    },
    {
     "name": "stderr",
     "output_type": "stream",
     "text": [
      "Training: 100%|██████████| 42/42 [00:27<00:00,  1.52it/s]\n",
      "Evaluating: 100%|██████████| 76/76 [00:07<00:00,  9.64it/s]\n"
     ]
    },
    {
     "name": "stdout",
     "output_type": "stream",
     "text": [
      "Training Loss = 0.0156125, Training Accuracy = 46.279\n",
      "Testing Loss = 0.0861551, Testing Accuracy = 76.424\n",
      "**************************************************\n",
      "\n",
      "Epoch 49\n"
     ]
    },
    {
     "name": "stderr",
     "output_type": "stream",
     "text": [
      "Training: 100%|██████████| 42/42 [00:26<00:00,  1.56it/s]\n",
      "Evaluating: 100%|██████████| 76/76 [00:07<00:00,  9.56it/s]\n"
     ]
    },
    {
     "name": "stdout",
     "output_type": "stream",
     "text": [
      "Training Loss = 0.0155201, Training Accuracy = 47.034\n",
      "Testing Loss = 0.0873083, Testing Accuracy = 75.629\n",
      "**************************************************\n",
      "\n",
      "Epoch 50\n"
     ]
    },
    {
     "name": "stderr",
     "output_type": "stream",
     "text": [
      "Training: 100%|██████████| 42/42 [00:27<00:00,  1.51it/s]\n",
      "Evaluating: 100%|██████████| 76/76 [00:07<00:00,  9.58it/s]"
     ]
    },
    {
     "name": "stdout",
     "output_type": "stream",
     "text": [
      "Training Loss = 0.0157662, Training Accuracy = 46.430\n",
      "Testing Loss = 0.0880630, Testing Accuracy = 74.437\n",
      "**************************************************\n",
      "\n"
     ]
    },
    {
     "name": "stderr",
     "output_type": "stream",
     "text": [
      "\n"
     ]
    }
   ],
   "source": [
    "fc_df = fit(model=model, train_dataloader=train_dl, val_dataloader=val_dl,\n",
    "            criterion=criterion, optimizer=optimizer, scheduler=scheduler,\n",
    "            epochs=50, experiment_name=\"fully_connected\")"
   ]
  },
  {
   "cell_type": "code",
   "execution_count": 16,
   "id": "82a598a2",
   "metadata": {
    "execution": {
     "iopub.execute_input": "2025-08-08T11:35:07.106016Z",
     "iopub.status.busy": "2025-08-08T11:35:07.105345Z",
     "iopub.status.idle": "2025-08-08T11:35:07.674731Z",
     "shell.execute_reply": "2025-08-08T11:35:07.674097Z"
    },
    "id": "-afRr00cOOn3",
    "outputId": "70fabd3a-37fe-446a-a860-9a31378a6148",
    "papermill": {
     "duration": 0.846811,
     "end_time": "2025-08-08T11:35:07.677197",
     "exception": false,
     "start_time": "2025-08-08T11:35:06.830386",
     "status": "completed"
    },
    "tags": []
   },
   "outputs": [
    {
     "data": {
      "image/png": "[encoded data removed]",
      "text/plain": [
       "<Figure size 2000x500 with 3 Axes>"
      ]
     },
     "metadata": {},
     "output_type": "display_data"
    }
   ],
   "source": [
    "fig, ax = plt.subplots(1, 3, figsize=(20, 5), sharex=True)\n",
    "\n",
    "fc_df.plot(ax=ax[0], y=[0, 2], style=[\"r\", \"b\"])\n",
    "fc_df.plot(ax=ax[1], y=[1, 3], style=[\"r\", \"b\"])\n",
    "fc_df.plot(ax=ax[2], y=[4], style=[\"b\"])\n",
    "\n",
    "for i in range(3):\n",
    "  ax[i].set_xlabel(\"Epochs\")\n",
    "  ax[i].grid(which=\"major\", axis=\"both\", color=\"g\", linestyle=\":\")\n",
    "\n",
    "ax[0].set_ylabel(\"Loss\")\n",
    "ax[1].set_ylabel(\"Accuracy (%)\")\n",
    "ax[2].set_ylabel(\"Learning Rate\")\n",
    "\n",
    "fig.suptitle('Fully Connected Neural Network Training Metrics', fontsize=16,)\n",
    "plt.show()"
   ]
  },
  {
   "cell_type": "markdown",
   "id": "f402df1f",
   "metadata": {
    "id": "pd7A0FxMRNSS",
    "papermill": {
     "duration": 0.210519,
     "end_time": "2025-08-08T11:35:08.099304",
     "exception": false,
     "start_time": "2025-08-08T11:35:07.888785",
     "status": "completed"
    },
    "tags": []
   },
   "source": [
    "# Custom CNN Layer - RESNet 9"
   ]
  },
  {
   "cell_type": "code",
   "execution_count": 17,
   "id": "9c5a787e",
   "metadata": {
    "execution": {
     "iopub.execute_input": "2025-08-08T11:35:08.519517Z",
     "iopub.status.busy": "2025-08-08T11:35:08.518838Z",
     "iopub.status.idle": "2025-08-08T11:35:08.522795Z",
     "shell.execute_reply": "2025-08-08T11:35:08.522189Z"
    },
    "id": "DEM3AM2_RUS9",
    "papermill": {
     "duration": 0.214561,
     "end_time": "2025-08-08T11:35:08.523965",
     "exception": false,
     "start_time": "2025-08-08T11:35:08.309404",
     "status": "completed"
    },
    "tags": []
   },
   "outputs": [],
   "source": [
    "def basic(in_channels, out_channels):\n",
    "  return nn.Sequential(\n",
    "      nn.Conv2d(in_channels, out_channels, kernel_size=3, padding=1, bias=False),\n",
    "      nn.BatchNorm2d(out_channels),\n",
    "      nn.ReLU(inplace=True),\n",
    "  )"
   ]
  },
  {
   "cell_type": "code",
   "execution_count": 18,
   "id": "d6627270",
   "metadata": {
    "execution": {
     "iopub.execute_input": "2025-08-08T11:35:08.943617Z",
     "iopub.status.busy": "2025-08-08T11:35:08.943332Z",
     "iopub.status.idle": "2025-08-08T11:35:08.947785Z",
     "shell.execute_reply": "2025-08-08T11:35:08.947087Z"
    },
    "id": "H-C5w-UgS_Nw",
    "papermill": {
     "duration": 0.211955,
     "end_time": "2025-08-08T11:35:08.948992",
     "exception": false,
     "start_time": "2025-08-08T11:35:08.737037",
     "status": "completed"
    },
    "tags": []
   },
   "outputs": [],
   "source": [
    "class RS_block(nn.Module):\n",
    "  def __init__(self, in_channels, *args, **kwargs) -> None:\n",
    "    super().__init__(*args, **kwargs)\n",
    "    self.net = nn.Sequential(\n",
    "        basic(in_channels, in_channels),\n",
    "        basic(in_channels, in_channels),\n",
    "    )\n",
    "\n",
    "  def forward(self, x):\n",
    "    return x + self.net(x)"
   ]
  },
  {
   "cell_type": "code",
   "execution_count": 19,
   "id": "847ae31e",
   "metadata": {
    "execution": {
     "iopub.execute_input": "2025-08-08T11:35:09.440882Z",
     "iopub.status.busy": "2025-08-08T11:35:09.440355Z",
     "iopub.status.idle": "2025-08-08T11:35:09.446061Z",
     "shell.execute_reply": "2025-08-08T11:35:09.445242Z"
    },
    "id": "9NeunFiBT96T",
    "papermill": {
     "duration": 0.222793,
     "end_time": "2025-08-08T11:35:09.447315",
     "exception": false,
     "start_time": "2025-08-08T11:35:09.224522",
     "status": "completed"
    },
    "tags": []
   },
   "outputs": [],
   "source": [
    "class ResNet9(nn.Module):\n",
    "\n",
    "  def __init__(self, in_channels=img_channels, num_classes=3, *args, **kwargs) -> None:\n",
    "    super().__init__(*args, **kwargs)\n",
    "    self.net = nn.Sequential(\n",
    "        basic(in_channels, 64),\n",
    "        basic(64, 128), nn.MaxPool2d(2),\n",
    "        RS_block(128),\n",
    "        basic(128, 256), nn.MaxPool2d(2),\n",
    "        basic(256, 512), nn.MaxPool2d(2),\n",
    "        RS_block(512),\n",
    "        nn.AdaptiveAvgPool2d((1, 1)),\n",
    "        nn.Flatten(),\n",
    "        nn.Linear(512, num_classes)\n",
    "    )\n",
    "\n",
    "  def forward(self, x):\n",
    "    output = self.net(x)\n",
    "    return output"
   ]
  },
  {
   "cell_type": "code",
   "execution_count": 20,
   "id": "0d8c846d",
   "metadata": {
    "execution": {
     "iopub.execute_input": "2025-08-08T11:35:09.870497Z",
     "iopub.status.busy": "2025-08-08T11:35:09.869909Z",
     "iopub.status.idle": "2025-08-08T11:35:09.924167Z",
     "shell.execute_reply": "2025-08-08T11:35:09.923304Z"
    },
    "id": "4YLuiNHyVGnb",
    "papermill": {
     "duration": 0.265611,
     "end_time": "2025-08-08T11:35:09.925588",
     "exception": false,
     "start_time": "2025-08-08T11:35:09.659977",
     "status": "completed"
    },
    "tags": []
   },
   "outputs": [],
   "source": [
    "model = ResNet9().cuda()\n",
    "\n",
    "criterion=nn.CrossEntropyLoss(reduction=\"sum\")\n",
    "optimizer = torch.optim.Adam(model.parameters(), lr=lr)\n",
    "\n",
    "scheduler = lr_scheduler.ReduceLROnPlateau(optimizer=optimizer, mode=\"min\", patience=5, factor=0.1)"
   ]
  },
  {
   "cell_type": "code",
   "execution_count": 21,
   "id": "4900bf5a",
   "metadata": {
    "execution": {
     "iopub.execute_input": "2025-08-08T11:35:10.404117Z",
     "iopub.status.busy": "2025-08-08T11:35:10.403817Z",
     "iopub.status.idle": "2025-08-08T12:14:25.938529Z",
     "shell.execute_reply": "2025-08-08T12:14:25.937652Z"
    },
    "id": "pg_Rs-TUV7ca",
    "outputId": "36b947b6-57cb-493b-a609-976e018bfd67",
    "papermill": {
     "duration": 2355.807804,
     "end_time": "2025-08-08T12:14:25.939819",
     "exception": false,
     "start_time": "2025-08-08T11:35:10.132015",
     "status": "completed"
    },
    "tags": []
   },
   "outputs": [
    {
     "name": "stdout",
     "output_type": "stream",
     "text": [
      "Epoch 1\n"
     ]
    },
    {
     "name": "stderr",
     "output_type": "stream",
     "text": [
      "Training: 100%|██████████| 42/42 [00:37<00:00,  1.11it/s]\n",
      "Evaluating: 100%|██████████| 76/76 [00:10<00:00,  7.51it/s]\n"
     ]
    },
    {
     "name": "stdout",
     "output_type": "stream",
     "text": [
      "Training Loss = 0.3238879, Training Accuracy = 87.911\n",
      "Testing Loss = 0.3027990, Testing Accuracy = 89.139\n",
      "New best accuracy: 89.139 at epoch 1\n",
      "**************************************************\n",
      "\n",
      "Epoch 2\n"
     ]
    },
    {
     "name": "stderr",
     "output_type": "stream",
     "text": [
      "Training: 100%|██████████| 42/42 [00:36<00:00,  1.16it/s]\n",
      "Evaluating: 100%|██████████| 76/76 [00:10<00:00,  7.53it/s]\n"
     ]
    },
    {
     "name": "stdout",
     "output_type": "stream",
     "text": [
      "Training Loss = 0.1416009, Training Accuracy = 94.484\n",
      "Testing Loss = 0.1383712, Testing Accuracy = 94.834\n",
      "New best accuracy: 94.834 at epoch 2\n",
      "**************************************************\n",
      "\n",
      "Epoch 3\n"
     ]
    },
    {
     "name": "stderr",
     "output_type": "stream",
     "text": [
      "Training: 100%|██████████| 42/42 [00:36<00:00,  1.15it/s]\n",
      "Evaluating: 100%|██████████| 76/76 [00:10<00:00,  7.45it/s]\n"
     ]
    },
    {
     "name": "stdout",
     "output_type": "stream",
     "text": [
      "Training Loss = 0.1104339, Training Accuracy = 95.769\n",
      "Testing Loss = 1.4715935, Testing Accuracy = 83.841\n",
      "**************************************************\n",
      "\n",
      "Epoch 4\n"
     ]
    },
    {
     "name": "stderr",
     "output_type": "stream",
     "text": [
      "Training: 100%|██████████| 42/42 [00:36<00:00,  1.14it/s]\n",
      "Evaluating: 100%|██████████| 76/76 [00:10<00:00,  7.47it/s]\n"
     ]
    },
    {
     "name": "stdout",
     "output_type": "stream",
     "text": [
      "Training Loss = 0.1007200, Training Accuracy = 96.638\n",
      "Testing Loss = 0.3734093, Testing Accuracy = 85.430\n",
      "**************************************************\n",
      "\n",
      "Epoch 5\n"
     ]
    },
    {
     "name": "stderr",
     "output_type": "stream",
     "text": [
      "Training: 100%|██████████| 42/42 [00:36<00:00,  1.15it/s]\n",
      "Evaluating: 100%|██████████| 76/76 [00:10<00:00,  7.55it/s]\n"
     ]
    },
    {
     "name": "stdout",
     "output_type": "stream",
     "text": [
      "Training Loss = 0.0958629, Training Accuracy = 96.487\n",
      "Testing Loss = 0.2394162, Testing Accuracy = 91.391\n",
      "**************************************************\n",
      "\n",
      "Epoch 6\n"
     ]
    },
    {
     "name": "stderr",
     "output_type": "stream",
     "text": [
      "Training: 100%|██████████| 42/42 [00:35<00:00,  1.17it/s]\n",
      "Evaluating: 100%|██████████| 76/76 [00:10<00:00,  7.17it/s]\n"
     ]
    },
    {
     "name": "stdout",
     "output_type": "stream",
     "text": [
      "Training Loss = 0.0940810, Training Accuracy = 96.638\n",
      "Testing Loss = 0.1004680, Testing Accuracy = 95.629\n",
      "New best accuracy: 95.629 at epoch 6\n",
      "**************************************************\n",
      "\n",
      "Epoch 7\n"
     ]
    },
    {
     "name": "stderr",
     "output_type": "stream",
     "text": [
      "Training: 100%|██████████| 42/42 [00:36<00:00,  1.16it/s]\n",
      "Evaluating: 100%|██████████| 76/76 [00:10<00:00,  7.49it/s]\n"
     ]
    },
    {
     "name": "stdout",
     "output_type": "stream",
     "text": [
      "Training Loss = 0.0684906, Training Accuracy = 97.582\n",
      "Testing Loss = 0.2768295, Testing Accuracy = 89.404\n",
      "**************************************************\n",
      "\n",
      "Epoch 8\n"
     ]
    },
    {
     "name": "stderr",
     "output_type": "stream",
     "text": [
      "Training: 100%|██████████| 42/42 [00:36<00:00,  1.16it/s]\n",
      "Evaluating: 100%|██████████| 76/76 [00:10<00:00,  7.45it/s]\n"
     ]
    },
    {
     "name": "stdout",
     "output_type": "stream",
     "text": [
      "Training Loss = 0.0503825, Training Accuracy = 98.224\n",
      "Testing Loss = 0.1840743, Testing Accuracy = 93.113\n",
      "**************************************************\n",
      "\n",
      "Epoch 9\n"
     ]
    },
    {
     "name": "stderr",
     "output_type": "stream",
     "text": [
      "Training: 100%|██████████| 42/42 [00:36<00:00,  1.15it/s]\n",
      "Evaluating: 100%|██████████| 76/76 [00:09<00:00,  7.63it/s]\n"
     ]
    },
    {
     "name": "stdout",
     "output_type": "stream",
     "text": [
      "Training Loss = 0.0596897, Training Accuracy = 97.884\n",
      "Testing Loss = 2.4574079, Testing Accuracy = 53.642\n",
      "**************************************************\n",
      "\n",
      "Epoch 10\n"
     ]
    },
    {
     "name": "stderr",
     "output_type": "stream",
     "text": [
      "Training: 100%|██████████| 42/42 [00:36<00:00,  1.15it/s]\n",
      "Evaluating: 100%|██████████| 76/76 [00:10<00:00,  7.34it/s]\n"
     ]
    },
    {
     "name": "stdout",
     "output_type": "stream",
     "text": [
      "Training Loss = 0.0782258, Training Accuracy = 97.355\n",
      "Testing Loss = 0.2024819, Testing Accuracy = 94.834\n",
      "**************************************************\n",
      "\n",
      "Epoch 11\n"
     ]
    },
    {
     "name": "stderr",
     "output_type": "stream",
     "text": [
      "Training: 100%|██████████| 42/42 [00:35<00:00,  1.17it/s]\n",
      "Evaluating: 100%|██████████| 76/76 [00:10<00:00,  7.50it/s]\n"
     ]
    },
    {
     "name": "stdout",
     "output_type": "stream",
     "text": [
      "Training Loss = 0.0561174, Training Accuracy = 97.620\n",
      "Testing Loss = 0.2846898, Testing Accuracy = 92.715\n",
      "**************************************************\n",
      "\n",
      "Epoch 12\n"
     ]
    },
    {
     "name": "stderr",
     "output_type": "stream",
     "text": [
      "Training: 100%|██████████| 42/42 [00:36<00:00,  1.16it/s]\n",
      "Evaluating: 100%|██████████| 76/76 [00:10<00:00,  7.49it/s]\n"
     ]
    },
    {
     "name": "stdout",
     "output_type": "stream",
     "text": [
      "Training Loss = 0.0387749, Training Accuracy = 98.149\n",
      "Testing Loss = 0.1289733, Testing Accuracy = 94.702\n",
      "**************************************************\n",
      "\n",
      "Epoch 13\n"
     ]
    },
    {
     "name": "stderr",
     "output_type": "stream",
     "text": [
      "Training: 100%|██████████| 42/42 [00:36<00:00,  1.15it/s]\n",
      "Evaluating: 100%|██████████| 76/76 [00:09<00:00,  7.65it/s]\n"
     ]
    },
    {
     "name": "stdout",
     "output_type": "stream",
     "text": [
      "Training Loss = 0.0435045, Training Accuracy = 98.564\n",
      "Testing Loss = 0.0282412, Testing Accuracy = 98.808\n",
      "New best accuracy: 98.808 at epoch 13\n",
      "**************************************************\n",
      "\n",
      "Epoch 14\n"
     ]
    },
    {
     "name": "stderr",
     "output_type": "stream",
     "text": [
      "Training: 100%|██████████| 42/42 [00:36<00:00,  1.14it/s]\n",
      "Evaluating: 100%|██████████| 76/76 [00:10<00:00,  7.14it/s]\n"
     ]
    },
    {
     "name": "stdout",
     "output_type": "stream",
     "text": [
      "Training Loss = 0.0540124, Training Accuracy = 98.073\n",
      "Testing Loss = 0.0544053, Testing Accuracy = 97.483\n",
      "**************************************************\n",
      "\n",
      "Epoch 15\n"
     ]
    },
    {
     "name": "stderr",
     "output_type": "stream",
     "text": [
      "Training: 100%|██████████| 42/42 [00:37<00:00,  1.11it/s]\n",
      "Evaluating: 100%|██████████| 76/76 [00:10<00:00,  7.36it/s]\n"
     ]
    },
    {
     "name": "stdout",
     "output_type": "stream",
     "text": [
      "Training Loss = 0.0358167, Training Accuracy = 98.942\n",
      "Testing Loss = 0.0556589, Testing Accuracy = 97.881\n",
      "**************************************************\n",
      "\n",
      "Epoch 16\n"
     ]
    },
    {
     "name": "stderr",
     "output_type": "stream",
     "text": [
      "Training: 100%|██████████| 42/42 [00:36<00:00,  1.14it/s]\n",
      "Evaluating: 100%|██████████| 76/76 [00:10<00:00,  7.07it/s]\n"
     ]
    },
    {
     "name": "stdout",
     "output_type": "stream",
     "text": [
      "Training Loss = 0.0306503, Training Accuracy = 98.716\n",
      "Testing Loss = 0.3795491, Testing Accuracy = 89.272\n",
      "**************************************************\n",
      "\n",
      "Epoch 17\n"
     ]
    },
    {
     "name": "stderr",
     "output_type": "stream",
     "text": [
      "Training: 100%|██████████| 42/42 [00:37<00:00,  1.12it/s]\n",
      "Evaluating: 100%|██████████| 76/76 [00:10<00:00,  7.30it/s]\n"
     ]
    },
    {
     "name": "stdout",
     "output_type": "stream",
     "text": [
      "Training Loss = 0.0182539, Training Accuracy = 99.320\n",
      "Testing Loss = 0.0132077, Testing Accuracy = 99.470\n",
      "New best accuracy: 99.470 at epoch 17\n",
      "**************************************************\n",
      "\n",
      "Epoch 18\n"
     ]
    },
    {
     "name": "stderr",
     "output_type": "stream",
     "text": [
      "Training: 100%|██████████| 42/42 [00:37<00:00,  1.13it/s]\n",
      "Evaluating: 100%|██████████| 76/76 [00:10<00:00,  7.28it/s]\n"
     ]
    },
    {
     "name": "stdout",
     "output_type": "stream",
     "text": [
      "Training Loss = 0.0171991, Training Accuracy = 99.358\n",
      "Testing Loss = 0.0111029, Testing Accuracy = 99.735\n",
      "New best accuracy: 99.735 at epoch 18\n",
      "**************************************************\n",
      "\n",
      "Epoch 19\n"
     ]
    },
    {
     "name": "stderr",
     "output_type": "stream",
     "text": [
      "Training: 100%|██████████| 42/42 [00:36<00:00,  1.14it/s]\n",
      "Evaluating: 100%|██████████| 76/76 [00:10<00:00,  7.50it/s]\n"
     ]
    },
    {
     "name": "stdout",
     "output_type": "stream",
     "text": [
      "Training Loss = 0.0164735, Training Accuracy = 99.358\n",
      "Testing Loss = 0.0100376, Testing Accuracy = 99.868\n",
      "New best accuracy: 99.868 at epoch 19\n",
      "**************************************************\n",
      "\n",
      "Epoch 20\n"
     ]
    },
    {
     "name": "stderr",
     "output_type": "stream",
     "text": [
      "Training: 100%|██████████| 42/42 [00:35<00:00,  1.18it/s]\n",
      "Evaluating: 100%|██████████| 76/76 [00:10<00:00,  7.53it/s]\n"
     ]
    },
    {
     "name": "stdout",
     "output_type": "stream",
     "text": [
      "Training Loss = 0.0178106, Training Accuracy = 99.244\n",
      "Testing Loss = 0.0144781, Testing Accuracy = 99.470\n",
      "**************************************************\n",
      "\n",
      "Epoch 21\n"
     ]
    },
    {
     "name": "stderr",
     "output_type": "stream",
     "text": [
      "Training: 100%|██████████| 42/42 [00:35<00:00,  1.17it/s]\n",
      "Evaluating: 100%|██████████| 76/76 [00:10<00:00,  7.54it/s]\n"
     ]
    },
    {
     "name": "stdout",
     "output_type": "stream",
     "text": [
      "Training Loss = 0.0159523, Training Accuracy = 99.358\n",
      "Testing Loss = 0.0124919, Testing Accuracy = 99.470\n",
      "**************************************************\n",
      "\n",
      "Epoch 22\n"
     ]
    },
    {
     "name": "stderr",
     "output_type": "stream",
     "text": [
      "Training: 100%|██████████| 42/42 [00:36<00:00,  1.17it/s]\n",
      "Evaluating: 100%|██████████| 76/76 [00:10<00:00,  7.57it/s]\n"
     ]
    },
    {
     "name": "stdout",
     "output_type": "stream",
     "text": [
      "Training Loss = 0.0135132, Training Accuracy = 99.471\n",
      "Testing Loss = 0.0143906, Testing Accuracy = 99.470\n",
      "**************************************************\n",
      "\n",
      "Epoch 23\n"
     ]
    },
    {
     "name": "stderr",
     "output_type": "stream",
     "text": [
      "Training: 100%|██████████| 42/42 [00:36<00:00,  1.15it/s]\n",
      "Evaluating: 100%|██████████| 76/76 [00:10<00:00,  7.51it/s]\n"
     ]
    },
    {
     "name": "stdout",
     "output_type": "stream",
     "text": [
      "Training Loss = 0.0140113, Training Accuracy = 99.396\n",
      "Testing Loss = 0.0108834, Testing Accuracy = 99.603\n",
      "**************************************************\n",
      "\n",
      "Epoch 24\n"
     ]
    },
    {
     "name": "stderr",
     "output_type": "stream",
     "text": [
      "Training: 100%|██████████| 42/42 [00:36<00:00,  1.16it/s]\n",
      "Evaluating: 100%|██████████| 76/76 [00:10<00:00,  7.52it/s]\n"
     ]
    },
    {
     "name": "stdout",
     "output_type": "stream",
     "text": [
      "Training Loss = 0.0146294, Training Accuracy = 99.320\n",
      "Testing Loss = 0.0165877, Testing Accuracy = 99.338\n",
      "**************************************************\n",
      "\n",
      "Epoch 25\n"
     ]
    },
    {
     "name": "stderr",
     "output_type": "stream",
     "text": [
      "Training: 100%|██████████| 42/42 [00:36<00:00,  1.15it/s]\n",
      "Evaluating: 100%|██████████| 76/76 [00:10<00:00,  7.37it/s]\n"
     ]
    },
    {
     "name": "stdout",
     "output_type": "stream",
     "text": [
      "Training Loss = 0.0127088, Training Accuracy = 99.547\n",
      "Testing Loss = 0.0195837, Testing Accuracy = 99.205\n",
      "**************************************************\n",
      "\n",
      "Epoch 26\n"
     ]
    },
    {
     "name": "stderr",
     "output_type": "stream",
     "text": [
      "Training: 100%|██████████| 42/42 [00:36<00:00,  1.15it/s]\n",
      "Evaluating: 100%|██████████| 76/76 [00:10<00:00,  7.41it/s]\n"
     ]
    },
    {
     "name": "stdout",
     "output_type": "stream",
     "text": [
      "Training Loss = 0.0132315, Training Accuracy = 99.509\n",
      "Testing Loss = 0.0121376, Testing Accuracy = 99.735\n",
      "**************************************************\n",
      "\n",
      "Epoch 27\n"
     ]
    },
    {
     "name": "stderr",
     "output_type": "stream",
     "text": [
      "Training: 100%|██████████| 42/42 [00:37<00:00,  1.11it/s]\n",
      "Evaluating: 100%|██████████| 76/76 [00:10<00:00,  7.15it/s]\n"
     ]
    },
    {
     "name": "stdout",
     "output_type": "stream",
     "text": [
      "Training Loss = 0.0161866, Training Accuracy = 99.433\n",
      "Testing Loss = 0.0145739, Testing Accuracy = 99.470\n",
      "**************************************************\n",
      "\n",
      "Epoch 28\n"
     ]
    },
    {
     "name": "stderr",
     "output_type": "stream",
     "text": [
      "Training: 100%|██████████| 42/42 [00:37<00:00,  1.13it/s]\n",
      "Evaluating: 100%|██████████| 76/76 [00:10<00:00,  7.35it/s]\n"
     ]
    },
    {
     "name": "stdout",
     "output_type": "stream",
     "text": [
      "Training Loss = 0.0108311, Training Accuracy = 99.736\n",
      "Testing Loss = 0.0135107, Testing Accuracy = 99.205\n",
      "**************************************************\n",
      "\n",
      "Epoch 29\n"
     ]
    },
    {
     "name": "stderr",
     "output_type": "stream",
     "text": [
      "Training: 100%|██████████| 42/42 [00:37<00:00,  1.12it/s]\n",
      "Evaluating: 100%|██████████| 76/76 [00:10<00:00,  7.35it/s]\n"
     ]
    },
    {
     "name": "stdout",
     "output_type": "stream",
     "text": [
      "Training Loss = 0.0128886, Training Accuracy = 99.622\n",
      "Testing Loss = 0.0195633, Testing Accuracy = 99.205\n",
      "**************************************************\n",
      "\n",
      "Epoch 30\n"
     ]
    },
    {
     "name": "stderr",
     "output_type": "stream",
     "text": [
      "Training: 100%|██████████| 42/42 [00:36<00:00,  1.14it/s]\n",
      "Evaluating: 100%|██████████| 76/76 [00:10<00:00,  7.41it/s]\n"
     ]
    },
    {
     "name": "stdout",
     "output_type": "stream",
     "text": [
      "Training Loss = 0.0122249, Training Accuracy = 99.660\n",
      "Testing Loss = 0.0111861, Testing Accuracy = 99.735\n",
      "**************************************************\n",
      "\n",
      "Epoch 31\n"
     ]
    },
    {
     "name": "stderr",
     "output_type": "stream",
     "text": [
      "Training: 100%|██████████| 42/42 [00:36<00:00,  1.14it/s]\n",
      "Evaluating: 100%|██████████| 76/76 [00:10<00:00,  7.56it/s]\n"
     ]
    },
    {
     "name": "stdout",
     "output_type": "stream",
     "text": [
      "Training Loss = 0.0099364, Training Accuracy = 99.698\n",
      "Testing Loss = 0.0087474, Testing Accuracy = 99.735\n",
      "**************************************************\n",
      "\n",
      "Epoch 32\n"
     ]
    },
    {
     "name": "stderr",
     "output_type": "stream",
     "text": [
      "Training: 100%|██████████| 42/42 [00:36<00:00,  1.14it/s]\n",
      "Evaluating: 100%|██████████| 76/76 [00:10<00:00,  7.51it/s]\n"
     ]
    },
    {
     "name": "stdout",
     "output_type": "stream",
     "text": [
      "Training Loss = 0.0124740, Training Accuracy = 99.584\n",
      "Testing Loss = 0.0094632, Testing Accuracy = 99.735\n",
      "**************************************************\n",
      "\n",
      "Epoch 33\n"
     ]
    },
    {
     "name": "stderr",
     "output_type": "stream",
     "text": [
      "Training: 100%|██████████| 42/42 [00:36<00:00,  1.14it/s]\n",
      "Evaluating: 100%|██████████| 76/76 [00:10<00:00,  7.52it/s]\n"
     ]
    },
    {
     "name": "stdout",
     "output_type": "stream",
     "text": [
      "Training Loss = 0.0112082, Training Accuracy = 99.660\n",
      "Testing Loss = 0.0116778, Testing Accuracy = 99.603\n",
      "**************************************************\n",
      "\n",
      "Epoch 34\n"
     ]
    },
    {
     "name": "stderr",
     "output_type": "stream",
     "text": [
      "Training: 100%|██████████| 42/42 [00:36<00:00,  1.15it/s]\n",
      "Evaluating: 100%|██████████| 76/76 [00:10<00:00,  7.43it/s]\n"
     ]
    },
    {
     "name": "stdout",
     "output_type": "stream",
     "text": [
      "Training Loss = 0.0129541, Training Accuracy = 99.471\n",
      "Testing Loss = 0.0075663, Testing Accuracy = 99.735\n",
      "**************************************************\n",
      "\n",
      "Epoch 35\n"
     ]
    },
    {
     "name": "stderr",
     "output_type": "stream",
     "text": [
      "Training: 100%|██████████| 42/42 [00:36<00:00,  1.15it/s]\n",
      "Evaluating: 100%|██████████| 76/76 [00:10<00:00,  7.33it/s]\n"
     ]
    },
    {
     "name": "stdout",
     "output_type": "stream",
     "text": [
      "Training Loss = 0.0098816, Training Accuracy = 99.622\n",
      "Testing Loss = 0.0090650, Testing Accuracy = 99.735\n",
      "**************************************************\n",
      "\n",
      "Epoch 36\n"
     ]
    },
    {
     "name": "stderr",
     "output_type": "stream",
     "text": [
      "Training: 100%|██████████| 42/42 [00:36<00:00,  1.15it/s]\n",
      "Evaluating: 100%|██████████| 76/76 [00:10<00:00,  7.48it/s]\n"
     ]
    },
    {
     "name": "stdout",
     "output_type": "stream",
     "text": [
      "Training Loss = 0.0104874, Training Accuracy = 99.736\n",
      "Testing Loss = 0.0087839, Testing Accuracy = 99.735\n",
      "**************************************************\n",
      "\n",
      "Epoch 37\n"
     ]
    },
    {
     "name": "stderr",
     "output_type": "stream",
     "text": [
      "Training: 100%|██████████| 42/42 [00:37<00:00,  1.13it/s]\n",
      "Evaluating: 100%|██████████| 76/76 [00:10<00:00,  7.46it/s]\n"
     ]
    },
    {
     "name": "stdout",
     "output_type": "stream",
     "text": [
      "Training Loss = 0.0081361, Training Accuracy = 99.736\n",
      "Testing Loss = 0.0080808, Testing Accuracy = 99.735\n",
      "**************************************************\n",
      "\n",
      "Epoch 38\n"
     ]
    },
    {
     "name": "stderr",
     "output_type": "stream",
     "text": [
      "Training: 100%|██████████| 42/42 [00:36<00:00,  1.14it/s]\n",
      "Evaluating: 100%|██████████| 76/76 [00:10<00:00,  7.41it/s]\n"
     ]
    },
    {
     "name": "stdout",
     "output_type": "stream",
     "text": [
      "Training Loss = 0.0093939, Training Accuracy = 99.622\n",
      "Testing Loss = 0.0086600, Testing Accuracy = 99.735\n",
      "**************************************************\n",
      "\n",
      "Epoch 39\n"
     ]
    },
    {
     "name": "stderr",
     "output_type": "stream",
     "text": [
      "Training: 100%|██████████| 42/42 [00:36<00:00,  1.14it/s]\n",
      "Evaluating: 100%|██████████| 76/76 [00:10<00:00,  7.43it/s]\n"
     ]
    },
    {
     "name": "stdout",
     "output_type": "stream",
     "text": [
      "Training Loss = 0.0085994, Training Accuracy = 99.660\n",
      "Testing Loss = 0.0086767, Testing Accuracy = 99.735\n",
      "**************************************************\n",
      "\n",
      "Epoch 40\n"
     ]
    },
    {
     "name": "stderr",
     "output_type": "stream",
     "text": [
      "Training: 100%|██████████| 42/42 [00:36<00:00,  1.15it/s]\n",
      "Evaluating: 100%|██████████| 76/76 [00:10<00:00,  7.54it/s]\n"
     ]
    },
    {
     "name": "stdout",
     "output_type": "stream",
     "text": [
      "Training Loss = 0.0106080, Training Accuracy = 99.622\n",
      "Testing Loss = 0.0085685, Testing Accuracy = 99.735\n",
      "**************************************************\n",
      "\n",
      "Epoch 41\n"
     ]
    },
    {
     "name": "stderr",
     "output_type": "stream",
     "text": [
      "Training: 100%|██████████| 42/42 [00:36<00:00,  1.14it/s]\n",
      "Evaluating: 100%|██████████| 76/76 [00:10<00:00,  7.33it/s]\n"
     ]
    },
    {
     "name": "stdout",
     "output_type": "stream",
     "text": [
      "Training Loss = 0.0081297, Training Accuracy = 99.698\n",
      "Testing Loss = 0.0097947, Testing Accuracy = 99.603\n",
      "**************************************************\n",
      "\n",
      "Epoch 42\n"
     ]
    },
    {
     "name": "stderr",
     "output_type": "stream",
     "text": [
      "Training: 100%|██████████| 42/42 [00:36<00:00,  1.14it/s]\n",
      "Evaluating: 100%|██████████| 76/76 [00:10<00:00,  7.43it/s]\n"
     ]
    },
    {
     "name": "stdout",
     "output_type": "stream",
     "text": [
      "Training Loss = 0.0096965, Training Accuracy = 99.660\n",
      "Testing Loss = 0.0079577, Testing Accuracy = 99.735\n",
      "**************************************************\n",
      "\n",
      "Epoch 43\n"
     ]
    },
    {
     "name": "stderr",
     "output_type": "stream",
     "text": [
      "Training: 100%|██████████| 42/42 [00:36<00:00,  1.15it/s]\n",
      "Evaluating: 100%|██████████| 76/76 [00:10<00:00,  7.25it/s]\n"
     ]
    },
    {
     "name": "stdout",
     "output_type": "stream",
     "text": [
      "Training Loss = 0.0098596, Training Accuracy = 99.736\n",
      "Testing Loss = 0.0099024, Testing Accuracy = 99.603\n",
      "**************************************************\n",
      "\n",
      "Epoch 44\n"
     ]
    },
    {
     "name": "stderr",
     "output_type": "stream",
     "text": [
      "Training: 100%|██████████| 42/42 [00:36<00:00,  1.16it/s]\n",
      "Evaluating: 100%|██████████| 76/76 [00:10<00:00,  7.41it/s]\n"
     ]
    },
    {
     "name": "stdout",
     "output_type": "stream",
     "text": [
      "Training Loss = 0.0084388, Training Accuracy = 99.773\n",
      "Testing Loss = 0.0086800, Testing Accuracy = 99.735\n",
      "**************************************************\n",
      "\n",
      "Epoch 45\n"
     ]
    },
    {
     "name": "stderr",
     "output_type": "stream",
     "text": [
      "Training: 100%|██████████| 42/42 [00:36<00:00,  1.14it/s]\n",
      "Evaluating: 100%|██████████| 76/76 [00:10<00:00,  7.27it/s]\n"
     ]
    },
    {
     "name": "stdout",
     "output_type": "stream",
     "text": [
      "Training Loss = 0.0090298, Training Accuracy = 99.736\n",
      "Testing Loss = 0.0081965, Testing Accuracy = 99.735\n",
      "**************************************************\n",
      "\n",
      "Epoch 46\n"
     ]
    },
    {
     "name": "stderr",
     "output_type": "stream",
     "text": [
      "Training: 100%|██████████| 42/42 [00:37<00:00,  1.13it/s]\n",
      "Evaluating: 100%|██████████| 76/76 [00:10<00:00,  7.32it/s]\n"
     ]
    },
    {
     "name": "stdout",
     "output_type": "stream",
     "text": [
      "Training Loss = 0.0106254, Training Accuracy = 99.660\n",
      "Testing Loss = 0.0081634, Testing Accuracy = 99.735\n",
      "**************************************************\n",
      "\n",
      "Epoch 47\n"
     ]
    },
    {
     "name": "stderr",
     "output_type": "stream",
     "text": [
      "Training: 100%|██████████| 42/42 [00:36<00:00,  1.14it/s]\n",
      "Evaluating: 100%|██████████| 76/76 [00:10<00:00,  7.23it/s]\n"
     ]
    },
    {
     "name": "stdout",
     "output_type": "stream",
     "text": [
      "Training Loss = 0.0077356, Training Accuracy = 99.773\n",
      "Testing Loss = 0.0082189, Testing Accuracy = 99.735\n",
      "**************************************************\n",
      "\n",
      "Epoch 48\n"
     ]
    },
    {
     "name": "stderr",
     "output_type": "stream",
     "text": [
      "Training: 100%|██████████| 42/42 [00:36<00:00,  1.15it/s]\n",
      "Evaluating: 100%|██████████| 76/76 [00:10<00:00,  7.45it/s]\n"
     ]
    },
    {
     "name": "stdout",
     "output_type": "stream",
     "text": [
      "Training Loss = 0.0069513, Training Accuracy = 99.849\n",
      "Testing Loss = 0.0080472, Testing Accuracy = 99.735\n",
      "**************************************************\n",
      "\n",
      "Epoch 49\n"
     ]
    },
    {
     "name": "stderr",
     "output_type": "stream",
     "text": [
      "Training: 100%|██████████| 42/42 [00:36<00:00,  1.15it/s]\n",
      "Evaluating: 100%|██████████| 76/76 [00:10<00:00,  7.36it/s]\n"
     ]
    },
    {
     "name": "stdout",
     "output_type": "stream",
     "text": [
      "Training Loss = 0.0076841, Training Accuracy = 99.811\n",
      "Testing Loss = 0.0089351, Testing Accuracy = 99.735\n",
      "**************************************************\n",
      "\n",
      "Epoch 50\n"
     ]
    },
    {
     "name": "stderr",
     "output_type": "stream",
     "text": [
      "Training: 100%|██████████| 42/42 [00:36<00:00,  1.14it/s]\n",
      "Evaluating: 100%|██████████| 76/76 [00:10<00:00,  7.47it/s]"
     ]
    },
    {
     "name": "stdout",
     "output_type": "stream",
     "text": [
      "Training Loss = 0.0077249, Training Accuracy = 99.811\n",
      "Testing Loss = 0.0082938, Testing Accuracy = 99.735\n",
      "**************************************************\n",
      "\n"
     ]
    },
    {
     "name": "stderr",
     "output_type": "stream",
     "text": [
      "\n"
     ]
    }
   ],
   "source": [
    "my_cnn = fit(model=model, train_dataloader=train_dl, val_dataloader=val_dl,\n",
    "            criterion=criterion, optimizer=optimizer, scheduler=scheduler,\n",
    "            epochs=50, experiment_name=\"my_cnn\")"
   ]
  },
  {
   "cell_type": "code",
   "execution_count": 22,
   "id": "1e430fd0",
   "metadata": {
    "execution": {
     "iopub.execute_input": "2025-08-08T12:14:26.941643Z",
     "iopub.status.busy": "2025-08-08T12:14:26.941334Z",
     "iopub.status.idle": "2025-08-08T12:14:27.557734Z",
     "shell.execute_reply": "2025-08-08T12:14:27.557038Z"
    },
    "id": "TAlLcIFdWZAw",
    "outputId": "626c6219-116e-4bdc-e128-7761652574f2",
    "papermill": {
     "duration": 1.079244,
     "end_time": "2025-08-08T12:14:27.560139",
     "exception": false,
     "start_time": "2025-08-08T12:14:26.480895",
     "status": "completed"
    },
    "tags": []
   },
   "outputs": [
    {
     "data": {
      "image/png": "[encoded data removed]",
      "text/plain": [
       "<Figure size 2000x500 with 3 Axes>"
      ]
     },
     "metadata": {},
     "output_type": "display_data"
    }
   ],
   "source": [
    "fig, ax = plt.subplots(1, 3, figsize=(20, 5), sharex=True)\n",
    "\n",
    "my_cnn.plot(ax=ax[0], y=[0, 2], style=[\"r\", \"b\"])\n",
    "my_cnn.plot(ax=ax[1], y=[1, 3], style=[\"r\", \"b\"])\n",
    "my_cnn.plot(ax=ax[2], y=[4], style=[\"b\"])\n",
    "\n",
    "for i in range(3):\n",
    "  ax[i].set_xlabel(\"Epochs\")\n",
    "  ax[i].grid(which=\"major\", axis=\"both\", color=\"g\", linestyle=\":\")\n",
    "\n",
    "ax[0].set_ylabel(\"Loss\")\n",
    "ax[1].set_ylabel(\"Accuracy (%)\")\n",
    "ax[2].set_ylabel(\"Learning Rate\")\n",
    "\n",
    "fig.suptitle('Custom CNN  Training Metrics', fontsize=16,)\n",
    "plt.show()"
   ]
  },
  {
   "cell_type": "markdown",
   "id": "d3659def",
   "metadata": {
    "id": "Kc4xQCD-hKsB",
    "papermill": {
     "duration": 0.533732,
     "end_time": "2025-08-08T12:14:28.553948",
     "exception": false,
     "start_time": "2025-08-08T12:14:28.020216",
     "status": "completed"
    },
    "tags": []
   },
   "source": [
    "# Transfer Learning"
   ]
  },
  {
   "cell_type": "code",
   "execution_count": 23,
   "id": "d9b61522",
   "metadata": {
    "execution": {
     "iopub.execute_input": "2025-08-08T12:14:29.549827Z",
     "iopub.status.busy": "2025-08-08T12:14:29.549512Z",
     "iopub.status.idle": "2025-08-08T12:14:31.282674Z",
     "shell.execute_reply": "2025-08-08T12:14:31.282010Z"
    },
    "id": "gCs2GNsehMIn",
    "outputId": "50824c2a-00ad-4215-e3a4-1216fbf98366",
    "papermill": {
     "duration": 2.272872,
     "end_time": "2025-08-08T12:14:31.284117",
     "exception": false,
     "start_time": "2025-08-08T12:14:29.011245",
     "status": "completed"
    },
    "tags": []
   },
   "outputs": [
    {
     "name": "stderr",
     "output_type": "stream",
     "text": [
      "/usr/local/lib/python3.11/dist-packages/torchvision/models/_utils.py:208: UserWarning: The parameter 'pretrained' is deprecated since 0.13 and may be removed in the future, please use 'weights' instead.\n",
      "  warnings.warn(\n",
      "/usr/local/lib/python3.11/dist-packages/torchvision/models/_utils.py:223: UserWarning: Arguments other than a weight enum or `None` for 'weights' are deprecated since 0.13 and may be removed in the future. The current behavior is equivalent to passing `weights=ResNet101_Weights.IMAGENET1K_V1`. You can also use `weights=ResNet101_Weights.DEFAULT` to get the most up-to-date weights.\n",
      "  warnings.warn(msg)\n",
      "Downloading: \"https://download.pytorch.org/models/resnet101-63fe2227.pth\" to /root/.cache/torch/hub/checkpoints/resnet101-63fe2227.pth\n",
      "100%|██████████| 171M/171M [00:00<00:00, 225MB/s]\n"
     ]
    }
   ],
   "source": [
    "model = models.resnet101(pretrained=True)"
   ]
  },
  {
   "cell_type": "code",
   "execution_count": 24,
   "id": "722ae370",
   "metadata": {
    "execution": {
     "iopub.execute_input": "2025-08-08T12:14:32.283273Z",
     "iopub.status.busy": "2025-08-08T12:14:32.282986Z",
     "iopub.status.idle": "2025-08-08T12:14:32.288445Z",
     "shell.execute_reply": "2025-08-08T12:14:32.287895Z"
    },
    "id": "ExahXDvDhWJN",
    "papermill": {
     "duration": 0.549624,
     "end_time": "2025-08-08T12:14:32.289460",
     "exception": false,
     "start_time": "2025-08-08T12:14:31.739836",
     "status": "completed"
    },
    "tags": []
   },
   "outputs": [],
   "source": [
    "model.eval()\n",
    "\n",
    "for params in model.parameters():\n",
    "  params.requires_grad = False"
   ]
  },
  {
   "cell_type": "code",
   "execution_count": 25,
   "id": "8c4d300f",
   "metadata": {
    "execution": {
     "iopub.execute_input": "2025-08-08T12:14:33.238027Z",
     "iopub.status.busy": "2025-08-08T12:14:33.237745Z",
     "iopub.status.idle": "2025-08-08T12:14:33.241921Z",
     "shell.execute_reply": "2025-08-08T12:14:33.241402Z"
    },
    "id": "c7eSD57QiFck",
    "papermill": {
     "duration": 0.492898,
     "end_time": "2025-08-08T12:14:33.243059",
     "exception": false,
     "start_time": "2025-08-08T12:14:32.750161",
     "status": "completed"
    },
    "tags": []
   },
   "outputs": [],
   "source": [
    "num_ftrs = model.fc.in_features\n",
    "\n",
    "model.fc = nn.Linear(num_ftrs, 3)"
   ]
  },
  {
   "cell_type": "code",
   "execution_count": 26,
   "id": "b2efcf86",
   "metadata": {
    "execution": {
     "iopub.execute_input": "2025-08-08T12:14:34.249357Z",
     "iopub.status.busy": "2025-08-08T12:14:34.249073Z",
     "iopub.status.idle": "2025-08-08T12:14:34.319542Z",
     "shell.execute_reply": "2025-08-08T12:14:34.318761Z"
    },
    "id": "3RArg5hCiQEg",
    "papermill": {
     "duration": 0.540959,
     "end_time": "2025-08-08T12:14:34.321146",
     "exception": false,
     "start_time": "2025-08-08T12:14:33.780187",
     "status": "completed"
    },
    "tags": []
   },
   "outputs": [],
   "source": [
    "model = model.cuda()\n",
    "\n",
    "criterion=nn.CrossEntropyLoss(reduction=\"sum\")\n",
    "optimizer = torch.optim.Adam(model.parameters(), lr=lr)\n",
    "\n",
    "scheduler = lr_scheduler.ReduceLROnPlateau(optimizer=optimizer, mode=\"min\", patience=5, factor=0.1)"
   ]
  },
  {
   "cell_type": "code",
   "execution_count": 27,
   "id": "204c653c",
   "metadata": {
    "execution": {
     "iopub.execute_input": "2025-08-08T12:14:35.342201Z",
     "iopub.status.busy": "2025-08-08T12:14:35.341931Z",
     "iopub.status.idle": "2025-08-08T12:21:57.079326Z",
     "shell.execute_reply": "2025-08-08T12:21:57.078419Z"
    },
    "id": "nLMBggA7iWef",
    "outputId": "30d92565-5917-4930-cd01-580e19032f7e",
    "papermill": {
     "duration": 442.209787,
     "end_time": "2025-08-08T12:21:57.080756",
     "exception": false,
     "start_time": "2025-08-08T12:14:34.870969",
     "status": "completed"
    },
    "tags": []
   },
   "outputs": [
    {
     "name": "stdout",
     "output_type": "stream",
     "text": [
      "Epoch 1\n"
     ]
    },
    {
     "name": "stderr",
     "output_type": "stream",
     "text": [
      "Training: 100%|██████████| 42/42 [00:33<00:00,  1.24it/s]\n",
      "Evaluating: 100%|██████████| 76/76 [00:10<00:00,  7.36it/s]\n"
     ]
    },
    {
     "name": "stdout",
     "output_type": "stream",
     "text": [
      "Training Loss = 0.6446546, Training Accuracy = 75.633\n",
      "Testing Loss = 0.2687984, Testing Accuracy = 93.775\n",
      "New best accuracy: 93.775 at epoch 1\n",
      "**************************************************\n",
      "\n",
      "Epoch 2\n"
     ]
    },
    {
     "name": "stderr",
     "output_type": "stream",
     "text": [
      "Training: 100%|██████████| 42/42 [00:33<00:00,  1.24it/s]\n",
      "Evaluating: 100%|██████████| 76/76 [00:09<00:00,  7.72it/s]\n"
     ]
    },
    {
     "name": "stdout",
     "output_type": "stream",
     "text": [
      "Training Loss = 0.1798296, Training Accuracy = 96.147\n",
      "Testing Loss = 0.1536995, Testing Accuracy = 96.026\n",
      "New best accuracy: 96.026 at epoch 2\n",
      "**************************************************\n",
      "\n",
      "Epoch 3\n"
     ]
    },
    {
     "name": "stderr",
     "output_type": "stream",
     "text": [
      "Training: 100%|██████████| 42/42 [00:33<00:00,  1.26it/s]\n",
      "Evaluating: 100%|██████████| 76/76 [00:09<00:00,  7.61it/s]\n"
     ]
    },
    {
     "name": "stdout",
     "output_type": "stream",
     "text": [
      "Training Loss = 0.1114396, Training Accuracy = 97.355\n",
      "Testing Loss = 0.1004749, Testing Accuracy = 97.483\n",
      "New best accuracy: 97.483 at epoch 3\n",
      "**************************************************\n",
      "\n",
      "Epoch 4\n"
     ]
    },
    {
     "name": "stderr",
     "output_type": "stream",
     "text": [
      "Training: 100%|██████████| 42/42 [00:33<00:00,  1.26it/s]\n",
      "Evaluating: 100%|██████████| 76/76 [00:09<00:00,  7.72it/s]\n"
     ]
    },
    {
     "name": "stdout",
     "output_type": "stream",
     "text": [
      "Training Loss = 0.0905432, Training Accuracy = 97.620\n",
      "Testing Loss = 0.0744979, Testing Accuracy = 98.411\n",
      "New best accuracy: 98.411 at epoch 4\n",
      "**************************************************\n",
      "\n",
      "Epoch 5\n"
     ]
    },
    {
     "name": "stderr",
     "output_type": "stream",
     "text": [
      "Training: 100%|██████████| 42/42 [00:34<00:00,  1.22it/s]\n",
      "Evaluating: 100%|██████████| 76/76 [00:09<00:00,  7.72it/s]\n"
     ]
    },
    {
     "name": "stdout",
     "output_type": "stream",
     "text": [
      "Training Loss = 0.0816676, Training Accuracy = 97.582\n",
      "Testing Loss = 0.0538462, Testing Accuracy = 99.073\n",
      "New best accuracy: 99.073 at epoch 5\n",
      "**************************************************\n",
      "\n",
      "Epoch 6\n"
     ]
    },
    {
     "name": "stderr",
     "output_type": "stream",
     "text": [
      "Training: 100%|██████████| 42/42 [00:33<00:00,  1.24it/s]\n",
      "Evaluating: 100%|██████████| 76/76 [00:10<00:00,  7.34it/s]\n"
     ]
    },
    {
     "name": "stdout",
     "output_type": "stream",
     "text": [
      "Training Loss = 0.0675994, Training Accuracy = 98.262\n",
      "Testing Loss = 0.0402455, Testing Accuracy = 99.470\n",
      "New best accuracy: 99.470 at epoch 6\n",
      "**************************************************\n",
      "\n",
      "Epoch 7\n"
     ]
    },
    {
     "name": "stderr",
     "output_type": "stream",
     "text": [
      "Training: 100%|██████████| 42/42 [00:34<00:00,  1.22it/s]\n",
      "Evaluating: 100%|██████████| 76/76 [00:10<00:00,  7.30it/s]\n"
     ]
    },
    {
     "name": "stdout",
     "output_type": "stream",
     "text": [
      "Training Loss = 0.0584839, Training Accuracy = 98.111\n",
      "Testing Loss = 0.0399064, Testing Accuracy = 99.338\n",
      "**************************************************\n",
      "\n",
      "Epoch 8\n"
     ]
    },
    {
     "name": "stderr",
     "output_type": "stream",
     "text": [
      "Training: 100%|██████████| 42/42 [00:33<00:00,  1.24it/s]\n",
      "Evaluating: 100%|██████████| 76/76 [00:09<00:00,  7.71it/s]\n"
     ]
    },
    {
     "name": "stdout",
     "output_type": "stream",
     "text": [
      "Training Loss = 0.0555988, Training Accuracy = 98.300\n",
      "Testing Loss = 0.0364370, Testing Accuracy = 99.338\n",
      "**************************************************\n",
      "\n",
      "Epoch 9\n"
     ]
    },
    {
     "name": "stderr",
     "output_type": "stream",
     "text": [
      "Training: 100%|██████████| 42/42 [00:33<00:00,  1.24it/s]\n",
      "Evaluating: 100%|██████████| 76/76 [00:09<00:00,  7.74it/s]\n"
     ]
    },
    {
     "name": "stdout",
     "output_type": "stream",
     "text": [
      "Training Loss = 0.0512197, Training Accuracy = 98.451\n",
      "Testing Loss = 0.0302233, Testing Accuracy = 99.603\n",
      "New best accuracy: 99.603 at epoch 9\n",
      "**************************************************\n",
      "\n",
      "Epoch 10\n"
     ]
    },
    {
     "name": "stderr",
     "output_type": "stream",
     "text": [
      "Training: 100%|██████████| 42/42 [00:33<00:00,  1.24it/s]\n",
      "Evaluating: 100%|██████████| 76/76 [00:10<00:00,  7.60it/s]"
     ]
    },
    {
     "name": "stdout",
     "output_type": "stream",
     "text": [
      "Training Loss = 0.0466510, Training Accuracy = 98.716\n",
      "Testing Loss = 0.0316997, Testing Accuracy = 99.470\n",
      "**************************************************\n",
      "\n"
     ]
    },
    {
     "name": "stderr",
     "output_type": "stream",
     "text": [
      "\n"
     ]
    }
   ],
   "source": [
    "transfer_df = fit(model=model, train_dataloader=train_dl, val_dataloader=val_dl,\n",
    "            criterion=criterion, optimizer=optimizer, scheduler=scheduler,\n",
    "            epochs=10, experiment_name=\"tranfer\")"
   ]
  },
  {
   "cell_type": "code",
   "execution_count": 28,
   "id": "186a0a3d",
   "metadata": {
    "execution": {
     "iopub.execute_input": "2025-08-08T12:21:58.189726Z",
     "iopub.status.busy": "2025-08-08T12:21:58.189424Z",
     "iopub.status.idle": "2025-08-08T12:21:58.599169Z",
     "shell.execute_reply": "2025-08-08T12:21:58.598346Z"
    },
    "id": "tN_GetzkideN",
    "papermill": {
     "duration": 1.006773,
     "end_time": "2025-08-08T12:21:58.600967",
     "exception": false,
     "start_time": "2025-08-08T12:21:57.594194",
     "status": "completed"
    },
    "tags": []
   },
   "outputs": [
    {
     "data": {
      "image/png": "[encoded data removed]",
      "text/plain": [
       "<Figure size 2000x500 with 3 Axes>"
      ]
     },
     "metadata": {},
     "output_type": "display_data"
    }
   ],
   "source": [
    "fig, ax = plt.subplots(1, 3, figsize=(20, 5), sharex=True)\n",
    "\n",
    "transfer_df.plot(ax=ax[0], y=[0, 2], style=[\"r\", \"b\"])\n",
    "transfer_df.plot(ax=ax[1], y=[1, 3], style=[\"r\", \"b\"])\n",
    "transfer_df.plot(ax=ax[2], y=[4], style=[\"b\"])\n",
    "\n",
    "for i in range(3):\n",
    "  ax[i].set_xlabel(\"Epochs\")\n",
    "  ax[i].grid(which=\"major\", axis=\"both\", color=\"g\", linestyle=\":\")\n",
    "\n",
    "ax[0].set_ylabel(\"Loss\")\n",
    "ax[1].set_ylabel(\"Accuracy (%)\")\n",
    "ax[2].set_ylabel(\"Learning Rate\")\n",
    "\n",
    "fig.suptitle('Custom CNN  Training Metrics', fontsize=16,)\n",
    "plt.show()"
   ]
  }
 ],
 "metadata": {
  "accelerator": "GPU",
  "colab": {
   "authorship_tag": "ABX9TyPNE/yT2CGIj8CDFF/Qdmyt",
   "gpuType": "T4",
   "include_colab_link": true,
   "provenance": []
  },
  "kaggle": {
   "accelerator": "gpu",
   "dataSources": [
    {
     "datasetId": 6003511,
     "sourceId": 9797363,
     "sourceType": "datasetVersion"
    }
   ],
   "dockerImageVersionId": 31090,
   "isGpuEnabled": true,
   "isInternetEnabled": true,
   "language": "python",
   "sourceType": "notebook"
  },
  "kernelspec": {
   "display_name": "Python 3",
   "language": "python",
   "name": "python3"
  },
  "language_info": {
   "codemirror_mode": {
    "name": "ipython",
    "version": 3
   },
   "file_extension": ".py",
   "mimetype": "text/x-python",
   "name": "python",
   "nbconvert_exporter": "python",
   "pygments_lexer": "ipython3",
   "version": "3.11.13"
  },
  "papermill": {
   "default_parameters": {},
   "duration": 4635.160993,
   "end_time": "2025-08-08T12:22:02.105812",
   "environment_variables": {},
   "exception": null,
   "input_path": "__notebook__.ipynb",
   "output_path": "__notebook__.ipynb",
   "parameters": {},
   "start_time": "2025-08-08T11:04:46.944819",
   "version": "2.6.0"
  }
 },
 "nbformat": 4,
 "nbformat_minor": 5
}
