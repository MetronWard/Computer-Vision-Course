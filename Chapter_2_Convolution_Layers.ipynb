{
  "nbformat": 4,
  "nbformat_minor": 0,
  "metadata": {
    "colab": {
      "provenance": [],
      "toc_visible": true,
      "gpuType": "T4",
      "authorship_tag": "ABX9TyPNE/yT2CGIj8CDFF/Qdmyt",
      "include_colab_link": true
    },
    "kernelspec": {
      "name": "python3",
      "display_name": "Python 3"
    },
    "language_info": {
      "name": "python"
    },
    "accelerator": "GPU"
  },
  "cells": [
    {
      "cell_type": "markdown",
      "metadata": {
        "id": "view-in-github",
        "colab_type": "text"
      },
      "source": [
        "<a href=\"https://colab.research.google.com/github/MetronWard/Computer-Vision-Course/blob/main/Chapter_2_Convolution_Layers.ipynb\" target=\"_parent\"><img src=\"https://colab.research.google.com/assets/colab-badge.svg\" alt=\"Open In Colab\"/></a>"
      ]
    },
    {
      "cell_type": "code",
      "source": [
        "import torch\n",
        "import torch.nn as nn\n",
        "import torch.optim.lr_scheduler as lr_scheduler\n",
        "from torch.utils.data import Dataset, DataLoader\n",
        "import torch.optim as optim\n",
        "\n",
        "import torchvision\n",
        "from torchvision import models\n",
        "import torchvision.transforms as T\n",
        "from torchvision.datasets import ImageFolder\n",
        "\n",
        "from sklearn.metrics import precision_score, recall_score, f1_score, confusion_matrix, ConfusionMatrixDisplay\n",
        "\n",
        "import pandas as pd\n",
        "import numpy as np\n",
        "import matplotlib.pyplot as plt\n",
        "\n",
        "from tqdm import tqdm"
      ],
      "metadata": {
        "id": "i4EgU0ZXzBtt"
      },
      "execution_count": 24,
      "outputs": []
    },
    {
      "cell_type": "markdown",
      "source": [
        "# Download Dataset"
      ],
      "metadata": {
        "id": "HKghd_8pys-7"
      }
    },
    {
      "cell_type": "code",
      "execution_count": 10,
      "metadata": {
        "colab": {
          "base_uri": "https://localhost:8080/"
        },
        "id": "9evBQ1CqxIhR",
        "outputId": "d212f6db-9ea2-478d-8946-1916bac0f7a0"
      },
      "outputs": [
        {
          "output_type": "stream",
          "name": "stdout",
          "text": [
            "Path to dataset files: /kaggle/input/guava-disease-dataset\n"
          ]
        }
      ],
      "source": [
        "import kagglehub\n",
        "\n",
        "# Download latest version\n",
        "path = kagglehub.dataset_download(\"asadullahgalib/guava-disease-dataset\")\n",
        "\n",
        "print(\"Path to dataset files:\", path)"
      ]
    },
    {
      "cell_type": "code",
      "source": [
        "ds_folder = path+\"/GuavaDiseaseDataset/GuavaDiseaseDataset/\""
      ],
      "metadata": {
        "id": "7scBp9Jyz8yW"
      },
      "execution_count": 11,
      "outputs": []
    },
    {
      "cell_type": "code",
      "source": [
        "img_size = (224, 224)\n",
        "img_channels = 3\n",
        "batch_size = 64\n",
        "lr = 1e-3"
      ],
      "metadata": {
        "id": "cXY_pL2dy6oC"
      },
      "execution_count": 12,
      "outputs": []
    },
    {
      "cell_type": "markdown",
      "source": [
        "# Datasets and DataLoaders"
      ],
      "metadata": {
        "id": "Y1vc_Uw7y2ru"
      }
    },
    {
      "cell_type": "code",
      "source": [
        "train_dataset = ImageFolder(root=ds_folder + \"train/\",\n",
        "                            transform=T.Compose([\n",
        "                                T.Resize(img_size),\n",
        "                                T.RandomHorizontalFlip(0.5),\n",
        "                                T.RandomVerticalFlip(0.5),\n",
        "                                T.ToTensor(),\n",
        "                                T.Normalize([0.5]*3, [0.5]*3)]),\n",
        "                            )"
      ],
      "metadata": {
        "id": "FKS1BtPFz6w8"
      },
      "execution_count": 13,
      "outputs": []
    },
    {
      "cell_type": "code",
      "source": [
        "test_dataset = ImageFolder(root=ds_folder + \"test/\",\n",
        "                            transform=T.Compose([\n",
        "                                T.Resize(img_size),\n",
        "                                T.ToTensor(),\n",
        "                                T.Normalize([0.5]*3, [0.5]*3)]),\n",
        "                            )"
      ],
      "metadata": {
        "id": "HbqBHJBl0-sa"
      },
      "execution_count": 14,
      "outputs": []
    },
    {
      "cell_type": "code",
      "source": [
        "val_dataset = ImageFolder(root=ds_folder + \"val/\",\n",
        "                            transform=T.Compose([\n",
        "                                T.Resize(img_size),\n",
        "                                T.ToTensor(),\n",
        "                                T.Normalize([0.5]*3, [0.5]*3)]),\n",
        "                            )"
      ],
      "metadata": {
        "id": "Aa-blkKk1J_g"
      },
      "execution_count": 15,
      "outputs": []
    },
    {
      "cell_type": "code",
      "source": [
        "train_dl = DataLoader(train_dataset, batch_size=batch_size, shuffle=True)\n",
        "test_dl = DataLoader(test_dataset, batch_size=batch_size, shuffle=False)\n",
        "val_dl = DataLoader(val_dataset, batch_size=batch_size, shuffle=False)"
      ],
      "metadata": {
        "id": "pEjSHbd01N4z"
      },
      "execution_count": 16,
      "outputs": []
    },
    {
      "cell_type": "markdown",
      "source": [
        "# Training Functins"
      ],
      "metadata": {
        "id": "EXvnokzw12WD"
      }
    },
    {
      "cell_type": "code",
      "source": [
        "def train_step(model, data_loader, criterion, optimizer, scheduler):\n",
        "\n",
        "  n_samples = len(data_loader.dataset)\n",
        "\n",
        "  progress_bar = tqdm(data_loader, desc=\"Training\")\n",
        "  total_loss = 0.0\n",
        "  total_correct = 0.0\n",
        "\n",
        "  model.train()\n",
        "\n",
        "  for image, label in progress_bar:\n",
        "    images, labels = image.cuda(), label.cuda()\n",
        "\n",
        "    optimizer.zero_grad()\n",
        "\n",
        "    predictions = model(images)\n",
        "    predicted_classes = torch.argmax(predictions, dim=1)\n",
        "    correct_classes = torch.sum(predicted_classes == labels)\n",
        "    loss = criterion(predictions, labels)\n",
        "\n",
        "    total_correct += correct_classes.item()\n",
        "    total_loss += loss.item()\n",
        "\n",
        "    loss.backward()\n",
        "    optimizer.step()\n",
        "  scheduler.step(loss.item())\n",
        "\n",
        "  return total_loss/n_samples, 100 * (total_correct/n_samples)"
      ],
      "metadata": {
        "id": "PLpmcbBK15vq"
      },
      "execution_count": 17,
      "outputs": []
    },
    {
      "cell_type": "code",
      "source": [
        "def evaluate(model, data_loader, criterion):\n",
        "\n",
        "  model.eval()\n",
        "\n",
        "  n_samples = len(data_loader.dataset)\n",
        "\n",
        "  progress_bar = tqdm(data_loader, desc=\"Evaluating\")\n",
        "  total_loss = 0.0\n",
        "  total_correct = 0.0\n",
        "\n",
        "  with torch.no_grad():\n",
        "\n",
        "    for image, label in progress_bar:\n",
        "      images, labels = image.cuda(), label.cuda()\n",
        "\n",
        "      predictions = model(images)\n",
        "      predicted_classes = torch.argmax(predictions, dim=1)\n",
        "      correct_classes = torch.sum(predicted_classes == labels)\n",
        "      loss = criterion(predictions, labels)\n",
        "\n",
        "      total_correct += correct_classes.item()\n",
        "      total_loss += loss.item()\n",
        "\n",
        "  return total_loss/n_samples, 100 * (total_correct/n_samples)"
      ],
      "metadata": {
        "id": "54XJyd_76gW4"
      },
      "execution_count": 18,
      "outputs": []
    },
    {
      "cell_type": "code",
      "source": [
        "def fit(model, train_dataloader, val_dataloader, criterion, optimizer, scheduler, epochs, experiment_name):\n",
        "\n",
        "  df = pd.DataFrame(np.empty([epochs, 5]),\n",
        "                    index=np.arange(epochs),\n",
        "                    columns=[\"Train_Loss\", \"Train_Acc\", \"Val_Loss\", \"Val_Acc\", \"lr\"])\n",
        "\n",
        "  highest_acc = 0.00\n",
        "\n",
        "  for epoch in range(epochs):\n",
        "    print(f\"Epoch {epoch+1}\")\n",
        "\n",
        "    df.iloc[epoch, 0], df.iloc[epoch, 1] = train_step(model=model, data_loader=train_dataloader,\n",
        "                                            criterion=criterion, optimizer=optimizer,\n",
        "                                            scheduler=scheduler)\n",
        "\n",
        "    df.iloc[epoch, 2], df.iloc[epoch, 3] = evaluate(model=model, data_loader=val_dataloader,\n",
        "                                            criterion=criterion)\n",
        "\n",
        "    df.iloc[epoch, 4] = optimizer.param_groups[0][\"lr\"]\n",
        "\n",
        "    print(f\"Training Loss = {df.iloc[epoch, 0]:.7f}, Training Accuracy = {df.iloc[epoch, 1]:.3f}\\nTesting Loss = {df.iloc[epoch, 2]:.7f}, Testing Accuracy = {df.iloc[epoch, 3]:.3f}\")\n",
        "\n",
        "\n",
        "    if df.iloc[epoch, 3] > highest_acc:\n",
        "      torch.save(model.state_dict(), f\"{experiment_name}.pth\")\n",
        "      highest_acc = df.iloc[epoch, 3]\n",
        "      print(f\"New best accuracy: {highest_acc:.3f} at epoch {epoch+1}\")\n",
        "\n",
        "    print(\"*\"*50)\n",
        "    print(\"\")\n",
        "\n",
        "  return df"
      ],
      "metadata": {
        "id": "1j7Q1jSS7jZy"
      },
      "execution_count": 19,
      "outputs": []
    },
    {
      "cell_type": "markdown",
      "source": [
        "# FC Neural Network"
      ],
      "metadata": {
        "id": "tTezZovI-vLs"
      }
    },
    {
      "cell_type": "code",
      "source": [
        "class FC_Model(nn.Module):\n",
        "  def __init__(self, skeleton:list, num_classes):\n",
        "    super().__init__()\n",
        "    layer_list = []\n",
        "    for i in range(len(skeleton) -1):\n",
        "      layer_list.append(nn.Linear(skeleton[i], skeleton[i+1]))\n",
        "      layer_list.append(nn.BatchNorm1d(skeleton[i+1]))\n",
        "      layer_list.append(nn.Dropout1d(0.5))\n",
        "      layer_list.append(nn.ReLU())\n",
        "    layer_list.append(nn.Linear(skeleton[-1], num_classes))\n",
        "    self.model = nn.Sequential(*layer_list)\n",
        "\n",
        "  def forward(self, images):\n",
        "    inputs = images.view(images.shape[0], -1)\n",
        "    output = self.model(inputs)\n",
        "    return output"
      ],
      "metadata": {
        "id": "6fiFsd15_VwJ"
      },
      "execution_count": 20,
      "outputs": []
    },
    {
      "cell_type": "code",
      "source": [
        "model = FC_Model(skeleton=[img_size[0]*img_size[1]*3, 500, 300, 200, 100, 50, 20], num_classes=3).cuda()"
      ],
      "metadata": {
        "id": "MZ82ZHpvAmU1"
      },
      "execution_count": 21,
      "outputs": []
    },
    {
      "cell_type": "code",
      "source": [
        "criterion = nn.CrossEntropyLoss()\n",
        "optimizer = optim.Adam(model.parameters(), lr=lr)\n",
        "scheduler = lr_scheduler.ReduceLROnPlateau(optimizer=optimizer, mode=\"min\", patience=5, factor=0.1)"
      ],
      "metadata": {
        "id": "VBSuN6ug-1qJ"
      },
      "execution_count": 22,
      "outputs": []
    },
    {
      "cell_type": "code",
      "source": [
        "fc_df = fit(model=model, train_dataloader=train_dl, val_dataloader=val_dl,\n",
        "            criterion=criterion, optimizer=optimizer, scheduler=scheduler,\n",
        "            epochs=50, experiment_name=\"fully_connected\")"
      ],
      "metadata": {
        "colab": {
          "base_uri": "https://localhost:8080/"
        },
        "id": "qE-E0nCWBGPl",
        "outputId": "29d182df-9d8c-4ff0-df63-314a7823a6c6"
      },
      "execution_count": 23,
      "outputs": [
        {
          "output_type": "stream",
          "name": "stdout",
          "text": [
            "Epoch 1\n"
          ]
        },
        {
          "output_type": "stream",
          "name": "stderr",
          "text": [
            "Training: 100%|██████████| 42/42 [00:43<00:00,  1.04s/it]\n",
            "Evaluating: 100%|██████████| 12/12 [00:12<00:00,  1.01s/it]\n"
          ]
        },
        {
          "output_type": "stream",
          "name": "stdout",
          "text": [
            "Training Loss = 0.0175684, Training Accuracy = 0.394\n",
            "Testing Loss = 0.0172934, Testing Accuracy = 0.408\n",
            "New best accuracy: 0.408 at epoch 1\n",
            "**************************************************\n",
            "\n",
            "Epoch 2\n"
          ]
        },
        {
          "output_type": "stream",
          "name": "stderr",
          "text": [
            "Training: 100%|██████████| 42/42 [00:29<00:00,  1.45it/s]\n",
            "Evaluating: 100%|██████████| 12/12 [00:08<00:00,  1.45it/s]\n"
          ]
        },
        {
          "output_type": "stream",
          "name": "stdout",
          "text": [
            "Training Loss = 0.0173521, Training Accuracy = 0.391\n",
            "Testing Loss = 0.0172660, Testing Accuracy = 0.409\n",
            "New best accuracy: 0.409 at epoch 2\n",
            "**************************************************\n",
            "\n",
            "Epoch 3\n"
          ]
        },
        {
          "output_type": "stream",
          "name": "stderr",
          "text": [
            "Training: 100%|██████████| 42/42 [00:29<00:00,  1.41it/s]\n",
            "Evaluating: 100%|██████████| 12/12 [00:07<00:00,  1.54it/s]\n"
          ]
        },
        {
          "output_type": "stream",
          "name": "stdout",
          "text": [
            "Training Loss = 0.0172791, Training Accuracy = 0.403\n",
            "Testing Loss = 0.0172593, Testing Accuracy = 0.405\n",
            "**************************************************\n",
            "\n",
            "Epoch 4\n"
          ]
        },
        {
          "output_type": "stream",
          "name": "stderr",
          "text": [
            "Training: 100%|██████████| 42/42 [00:29<00:00,  1.41it/s]\n",
            "Evaluating: 100%|██████████| 12/12 [00:07<00:00,  1.54it/s]\n"
          ]
        },
        {
          "output_type": "stream",
          "name": "stdout",
          "text": [
            "Training Loss = 0.0172285, Training Accuracy = 0.410\n",
            "Testing Loss = 0.0172088, Testing Accuracy = 0.408\n",
            "**************************************************\n",
            "\n",
            "Epoch 5\n"
          ]
        },
        {
          "output_type": "stream",
          "name": "stderr",
          "text": [
            "Training: 100%|██████████| 42/42 [00:29<00:00,  1.42it/s]\n",
            "Evaluating: 100%|██████████| 12/12 [00:07<00:00,  1.54it/s]\n"
          ]
        },
        {
          "output_type": "stream",
          "name": "stdout",
          "text": [
            "Training Loss = 0.0171759, Training Accuracy = 0.405\n",
            "Testing Loss = 0.0171383, Testing Accuracy = 0.409\n",
            "**************************************************\n",
            "\n",
            "Epoch 6\n"
          ]
        },
        {
          "output_type": "stream",
          "name": "stderr",
          "text": [
            "Training: 100%|██████████| 42/42 [00:29<00:00,  1.43it/s]\n",
            "Evaluating: 100%|██████████| 12/12 [00:08<00:00,  1.44it/s]\n"
          ]
        },
        {
          "output_type": "stream",
          "name": "stdout",
          "text": [
            "Training Loss = 0.0171230, Training Accuracy = 0.411\n",
            "Testing Loss = 0.0171988, Testing Accuracy = 0.408\n",
            "**************************************************\n",
            "\n",
            "Epoch 7\n"
          ]
        },
        {
          "output_type": "stream",
          "name": "stderr",
          "text": [
            "Training: 100%|██████████| 42/42 [00:28<00:00,  1.46it/s]\n",
            "Evaluating: 100%|██████████| 12/12 [00:08<00:00,  1.42it/s]\n"
          ]
        },
        {
          "output_type": "stream",
          "name": "stdout",
          "text": [
            "Training Loss = 0.0172361, Training Accuracy = 0.406\n",
            "Testing Loss = 0.0172117, Testing Accuracy = 0.408\n",
            "**************************************************\n",
            "\n",
            "Epoch 8\n"
          ]
        },
        {
          "output_type": "stream",
          "name": "stderr",
          "text": [
            "Training: 100%|██████████| 42/42 [00:28<00:00,  1.46it/s]\n",
            "Evaluating: 100%|██████████| 12/12 [00:08<00:00,  1.43it/s]\n"
          ]
        },
        {
          "output_type": "stream",
          "name": "stdout",
          "text": [
            "Training Loss = 0.0171031, Training Accuracy = 0.408\n",
            "Testing Loss = 0.0171875, Testing Accuracy = 0.411\n",
            "New best accuracy: 0.411 at epoch 8\n",
            "**************************************************\n",
            "\n",
            "Epoch 9\n"
          ]
        },
        {
          "output_type": "stream",
          "name": "stderr",
          "text": [
            "Training: 100%|██████████| 42/42 [00:29<00:00,  1.42it/s]\n",
            "Evaluating: 100%|██████████| 12/12 [00:07<00:00,  1.56it/s]\n"
          ]
        },
        {
          "output_type": "stream",
          "name": "stdout",
          "text": [
            "Training Loss = 0.0171374, Training Accuracy = 0.406\n",
            "Testing Loss = 0.0171821, Testing Accuracy = 0.409\n",
            "**************************************************\n",
            "\n",
            "Epoch 10\n"
          ]
        },
        {
          "output_type": "stream",
          "name": "stderr",
          "text": [
            "Training: 100%|██████████| 42/42 [00:29<00:00,  1.43it/s]\n",
            "Evaluating: 100%|██████████| 12/12 [00:07<00:00,  1.59it/s]\n"
          ]
        },
        {
          "output_type": "stream",
          "name": "stdout",
          "text": [
            "Training Loss = 0.0170456, Training Accuracy = 0.411\n",
            "Testing Loss = 0.0171794, Testing Accuracy = 0.412\n",
            "New best accuracy: 0.412 at epoch 10\n",
            "**************************************************\n",
            "\n",
            "Epoch 11\n"
          ]
        },
        {
          "output_type": "stream",
          "name": "stderr",
          "text": [
            "Training: 100%|██████████| 42/42 [00:28<00:00,  1.48it/s]\n",
            "Evaluating: 100%|██████████| 12/12 [00:08<00:00,  1.46it/s]\n"
          ]
        },
        {
          "output_type": "stream",
          "name": "stdout",
          "text": [
            "Training Loss = 0.0171894, Training Accuracy = 0.405\n",
            "Testing Loss = 0.0171924, Testing Accuracy = 0.411\n",
            "**************************************************\n",
            "\n",
            "Epoch 12\n"
          ]
        },
        {
          "output_type": "stream",
          "name": "stderr",
          "text": [
            "Training: 100%|██████████| 42/42 [00:28<00:00,  1.47it/s]\n",
            "Evaluating: 100%|██████████| 12/12 [00:08<00:00,  1.46it/s]\n"
          ]
        },
        {
          "output_type": "stream",
          "name": "stdout",
          "text": [
            "Training Loss = 0.0171119, Training Accuracy = 0.411\n",
            "Testing Loss = 0.0171410, Testing Accuracy = 0.417\n",
            "New best accuracy: 0.417 at epoch 12\n",
            "**************************************************\n",
            "\n",
            "Epoch 13\n"
          ]
        },
        {
          "output_type": "stream",
          "name": "stderr",
          "text": [
            "Training: 100%|██████████| 42/42 [00:28<00:00,  1.45it/s]\n",
            "Evaluating: 100%|██████████| 12/12 [00:07<00:00,  1.56it/s]\n"
          ]
        },
        {
          "output_type": "stream",
          "name": "stdout",
          "text": [
            "Training Loss = 0.0171004, Training Accuracy = 0.412\n",
            "Testing Loss = 0.0171935, Testing Accuracy = 0.408\n",
            "**************************************************\n",
            "\n",
            "Epoch 14\n"
          ]
        },
        {
          "output_type": "stream",
          "name": "stderr",
          "text": [
            "Training: 100%|██████████| 42/42 [00:29<00:00,  1.43it/s]\n",
            "Evaluating: 100%|██████████| 12/12 [00:07<00:00,  1.54it/s]\n"
          ]
        },
        {
          "output_type": "stream",
          "name": "stdout",
          "text": [
            "Training Loss = 0.0171063, Training Accuracy = 0.409\n",
            "Testing Loss = 0.0171802, Testing Accuracy = 0.412\n",
            "**************************************************\n",
            "\n",
            "Epoch 15\n"
          ]
        },
        {
          "output_type": "stream",
          "name": "stderr",
          "text": [
            "Training: 100%|██████████| 42/42 [00:29<00:00,  1.43it/s]\n",
            "Evaluating: 100%|██████████| 12/12 [00:08<00:00,  1.49it/s]\n"
          ]
        },
        {
          "output_type": "stream",
          "name": "stdout",
          "text": [
            "Training Loss = 0.0170983, Training Accuracy = 0.410\n",
            "Testing Loss = 0.0171587, Testing Accuracy = 0.416\n",
            "**************************************************\n",
            "\n",
            "Epoch 16\n"
          ]
        },
        {
          "output_type": "stream",
          "name": "stderr",
          "text": [
            "Training: 100%|██████████| 42/42 [00:28<00:00,  1.46it/s]\n",
            "Evaluating: 100%|██████████| 12/12 [00:08<00:00,  1.47it/s]\n"
          ]
        },
        {
          "output_type": "stream",
          "name": "stdout",
          "text": [
            "Training Loss = 0.0170826, Training Accuracy = 0.408\n",
            "Testing Loss = 0.0171707, Testing Accuracy = 0.411\n",
            "**************************************************\n",
            "\n",
            "Epoch 17\n"
          ]
        },
        {
          "output_type": "stream",
          "name": "stderr",
          "text": [
            "Training: 100%|██████████| 42/42 [00:28<00:00,  1.46it/s]\n",
            "Evaluating: 100%|██████████| 12/12 [00:08<00:00,  1.45it/s]\n"
          ]
        },
        {
          "output_type": "stream",
          "name": "stdout",
          "text": [
            "Training Loss = 0.0170948, Training Accuracy = 0.409\n",
            "Testing Loss = 0.0171832, Testing Accuracy = 0.408\n",
            "**************************************************\n",
            "\n",
            "Epoch 18\n"
          ]
        },
        {
          "output_type": "stream",
          "name": "stderr",
          "text": [
            "Training: 100%|██████████| 42/42 [00:28<00:00,  1.45it/s]\n",
            "Evaluating: 100%|██████████| 12/12 [00:08<00:00,  1.43it/s]\n"
          ]
        },
        {
          "output_type": "stream",
          "name": "stdout",
          "text": [
            "Training Loss = 0.0170806, Training Accuracy = 0.411\n",
            "Testing Loss = 0.0171564, Testing Accuracy = 0.413\n",
            "**************************************************\n",
            "\n",
            "Epoch 19\n"
          ]
        },
        {
          "output_type": "stream",
          "name": "stderr",
          "text": [
            "Training: 100%|██████████| 42/42 [00:28<00:00,  1.47it/s]\n",
            "Evaluating: 100%|██████████| 12/12 [00:08<00:00,  1.47it/s]\n"
          ]
        },
        {
          "output_type": "stream",
          "name": "stdout",
          "text": [
            "Training Loss = 0.0170859, Training Accuracy = 0.409\n",
            "Testing Loss = 0.0171753, Testing Accuracy = 0.411\n",
            "**************************************************\n",
            "\n",
            "Epoch 20\n"
          ]
        },
        {
          "output_type": "stream",
          "name": "stderr",
          "text": [
            "Training: 100%|██████████| 42/42 [00:28<00:00,  1.47it/s]\n",
            "Evaluating: 100%|██████████| 12/12 [00:08<00:00,  1.43it/s]\n"
          ]
        },
        {
          "output_type": "stream",
          "name": "stdout",
          "text": [
            "Training Loss = 0.0171393, Training Accuracy = 0.402\n",
            "Testing Loss = 0.0171796, Testing Accuracy = 0.409\n",
            "**************************************************\n",
            "\n",
            "Epoch 21\n"
          ]
        },
        {
          "output_type": "stream",
          "name": "stderr",
          "text": [
            "Training: 100%|██████████| 42/42 [00:28<00:00,  1.47it/s]\n",
            "Evaluating: 100%|██████████| 12/12 [00:08<00:00,  1.46it/s]\n"
          ]
        },
        {
          "output_type": "stream",
          "name": "stdout",
          "text": [
            "Training Loss = 0.0170773, Training Accuracy = 0.409\n",
            "Testing Loss = 0.0171726, Testing Accuracy = 0.413\n",
            "**************************************************\n",
            "\n",
            "Epoch 22\n"
          ]
        },
        {
          "output_type": "stream",
          "name": "stderr",
          "text": [
            "Training: 100%|██████████| 42/42 [00:28<00:00,  1.49it/s]\n",
            "Evaluating: 100%|██████████| 12/12 [00:08<00:00,  1.46it/s]\n"
          ]
        },
        {
          "output_type": "stream",
          "name": "stdout",
          "text": [
            "Training Loss = 0.0170895, Training Accuracy = 0.413\n",
            "Testing Loss = 0.0171561, Testing Accuracy = 0.419\n",
            "New best accuracy: 0.419 at epoch 22\n",
            "**************************************************\n",
            "\n",
            "Epoch 23\n"
          ]
        },
        {
          "output_type": "stream",
          "name": "stderr",
          "text": [
            "Training: 100%|██████████| 42/42 [00:29<00:00,  1.43it/s]\n",
            "Evaluating: 100%|██████████| 12/12 [00:07<00:00,  1.54it/s]\n"
          ]
        },
        {
          "output_type": "stream",
          "name": "stdout",
          "text": [
            "Training Loss = 0.0171259, Training Accuracy = 0.406\n",
            "Testing Loss = 0.0171525, Testing Accuracy = 0.415\n",
            "**************************************************\n",
            "\n",
            "Epoch 24\n"
          ]
        },
        {
          "output_type": "stream",
          "name": "stderr",
          "text": [
            "Training: 100%|██████████| 42/42 [00:29<00:00,  1.43it/s]\n",
            "Evaluating: 100%|██████████| 12/12 [00:07<00:00,  1.57it/s]\n"
          ]
        },
        {
          "output_type": "stream",
          "name": "stdout",
          "text": [
            "Training Loss = 0.0171525, Training Accuracy = 0.405\n",
            "Testing Loss = 0.0171749, Testing Accuracy = 0.409\n",
            "**************************************************\n",
            "\n",
            "Epoch 25\n"
          ]
        },
        {
          "output_type": "stream",
          "name": "stderr",
          "text": [
            "Training: 100%|██████████| 42/42 [00:29<00:00,  1.44it/s]\n",
            "Evaluating: 100%|██████████| 12/12 [00:07<00:00,  1.58it/s]\n"
          ]
        },
        {
          "output_type": "stream",
          "name": "stdout",
          "text": [
            "Training Loss = 0.0170708, Training Accuracy = 0.407\n",
            "Testing Loss = 0.0171577, Testing Accuracy = 0.411\n",
            "**************************************************\n",
            "\n",
            "Epoch 26\n"
          ]
        },
        {
          "output_type": "stream",
          "name": "stderr",
          "text": [
            "Training: 100%|██████████| 42/42 [00:28<00:00,  1.45it/s]\n",
            "Evaluating: 100%|██████████| 12/12 [00:07<00:00,  1.57it/s]\n"
          ]
        },
        {
          "output_type": "stream",
          "name": "stdout",
          "text": [
            "Training Loss = 0.0170731, Training Accuracy = 0.411\n",
            "Testing Loss = 0.0171801, Testing Accuracy = 0.408\n",
            "**************************************************\n",
            "\n",
            "Epoch 27\n"
          ]
        },
        {
          "output_type": "stream",
          "name": "stderr",
          "text": [
            "Training: 100%|██████████| 42/42 [00:29<00:00,  1.45it/s]\n",
            "Evaluating: 100%|██████████| 12/12 [00:07<00:00,  1.57it/s]\n"
          ]
        },
        {
          "output_type": "stream",
          "name": "stdout",
          "text": [
            "Training Loss = 0.0171080, Training Accuracy = 0.410\n",
            "Testing Loss = 0.0171728, Testing Accuracy = 0.411\n",
            "**************************************************\n",
            "\n",
            "Epoch 28\n"
          ]
        },
        {
          "output_type": "stream",
          "name": "stderr",
          "text": [
            "Training: 100%|██████████| 42/42 [00:29<00:00,  1.44it/s]\n",
            "Evaluating: 100%|██████████| 12/12 [00:07<00:00,  1.55it/s]\n"
          ]
        },
        {
          "output_type": "stream",
          "name": "stdout",
          "text": [
            "Training Loss = 0.0170897, Training Accuracy = 0.405\n",
            "Testing Loss = 0.0171744, Testing Accuracy = 0.411\n",
            "**************************************************\n",
            "\n",
            "Epoch 29\n"
          ]
        },
        {
          "output_type": "stream",
          "name": "stderr",
          "text": [
            "Training: 100%|██████████| 42/42 [00:28<00:00,  1.45it/s]\n",
            "Evaluating: 100%|██████████| 12/12 [00:07<00:00,  1.52it/s]\n"
          ]
        },
        {
          "output_type": "stream",
          "name": "stdout",
          "text": [
            "Training Loss = 0.0171287, Training Accuracy = 0.404\n",
            "Testing Loss = 0.0171810, Testing Accuracy = 0.411\n",
            "**************************************************\n",
            "\n",
            "Epoch 30\n"
          ]
        },
        {
          "output_type": "stream",
          "name": "stderr",
          "text": [
            "Training: 100%|██████████| 42/42 [00:28<00:00,  1.46it/s]\n",
            "Evaluating: 100%|██████████| 12/12 [00:07<00:00,  1.54it/s]\n"
          ]
        },
        {
          "output_type": "stream",
          "name": "stdout",
          "text": [
            "Training Loss = 0.0171346, Training Accuracy = 0.413\n",
            "Testing Loss = 0.0171521, Testing Accuracy = 0.411\n",
            "**************************************************\n",
            "\n",
            "Epoch 31\n"
          ]
        },
        {
          "output_type": "stream",
          "name": "stderr",
          "text": [
            "Training: 100%|██████████| 42/42 [00:28<00:00,  1.48it/s]\n",
            "Evaluating: 100%|██████████| 12/12 [00:07<00:00,  1.55it/s]\n"
          ]
        },
        {
          "output_type": "stream",
          "name": "stdout",
          "text": [
            "Training Loss = 0.0170485, Training Accuracy = 0.415\n",
            "Testing Loss = 0.0171775, Testing Accuracy = 0.409\n",
            "**************************************************\n",
            "\n",
            "Epoch 32\n"
          ]
        },
        {
          "output_type": "stream",
          "name": "stderr",
          "text": [
            "Training: 100%|██████████| 42/42 [00:28<00:00,  1.46it/s]\n",
            "Evaluating: 100%|██████████| 12/12 [00:07<00:00,  1.56it/s]\n"
          ]
        },
        {
          "output_type": "stream",
          "name": "stdout",
          "text": [
            "Training Loss = 0.0170825, Training Accuracy = 0.413\n",
            "Testing Loss = 0.0171697, Testing Accuracy = 0.413\n",
            "**************************************************\n",
            "\n",
            "Epoch 33\n"
          ]
        },
        {
          "output_type": "stream",
          "name": "stderr",
          "text": [
            "Training: 100%|██████████| 42/42 [00:28<00:00,  1.46it/s]\n",
            "Evaluating: 100%|██████████| 12/12 [00:07<00:00,  1.50it/s]\n"
          ]
        },
        {
          "output_type": "stream",
          "name": "stdout",
          "text": [
            "Training Loss = 0.0170628, Training Accuracy = 0.410\n",
            "Testing Loss = 0.0171661, Testing Accuracy = 0.409\n",
            "**************************************************\n",
            "\n",
            "Epoch 34\n"
          ]
        },
        {
          "output_type": "stream",
          "name": "stderr",
          "text": [
            "Training: 100%|██████████| 42/42 [00:28<00:00,  1.45it/s]\n",
            "Evaluating: 100%|██████████| 12/12 [00:08<00:00,  1.45it/s]\n"
          ]
        },
        {
          "output_type": "stream",
          "name": "stdout",
          "text": [
            "Training Loss = 0.0170732, Training Accuracy = 0.409\n",
            "Testing Loss = 0.0171799, Testing Accuracy = 0.411\n",
            "**************************************************\n",
            "\n",
            "Epoch 35\n"
          ]
        },
        {
          "output_type": "stream",
          "name": "stderr",
          "text": [
            "Training: 100%|██████████| 42/42 [00:28<00:00,  1.47it/s]\n",
            "Evaluating: 100%|██████████| 12/12 [00:08<00:00,  1.46it/s]\n"
          ]
        },
        {
          "output_type": "stream",
          "name": "stdout",
          "text": [
            "Training Loss = 0.0170457, Training Accuracy = 0.412\n",
            "Testing Loss = 0.0171750, Testing Accuracy = 0.411\n",
            "**************************************************\n",
            "\n",
            "Epoch 36\n"
          ]
        },
        {
          "output_type": "stream",
          "name": "stderr",
          "text": [
            "Training: 100%|██████████| 42/42 [00:28<00:00,  1.48it/s]\n",
            "Evaluating: 100%|██████████| 12/12 [00:08<00:00,  1.44it/s]\n"
          ]
        },
        {
          "output_type": "stream",
          "name": "stdout",
          "text": [
            "Training Loss = 0.0170778, Training Accuracy = 0.410\n",
            "Testing Loss = 0.0171918, Testing Accuracy = 0.408\n",
            "**************************************************\n",
            "\n",
            "Epoch 37\n"
          ]
        },
        {
          "output_type": "stream",
          "name": "stderr",
          "text": [
            "Training: 100%|██████████| 42/42 [00:29<00:00,  1.44it/s]\n",
            "Evaluating: 100%|██████████| 12/12 [00:08<00:00,  1.46it/s]\n"
          ]
        },
        {
          "output_type": "stream",
          "name": "stdout",
          "text": [
            "Training Loss = 0.0170831, Training Accuracy = 0.412\n",
            "Testing Loss = 0.0171820, Testing Accuracy = 0.411\n",
            "**************************************************\n",
            "\n",
            "Epoch 38\n"
          ]
        },
        {
          "output_type": "stream",
          "name": "stderr",
          "text": [
            "Training: 100%|██████████| 42/42 [00:28<00:00,  1.46it/s]\n",
            "Evaluating: 100%|██████████| 12/12 [00:08<00:00,  1.46it/s]\n"
          ]
        },
        {
          "output_type": "stream",
          "name": "stdout",
          "text": [
            "Training Loss = 0.0171232, Training Accuracy = 0.408\n",
            "Testing Loss = 0.0171668, Testing Accuracy = 0.412\n",
            "**************************************************\n",
            "\n",
            "Epoch 39\n"
          ]
        },
        {
          "output_type": "stream",
          "name": "stderr",
          "text": [
            "Training: 100%|██████████| 42/42 [00:28<00:00,  1.47it/s]\n",
            "Evaluating: 100%|██████████| 12/12 [00:08<00:00,  1.43it/s]\n"
          ]
        },
        {
          "output_type": "stream",
          "name": "stdout",
          "text": [
            "Training Loss = 0.0171290, Training Accuracy = 0.404\n",
            "Testing Loss = 0.0171687, Testing Accuracy = 0.413\n",
            "**************************************************\n",
            "\n",
            "Epoch 40\n"
          ]
        },
        {
          "output_type": "stream",
          "name": "stderr",
          "text": [
            "Training: 100%|██████████| 42/42 [00:28<00:00,  1.47it/s]\n",
            "Evaluating: 100%|██████████| 12/12 [00:08<00:00,  1.48it/s]\n"
          ]
        },
        {
          "output_type": "stream",
          "name": "stdout",
          "text": [
            "Training Loss = 0.0170978, Training Accuracy = 0.410\n",
            "Testing Loss = 0.0171690, Testing Accuracy = 0.411\n",
            "**************************************************\n",
            "\n",
            "Epoch 41\n"
          ]
        },
        {
          "output_type": "stream",
          "name": "stderr",
          "text": [
            "Training: 100%|██████████| 42/42 [00:28<00:00,  1.48it/s]\n",
            "Evaluating: 100%|██████████| 12/12 [00:08<00:00,  1.47it/s]\n"
          ]
        },
        {
          "output_type": "stream",
          "name": "stdout",
          "text": [
            "Training Loss = 0.0171526, Training Accuracy = 0.406\n",
            "Testing Loss = 0.0171557, Testing Accuracy = 0.411\n",
            "**************************************************\n",
            "\n",
            "Epoch 42\n"
          ]
        },
        {
          "output_type": "stream",
          "name": "stderr",
          "text": [
            "Training: 100%|██████████| 42/42 [00:27<00:00,  1.50it/s]\n",
            "Evaluating: 100%|██████████| 12/12 [00:08<00:00,  1.47it/s]\n"
          ]
        },
        {
          "output_type": "stream",
          "name": "stdout",
          "text": [
            "Training Loss = 0.0170855, Training Accuracy = 0.411\n",
            "Testing Loss = 0.0171776, Testing Accuracy = 0.412\n",
            "**************************************************\n",
            "\n",
            "Epoch 43\n"
          ]
        },
        {
          "output_type": "stream",
          "name": "stderr",
          "text": [
            "Training: 100%|██████████| 42/42 [00:28<00:00,  1.47it/s]\n",
            "Evaluating: 100%|██████████| 12/12 [00:08<00:00,  1.46it/s]\n"
          ]
        },
        {
          "output_type": "stream",
          "name": "stdout",
          "text": [
            "Training Loss = 0.0171533, Training Accuracy = 0.411\n",
            "Testing Loss = 0.0171578, Testing Accuracy = 0.413\n",
            "**************************************************\n",
            "\n",
            "Epoch 44\n"
          ]
        },
        {
          "output_type": "stream",
          "name": "stderr",
          "text": [
            "Training: 100%|██████████| 42/42 [00:28<00:00,  1.48it/s]\n",
            "Evaluating: 100%|██████████| 12/12 [00:08<00:00,  1.44it/s]\n"
          ]
        },
        {
          "output_type": "stream",
          "name": "stdout",
          "text": [
            "Training Loss = 0.0171069, Training Accuracy = 0.404\n",
            "Testing Loss = 0.0171554, Testing Accuracy = 0.417\n",
            "**************************************************\n",
            "\n",
            "Epoch 45\n"
          ]
        },
        {
          "output_type": "stream",
          "name": "stderr",
          "text": [
            "Training: 100%|██████████| 42/42 [00:28<00:00,  1.46it/s]\n",
            "Evaluating: 100%|██████████| 12/12 [00:08<00:00,  1.43it/s]\n"
          ]
        },
        {
          "output_type": "stream",
          "name": "stdout",
          "text": [
            "Training Loss = 0.0171039, Training Accuracy = 0.413\n",
            "Testing Loss = 0.0171863, Testing Accuracy = 0.409\n",
            "**************************************************\n",
            "\n",
            "Epoch 46\n"
          ]
        },
        {
          "output_type": "stream",
          "name": "stderr",
          "text": [
            "Training: 100%|██████████| 42/42 [00:28<00:00,  1.47it/s]\n",
            "Evaluating: 100%|██████████| 12/12 [00:08<00:00,  1.45it/s]\n"
          ]
        },
        {
          "output_type": "stream",
          "name": "stdout",
          "text": [
            "Training Loss = 0.0171418, Training Accuracy = 0.404\n",
            "Testing Loss = 0.0171607, Testing Accuracy = 0.411\n",
            "**************************************************\n",
            "\n",
            "Epoch 47\n"
          ]
        },
        {
          "output_type": "stream",
          "name": "stderr",
          "text": [
            "Training: 100%|██████████| 42/42 [00:28<00:00,  1.46it/s]\n",
            "Evaluating: 100%|██████████| 12/12 [00:08<00:00,  1.44it/s]\n"
          ]
        },
        {
          "output_type": "stream",
          "name": "stdout",
          "text": [
            "Training Loss = 0.0170581, Training Accuracy = 0.410\n",
            "Testing Loss = 0.0171685, Testing Accuracy = 0.417\n",
            "**************************************************\n",
            "\n",
            "Epoch 48\n"
          ]
        },
        {
          "output_type": "stream",
          "name": "stderr",
          "text": [
            "Training: 100%|██████████| 42/42 [00:28<00:00,  1.46it/s]\n",
            "Evaluating: 100%|██████████| 12/12 [00:08<00:00,  1.45it/s]\n"
          ]
        },
        {
          "output_type": "stream",
          "name": "stdout",
          "text": [
            "Training Loss = 0.0170869, Training Accuracy = 0.414\n",
            "Testing Loss = 0.0171859, Testing Accuracy = 0.409\n",
            "**************************************************\n",
            "\n",
            "Epoch 49\n"
          ]
        },
        {
          "output_type": "stream",
          "name": "stderr",
          "text": [
            "Training: 100%|██████████| 42/42 [00:28<00:00,  1.48it/s]\n",
            "Evaluating: 100%|██████████| 12/12 [00:08<00:00,  1.45it/s]\n"
          ]
        },
        {
          "output_type": "stream",
          "name": "stdout",
          "text": [
            "Training Loss = 0.0170791, Training Accuracy = 0.407\n",
            "Testing Loss = 0.0171712, Testing Accuracy = 0.408\n",
            "**************************************************\n",
            "\n",
            "Epoch 50\n"
          ]
        },
        {
          "output_type": "stream",
          "name": "stderr",
          "text": [
            "Training: 100%|██████████| 42/42 [00:28<00:00,  1.49it/s]\n",
            "Evaluating: 100%|██████████| 12/12 [00:08<00:00,  1.46it/s]"
          ]
        },
        {
          "output_type": "stream",
          "name": "stdout",
          "text": [
            "Training Loss = 0.0170548, Training Accuracy = 0.413\n",
            "Testing Loss = 0.0171729, Testing Accuracy = 0.408\n",
            "**************************************************\n",
            "\n"
          ]
        },
        {
          "output_type": "stream",
          "name": "stderr",
          "text": [
            "\n"
          ]
        }
      ]
    },
    {
      "cell_type": "code",
      "source": [
        "fig, ax = plt.subplots(1, 3, figsize=(20, 5), sharex=True)\n",
        "\n",
        "fc_df.plot(ax=ax[0], y=[0, 2], style=[\"r\", \"b\"])\n",
        "fc_df.plot(ax=ax[1], y=[1, 3], style=[\"r\", \"b\"])\n",
        "fc_df.plot(ax=ax[2], y=[4], style=[\"b\"])\n",
        "\n",
        "for i in range(3):\n",
        "  ax[i].set_xlabel(\"Epochs\")\n",
        "  ax[i].grid(which=\"major\", axis=\"both\", color=\"g\", linestyle=\":\")\n",
        "\n",
        "ax[0].set_ylabel(\"Loss\")\n",
        "ax[1].set_ylabel(\"Accuracy (%)\")\n",
        "ax[2].set_ylabel(\"Learning Rate\")\n",
        "\n",
        "fig.suptitle('Fully Connected Neural Network Training Metrics', fontsize=16,)\n",
        "plt.show()"
      ],
      "metadata": {
        "colab": {
          "base_uri": "https://localhost:8080/",
          "height": 326
        },
        "id": "-afRr00cOOn3",
        "outputId": "843f8b46-4160-4f9e-f679-8a3f70e773a1"
      },
      "execution_count": 43,
      "outputs": [
        {
          "output_type": "display_data",
          "data": {
            "text/plain": [
              "<Figure size 2000x500 with 3 Axes>"
            ],
            "image/png": "[encoded data removed]"
          },
          "metadata": {}
        }
      ]
    },
    {
      "cell_type": "markdown",
      "source": [
        "# Custom CNN Layer - RESNet 9"
      ],
      "metadata": {
        "id": "pd7A0FxMRNSS"
      }
    },
    {
      "cell_type": "code",
      "source": [
        "def basic(in_channels, out_channels):\n",
        "  return nn.Sequential(\n",
        "      nn.Conv2d(in_channels, out_channels, kernel_size=3, padding=1, bias=False),\n",
        "      nn.BatchNorm2d(out_channels),\n",
        "      nn.Dropout2d(0.3),\n",
        "      nn.ReLU(inplace=True),\n",
        "  )"
      ],
      "metadata": {
        "id": "DEM3AM2_RUS9"
      },
      "execution_count": 49,
      "outputs": []
    },
    {
      "cell_type": "code",
      "source": [
        "class RS_block(nn.Module):\n",
        "  def __init__(self, in_channels, *args, **kwargs) -> None:\n",
        "    super().__init__(*args, **kwargs)\n",
        "    self.net = nn.Sequential(\n",
        "        basic(in_channels, in_channels),\n",
        "        basic(in_channels, in_channels),\n",
        "        basic(in_channels, in_channels)\n",
        "    )\n",
        "\n",
        "  def forward(self, x):\n",
        "    return x + self.net(x)"
      ],
      "metadata": {
        "id": "H-C5w-UgS_Nw"
      },
      "execution_count": 50,
      "outputs": []
    },
    {
      "cell_type": "code",
      "source": [
        "class ResNet9(nn.Module):\n",
        "\n",
        "  def __init__(self, in_channels=img_channels, num_classes=3, *args, **kwargs) -> None:\n",
        "    super().__init__(*args, **kwargs)\n",
        "    self.net = nn.Sequential(\n",
        "        basic(in_channels, 8),\n",
        "        basic(8, 32), nn.MaxPool2d(2),\n",
        "        RS_block(32),\n",
        "        basic(32, 64),\n",
        "        basic(64, 128), nn.MaxPool2d(2),\n",
        "        RS_block(128),\n",
        "        basic(128, 256), nn.MaxPool2d(2),\n",
        "        basic(256, 512), nn.MaxPool2d(2),\n",
        "        RS_block(512),\n",
        "        nn.AdaptiveAvgPool2d((1, 1)),\n",
        "        nn.Flatten(),\n",
        "        nn.Linear(512, num_classes)\n",
        "    )\n",
        "\n",
        "  def forward(self, x):\n",
        "    output = self.net(x)\n",
        "    return output"
      ],
      "metadata": {
        "id": "9NeunFiBT96T"
      },
      "execution_count": 54,
      "outputs": []
    },
    {
      "cell_type": "code",
      "source": [
        "model = ResNet9().cuda()\n",
        "\n",
        "criterion=nn.CrossEntropyLoss(reduction=\"sum\")\n",
        "optimizer = torch.optim.Adam(model.parameters(), lr=lr)\n",
        "\n",
        "scheduler = lr_scheduler.ReduceLROnPlateau(optimizer=optimizer, mode=\"min\", patience=5, factor=0.1)"
      ],
      "metadata": {
        "id": "4YLuiNHyVGnb"
      },
      "execution_count": 55,
      "outputs": []
    },
    {
      "cell_type": "code",
      "source": [
        "my_cnn = fit(model=model, train_dataloader=train_dl, val_dataloader=val_dl,\n",
        "            criterion=criterion, optimizer=optimizer, scheduler=scheduler,\n",
        "            epochs=50, experiment_name=\"my_cnn\")"
      ],
      "metadata": {
        "colab": {
          "base_uri": "https://localhost:8080/"
        },
        "id": "pg_Rs-TUV7ca",
        "outputId": "1df13c91-646d-47d1-c474-b0bc8a9ae7c0"
      },
      "execution_count": 56,
      "outputs": [
        {
          "output_type": "stream",
          "name": "stdout",
          "text": [
            "Epoch 1\n"
          ]
        },
        {
          "output_type": "stream",
          "name": "stderr",
          "text": [
            "Training: 100%|██████████| 42/42 [00:37<00:00,  1.11it/s]\n",
            "Evaluating: 100%|██████████| 12/12 [00:10<00:00,  1.20it/s]\n"
          ]
        },
        {
          "output_type": "stream",
          "name": "stdout",
          "text": [
            "Training Loss = 0.9666101, Training Accuracy = 0.547\n",
            "Testing Loss = 1.7284434, Testing Accuracy = 0.248\n",
            "New best accuracy: 0.248 at epoch 1\n",
            "**************************************************\n",
            "\n",
            "Epoch 2\n"
          ]
        },
        {
          "output_type": "stream",
          "name": "stderr",
          "text": [
            "Training: 100%|██████████| 42/42 [00:37<00:00,  1.13it/s]\n",
            "Evaluating: 100%|██████████| 12/12 [00:10<00:00,  1.16it/s]\n"
          ]
        },
        {
          "output_type": "stream",
          "name": "stdout",
          "text": [
            "Training Loss = 0.7732622, Training Accuracy = 0.653\n",
            "Testing Loss = 0.9813289, Testing Accuracy = 0.522\n",
            "New best accuracy: 0.522 at epoch 2\n",
            "**************************************************\n",
            "\n",
            "Epoch 3\n"
          ]
        },
        {
          "output_type": "stream",
          "name": "stderr",
          "text": [
            "Training: 100%|██████████| 42/42 [00:36<00:00,  1.14it/s]\n",
            "Evaluating: 100%|██████████| 12/12 [00:10<00:00,  1.20it/s]\n"
          ]
        },
        {
          "output_type": "stream",
          "name": "stdout",
          "text": [
            "Training Loss = 0.7370431, Training Accuracy = 0.688\n",
            "Testing Loss = 0.7037714, Testing Accuracy = 0.654\n",
            "New best accuracy: 0.654 at epoch 3\n",
            "**************************************************\n",
            "\n",
            "Epoch 4\n"
          ]
        },
        {
          "output_type": "stream",
          "name": "stderr",
          "text": [
            "Training: 100%|██████████| 42/42 [00:36<00:00,  1.14it/s]\n",
            "Evaluating: 100%|██████████| 12/12 [00:09<00:00,  1.21it/s]\n"
          ]
        },
        {
          "output_type": "stream",
          "name": "stdout",
          "text": [
            "Training Loss = 0.6889914, Training Accuracy = 0.700\n",
            "Testing Loss = 0.9735879, Testing Accuracy = 0.551\n",
            "**************************************************\n",
            "\n",
            "Epoch 5\n"
          ]
        },
        {
          "output_type": "stream",
          "name": "stderr",
          "text": [
            "Training: 100%|██████████| 42/42 [00:37<00:00,  1.13it/s]\n",
            "Evaluating: 100%|██████████| 12/12 [00:10<00:00,  1.19it/s]\n"
          ]
        },
        {
          "output_type": "stream",
          "name": "stdout",
          "text": [
            "Training Loss = 0.6357308, Training Accuracy = 0.731\n",
            "Testing Loss = 0.7753813, Testing Accuracy = 0.601\n",
            "**************************************************\n",
            "\n",
            "Epoch 6\n"
          ]
        },
        {
          "output_type": "stream",
          "name": "stderr",
          "text": [
            "Training: 100%|██████████| 42/42 [00:36<00:00,  1.14it/s]\n",
            "Evaluating: 100%|██████████| 12/12 [00:09<00:00,  1.20it/s]\n"
          ]
        },
        {
          "output_type": "stream",
          "name": "stdout",
          "text": [
            "Training Loss = 0.6300530, Training Accuracy = 0.737\n",
            "Testing Loss = 0.8040248, Testing Accuracy = 0.615\n",
            "**************************************************\n",
            "\n",
            "Epoch 7\n"
          ]
        },
        {
          "output_type": "stream",
          "name": "stderr",
          "text": [
            "Training: 100%|██████████| 42/42 [00:37<00:00,  1.13it/s]\n",
            "Evaluating: 100%|██████████| 12/12 [00:10<00:00,  1.20it/s]\n"
          ]
        },
        {
          "output_type": "stream",
          "name": "stdout",
          "text": [
            "Training Loss = 0.6003752, Training Accuracy = 0.751\n",
            "Testing Loss = 0.6764790, Testing Accuracy = 0.690\n",
            "New best accuracy: 0.690 at epoch 7\n",
            "**************************************************\n",
            "\n",
            "Epoch 8\n"
          ]
        },
        {
          "output_type": "stream",
          "name": "stderr",
          "text": [
            "Training: 100%|██████████| 42/42 [00:36<00:00,  1.15it/s]\n",
            "Evaluating: 100%|██████████| 12/12 [00:09<00:00,  1.29it/s]\n"
          ]
        },
        {
          "output_type": "stream",
          "name": "stdout",
          "text": [
            "Training Loss = 0.5733217, Training Accuracy = 0.761\n",
            "Testing Loss = 0.6303848, Testing Accuracy = 0.682\n",
            "**************************************************\n",
            "\n",
            "Epoch 9\n"
          ]
        },
        {
          "output_type": "stream",
          "name": "stderr",
          "text": [
            "Training: 100%|██████████| 42/42 [00:37<00:00,  1.13it/s]\n",
            "Evaluating: 100%|██████████| 12/12 [00:09<00:00,  1.22it/s]\n"
          ]
        },
        {
          "output_type": "stream",
          "name": "stdout",
          "text": [
            "Training Loss = 0.5688271, Training Accuracy = 0.773\n",
            "Testing Loss = 0.6586038, Testing Accuracy = 0.686\n",
            "**************************************************\n",
            "\n",
            "Epoch 10\n"
          ]
        },
        {
          "output_type": "stream",
          "name": "stderr",
          "text": [
            "Training: 100%|██████████| 42/42 [00:36<00:00,  1.15it/s]\n",
            "Evaluating: 100%|██████████| 12/12 [00:09<00:00,  1.20it/s]\n"
          ]
        },
        {
          "output_type": "stream",
          "name": "stdout",
          "text": [
            "Training Loss = 0.5200654, Training Accuracy = 0.801\n",
            "Testing Loss = 0.6423079, Testing Accuracy = 0.706\n",
            "New best accuracy: 0.706 at epoch 10\n",
            "**************************************************\n",
            "\n",
            "Epoch 11\n"
          ]
        },
        {
          "output_type": "stream",
          "name": "stderr",
          "text": [
            "Training: 100%|██████████| 42/42 [00:36<00:00,  1.14it/s]\n",
            "Evaluating: 100%|██████████| 12/12 [00:09<00:00,  1.21it/s]\n"
          ]
        },
        {
          "output_type": "stream",
          "name": "stdout",
          "text": [
            "Training Loss = 0.5169693, Training Accuracy = 0.794\n",
            "Testing Loss = 0.6245668, Testing Accuracy = 0.679\n",
            "**************************************************\n",
            "\n",
            "Epoch 12\n"
          ]
        },
        {
          "output_type": "stream",
          "name": "stderr",
          "text": [
            "Training: 100%|██████████| 42/42 [00:37<00:00,  1.12it/s]\n",
            "Evaluating: 100%|██████████| 12/12 [00:10<00:00,  1.20it/s]\n"
          ]
        },
        {
          "output_type": "stream",
          "name": "stdout",
          "text": [
            "Training Loss = 0.4802189, Training Accuracy = 0.805\n",
            "Testing Loss = 0.6135069, Testing Accuracy = 0.668\n",
            "**************************************************\n",
            "\n",
            "Epoch 13\n"
          ]
        },
        {
          "output_type": "stream",
          "name": "stderr",
          "text": [
            "Training: 100%|██████████| 42/42 [00:36<00:00,  1.14it/s]\n",
            "Evaluating: 100%|██████████| 12/12 [00:09<00:00,  1.21it/s]\n"
          ]
        },
        {
          "output_type": "stream",
          "name": "stdout",
          "text": [
            "Training Loss = 0.4414336, Training Accuracy = 0.830\n",
            "Testing Loss = 0.6565606, Testing Accuracy = 0.670\n",
            "**************************************************\n",
            "\n",
            "Epoch 14\n"
          ]
        },
        {
          "output_type": "stream",
          "name": "stderr",
          "text": [
            "Training: 100%|██████████| 42/42 [00:36<00:00,  1.14it/s]\n",
            "Evaluating: 100%|██████████| 12/12 [00:09<00:00,  1.21it/s]\n"
          ]
        },
        {
          "output_type": "stream",
          "name": "stdout",
          "text": [
            "Training Loss = 0.4542002, Training Accuracy = 0.813\n",
            "Testing Loss = 0.6679786, Testing Accuracy = 0.677\n",
            "**************************************************\n",
            "\n",
            "Epoch 15\n"
          ]
        },
        {
          "output_type": "stream",
          "name": "stderr",
          "text": [
            "Training: 100%|██████████| 42/42 [00:36<00:00,  1.15it/s]\n",
            "Evaluating: 100%|██████████| 12/12 [00:09<00:00,  1.26it/s]\n"
          ]
        },
        {
          "output_type": "stream",
          "name": "stdout",
          "text": [
            "Training Loss = 0.4677661, Training Accuracy = 0.803\n",
            "Testing Loss = 0.6324350, Testing Accuracy = 0.683\n",
            "**************************************************\n",
            "\n",
            "Epoch 16\n"
          ]
        },
        {
          "output_type": "stream",
          "name": "stderr",
          "text": [
            "Training: 100%|██████████| 42/42 [00:36<00:00,  1.15it/s]\n",
            "Evaluating: 100%|██████████| 12/12 [00:09<00:00,  1.23it/s]\n"
          ]
        },
        {
          "output_type": "stream",
          "name": "stdout",
          "text": [
            "Training Loss = 0.4655701, Training Accuracy = 0.823\n",
            "Testing Loss = 0.6043329, Testing Accuracy = 0.701\n",
            "**************************************************\n",
            "\n",
            "Epoch 17\n"
          ]
        },
        {
          "output_type": "stream",
          "name": "stderr",
          "text": [
            "Training: 100%|██████████| 42/42 [00:36<00:00,  1.15it/s]\n",
            "Evaluating: 100%|██████████| 12/12 [00:10<00:00,  1.14it/s]\n"
          ]
        },
        {
          "output_type": "stream",
          "name": "stdout",
          "text": [
            "Training Loss = 0.4433940, Training Accuracy = 0.828\n",
            "Testing Loss = 0.6601620, Testing Accuracy = 0.670\n",
            "**************************************************\n",
            "\n",
            "Epoch 18\n"
          ]
        },
        {
          "output_type": "stream",
          "name": "stderr",
          "text": [
            "Training: 100%|██████████| 42/42 [00:37<00:00,  1.13it/s]\n",
            "Evaluating: 100%|██████████| 12/12 [00:10<00:00,  1.20it/s]\n"
          ]
        },
        {
          "output_type": "stream",
          "name": "stdout",
          "text": [
            "Training Loss = 0.4424477, Training Accuracy = 0.817\n",
            "Testing Loss = 0.7404934, Testing Accuracy = 0.675\n",
            "**************************************************\n",
            "\n",
            "Epoch 19\n"
          ]
        },
        {
          "output_type": "stream",
          "name": "stderr",
          "text": [
            "Training: 100%|██████████| 42/42 [00:36<00:00,  1.14it/s]\n",
            "Evaluating: 100%|██████████| 12/12 [00:10<00:00,  1.20it/s]\n"
          ]
        },
        {
          "output_type": "stream",
          "name": "stdout",
          "text": [
            "Training Loss = 0.4273115, Training Accuracy = 0.829\n",
            "Testing Loss = 0.7261815, Testing Accuracy = 0.682\n",
            "**************************************************\n",
            "\n",
            "Epoch 20\n"
          ]
        },
        {
          "output_type": "stream",
          "name": "stderr",
          "text": [
            "Training: 100%|██████████| 42/42 [00:36<00:00,  1.15it/s]\n",
            "Evaluating: 100%|██████████| 12/12 [00:09<00:00,  1.21it/s]\n"
          ]
        },
        {
          "output_type": "stream",
          "name": "stdout",
          "text": [
            "Training Loss = 0.4404778, Training Accuracy = 0.824\n",
            "Testing Loss = 0.6824611, Testing Accuracy = 0.691\n",
            "**************************************************\n",
            "\n",
            "Epoch 21\n"
          ]
        },
        {
          "output_type": "stream",
          "name": "stderr",
          "text": [
            "Training: 100%|██████████| 42/42 [00:36<00:00,  1.14it/s]\n",
            "Evaluating: 100%|██████████| 12/12 [00:09<00:00,  1.20it/s]\n"
          ]
        },
        {
          "output_type": "stream",
          "name": "stdout",
          "text": [
            "Training Loss = 0.4174529, Training Accuracy = 0.839\n",
            "Testing Loss = 0.6713715, Testing Accuracy = 0.694\n",
            "**************************************************\n",
            "\n",
            "Epoch 22\n"
          ]
        },
        {
          "output_type": "stream",
          "name": "stderr",
          "text": [
            "Training: 100%|██████████| 42/42 [00:36<00:00,  1.14it/s]\n",
            "Evaluating: 100%|██████████| 12/12 [00:09<00:00,  1.25it/s]\n"
          ]
        },
        {
          "output_type": "stream",
          "name": "stdout",
          "text": [
            "Training Loss = 0.4095349, Training Accuracy = 0.841\n",
            "Testing Loss = 0.7204740, Testing Accuracy = 0.683\n",
            "**************************************************\n",
            "\n",
            "Epoch 23\n"
          ]
        },
        {
          "output_type": "stream",
          "name": "stderr",
          "text": [
            "Training: 100%|██████████| 42/42 [00:37<00:00,  1.12it/s]\n",
            "Evaluating: 100%|██████████| 12/12 [00:09<00:00,  1.25it/s]\n"
          ]
        },
        {
          "output_type": "stream",
          "name": "stdout",
          "text": [
            "Training Loss = 0.4440302, Training Accuracy = 0.824\n",
            "Testing Loss = 0.6495681, Testing Accuracy = 0.698\n",
            "**************************************************\n",
            "\n",
            "Epoch 24\n"
          ]
        },
        {
          "output_type": "stream",
          "name": "stderr",
          "text": [
            "Training: 100%|██████████| 42/42 [00:36<00:00,  1.14it/s]\n",
            "Evaluating: 100%|██████████| 12/12 [00:10<00:00,  1.20it/s]\n"
          ]
        },
        {
          "output_type": "stream",
          "name": "stdout",
          "text": [
            "Training Loss = 0.4292811, Training Accuracy = 0.825\n",
            "Testing Loss = 0.6376607, Testing Accuracy = 0.706\n",
            "**************************************************\n",
            "\n",
            "Epoch 25\n"
          ]
        },
        {
          "output_type": "stream",
          "name": "stderr",
          "text": [
            "Training: 100%|██████████| 42/42 [00:36<00:00,  1.15it/s]\n",
            "Evaluating: 100%|██████████| 12/12 [00:09<00:00,  1.21it/s]\n"
          ]
        },
        {
          "output_type": "stream",
          "name": "stdout",
          "text": [
            "Training Loss = 0.4090313, Training Accuracy = 0.839\n",
            "Testing Loss = 0.6175340, Testing Accuracy = 0.713\n",
            "New best accuracy: 0.713 at epoch 25\n",
            "**************************************************\n",
            "\n",
            "Epoch 26\n"
          ]
        },
        {
          "output_type": "stream",
          "name": "stderr",
          "text": [
            "Training: 100%|██████████| 42/42 [00:36<00:00,  1.15it/s]\n",
            "Evaluating: 100%|██████████| 12/12 [00:09<00:00,  1.21it/s]\n"
          ]
        },
        {
          "output_type": "stream",
          "name": "stdout",
          "text": [
            "Training Loss = 0.4280228, Training Accuracy = 0.828\n",
            "Testing Loss = 0.7265084, Testing Accuracy = 0.686\n",
            "**************************************************\n",
            "\n",
            "Epoch 27\n"
          ]
        },
        {
          "output_type": "stream",
          "name": "stderr",
          "text": [
            "Training: 100%|██████████| 42/42 [00:36<00:00,  1.14it/s]\n",
            "Evaluating: 100%|██████████| 12/12 [00:09<00:00,  1.20it/s]\n"
          ]
        },
        {
          "output_type": "stream",
          "name": "stdout",
          "text": [
            "Training Loss = 0.4209341, Training Accuracy = 0.833\n",
            "Testing Loss = 0.6664166, Testing Accuracy = 0.702\n",
            "**************************************************\n",
            "\n",
            "Epoch 28\n"
          ]
        },
        {
          "output_type": "stream",
          "name": "stderr",
          "text": [
            "Training: 100%|██████████| 42/42 [00:37<00:00,  1.13it/s]\n",
            "Evaluating: 100%|██████████| 12/12 [00:09<00:00,  1.20it/s]\n"
          ]
        },
        {
          "output_type": "stream",
          "name": "stdout",
          "text": [
            "Training Loss = 0.4117969, Training Accuracy = 0.837\n",
            "Testing Loss = 0.6789416, Testing Accuracy = 0.690\n",
            "**************************************************\n",
            "\n",
            "Epoch 29\n"
          ]
        },
        {
          "output_type": "stream",
          "name": "stderr",
          "text": [
            "Training: 100%|██████████| 42/42 [00:36<00:00,  1.15it/s]\n",
            "Evaluating: 100%|██████████| 12/12 [00:09<00:00,  1.26it/s]\n"
          ]
        },
        {
          "output_type": "stream",
          "name": "stdout",
          "text": [
            "Training Loss = 0.4128016, Training Accuracy = 0.833\n",
            "Testing Loss = 0.6673862, Testing Accuracy = 0.705\n",
            "**************************************************\n",
            "\n",
            "Epoch 30\n"
          ]
        },
        {
          "output_type": "stream",
          "name": "stderr",
          "text": [
            "Training: 100%|██████████| 42/42 [00:36<00:00,  1.15it/s]\n",
            "Evaluating: 100%|██████████| 12/12 [00:09<00:00,  1.20it/s]\n"
          ]
        },
        {
          "output_type": "stream",
          "name": "stdout",
          "text": [
            "Training Loss = 0.4255332, Training Accuracy = 0.838\n",
            "Testing Loss = 0.6643100, Testing Accuracy = 0.705\n",
            "**************************************************\n",
            "\n",
            "Epoch 31\n"
          ]
        },
        {
          "output_type": "stream",
          "name": "stderr",
          "text": [
            "Training: 100%|██████████| 42/42 [00:37<00:00,  1.12it/s]\n",
            "Evaluating: 100%|██████████| 12/12 [00:10<00:00,  1.18it/s]\n"
          ]
        },
        {
          "output_type": "stream",
          "name": "stdout",
          "text": [
            "Training Loss = 0.4296451, Training Accuracy = 0.833\n",
            "Testing Loss = 0.6434487, Testing Accuracy = 0.713\n",
            "**************************************************\n",
            "\n",
            "Epoch 32\n"
          ]
        },
        {
          "output_type": "stream",
          "name": "stderr",
          "text": [
            "Training: 100%|██████████| 42/42 [00:38<00:00,  1.10it/s]\n",
            "Evaluating: 100%|██████████| 12/12 [00:10<00:00,  1.18it/s]\n"
          ]
        },
        {
          "output_type": "stream",
          "name": "stdout",
          "text": [
            "Training Loss = 0.4277482, Training Accuracy = 0.836\n",
            "Testing Loss = 0.6787081, Testing Accuracy = 0.699\n",
            "**************************************************\n",
            "\n",
            "Epoch 33\n"
          ]
        },
        {
          "output_type": "stream",
          "name": "stderr",
          "text": [
            "Training: 100%|██████████| 42/42 [00:37<00:00,  1.12it/s]\n",
            "Evaluating: 100%|██████████| 12/12 [00:10<00:00,  1.11it/s]\n"
          ]
        },
        {
          "output_type": "stream",
          "name": "stdout",
          "text": [
            "Training Loss = 0.4160886, Training Accuracy = 0.840\n",
            "Testing Loss = 0.7041238, Testing Accuracy = 0.686\n",
            "**************************************************\n",
            "\n",
            "Epoch 34\n"
          ]
        },
        {
          "output_type": "stream",
          "name": "stderr",
          "text": [
            "Training: 100%|██████████| 42/42 [00:37<00:00,  1.13it/s]\n",
            "Evaluating: 100%|██████████| 12/12 [00:10<00:00,  1.20it/s]\n"
          ]
        },
        {
          "output_type": "stream",
          "name": "stdout",
          "text": [
            "Training Loss = 0.4194483, Training Accuracy = 0.830\n",
            "Testing Loss = 0.6611622, Testing Accuracy = 0.705\n",
            "**************************************************\n",
            "\n",
            "Epoch 35\n"
          ]
        },
        {
          "output_type": "stream",
          "name": "stderr",
          "text": [
            "Training: 100%|██████████| 42/42 [00:36<00:00,  1.15it/s]\n",
            "Evaluating: 100%|██████████| 12/12 [00:10<00:00,  1.19it/s]\n"
          ]
        },
        {
          "output_type": "stream",
          "name": "stdout",
          "text": [
            "Training Loss = 0.4133182, Training Accuracy = 0.831\n",
            "Testing Loss = 0.6923897, Testing Accuracy = 0.697\n",
            "**************************************************\n",
            "\n",
            "Epoch 36\n"
          ]
        },
        {
          "output_type": "stream",
          "name": "stderr",
          "text": [
            "Training: 100%|██████████| 42/42 [00:36<00:00,  1.15it/s]\n",
            "Evaluating: 100%|██████████| 12/12 [00:09<00:00,  1.21it/s]\n"
          ]
        },
        {
          "output_type": "stream",
          "name": "stdout",
          "text": [
            "Training Loss = 0.4300392, Training Accuracy = 0.833\n",
            "Testing Loss = 0.6601978, Testing Accuracy = 0.694\n",
            "**************************************************\n",
            "\n",
            "Epoch 37\n"
          ]
        },
        {
          "output_type": "stream",
          "name": "stderr",
          "text": [
            "Training: 100%|██████████| 42/42 [00:36<00:00,  1.15it/s]\n",
            "Evaluating: 100%|██████████| 12/12 [00:09<00:00,  1.22it/s]\n"
          ]
        },
        {
          "output_type": "stream",
          "name": "stdout",
          "text": [
            "Training Loss = 0.4135209, Training Accuracy = 0.827\n",
            "Testing Loss = 0.7169039, Testing Accuracy = 0.686\n",
            "**************************************************\n",
            "\n",
            "Epoch 38\n"
          ]
        },
        {
          "output_type": "stream",
          "name": "stderr",
          "text": [
            "Training: 100%|██████████| 42/42 [00:36<00:00,  1.15it/s]\n",
            "Evaluating: 100%|██████████| 12/12 [00:09<00:00,  1.21it/s]\n"
          ]
        },
        {
          "output_type": "stream",
          "name": "stdout",
          "text": [
            "Training Loss = 0.4213181, Training Accuracy = 0.832\n",
            "Testing Loss = 0.7131159, Testing Accuracy = 0.689\n",
            "**************************************************\n",
            "\n",
            "Epoch 39\n"
          ]
        },
        {
          "output_type": "stream",
          "name": "stderr",
          "text": [
            "Training: 100%|██████████| 42/42 [00:37<00:00,  1.13it/s]\n",
            "Evaluating: 100%|██████████| 12/12 [00:09<00:00,  1.27it/s]\n"
          ]
        },
        {
          "output_type": "stream",
          "name": "stdout",
          "text": [
            "Training Loss = 0.4188057, Training Accuracy = 0.834\n",
            "Testing Loss = 0.6905176, Testing Accuracy = 0.689\n",
            "**************************************************\n",
            "\n",
            "Epoch 40\n"
          ]
        },
        {
          "output_type": "stream",
          "name": "stderr",
          "text": [
            "Training: 100%|██████████| 42/42 [00:36<00:00,  1.15it/s]\n",
            "Evaluating: 100%|██████████| 12/12 [00:09<00:00,  1.23it/s]\n"
          ]
        },
        {
          "output_type": "stream",
          "name": "stdout",
          "text": [
            "Training Loss = 0.4192830, Training Accuracy = 0.839\n",
            "Testing Loss = 0.6829439, Testing Accuracy = 0.698\n",
            "**************************************************\n",
            "\n",
            "Epoch 41\n"
          ]
        },
        {
          "output_type": "stream",
          "name": "stderr",
          "text": [
            "Training: 100%|██████████| 42/42 [00:36<00:00,  1.15it/s]\n",
            "Evaluating: 100%|██████████| 12/12 [00:09<00:00,  1.23it/s]\n"
          ]
        },
        {
          "output_type": "stream",
          "name": "stdout",
          "text": [
            "Training Loss = 0.4165969, Training Accuracy = 0.845\n",
            "Testing Loss = 0.6332668, Testing Accuracy = 0.713\n",
            "**************************************************\n",
            "\n",
            "Epoch 42\n"
          ]
        },
        {
          "output_type": "stream",
          "name": "stderr",
          "text": [
            "Training: 100%|██████████| 42/42 [00:36<00:00,  1.17it/s]\n",
            "Evaluating: 100%|██████████| 12/12 [00:09<00:00,  1.22it/s]\n"
          ]
        },
        {
          "output_type": "stream",
          "name": "stdout",
          "text": [
            "Training Loss = 0.4121651, Training Accuracy = 0.835\n",
            "Testing Loss = 0.6334405, Testing Accuracy = 0.711\n",
            "**************************************************\n",
            "\n",
            "Epoch 43\n"
          ]
        },
        {
          "output_type": "stream",
          "name": "stderr",
          "text": [
            "Training: 100%|██████████| 42/42 [00:35<00:00,  1.17it/s]\n",
            "Evaluating: 100%|██████████| 12/12 [00:09<00:00,  1.23it/s]\n"
          ]
        },
        {
          "output_type": "stream",
          "name": "stdout",
          "text": [
            "Training Loss = 0.4170663, Training Accuracy = 0.824\n",
            "Testing Loss = 0.6582040, Testing Accuracy = 0.701\n",
            "**************************************************\n",
            "\n",
            "Epoch 44\n"
          ]
        },
        {
          "output_type": "stream",
          "name": "stderr",
          "text": [
            "Training: 100%|██████████| 42/42 [00:36<00:00,  1.16it/s]\n",
            "Evaluating: 100%|██████████| 12/12 [00:09<00:00,  1.29it/s]\n"
          ]
        },
        {
          "output_type": "stream",
          "name": "stdout",
          "text": [
            "Training Loss = 0.4267802, Training Accuracy = 0.832\n",
            "Testing Loss = 0.6883158, Testing Accuracy = 0.699\n",
            "**************************************************\n",
            "\n",
            "Epoch 45\n"
          ]
        },
        {
          "output_type": "stream",
          "name": "stderr",
          "text": [
            "Training: 100%|██████████| 42/42 [00:35<00:00,  1.17it/s]\n",
            "Evaluating: 100%|██████████| 12/12 [00:09<00:00,  1.23it/s]\n"
          ]
        },
        {
          "output_type": "stream",
          "name": "stdout",
          "text": [
            "Training Loss = 0.4117726, Training Accuracy = 0.842\n",
            "Testing Loss = 0.6508348, Testing Accuracy = 0.709\n",
            "**************************************************\n",
            "\n",
            "Epoch 46\n"
          ]
        },
        {
          "output_type": "stream",
          "name": "stderr",
          "text": [
            "Training: 100%|██████████| 42/42 [00:36<00:00,  1.16it/s]\n",
            "Evaluating: 100%|██████████| 12/12 [00:09<00:00,  1.22it/s]\n"
          ]
        },
        {
          "output_type": "stream",
          "name": "stdout",
          "text": [
            "Training Loss = 0.4149330, Training Accuracy = 0.838\n",
            "Testing Loss = 0.6864404, Testing Accuracy = 0.697\n",
            "**************************************************\n",
            "\n",
            "Epoch 47\n"
          ]
        },
        {
          "output_type": "stream",
          "name": "stderr",
          "text": [
            "Training: 100%|██████████| 42/42 [00:35<00:00,  1.17it/s]\n",
            "Evaluating: 100%|██████████| 12/12 [00:09<00:00,  1.21it/s]\n"
          ]
        },
        {
          "output_type": "stream",
          "name": "stdout",
          "text": [
            "Training Loss = 0.4194768, Training Accuracy = 0.832\n",
            "Testing Loss = 0.6468954, Testing Accuracy = 0.703\n",
            "**************************************************\n",
            "\n",
            "Epoch 48\n"
          ]
        },
        {
          "output_type": "stream",
          "name": "stderr",
          "text": [
            "Training: 100%|██████████| 42/42 [00:35<00:00,  1.17it/s]\n",
            "Evaluating: 100%|██████████| 12/12 [00:09<00:00,  1.25it/s]\n"
          ]
        },
        {
          "output_type": "stream",
          "name": "stdout",
          "text": [
            "Training Loss = 0.4036644, Training Accuracy = 0.850\n",
            "Testing Loss = 0.6900148, Testing Accuracy = 0.686\n",
            "**************************************************\n",
            "\n",
            "Epoch 49\n"
          ]
        },
        {
          "output_type": "stream",
          "name": "stderr",
          "text": [
            "Training: 100%|██████████| 42/42 [00:35<00:00,  1.17it/s]\n",
            "Evaluating: 100%|██████████| 12/12 [00:09<00:00,  1.27it/s]\n"
          ]
        },
        {
          "output_type": "stream",
          "name": "stdout",
          "text": [
            "Training Loss = 0.4070920, Training Accuracy = 0.847\n",
            "Testing Loss = 0.6616068, Testing Accuracy = 0.705\n",
            "**************************************************\n",
            "\n",
            "Epoch 50\n"
          ]
        },
        {
          "output_type": "stream",
          "name": "stderr",
          "text": [
            "Training: 100%|██████████| 42/42 [00:36<00:00,  1.14it/s]\n",
            "Evaluating: 100%|██████████| 12/12 [00:09<00:00,  1.21it/s]"
          ]
        },
        {
          "output_type": "stream",
          "name": "stdout",
          "text": [
            "Training Loss = 0.4367137, Training Accuracy = 0.825\n",
            "Testing Loss = 0.6512356, Testing Accuracy = 0.705\n",
            "**************************************************\n",
            "\n"
          ]
        },
        {
          "output_type": "stream",
          "name": "stderr",
          "text": [
            "\n"
          ]
        }
      ]
    },
    {
      "cell_type": "code",
      "source": [
        "fig, ax = plt.subplots(1, 3, figsize=(20, 5), sharex=True)\n",
        "\n",
        "my_cnn.plot(ax=ax[0], y=[0, 2], style=[\"r\", \"b\"])\n",
        "my_cnn.plot(ax=ax[1], y=[1, 3], style=[\"r\", \"b\"])\n",
        "my_cnn.plot(ax=ax[2], y=[4], style=[\"b\"])\n",
        "\n",
        "for i in range(3):\n",
        "  ax[i].set_xlabel(\"Epochs\")\n",
        "  ax[i].grid(which=\"major\", axis=\"both\", color=\"g\", linestyle=\":\")\n",
        "\n",
        "ax[0].set_ylabel(\"Loss\")\n",
        "ax[1].set_ylabel(\"Accuracy (%)\")\n",
        "ax[2].set_ylabel(\"Learning Rate\")\n",
        "\n",
        "fig.suptitle('Custom CNN  Training Metrics', fontsize=16,)\n",
        "plt.show()"
      ],
      "metadata": {
        "colab": {
          "base_uri": "https://localhost:8080/",
          "height": 331
        },
        "id": "TAlLcIFdWZAw",
        "outputId": "6b6a089d-d1d2-4e10-cff2-dddd33cf9ac7"
      },
      "execution_count": 58,
      "outputs": [
        {
          "output_type": "display_data",
          "data": {
            "text/plain": [
              "<Figure size 2000x500 with 3 Axes>"
            ],
            "image/png": "[encoded data removed]"
          },
          "metadata": {}
        }
      ]
    },
    {
      "cell_type": "markdown",
      "source": [
        "# Transfer Learning"
      ],
      "metadata": {
        "id": "Kc4xQCD-hKsB"
      }
    },
    {
      "cell_type": "code",
      "source": [
        "model = models.resnet101(pretrained=True)"
      ],
      "metadata": {
        "colab": {
          "base_uri": "https://localhost:8080/"
        },
        "id": "gCs2GNsehMIn",
        "outputId": "1abce09c-38fb-4f1b-9086-18b953afcd6b"
      },
      "execution_count": 59,
      "outputs": [
        {
          "output_type": "stream",
          "name": "stderr",
          "text": [
            "/usr/local/lib/python3.11/dist-packages/torchvision/models/_utils.py:208: UserWarning: The parameter 'pretrained' is deprecated since 0.13 and may be removed in the future, please use 'weights' instead.\n",
            "  warnings.warn(\n",
            "/usr/local/lib/python3.11/dist-packages/torchvision/models/_utils.py:223: UserWarning: Arguments other than a weight enum or `None` for 'weights' are deprecated since 0.13 and may be removed in the future. The current behavior is equivalent to passing `weights=ResNet101_Weights.IMAGENET1K_V1`. You can also use `weights=ResNet101_Weights.DEFAULT` to get the most up-to-date weights.\n",
            "  warnings.warn(msg)\n",
            "Downloading: \"https://download.pytorch.org/models/resnet101-63fe2227.pth\" to /root/.cache/torch/hub/checkpoints/resnet101-63fe2227.pth\n",
            "100%|██████████| 171M/171M [00:00<00:00, 192MB/s]\n"
          ]
        }
      ]
    },
    {
      "cell_type": "code",
      "source": [
        "model.eval()\n",
        "\n",
        "for params in model.parameters():\n",
        "  params.requires_grad = False"
      ],
      "metadata": {
        "id": "ExahXDvDhWJN"
      },
      "execution_count": 60,
      "outputs": []
    },
    {
      "cell_type": "code",
      "source": [
        "num_ftrs = model.fc.in_features\n",
        "\n",
        "model.fc = nn.Linear(num_ftrs, 3)"
      ],
      "metadata": {
        "id": "c7eSD57QiFck"
      },
      "execution_count": 61,
      "outputs": []
    },
    {
      "cell_type": "code",
      "source": [
        "model = model.cuda()\n",
        "\n",
        "criterion=nn.CrossEntropyLoss(reduction=\"sum\")\n",
        "optimizer = torch.optim.Adam(model.parameters(), lr=lr)\n",
        "\n",
        "scheduler = lr_scheduler.ReduceLROnPlateau(optimizer=optimizer, mode=\"min\", patience=5, factor=0.1)"
      ],
      "metadata": {
        "id": "3RArg5hCiQEg"
      },
      "execution_count": 62,
      "outputs": []
    },
    {
      "cell_type": "code",
      "source": [
        "transfer_df = fit(model=model, train_dataloader=train_dl, val_dataloader=val_dl,\n",
        "            criterion=criterion, optimizer=optimizer, scheduler=scheduler,\n",
        "            epochs=10, experiment_name=\"tranfer\")"
      ],
      "metadata": {
        "colab": {
          "base_uri": "https://localhost:8080/"
        },
        "id": "nLMBggA7iWef",
        "outputId": "552d0898-2ade-4d21-dfbc-dc28ea14fdc8"
      },
      "execution_count": 63,
      "outputs": [
        {
          "output_type": "stream",
          "name": "stdout",
          "text": [
            "Epoch 1\n"
          ]
        },
        {
          "output_type": "stream",
          "name": "stderr",
          "text": [
            "Training: 100%|██████████| 42/42 [00:43<00:00,  1.03s/it]\n",
            "Evaluating: 100%|██████████| 12/12 [00:11<00:00,  1.05it/s]\n"
          ]
        },
        {
          "output_type": "stream",
          "name": "stdout",
          "text": [
            "Training Loss = 0.5219952, Training Accuracy = 0.819\n",
            "Testing Loss = 0.2297439, Testing Accuracy = 0.967\n",
            "New best accuracy: 0.967 at epoch 1\n",
            "**************************************************\n",
            "\n",
            "Epoch 2\n"
          ]
        },
        {
          "output_type": "stream",
          "name": "stderr",
          "text": [
            "Training: 100%|██████████| 42/42 [00:40<00:00,  1.03it/s]\n",
            "Evaluating: 100%|██████████| 12/12 [00:11<00:00,  1.04it/s]\n"
          ]
        },
        {
          "output_type": "stream",
          "name": "stdout",
          "text": [
            "Training Loss = 0.1878766, Training Accuracy = 0.961\n",
            "Testing Loss = 0.1458926, Testing Accuracy = 0.977\n",
            "New best accuracy: 0.977 at epoch 2\n",
            "**************************************************\n",
            "\n",
            "Epoch 3\n"
          ]
        },
        {
          "output_type": "stream",
          "name": "stderr",
          "text": [
            "Training: 100%|██████████| 42/42 [00:42<00:00,  1.01s/it]\n",
            "Evaluating: 100%|██████████| 12/12 [00:11<00:00,  1.05it/s]\n"
          ]
        },
        {
          "output_type": "stream",
          "name": "stdout",
          "text": [
            "Training Loss = 0.1278084, Training Accuracy = 0.974\n",
            "Testing Loss = 0.0955774, Testing Accuracy = 0.984\n",
            "New best accuracy: 0.984 at epoch 3\n",
            "**************************************************\n",
            "\n",
            "Epoch 4\n"
          ]
        },
        {
          "output_type": "stream",
          "name": "stderr",
          "text": [
            "Training: 100%|██████████| 42/42 [00:41<00:00,  1.00it/s]\n",
            "Evaluating: 100%|██████████| 12/12 [00:11<00:00,  1.02it/s]\n"
          ]
        },
        {
          "output_type": "stream",
          "name": "stdout",
          "text": [
            "Training Loss = 0.0983822, Training Accuracy = 0.978\n",
            "Testing Loss = 0.0779297, Testing Accuracy = 0.985\n",
            "New best accuracy: 0.985 at epoch 4\n",
            "**************************************************\n",
            "\n",
            "Epoch 5\n"
          ]
        },
        {
          "output_type": "stream",
          "name": "stderr",
          "text": [
            "Training: 100%|██████████| 42/42 [00:42<00:00,  1.02s/it]\n",
            "Evaluating: 100%|██████████| 12/12 [00:11<00:00,  1.05it/s]\n"
          ]
        },
        {
          "output_type": "stream",
          "name": "stdout",
          "text": [
            "Training Loss = 0.0827348, Training Accuracy = 0.983\n",
            "Testing Loss = 0.0723428, Testing Accuracy = 0.984\n",
            "**************************************************\n",
            "\n",
            "Epoch 6\n"
          ]
        },
        {
          "output_type": "stream",
          "name": "stderr",
          "text": [
            "Training: 100%|██████████| 42/42 [00:42<00:00,  1.01s/it]\n",
            "Evaluating: 100%|██████████| 12/12 [00:11<00:00,  1.03it/s]\n"
          ]
        },
        {
          "output_type": "stream",
          "name": "stdout",
          "text": [
            "Training Loss = 0.0743639, Training Accuracy = 0.986\n",
            "Testing Loss = 0.0551357, Testing Accuracy = 0.993\n",
            "New best accuracy: 0.993 at epoch 6\n",
            "**************************************************\n",
            "\n",
            "Epoch 7\n"
          ]
        },
        {
          "output_type": "stream",
          "name": "stderr",
          "text": [
            "Training: 100%|██████████| 42/42 [00:42<00:00,  1.00s/it]\n",
            "Evaluating: 100%|██████████| 12/12 [00:11<00:00,  1.02it/s]\n"
          ]
        },
        {
          "output_type": "stream",
          "name": "stdout",
          "text": [
            "Training Loss = 0.0663467, Training Accuracy = 0.985\n",
            "Testing Loss = 0.0498855, Testing Accuracy = 0.991\n",
            "**************************************************\n",
            "\n",
            "Epoch 8\n"
          ]
        },
        {
          "output_type": "stream",
          "name": "stderr",
          "text": [
            "Training: 100%|██████████| 42/42 [00:41<00:00,  1.01it/s]\n",
            "Evaluating: 100%|██████████| 12/12 [00:11<00:00,  1.03it/s]\n"
          ]
        },
        {
          "output_type": "stream",
          "name": "stdout",
          "text": [
            "Training Loss = 0.0607426, Training Accuracy = 0.986\n",
            "Testing Loss = 0.0479364, Testing Accuracy = 0.992\n",
            "**************************************************\n",
            "\n",
            "Epoch 9\n"
          ]
        },
        {
          "output_type": "stream",
          "name": "stderr",
          "text": [
            "Training: 100%|██████████| 42/42 [00:42<00:00,  1.01s/it]\n",
            "Evaluating: 100%|██████████| 12/12 [00:11<00:00,  1.04it/s]\n"
          ]
        },
        {
          "output_type": "stream",
          "name": "stdout",
          "text": [
            "Training Loss = 0.0594972, Training Accuracy = 0.985\n",
            "Testing Loss = 0.0455808, Testing Accuracy = 0.993\n",
            "**************************************************\n",
            "\n",
            "Epoch 10\n"
          ]
        },
        {
          "output_type": "stream",
          "name": "stderr",
          "text": [
            "Training: 100%|██████████| 42/42 [00:42<00:00,  1.00s/it]\n",
            "Evaluating: 100%|██████████| 12/12 [00:12<00:00,  1.02s/it]\n"
          ]
        },
        {
          "output_type": "stream",
          "name": "stdout",
          "text": [
            "Training Loss = 0.0551012, Training Accuracy = 0.988\n",
            "Testing Loss = 0.0352641, Testing Accuracy = 0.999\n",
            "New best accuracy: 0.999 at epoch 10\n",
            "**************************************************\n",
            "\n"
          ]
        }
      ]
    },
    {
      "cell_type": "code",
      "source": [
        "fig, ax = plt.subplots(1, 3, figsize=(20, 5), sharex=True)\n",
        "\n",
        "transfer_df.plot(ax=ax[0], y=[0, 2], style=[\"r\", \"b\"])\n",
        "transfer_df.plot(ax=ax[1], y=[1, 3], style=[\"r\", \"b\"])\n",
        "transfer_df.plot(ax=ax[2], y=[4], style=[\"b\"])\n",
        "\n",
        "for i in range(3):\n",
        "  ax[i].set_xlabel(\"Epochs\")\n",
        "  ax[i].grid(which=\"major\", axis=\"both\", color=\"g\", linestyle=\":\")\n",
        "\n",
        "ax[0].set_ylabel(\"Loss\")\n",
        "ax[1].set_ylabel(\"Accuracy (%)\")\n",
        "ax[2].set_ylabel(\"Learning Rate\")\n",
        "\n",
        "fig.suptitle('Custom CNN  Training Metrics', fontsize=16,)\n",
        "plt.show()"
      ],
      "metadata": {
        "colab": {
          "base_uri": "https://localhost:8080/",
          "height": 331
        },
        "id": "tN_GetzkideN",
        "outputId": "c471c897-4b7e-435e-a603-bfadfad905f2"
      },
      "execution_count": 64,
      "outputs": [
        {
          "output_type": "display_data",
          "data": {
            "text/plain": [
              "<Figure size 2000x500 with 3 Axes>"
            ],
            "image/png": "[encoded data removed]"
          },
          "metadata": {}
        }
      ]
    }
  ]
}