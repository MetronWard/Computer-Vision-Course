{
 "cells": [
  {
   "cell_type": "markdown",
   "id": "d6c48b29",
   "metadata": {
    "id": "view-in-github",
    "papermill": {
     "duration": 0.006627,
     "end_time": "2025-08-11T00:54:56.623234",
     "exception": false,
     "start_time": "2025-08-11T00:54:56.616607",
     "status": "completed"
    },
    "tags": []
   },
   "source": [
    "<a href=\"https://colab.research.google.com/github/MetronWard/Computer-Vision-Course/blob/main/Chapter_2_Convolution_Layers.ipynb\" target=\"_parent\"><img src=\"https://colab.research.google.com/assets/colab-badge.svg\" alt=\"Open In Colab\"/></a>"
   ]
  },
  {
   "cell_type": "code",
   "execution_count": 1,
   "id": "50ed87f9",
   "metadata": {
    "execution": {
     "iopub.execute_input": "2025-08-11T00:54:56.635141Z",
     "iopub.status.busy": "2025-08-11T00:54:56.634859Z",
     "iopub.status.idle": "2025-08-11T00:55:08.246692Z",
     "shell.execute_reply": "2025-08-11T00:55:08.246087Z"
    },
    "id": "ad1de3a5",
    "papermill": {
     "duration": 11.619293,
     "end_time": "2025-08-11T00:55:08.248149",
     "exception": false,
     "start_time": "2025-08-11T00:54:56.628856",
     "status": "completed"
    },
    "tags": []
   },
   "outputs": [],
   "source": [
    "import torch\n",
    "import torch.nn as nn\n",
    "import torch.optim.lr_scheduler as lr_scheduler\n",
    "from torch.utils.data import Dataset, DataLoader\n",
    "import torch.optim as optim\n",
    "\n",
    "import torchvision\n",
    "from torchvision import models\n",
    "import torchvision.transforms as T\n",
    "from torchvision.datasets import ImageFolder\n",
    "\n",
    "from sklearn.metrics import precision_score, recall_score, f1_score, confusion_matrix, ConfusionMatrixDisplay, accuracy_score\n",
    "\n",
    "import pandas as pd\n",
    "import numpy as np\n",
    "import matplotlib.pyplot as plt\n",
    "\n",
    "from tqdm import tqdm\n",
    "import os\n",
    "\n",
    "from itertools import islice\n",
    "import seaborn as sns"
   ]
  },
  {
   "cell_type": "markdown",
   "id": "5e72bf70",
   "metadata": {
    "id": "d7646dad",
    "papermill": {
     "duration": 0.005236,
     "end_time": "2025-08-11T00:55:08.259268",
     "exception": false,
     "start_time": "2025-08-11T00:55:08.254032",
     "status": "completed"
    },
    "tags": []
   },
   "source": [
    "# Download Dataset"
   ]
  },
  {
   "cell_type": "code",
   "execution_count": 2,
   "id": "ac3236d9",
   "metadata": {
    "execution": {
     "iopub.execute_input": "2025-08-11T00:55:08.271728Z",
     "iopub.status.busy": "2025-08-11T00:55:08.271403Z",
     "iopub.status.idle": "2025-08-11T00:55:08.607455Z",
     "shell.execute_reply": "2025-08-11T00:55:08.606609Z"
    },
    "id": "a278e8ec",
    "outputId": "d783e8ce-220f-4a68-aae2-430195535fd7",
    "papermill": {
     "duration": 0.343432,
     "end_time": "2025-08-11T00:55:08.608790",
     "exception": false,
     "start_time": "2025-08-11T00:55:08.265358",
     "status": "completed"
    },
    "tags": []
   },
   "outputs": [
    {
     "name": "stdout",
     "output_type": "stream",
     "text": [
      "Path to dataset files: /kaggle/input/guava-disease-dataset\n"
     ]
    }
   ],
   "source": [
    "import kagglehub\n",
    "\n",
    "# Download latest version\n",
    "path = kagglehub.dataset_download(\"asadullahgalib/guava-disease-dataset\")\n",
    "\n",
    "print(\"Path to dataset files:\", path)"
   ]
  },
  {
   "cell_type": "code",
   "execution_count": 3,
   "id": "4791f612",
   "metadata": {
    "execution": {
     "iopub.execute_input": "2025-08-11T00:55:08.621389Z",
     "iopub.status.busy": "2025-08-11T00:55:08.621153Z",
     "iopub.status.idle": "2025-08-11T00:55:08.624338Z",
     "shell.execute_reply": "2025-08-11T00:55:08.623784Z"
    },
    "id": "0be4dc92",
    "papermill": {
     "duration": 0.010621,
     "end_time": "2025-08-11T00:55:08.625474",
     "exception": false,
     "start_time": "2025-08-11T00:55:08.614853",
     "status": "completed"
    },
    "tags": []
   },
   "outputs": [],
   "source": [
    "ds_folder = path+\"/GuavaDiseaseDataset/GuavaDiseaseDataset/\""
   ]
  },
  {
   "cell_type": "code",
   "execution_count": 4,
   "id": "2b09ff1c",
   "metadata": {
    "execution": {
     "iopub.execute_input": "2025-08-11T00:55:08.637391Z",
     "iopub.status.busy": "2025-08-11T00:55:08.637172Z",
     "iopub.status.idle": "2025-08-11T00:55:08.640465Z",
     "shell.execute_reply": "2025-08-11T00:55:08.639925Z"
    },
    "id": "1dcb24d4",
    "papermill": {
     "duration": 0.010415,
     "end_time": "2025-08-11T00:55:08.641467",
     "exception": false,
     "start_time": "2025-08-11T00:55:08.631052",
     "status": "completed"
    },
    "tags": []
   },
   "outputs": [],
   "source": [
    "img_size = (224, 224)\n",
    "img_channels = 3\n",
    "batch_size = 64\n",
    "lr = 1e-3"
   ]
  },
  {
   "cell_type": "markdown",
   "id": "6252bc63",
   "metadata": {
    "id": "a3067990",
    "papermill": {
     "duration": 0.005358,
     "end_time": "2025-08-11T00:55:08.652458",
     "exception": false,
     "start_time": "2025-08-11T00:55:08.647100",
     "status": "completed"
    },
    "tags": []
   },
   "source": [
    "# Datasets and DataLoaders"
   ]
  },
  {
   "cell_type": "code",
   "execution_count": 5,
   "id": "2bb6255c",
   "metadata": {
    "execution": {
     "iopub.execute_input": "2025-08-11T00:55:08.664091Z",
     "iopub.status.busy": "2025-08-11T00:55:08.663858Z",
     "iopub.status.idle": "2025-08-11T00:55:10.835683Z",
     "shell.execute_reply": "2025-08-11T00:55:10.834861Z"
    },
    "id": "df8c6372",
    "papermill": {
     "duration": 2.179515,
     "end_time": "2025-08-11T00:55:10.837298",
     "exception": false,
     "start_time": "2025-08-11T00:55:08.657783",
     "status": "completed"
    },
    "tags": []
   },
   "outputs": [],
   "source": [
    "train_dataset = ImageFolder(root=ds_folder + \"train/\",\n",
    "                            transform=T.Compose([\n",
    "                                T.Resize(img_size),\n",
    "                                T.RandomHorizontalFlip(0.5),\n",
    "                                T.RandomVerticalFlip(0.5),\n",
    "                                T.ToTensor(),\n",
    "                                T.Normalize([0.5]*3, [0.5]*3)]),\n",
    "                            )"
   ]
  },
  {
   "cell_type": "code",
   "execution_count": 6,
   "id": "29b74a72",
   "metadata": {
    "execution": {
     "iopub.execute_input": "2025-08-11T00:55:10.849611Z",
     "iopub.status.busy": "2025-08-11T00:55:10.849384Z",
     "iopub.status.idle": "2025-08-11T00:55:11.130656Z",
     "shell.execute_reply": "2025-08-11T00:55:11.130056Z"
    },
    "id": "05431ca6",
    "papermill": {
     "duration": 0.288462,
     "end_time": "2025-08-11T00:55:11.131865",
     "exception": false,
     "start_time": "2025-08-11T00:55:10.843403",
     "status": "completed"
    },
    "tags": []
   },
   "outputs": [],
   "source": [
    "test_dataset = ImageFolder(root=ds_folder + \"test/\",\n",
    "                            transform=T.Compose([\n",
    "                                T.Resize(img_size),\n",
    "                                T.ToTensor(),\n",
    "                                T.Normalize([0.5]*3, [0.5]*3)]),\n",
    "                            )"
   ]
  },
  {
   "cell_type": "code",
   "execution_count": 7,
   "id": "86e58987",
   "metadata": {
    "execution": {
     "iopub.execute_input": "2025-08-11T00:55:11.144307Z",
     "iopub.status.busy": "2025-08-11T00:55:11.144082Z",
     "iopub.status.idle": "2025-08-11T00:55:11.669539Z",
     "shell.execute_reply": "2025-08-11T00:55:11.668915Z"
    },
    "id": "406ad3df",
    "papermill": {
     "duration": 0.533041,
     "end_time": "2025-08-11T00:55:11.670751",
     "exception": false,
     "start_time": "2025-08-11T00:55:11.137710",
     "status": "completed"
    },
    "tags": []
   },
   "outputs": [],
   "source": [
    "val_dataset = ImageFolder(root=ds_folder + \"val/\",\n",
    "                            transform=T.Compose([\n",
    "                                T.Resize(img_size),\n",
    "                                T.ToTensor(),\n",
    "                                T.Normalize([0.5]*3, [0.5]*3)]),\n",
    "                            )"
   ]
  },
  {
   "cell_type": "code",
   "execution_count": 8,
   "id": "de1f78bc",
   "metadata": {
    "execution": {
     "iopub.execute_input": "2025-08-11T00:55:11.683125Z",
     "iopub.status.busy": "2025-08-11T00:55:11.682608Z",
     "iopub.status.idle": "2025-08-11T00:55:11.686627Z",
     "shell.execute_reply": "2025-08-11T00:55:11.686087Z"
    },
    "id": "cba85d9e",
    "papermill": {
     "duration": 0.0111,
     "end_time": "2025-08-11T00:55:11.687719",
     "exception": false,
     "start_time": "2025-08-11T00:55:11.676619",
     "status": "completed"
    },
    "tags": []
   },
   "outputs": [],
   "source": [
    "train_dl = DataLoader(train_dataset, batch_size=batch_size, shuffle=True)\n",
    "test_dl = DataLoader(test_dataset, batch_size=len(test_dataset) // 10, shuffle=False)\n",
    "val_dl = DataLoader(val_dataset, batch_size=batch_size, shuffle=False)"
   ]
  },
  {
   "cell_type": "code",
   "execution_count": 9,
   "id": "642fad8a",
   "metadata": {
    "execution": {
     "iopub.execute_input": "2025-08-11T00:55:11.699313Z",
     "iopub.status.busy": "2025-08-11T00:55:11.699126Z",
     "iopub.status.idle": "2025-08-11T00:55:11.702310Z",
     "shell.execute_reply": "2025-08-11T00:55:11.701795Z"
    },
    "id": "76a7ef5e",
    "papermill": {
     "duration": 0.009979,
     "end_time": "2025-08-11T00:55:11.703287",
     "exception": false,
     "start_time": "2025-08-11T00:55:11.693308",
     "status": "completed"
    },
    "tags": []
   },
   "outputs": [],
   "source": [
    "os.makedirs(\"Models\", exist_ok=True)"
   ]
  },
  {
   "cell_type": "markdown",
   "id": "08e7d74d",
   "metadata": {
    "id": "d1b2f943",
    "papermill": {
     "duration": 0.005107,
     "end_time": "2025-08-11T00:55:11.713824",
     "exception": false,
     "start_time": "2025-08-11T00:55:11.708717",
     "status": "completed"
    },
    "tags": []
   },
   "source": [
    "# Training Functins"
   ]
  },
  {
   "cell_type": "code",
   "execution_count": 10,
   "id": "70d820cf",
   "metadata": {
    "execution": {
     "iopub.execute_input": "2025-08-11T00:55:11.725293Z",
     "iopub.status.busy": "2025-08-11T00:55:11.725120Z",
     "iopub.status.idle": "2025-08-11T00:55:11.730393Z",
     "shell.execute_reply": "2025-08-11T00:55:11.729714Z"
    },
    "id": "311a48ba",
    "papermill": {
     "duration": 0.012174,
     "end_time": "2025-08-11T00:55:11.731487",
     "exception": false,
     "start_time": "2025-08-11T00:55:11.719313",
     "status": "completed"
    },
    "tags": []
   },
   "outputs": [],
   "source": [
    "def train_step(model, data_loader, criterion, optimizer, scheduler):\n",
    "\n",
    "  n_samples = len(data_loader.dataset)\n",
    "\n",
    "  progress_bar = tqdm(data_loader, desc=\"Training\")\n",
    "  total_loss = 0.0\n",
    "  total_correct = 0.0\n",
    "\n",
    "  model.train()\n",
    "\n",
    "  for image, label in progress_bar:\n",
    "    images, labels = image.cuda(), label.cuda()\n",
    "\n",
    "    optimizer.zero_grad()\n",
    "\n",
    "    predictions = model(images)\n",
    "    predicted_classes = torch.argmax(predictions, dim=1)\n",
    "    correct_classes = torch.sum(predicted_classes == labels)\n",
    "    loss = criterion(predictions, labels)\n",
    "\n",
    "    total_correct += correct_classes.item()\n",
    "    total_loss += loss.item()\n",
    "\n",
    "    loss.backward()\n",
    "    nn.utils.clip_grad_value_(model.parameters(), clip_value=0.1)\n",
    "    optimizer.step()\n",
    "  scheduler.step(loss.item())\n",
    "\n",
    "  return total_loss/n_samples, 100 * (total_correct/n_samples)"
   ]
  },
  {
   "cell_type": "code",
   "execution_count": 11,
   "id": "de2a3824",
   "metadata": {
    "execution": {
     "iopub.execute_input": "2025-08-11T00:55:11.743002Z",
     "iopub.status.busy": "2025-08-11T00:55:11.742754Z",
     "iopub.status.idle": "2025-08-11T00:55:11.747519Z",
     "shell.execute_reply": "2025-08-11T00:55:11.746856Z"
    },
    "id": "c22b85c6",
    "papermill": {
     "duration": 0.011721,
     "end_time": "2025-08-11T00:55:11.748571",
     "exception": false,
     "start_time": "2025-08-11T00:55:11.736850",
     "status": "completed"
    },
    "tags": []
   },
   "outputs": [],
   "source": [
    "def evaluate(model, data_loader, criterion):\n",
    "\n",
    "  model.eval()\n",
    "\n",
    "  n_samples = len(data_loader.dataset)\n",
    "\n",
    "  progress_bar = tqdm(data_loader, desc=\"Evaluating\")\n",
    "  total_loss = 0.0\n",
    "  total_correct = 0.0\n",
    "\n",
    "  with torch.no_grad():\n",
    "\n",
    "    for image, label in progress_bar:\n",
    "      images, labels = image.cuda(), label.cuda()\n",
    "\n",
    "      predictions = model(images)\n",
    "      predicted_classes = torch.argmax(predictions, dim=1)\n",
    "      correct_classes = torch.sum(predicted_classes == labels)\n",
    "      loss = criterion(predictions, labels)\n",
    "\n",
    "      total_correct += correct_classes.item()\n",
    "      total_loss += loss.item()\n",
    "\n",
    "  return total_loss/n_samples, 100 * (total_correct/n_samples)"
   ]
  },
  {
   "cell_type": "code",
   "execution_count": 12,
   "id": "d61bf293",
   "metadata": {
    "execution": {
     "iopub.execute_input": "2025-08-11T00:55:11.760003Z",
     "iopub.status.busy": "2025-08-11T00:55:11.759794Z",
     "iopub.status.idle": "2025-08-11T00:55:11.765308Z",
     "shell.execute_reply": "2025-08-11T00:55:11.764802Z"
    },
    "id": "1cb19f56",
    "papermill": {
     "duration": 0.012329,
     "end_time": "2025-08-11T00:55:11.766322",
     "exception": false,
     "start_time": "2025-08-11T00:55:11.753993",
     "status": "completed"
    },
    "tags": []
   },
   "outputs": [],
   "source": [
    "def fit(model, train_dataloader, val_dataloader, criterion, optimizer, scheduler, epochs, experiment_name):\n",
    "\n",
    "  df = pd.DataFrame(np.empty([epochs, 5]),\n",
    "                    index=np.arange(epochs),\n",
    "                    columns=[\"Train_Loss\", \"Train_Acc\", \"Val_Loss\", \"Val_Acc\", \"lr\"])\n",
    "\n",
    "  highest_acc = 0.00\n",
    "\n",
    "  for epoch in range(epochs):\n",
    "    print(f\"Epoch {epoch+1}\")\n",
    "\n",
    "    df.iloc[epoch, 0], df.iloc[epoch, 1] = train_step(model=model, data_loader=train_dataloader,\n",
    "                                            criterion=criterion, optimizer=optimizer,\n",
    "                                            scheduler=scheduler)\n",
    "\n",
    "    df.iloc[epoch, 2], df.iloc[epoch, 3] = evaluate(model=model, data_loader=val_dataloader,\n",
    "                                            criterion=criterion)\n",
    "\n",
    "    df.iloc[epoch, 4] = optimizer.param_groups[0][\"lr\"]\n",
    "\n",
    "    print(f\"Training Loss = {df.iloc[epoch, 0]:.7f}, Training Accuracy = {df.iloc[epoch, 1]:.3f}\\nTesting Loss = {df.iloc[epoch, 2]:.7f}, Testing Accuracy = {df.iloc[epoch, 3]:.3f}\")\n",
    "\n",
    "\n",
    "    if df.iloc[epoch, 3] > highest_acc:\n",
    "      torch.save(model.state_dict(), f\"Models/{experiment_name}.pth\")\n",
    "      highest_acc = df.iloc[epoch, 3]\n",
    "      print(f\"New best accuracy: {highest_acc:.3f} at epoch {epoch+1}\")\n",
    "\n",
    "    print(\"*\"*50)\n",
    "    print(\"\")\n",
    "\n",
    "  return df"
   ]
  },
  {
   "cell_type": "markdown",
   "id": "0d5e16ff",
   "metadata": {
    "id": "2392d1c7",
    "papermill": {
     "duration": 0.005163,
     "end_time": "2025-08-11T00:55:11.776884",
     "exception": false,
     "start_time": "2025-08-11T00:55:11.771721",
     "status": "completed"
    },
    "tags": []
   },
   "source": [
    "# FC Neural Network"
   ]
  },
  {
   "cell_type": "code",
   "execution_count": 13,
   "id": "1153ba9d",
   "metadata": {
    "execution": {
     "iopub.execute_input": "2025-08-11T00:55:11.788231Z",
     "iopub.status.busy": "2025-08-11T00:55:11.788027Z",
     "iopub.status.idle": "2025-08-11T00:55:11.792725Z",
     "shell.execute_reply": "2025-08-11T00:55:11.792186Z"
    },
    "id": "32a08bf5",
    "papermill": {
     "duration": 0.01158,
     "end_time": "2025-08-11T00:55:11.793809",
     "exception": false,
     "start_time": "2025-08-11T00:55:11.782229",
     "status": "completed"
    },
    "tags": []
   },
   "outputs": [],
   "source": [
    "class FC_Model(nn.Module):\n",
    "  def __init__(self, skeleton:list, num_classes):\n",
    "    super().__init__()\n",
    "    layer_list = []\n",
    "    for i in range(len(skeleton) -1):\n",
    "      layer_list.append(nn.Linear(skeleton[i], skeleton[i+1]))\n",
    "      layer_list.append(nn.BatchNorm1d(skeleton[i+1]))\n",
    "      layer_list.append(nn.Dropout1d(0.5))\n",
    "      layer_list.append(nn.ReLU())\n",
    "    layer_list.append(nn.Linear(skeleton[-1], num_classes))\n",
    "    self.model = nn.Sequential(*layer_list)\n",
    "\n",
    "  def forward(self, images):\n",
    "    inputs = images.view(images.shape[0], -1)\n",
    "    output = self.model(inputs)\n",
    "    return output"
   ]
  },
  {
   "cell_type": "code",
   "execution_count": 14,
   "id": "f938cff6",
   "metadata": {
    "execution": {
     "iopub.execute_input": "2025-08-11T00:55:11.805380Z",
     "iopub.status.busy": "2025-08-11T00:55:11.805191Z",
     "iopub.status.idle": "2025-08-11T00:55:12.166801Z",
     "shell.execute_reply": "2025-08-11T00:55:12.166207Z"
    },
    "id": "4744fb4d",
    "papermill": {
     "duration": 0.369053,
     "end_time": "2025-08-11T00:55:12.168203",
     "exception": false,
     "start_time": "2025-08-11T00:55:11.799150",
     "status": "completed"
    },
    "tags": []
   },
   "outputs": [],
   "source": [
    "model = FC_Model(skeleton=[img_size[0]*img_size[1]*3, 100, 50, 20], num_classes=3).cuda()"
   ]
  },
  {
   "cell_type": "code",
   "execution_count": 15,
   "id": "ef4c605a",
   "metadata": {
    "execution": {
     "iopub.execute_input": "2025-08-11T00:55:12.180985Z",
     "iopub.status.busy": "2025-08-11T00:55:12.180298Z",
     "iopub.status.idle": "2025-08-11T00:55:12.184489Z",
     "shell.execute_reply": "2025-08-11T00:55:12.183773Z"
    },
    "id": "1a0515d0",
    "papermill": {
     "duration": 0.011254,
     "end_time": "2025-08-11T00:55:12.185528",
     "exception": false,
     "start_time": "2025-08-11T00:55:12.174274",
     "status": "completed"
    },
    "tags": []
   },
   "outputs": [],
   "source": [
    "criterion = nn.CrossEntropyLoss()\n",
    "optimizer = optim.Adam(model.parameters(), lr=lr)\n",
    "scheduler = lr_scheduler.ReduceLROnPlateau(optimizer=optimizer, mode=\"min\", patience=5, factor=0.1)"
   ]
  },
  {
   "cell_type": "code",
   "execution_count": 16,
   "id": "9468ac7b",
   "metadata": {
    "execution": {
     "iopub.execute_input": "2025-08-11T00:55:12.197405Z",
     "iopub.status.busy": "2025-08-11T00:55:12.197211Z",
     "iopub.status.idle": "2025-08-11T01:23:39.598586Z",
     "shell.execute_reply": "2025-08-11T01:23:39.597875Z"
    },
    "id": "042bcb54",
    "outputId": "681008fc-ffaf-4bc8-8ba3-2ad476f55b88",
    "papermill": {
     "duration": 1707.408683,
     "end_time": "2025-08-11T01:23:39.599785",
     "exception": false,
     "start_time": "2025-08-11T00:55:12.191102",
     "status": "completed"
    },
    "tags": []
   },
   "outputs": [
    {
     "name": "stdout",
     "output_type": "stream",
     "text": [
      "Epoch 1\n"
     ]
    },
    {
     "name": "stderr",
     "output_type": "stream",
     "text": [
      "Training: 100%|██████████| 42/42 [00:42<00:00,  1.00s/it]\n",
      "Evaluating: 100%|██████████| 12/12 [00:10<00:00,  1.12it/s]\n"
     ]
    },
    {
     "name": "stdout",
     "output_type": "stream",
     "text": [
      "Training Loss = 0.0174216, Training Accuracy = 33.094\n",
      "Testing Loss = 0.0160125, Testing Accuracy = 58.808\n",
      "New best accuracy: 58.808 at epoch 1\n",
      "**************************************************\n",
      "\n",
      "Epoch 2\n"
     ]
    },
    {
     "name": "stderr",
     "output_type": "stream",
     "text": [
      "Training: 100%|██████████| 42/42 [00:26<00:00,  1.59it/s]\n",
      "Evaluating: 100%|██████████| 12/12 [00:07<00:00,  1.64it/s]\n"
     ]
    },
    {
     "name": "stdout",
     "output_type": "stream",
     "text": [
      "Training Loss = 0.0163182, Training Accuracy = 41.292\n",
      "Testing Loss = 0.0151923, Testing Accuracy = 69.404\n",
      "New best accuracy: 69.404 at epoch 2\n",
      "**************************************************\n",
      "\n",
      "Epoch 3\n"
     ]
    },
    {
     "name": "stderr",
     "output_type": "stream",
     "text": [
      "Training: 100%|██████████| 42/42 [00:26<00:00,  1.61it/s]\n",
      "Evaluating: 100%|██████████| 12/12 [00:07<00:00,  1.66it/s]\n"
     ]
    },
    {
     "name": "stdout",
     "output_type": "stream",
     "text": [
      "Training Loss = 0.0162822, Training Accuracy = 45.372\n",
      "Testing Loss = 0.0152978, Testing Accuracy = 69.404\n",
      "**************************************************\n",
      "\n",
      "Epoch 4\n"
     ]
    },
    {
     "name": "stderr",
     "output_type": "stream",
     "text": [
      "Training: 100%|██████████| 42/42 [00:26<00:00,  1.60it/s]\n",
      "Evaluating: 100%|██████████| 12/12 [00:07<00:00,  1.64it/s]\n"
     ]
    },
    {
     "name": "stdout",
     "output_type": "stream",
     "text": [
      "Training Loss = 0.0165432, Training Accuracy = 45.032\n",
      "Testing Loss = 0.0148678, Testing Accuracy = 73.642\n",
      "New best accuracy: 73.642 at epoch 4\n",
      "**************************************************\n",
      "\n",
      "Epoch 5\n"
     ]
    },
    {
     "name": "stderr",
     "output_type": "stream",
     "text": [
      "Training: 100%|██████████| 42/42 [00:26<00:00,  1.61it/s]\n",
      "Evaluating: 100%|██████████| 12/12 [00:07<00:00,  1.66it/s]\n"
     ]
    },
    {
     "name": "stdout",
     "output_type": "stream",
     "text": [
      "Training Loss = 0.0162492, Training Accuracy = 45.637\n",
      "Testing Loss = 0.0144051, Testing Accuracy = 74.437\n",
      "New best accuracy: 74.437 at epoch 5\n",
      "**************************************************\n",
      "\n",
      "Epoch 6\n"
     ]
    },
    {
     "name": "stderr",
     "output_type": "stream",
     "text": [
      "Training: 100%|██████████| 42/42 [00:26<00:00,  1.61it/s]\n",
      "Evaluating: 100%|██████████| 12/12 [00:07<00:00,  1.65it/s]\n"
     ]
    },
    {
     "name": "stdout",
     "output_type": "stream",
     "text": [
      "Training Loss = 0.0161394, Training Accuracy = 45.712\n",
      "Testing Loss = 0.0145697, Testing Accuracy = 76.556\n",
      "New best accuracy: 76.556 at epoch 6\n",
      "**************************************************\n",
      "\n",
      "Epoch 7\n"
     ]
    },
    {
     "name": "stderr",
     "output_type": "stream",
     "text": [
      "Training: 100%|██████████| 42/42 [00:26<00:00,  1.61it/s]\n",
      "Evaluating: 100%|██████████| 12/12 [00:07<00:00,  1.64it/s]\n"
     ]
    },
    {
     "name": "stdout",
     "output_type": "stream",
     "text": [
      "Training Loss = 0.0162033, Training Accuracy = 45.561\n",
      "Testing Loss = 0.0147118, Testing Accuracy = 73.907\n",
      "**************************************************\n",
      "\n",
      "Epoch 8\n"
     ]
    },
    {
     "name": "stderr",
     "output_type": "stream",
     "text": [
      "Training: 100%|██████████| 42/42 [00:26<00:00,  1.61it/s]\n",
      "Evaluating: 100%|██████████| 12/12 [00:07<00:00,  1.66it/s]\n"
     ]
    },
    {
     "name": "stdout",
     "output_type": "stream",
     "text": [
      "Training Loss = 0.0162325, Training Accuracy = 45.259\n",
      "Testing Loss = 0.0145381, Testing Accuracy = 75.762\n",
      "**************************************************\n",
      "\n",
      "Epoch 9\n"
     ]
    },
    {
     "name": "stderr",
     "output_type": "stream",
     "text": [
      "Training: 100%|██████████| 42/42 [00:26<00:00,  1.61it/s]\n",
      "Evaluating: 100%|██████████| 12/12 [00:07<00:00,  1.65it/s]\n"
     ]
    },
    {
     "name": "stdout",
     "output_type": "stream",
     "text": [
      "Training Loss = 0.0161887, Training Accuracy = 45.032\n",
      "Testing Loss = 0.0143383, Testing Accuracy = 74.305\n",
      "**************************************************\n",
      "\n",
      "Epoch 10\n"
     ]
    },
    {
     "name": "stderr",
     "output_type": "stream",
     "text": [
      "Training: 100%|██████████| 42/42 [00:26<00:00,  1.59it/s]\n",
      "Evaluating: 100%|██████████| 12/12 [00:07<00:00,  1.66it/s]\n"
     ]
    },
    {
     "name": "stdout",
     "output_type": "stream",
     "text": [
      "Training Loss = 0.0161202, Training Accuracy = 44.617\n",
      "Testing Loss = 0.0141436, Testing Accuracy = 75.364\n",
      "**************************************************\n",
      "\n",
      "Epoch 11\n"
     ]
    },
    {
     "name": "stderr",
     "output_type": "stream",
     "text": [
      "Training: 100%|██████████| 42/42 [00:26<00:00,  1.57it/s]\n",
      "Evaluating: 100%|██████████| 12/12 [00:07<00:00,  1.63it/s]\n"
     ]
    },
    {
     "name": "stdout",
     "output_type": "stream",
     "text": [
      "Training Loss = 0.0161802, Training Accuracy = 44.428\n",
      "Testing Loss = 0.0141459, Testing Accuracy = 75.232\n",
      "**************************************************\n",
      "\n",
      "Epoch 12\n"
     ]
    },
    {
     "name": "stderr",
     "output_type": "stream",
     "text": [
      "Training: 100%|██████████| 42/42 [00:25<00:00,  1.62it/s]\n",
      "Evaluating: 100%|██████████| 12/12 [00:07<00:00,  1.56it/s]\n"
     ]
    },
    {
     "name": "stdout",
     "output_type": "stream",
     "text": [
      "Training Loss = 0.0160724, Training Accuracy = 45.297\n",
      "Testing Loss = 0.0139795, Testing Accuracy = 76.556\n",
      "**************************************************\n",
      "\n",
      "Epoch 13\n"
     ]
    },
    {
     "name": "stderr",
     "output_type": "stream",
     "text": [
      "Training: 100%|██████████| 42/42 [00:26<00:00,  1.61it/s]\n",
      "Evaluating: 100%|██████████| 12/12 [00:07<00:00,  1.62it/s]\n"
     ]
    },
    {
     "name": "stdout",
     "output_type": "stream",
     "text": [
      "Training Loss = 0.0158558, Training Accuracy = 45.372\n",
      "Testing Loss = 0.0140646, Testing Accuracy = 77.086\n",
      "New best accuracy: 77.086 at epoch 13\n",
      "**************************************************\n",
      "\n",
      "Epoch 14\n"
     ]
    },
    {
     "name": "stderr",
     "output_type": "stream",
     "text": [
      "Training: 100%|██████████| 42/42 [00:25<00:00,  1.63it/s]\n",
      "Evaluating: 100%|██████████| 12/12 [00:07<00:00,  1.58it/s]\n"
     ]
    },
    {
     "name": "stdout",
     "output_type": "stream",
     "text": [
      "Training Loss = 0.0157866, Training Accuracy = 47.148\n",
      "Testing Loss = 0.0141758, Testing Accuracy = 75.232\n",
      "**************************************************\n",
      "\n",
      "Epoch 15\n"
     ]
    },
    {
     "name": "stderr",
     "output_type": "stream",
     "text": [
      "Training: 100%|██████████| 42/42 [00:26<00:00,  1.61it/s]\n",
      "Evaluating: 100%|██████████| 12/12 [00:07<00:00,  1.60it/s]\n"
     ]
    },
    {
     "name": "stdout",
     "output_type": "stream",
     "text": [
      "Training Loss = 0.0158269, Training Accuracy = 46.241\n",
      "Testing Loss = 0.0140320, Testing Accuracy = 74.437\n",
      "**************************************************\n",
      "\n",
      "Epoch 16\n"
     ]
    },
    {
     "name": "stderr",
     "output_type": "stream",
     "text": [
      "Training: 100%|██████████| 42/42 [00:26<00:00,  1.59it/s]\n",
      "Evaluating: 100%|██████████| 12/12 [00:07<00:00,  1.65it/s]\n"
     ]
    },
    {
     "name": "stdout",
     "output_type": "stream",
     "text": [
      "Training Loss = 0.0158432, Training Accuracy = 45.825\n",
      "Testing Loss = 0.0140288, Testing Accuracy = 76.159\n",
      "**************************************************\n",
      "\n",
      "Epoch 17\n"
     ]
    },
    {
     "name": "stderr",
     "output_type": "stream",
     "text": [
      "Training: 100%|██████████| 42/42 [00:26<00:00,  1.58it/s]\n",
      "Evaluating: 100%|██████████| 12/12 [00:07<00:00,  1.65it/s]\n"
     ]
    },
    {
     "name": "stdout",
     "output_type": "stream",
     "text": [
      "Training Loss = 0.0160870, Training Accuracy = 45.032\n",
      "Testing Loss = 0.0138371, Testing Accuracy = 77.748\n",
      "New best accuracy: 77.748 at epoch 17\n",
      "**************************************************\n",
      "\n",
      "Epoch 18\n"
     ]
    },
    {
     "name": "stderr",
     "output_type": "stream",
     "text": [
      "Training: 100%|██████████| 42/42 [00:26<00:00,  1.58it/s]\n",
      "Evaluating: 100%|██████████| 12/12 [00:07<00:00,  1.61it/s]\n"
     ]
    },
    {
     "name": "stdout",
     "output_type": "stream",
     "text": [
      "Training Loss = 0.0158841, Training Accuracy = 46.165\n",
      "Testing Loss = 0.0139571, Testing Accuracy = 76.556\n",
      "**************************************************\n",
      "\n",
      "Epoch 19\n"
     ]
    },
    {
     "name": "stderr",
     "output_type": "stream",
     "text": [
      "Training: 100%|██████████| 42/42 [00:26<00:00,  1.60it/s]\n",
      "Evaluating: 100%|██████████| 12/12 [00:07<00:00,  1.64it/s]\n"
     ]
    },
    {
     "name": "stdout",
     "output_type": "stream",
     "text": [
      "Training Loss = 0.0158083, Training Accuracy = 45.977\n",
      "Testing Loss = 0.0135925, Testing Accuracy = 77.881\n",
      "New best accuracy: 77.881 at epoch 19\n",
      "**************************************************\n",
      "\n",
      "Epoch 20\n"
     ]
    },
    {
     "name": "stderr",
     "output_type": "stream",
     "text": [
      "Training: 100%|██████████| 42/42 [00:26<00:00,  1.60it/s]\n",
      "Evaluating: 100%|██████████| 12/12 [00:07<00:00,  1.65it/s]\n"
     ]
    },
    {
     "name": "stdout",
     "output_type": "stream",
     "text": [
      "Training Loss = 0.0158494, Training Accuracy = 45.561\n",
      "Testing Loss = 0.0138555, Testing Accuracy = 77.219\n",
      "**************************************************\n",
      "\n",
      "Epoch 21\n"
     ]
    },
    {
     "name": "stderr",
     "output_type": "stream",
     "text": [
      "Training: 100%|██████████| 42/42 [00:26<00:00,  1.61it/s]\n",
      "Evaluating: 100%|██████████| 12/12 [00:07<00:00,  1.64it/s]\n"
     ]
    },
    {
     "name": "stdout",
     "output_type": "stream",
     "text": [
      "Training Loss = 0.0156898, Training Accuracy = 47.185\n",
      "Testing Loss = 0.0136015, Testing Accuracy = 78.013\n",
      "New best accuracy: 78.013 at epoch 21\n",
      "**************************************************\n",
      "\n",
      "Epoch 22\n"
     ]
    },
    {
     "name": "stderr",
     "output_type": "stream",
     "text": [
      "Training: 100%|██████████| 42/42 [00:26<00:00,  1.59it/s]\n",
      "Evaluating: 100%|██████████| 12/12 [00:07<00:00,  1.64it/s]\n"
     ]
    },
    {
     "name": "stdout",
     "output_type": "stream",
     "text": [
      "Training Loss = 0.0157321, Training Accuracy = 46.279\n",
      "Testing Loss = 0.0136332, Testing Accuracy = 77.748\n",
      "**************************************************\n",
      "\n",
      "Epoch 23\n"
     ]
    },
    {
     "name": "stderr",
     "output_type": "stream",
     "text": [
      "Training: 100%|██████████| 42/42 [00:26<00:00,  1.60it/s]\n",
      "Evaluating: 100%|██████████| 12/12 [00:07<00:00,  1.60it/s]\n"
     ]
    },
    {
     "name": "stdout",
     "output_type": "stream",
     "text": [
      "Training Loss = 0.0156644, Training Accuracy = 46.165\n",
      "Testing Loss = 0.0135946, Testing Accuracy = 78.543\n",
      "New best accuracy: 78.543 at epoch 23\n",
      "**************************************************\n",
      "\n",
      "Epoch 24\n"
     ]
    },
    {
     "name": "stderr",
     "output_type": "stream",
     "text": [
      "Training: 100%|██████████| 42/42 [00:26<00:00,  1.59it/s]\n",
      "Evaluating: 100%|██████████| 12/12 [00:07<00:00,  1.65it/s]\n"
     ]
    },
    {
     "name": "stdout",
     "output_type": "stream",
     "text": [
      "Training Loss = 0.0158138, Training Accuracy = 46.505\n",
      "Testing Loss = 0.0134661, Testing Accuracy = 78.675\n",
      "New best accuracy: 78.675 at epoch 24\n",
      "**************************************************\n",
      "\n",
      "Epoch 25\n"
     ]
    },
    {
     "name": "stderr",
     "output_type": "stream",
     "text": [
      "Training: 100%|██████████| 42/42 [00:26<00:00,  1.61it/s]\n",
      "Evaluating: 100%|██████████| 12/12 [00:07<00:00,  1.64it/s]\n"
     ]
    },
    {
     "name": "stdout",
     "output_type": "stream",
     "text": [
      "Training Loss = 0.0157083, Training Accuracy = 46.921\n",
      "Testing Loss = 0.0135491, Testing Accuracy = 78.146\n",
      "**************************************************\n",
      "\n",
      "Epoch 26\n"
     ]
    },
    {
     "name": "stderr",
     "output_type": "stream",
     "text": [
      "Training: 100%|██████████| 42/42 [00:26<00:00,  1.61it/s]\n",
      "Evaluating: 100%|██████████| 12/12 [00:07<00:00,  1.67it/s]\n"
     ]
    },
    {
     "name": "stdout",
     "output_type": "stream",
     "text": [
      "Training Loss = 0.0156175, Training Accuracy = 46.619\n",
      "Testing Loss = 0.0134513, Testing Accuracy = 76.954\n",
      "**************************************************\n",
      "\n",
      "Epoch 27\n"
     ]
    },
    {
     "name": "stderr",
     "output_type": "stream",
     "text": [
      "Training: 100%|██████████| 42/42 [00:26<00:00,  1.60it/s]\n",
      "Evaluating: 100%|██████████| 12/12 [00:07<00:00,  1.58it/s]\n"
     ]
    },
    {
     "name": "stdout",
     "output_type": "stream",
     "text": [
      "Training Loss = 0.0157721, Training Accuracy = 46.430\n",
      "Testing Loss = 0.0134456, Testing Accuracy = 78.146\n",
      "**************************************************\n",
      "\n",
      "Epoch 28\n"
     ]
    },
    {
     "name": "stderr",
     "output_type": "stream",
     "text": [
      "Training: 100%|██████████| 42/42 [00:26<00:00,  1.59it/s]\n",
      "Evaluating: 100%|██████████| 12/12 [00:07<00:00,  1.56it/s]\n"
     ]
    },
    {
     "name": "stdout",
     "output_type": "stream",
     "text": [
      "Training Loss = 0.0157978, Training Accuracy = 46.619\n",
      "Testing Loss = 0.0134556, Testing Accuracy = 76.026\n",
      "**************************************************\n",
      "\n",
      "Epoch 29\n"
     ]
    },
    {
     "name": "stderr",
     "output_type": "stream",
     "text": [
      "Training: 100%|██████████| 42/42 [00:26<00:00,  1.61it/s]\n",
      "Evaluating: 100%|██████████| 12/12 [00:07<00:00,  1.61it/s]\n"
     ]
    },
    {
     "name": "stdout",
     "output_type": "stream",
     "text": [
      "Training Loss = 0.0156938, Training Accuracy = 47.185\n",
      "Testing Loss = 0.0134435, Testing Accuracy = 77.086\n",
      "**************************************************\n",
      "\n",
      "Epoch 30\n"
     ]
    },
    {
     "name": "stderr",
     "output_type": "stream",
     "text": [
      "Training: 100%|██████████| 42/42 [00:25<00:00,  1.62it/s]\n",
      "Evaluating: 100%|██████████| 12/12 [00:07<00:00,  1.58it/s]\n"
     ]
    },
    {
     "name": "stdout",
     "output_type": "stream",
     "text": [
      "Training Loss = 0.0156146, Training Accuracy = 46.619\n",
      "Testing Loss = 0.0134005, Testing Accuracy = 77.616\n",
      "**************************************************\n",
      "\n",
      "Epoch 31\n"
     ]
    },
    {
     "name": "stderr",
     "output_type": "stream",
     "text": [
      "Training: 100%|██████████| 42/42 [00:26<00:00,  1.59it/s]\n",
      "Evaluating: 100%|██████████| 12/12 [00:07<00:00,  1.65it/s]\n"
     ]
    },
    {
     "name": "stdout",
     "output_type": "stream",
     "text": [
      "Training Loss = 0.0156597, Training Accuracy = 46.392\n",
      "Testing Loss = 0.0135093, Testing Accuracy = 77.616\n",
      "**************************************************\n",
      "\n",
      "Epoch 32\n"
     ]
    },
    {
     "name": "stderr",
     "output_type": "stream",
     "text": [
      "Training: 100%|██████████| 42/42 [00:26<00:00,  1.59it/s]\n",
      "Evaluating: 100%|██████████| 12/12 [00:07<00:00,  1.64it/s]\n"
     ]
    },
    {
     "name": "stdout",
     "output_type": "stream",
     "text": [
      "Training Loss = 0.0159502, Training Accuracy = 46.354\n",
      "Testing Loss = 0.0134358, Testing Accuracy = 78.013\n",
      "**************************************************\n",
      "\n",
      "Epoch 33\n"
     ]
    },
    {
     "name": "stderr",
     "output_type": "stream",
     "text": [
      "Training: 100%|██████████| 42/42 [00:26<00:00,  1.59it/s]\n",
      "Evaluating: 100%|██████████| 12/12 [00:07<00:00,  1.64it/s]\n"
     ]
    },
    {
     "name": "stdout",
     "output_type": "stream",
     "text": [
      "Training Loss = 0.0155980, Training Accuracy = 47.223\n",
      "Testing Loss = 0.0133558, Testing Accuracy = 78.278\n",
      "**************************************************\n",
      "\n",
      "Epoch 34\n"
     ]
    },
    {
     "name": "stderr",
     "output_type": "stream",
     "text": [
      "Training: 100%|██████████| 42/42 [00:26<00:00,  1.59it/s]\n",
      "Evaluating: 100%|██████████| 12/12 [00:07<00:00,  1.62it/s]\n"
     ]
    },
    {
     "name": "stdout",
     "output_type": "stream",
     "text": [
      "Training Loss = 0.0156857, Training Accuracy = 47.223\n",
      "Testing Loss = 0.0136195, Testing Accuracy = 75.894\n",
      "**************************************************\n",
      "\n",
      "Epoch 35\n"
     ]
    },
    {
     "name": "stderr",
     "output_type": "stream",
     "text": [
      "Training: 100%|██████████| 42/42 [00:26<00:00,  1.59it/s]\n",
      "Evaluating: 100%|██████████| 12/12 [00:07<00:00,  1.64it/s]\n"
     ]
    },
    {
     "name": "stdout",
     "output_type": "stream",
     "text": [
      "Training Loss = 0.0157667, Training Accuracy = 46.543\n",
      "Testing Loss = 0.0134250, Testing Accuracy = 77.748\n",
      "**************************************************\n",
      "\n",
      "Epoch 36\n"
     ]
    },
    {
     "name": "stderr",
     "output_type": "stream",
     "text": [
      "Training: 100%|██████████| 42/42 [00:26<00:00,  1.58it/s]\n",
      "Evaluating: 100%|██████████| 12/12 [00:07<00:00,  1.64it/s]\n"
     ]
    },
    {
     "name": "stdout",
     "output_type": "stream",
     "text": [
      "Training Loss = 0.0156301, Training Accuracy = 46.392\n",
      "Testing Loss = 0.0131393, Testing Accuracy = 79.073\n",
      "New best accuracy: 79.073 at epoch 36\n",
      "**************************************************\n",
      "\n",
      "Epoch 37\n"
     ]
    },
    {
     "name": "stderr",
     "output_type": "stream",
     "text": [
      "Training: 100%|██████████| 42/42 [00:26<00:00,  1.59it/s]\n",
      "Evaluating: 100%|██████████| 12/12 [00:07<00:00,  1.64it/s]\n"
     ]
    },
    {
     "name": "stdout",
     "output_type": "stream",
     "text": [
      "Training Loss = 0.0157667, Training Accuracy = 46.619\n",
      "Testing Loss = 0.0133252, Testing Accuracy = 76.821\n",
      "**************************************************\n",
      "\n",
      "Epoch 38\n"
     ]
    },
    {
     "name": "stderr",
     "output_type": "stream",
     "text": [
      "Training: 100%|██████████| 42/42 [00:26<00:00,  1.59it/s]\n",
      "Evaluating: 100%|██████████| 12/12 [00:07<00:00,  1.65it/s]\n"
     ]
    },
    {
     "name": "stdout",
     "output_type": "stream",
     "text": [
      "Training Loss = 0.0156094, Training Accuracy = 47.261\n",
      "Testing Loss = 0.0136049, Testing Accuracy = 77.086\n",
      "**************************************************\n",
      "\n",
      "Epoch 39\n"
     ]
    },
    {
     "name": "stderr",
     "output_type": "stream",
     "text": [
      "Training: 100%|██████████| 42/42 [00:26<00:00,  1.60it/s]\n",
      "Evaluating: 100%|██████████| 12/12 [00:07<00:00,  1.55it/s]\n"
     ]
    },
    {
     "name": "stdout",
     "output_type": "stream",
     "text": [
      "Training Loss = 0.0156086, Training Accuracy = 47.223\n",
      "Testing Loss = 0.0134168, Testing Accuracy = 78.278\n",
      "**************************************************\n",
      "\n",
      "Epoch 40\n"
     ]
    },
    {
     "name": "stderr",
     "output_type": "stream",
     "text": [
      "Training: 100%|██████████| 42/42 [00:26<00:00,  1.59it/s]\n",
      "Evaluating: 100%|██████████| 12/12 [00:07<00:00,  1.62it/s]\n"
     ]
    },
    {
     "name": "stdout",
     "output_type": "stream",
     "text": [
      "Training Loss = 0.0157087, Training Accuracy = 46.808\n",
      "Testing Loss = 0.0134819, Testing Accuracy = 76.689\n",
      "**************************************************\n",
      "\n",
      "Epoch 41\n"
     ]
    },
    {
     "name": "stderr",
     "output_type": "stream",
     "text": [
      "Training: 100%|██████████| 42/42 [00:26<00:00,  1.59it/s]\n",
      "Evaluating: 100%|██████████| 12/12 [00:07<00:00,  1.62it/s]\n"
     ]
    },
    {
     "name": "stdout",
     "output_type": "stream",
     "text": [
      "Training Loss = 0.0155303, Training Accuracy = 46.770\n",
      "Testing Loss = 0.0136135, Testing Accuracy = 75.762\n",
      "**************************************************\n",
      "\n",
      "Epoch 42\n"
     ]
    },
    {
     "name": "stderr",
     "output_type": "stream",
     "text": [
      "Training: 100%|██████████| 42/42 [00:26<00:00,  1.56it/s]\n",
      "Evaluating: 100%|██████████| 12/12 [00:07<00:00,  1.60it/s]\n"
     ]
    },
    {
     "name": "stdout",
     "output_type": "stream",
     "text": [
      "Training Loss = 0.0157025, Training Accuracy = 46.505\n",
      "Testing Loss = 0.0131716, Testing Accuracy = 79.470\n",
      "New best accuracy: 79.470 at epoch 42\n",
      "**************************************************\n",
      "\n",
      "Epoch 43\n"
     ]
    },
    {
     "name": "stderr",
     "output_type": "stream",
     "text": [
      "Training: 100%|██████████| 42/42 [00:26<00:00,  1.60it/s]\n",
      "Evaluating: 100%|██████████| 12/12 [00:07<00:00,  1.51it/s]\n"
     ]
    },
    {
     "name": "stdout",
     "output_type": "stream",
     "text": [
      "Training Loss = 0.0158031, Training Accuracy = 47.261\n",
      "Testing Loss = 0.0132692, Testing Accuracy = 76.954\n",
      "**************************************************\n",
      "\n",
      "Epoch 44\n"
     ]
    },
    {
     "name": "stderr",
     "output_type": "stream",
     "text": [
      "Training: 100%|██████████| 42/42 [00:26<00:00,  1.61it/s]\n",
      "Evaluating: 100%|██████████| 12/12 [00:07<00:00,  1.51it/s]\n"
     ]
    },
    {
     "name": "stdout",
     "output_type": "stream",
     "text": [
      "Training Loss = 0.0158896, Training Accuracy = 46.581\n",
      "Testing Loss = 0.0134955, Testing Accuracy = 77.881\n",
      "**************************************************\n",
      "\n",
      "Epoch 45\n"
     ]
    },
    {
     "name": "stderr",
     "output_type": "stream",
     "text": [
      "Training: 100%|██████████| 42/42 [00:26<00:00,  1.56it/s]\n",
      "Evaluating: 100%|██████████| 12/12 [00:07<00:00,  1.62it/s]\n"
     ]
    },
    {
     "name": "stdout",
     "output_type": "stream",
     "text": [
      "Training Loss = 0.0156776, Training Accuracy = 47.450\n",
      "Testing Loss = 0.0134729, Testing Accuracy = 76.026\n",
      "**************************************************\n",
      "\n",
      "Epoch 46\n"
     ]
    },
    {
     "name": "stderr",
     "output_type": "stream",
     "text": [
      "Training: 100%|██████████| 42/42 [00:26<00:00,  1.59it/s]\n",
      "Evaluating: 100%|██████████| 12/12 [00:07<00:00,  1.64it/s]\n"
     ]
    },
    {
     "name": "stdout",
     "output_type": "stream",
     "text": [
      "Training Loss = 0.0156740, Training Accuracy = 47.148\n",
      "Testing Loss = 0.0137380, Testing Accuracy = 77.748\n",
      "**************************************************\n",
      "\n",
      "Epoch 47\n"
     ]
    },
    {
     "name": "stderr",
     "output_type": "stream",
     "text": [
      "Training: 100%|██████████| 42/42 [00:27<00:00,  1.55it/s]\n",
      "Evaluating: 100%|██████████| 12/12 [00:07<00:00,  1.66it/s]\n"
     ]
    },
    {
     "name": "stdout",
     "output_type": "stream",
     "text": [
      "Training Loss = 0.0156667, Training Accuracy = 47.337\n",
      "Testing Loss = 0.0134966, Testing Accuracy = 77.748\n",
      "**************************************************\n",
      "\n",
      "Epoch 48\n"
     ]
    },
    {
     "name": "stderr",
     "output_type": "stream",
     "text": [
      "Training: 100%|██████████| 42/42 [00:26<00:00,  1.59it/s]\n",
      "Evaluating: 100%|██████████| 12/12 [00:07<00:00,  1.62it/s]\n"
     ]
    },
    {
     "name": "stdout",
     "output_type": "stream",
     "text": [
      "Training Loss = 0.0157583, Training Accuracy = 47.148\n",
      "Testing Loss = 0.0135673, Testing Accuracy = 76.291\n",
      "**************************************************\n",
      "\n",
      "Epoch 49\n"
     ]
    },
    {
     "name": "stderr",
     "output_type": "stream",
     "text": [
      "Training: 100%|██████████| 42/42 [00:26<00:00,  1.59it/s]\n",
      "Evaluating: 100%|██████████| 12/12 [00:07<00:00,  1.64it/s]\n"
     ]
    },
    {
     "name": "stdout",
     "output_type": "stream",
     "text": [
      "Training Loss = 0.0159686, Training Accuracy = 45.939\n",
      "Testing Loss = 0.0134299, Testing Accuracy = 78.940\n",
      "**************************************************\n",
      "\n",
      "Epoch 50\n"
     ]
    },
    {
     "name": "stderr",
     "output_type": "stream",
     "text": [
      "Training: 100%|██████████| 42/42 [00:26<00:00,  1.61it/s]\n",
      "Evaluating: 100%|██████████| 12/12 [00:07<00:00,  1.64it/s]"
     ]
    },
    {
     "name": "stdout",
     "output_type": "stream",
     "text": [
      "Training Loss = 0.0156949, Training Accuracy = 46.505\n",
      "Testing Loss = 0.0134667, Testing Accuracy = 78.675\n",
      "**************************************************\n",
      "\n"
     ]
    },
    {
     "name": "stderr",
     "output_type": "stream",
     "text": [
      "\n"
     ]
    }
   ],
   "source": [
    "fc_df = fit(model=model, train_dataloader=train_dl, val_dataloader=val_dl,\n",
    "            criterion=criterion, optimizer=optimizer, scheduler=scheduler,\n",
    "            epochs=50, experiment_name=\"fully_connected\")"
   ]
  },
  {
   "cell_type": "code",
   "execution_count": 17,
   "id": "d111b816",
   "metadata": {
    "execution": {
     "iopub.execute_input": "2025-08-11T01:23:39.841643Z",
     "iopub.status.busy": "2025-08-11T01:23:39.841379Z",
     "iopub.status.idle": "2025-08-11T01:23:40.496634Z",
     "shell.execute_reply": "2025-08-11T01:23:40.495857Z"
    },
    "id": "758939a1",
    "outputId": "70fabd3a-37fe-446a-a860-9a31378a6148",
    "papermill": {
     "duration": 0.77753,
     "end_time": "2025-08-11T01:23:40.498539",
     "exception": false,
     "start_time": "2025-08-11T01:23:39.721009",
     "status": "completed"
    },
    "tags": []
   },
   "outputs": [
    {
     "data": {
      "image/png": "[encoded data removed]",
      "text/plain": [
       "<Figure size 2000x500 with 3 Axes>"
      ]
     },
     "metadata": {},
     "output_type": "display_data"
    }
   ],
   "source": [
    "fig, ax = plt.subplots(1, 3, figsize=(20, 5), sharex=True)\n",
    "\n",
    "fc_df.plot(ax=ax[0], y=[0, 2], style=[\"r\", \"b\"])\n",
    "fc_df.plot(ax=ax[1], y=[1, 3], style=[\"r\", \"b\"])\n",
    "fc_df.plot(ax=ax[2], y=[4], style=[\"b\"])\n",
    "\n",
    "for i in range(3):\n",
    "  ax[i].set_xlabel(\"Epochs\")\n",
    "  ax[i].grid(which=\"major\", axis=\"both\", color=\"g\", linestyle=\":\")\n",
    "\n",
    "ax[0].set_ylabel(\"Loss\")\n",
    "ax[1].set_ylabel(\"Accuracy (%)\")\n",
    "ax[2].set_ylabel(\"Learning Rate\")\n",
    "\n",
    "fig.suptitle('Fully Connected Neural Network Training Metrics', fontsize=16,)\n",
    "plt.show()"
   ]
  },
  {
   "cell_type": "markdown",
   "id": "a2fceea8",
   "metadata": {
    "id": "cacf6999",
    "papermill": {
     "duration": 0.119998,
     "end_time": "2025-08-11T01:23:40.740994",
     "exception": false,
     "start_time": "2025-08-11T01:23:40.620996",
     "status": "completed"
    },
    "tags": []
   },
   "source": [
    "# Custom CNN Layer - RESNet 9"
   ]
  },
  {
   "cell_type": "code",
   "execution_count": 18,
   "id": "86fb75ce",
   "metadata": {
    "execution": {
     "iopub.execute_input": "2025-08-11T01:23:41.035747Z",
     "iopub.status.busy": "2025-08-11T01:23:41.035044Z",
     "iopub.status.idle": "2025-08-11T01:23:41.039010Z",
     "shell.execute_reply": "2025-08-11T01:23:41.038439Z"
    },
    "id": "f376e442",
    "papermill": {
     "duration": 0.178286,
     "end_time": "2025-08-11T01:23:41.040041",
     "exception": false,
     "start_time": "2025-08-11T01:23:40.861755",
     "status": "completed"
    },
    "tags": []
   },
   "outputs": [],
   "source": [
    "def basic(in_channels, out_channels):\n",
    "  return nn.Sequential(\n",
    "      nn.Conv2d(in_channels, out_channels, kernel_size=3, padding=1, bias=False),\n",
    "      nn.BatchNorm2d(out_channels),\n",
    "      nn.ReLU(inplace=True),\n",
    "  )"
   ]
  },
  {
   "cell_type": "code",
   "execution_count": 19,
   "id": "669dd395",
   "metadata": {
    "execution": {
     "iopub.execute_input": "2025-08-11T01:23:41.283458Z",
     "iopub.status.busy": "2025-08-11T01:23:41.283198Z",
     "iopub.status.idle": "2025-08-11T01:23:41.287403Z",
     "shell.execute_reply": "2025-08-11T01:23:41.286872Z"
    },
    "id": "e7d12d74",
    "papermill": {
     "duration": 0.126376,
     "end_time": "2025-08-11T01:23:41.288457",
     "exception": false,
     "start_time": "2025-08-11T01:23:41.162081",
     "status": "completed"
    },
    "tags": []
   },
   "outputs": [],
   "source": [
    "class RS_block(nn.Module):\n",
    "  def __init__(self, in_channels, *args, **kwargs) -> None:\n",
    "    super().__init__(*args, **kwargs)\n",
    "    self.net = nn.Sequential(\n",
    "        basic(in_channels, in_channels),\n",
    "        basic(in_channels, in_channels),\n",
    "    )\n",
    "\n",
    "  def forward(self, x):\n",
    "    return x + self.net(x)"
   ]
  },
  {
   "cell_type": "code",
   "execution_count": 20,
   "id": "78327960",
   "metadata": {
    "execution": {
     "iopub.execute_input": "2025-08-11T01:23:41.530338Z",
     "iopub.status.busy": "2025-08-11T01:23:41.529785Z",
     "iopub.status.idle": "2025-08-11T01:23:41.535073Z",
     "shell.execute_reply": "2025-08-11T01:23:41.534457Z"
    },
    "id": "e2547f83",
    "papermill": {
     "duration": 0.126843,
     "end_time": "2025-08-11T01:23:41.536244",
     "exception": false,
     "start_time": "2025-08-11T01:23:41.409401",
     "status": "completed"
    },
    "tags": []
   },
   "outputs": [],
   "source": [
    "class ResNet9(nn.Module):\n",
    "\n",
    "  def __init__(self, in_channels=img_channels, num_classes=3, *args, **kwargs) -> None:\n",
    "    super().__init__(*args, **kwargs)\n",
    "    self.net = nn.Sequential(\n",
    "        basic(in_channels, 64),\n",
    "        basic(64, 128), nn.MaxPool2d(2),\n",
    "        RS_block(128),\n",
    "        basic(128, 256), nn.MaxPool2d(2),\n",
    "        basic(256, 512), nn.MaxPool2d(2),\n",
    "        RS_block(512),\n",
    "        nn.AdaptiveAvgPool2d((1, 1)),\n",
    "        nn.Flatten(),\n",
    "        nn.Linear(512, num_classes)\n",
    "    )\n",
    "\n",
    "  def forward(self, x):\n",
    "    output = self.net(x)\n",
    "    return output"
   ]
  },
  {
   "cell_type": "code",
   "execution_count": 21,
   "id": "52b2a985",
   "metadata": {
    "execution": {
     "iopub.execute_input": "2025-08-11T01:23:41.776495Z",
     "iopub.status.busy": "2025-08-11T01:23:41.776241Z",
     "iopub.status.idle": "2025-08-11T01:23:41.830717Z",
     "shell.execute_reply": "2025-08-11T01:23:41.830161Z"
    },
    "id": "83779a8b",
    "papermill": {
     "duration": 0.175883,
     "end_time": "2025-08-11T01:23:41.832053",
     "exception": false,
     "start_time": "2025-08-11T01:23:41.656170",
     "status": "completed"
    },
    "tags": []
   },
   "outputs": [],
   "source": [
    "model = ResNet9().cuda()\n",
    "\n",
    "criterion=nn.CrossEntropyLoss(reduction=\"sum\")\n",
    "optimizer = torch.optim.Adam(model.parameters(), lr=lr)\n",
    "\n",
    "scheduler = lr_scheduler.ReduceLROnPlateau(optimizer=optimizer, mode=\"min\", patience=5, factor=0.1)"
   ]
  },
  {
   "cell_type": "code",
   "execution_count": 22,
   "id": "7b84b919",
   "metadata": {
    "execution": {
     "iopub.execute_input": "2025-08-11T01:23:42.073888Z",
     "iopub.status.busy": "2025-08-11T01:23:42.073632Z",
     "iopub.status.idle": "2025-08-11T02:01:18.708448Z",
     "shell.execute_reply": "2025-08-11T02:01:18.707579Z"
    },
    "id": "4874061c",
    "outputId": "e083c037-103e-46a0-ee85-850338da9b62",
    "papermill": {
     "duration": 2256.756852,
     "end_time": "2025-08-11T02:01:18.709572",
     "exception": false,
     "start_time": "2025-08-11T01:23:41.952720",
     "status": "completed"
    },
    "tags": []
   },
   "outputs": [
    {
     "name": "stdout",
     "output_type": "stream",
     "text": [
      "Epoch 1\n"
     ]
    },
    {
     "name": "stderr",
     "output_type": "stream",
     "text": [
      "Training: 100%|██████████| 42/42 [00:37<00:00,  1.13it/s]\n",
      "Evaluating: 100%|██████████| 12/12 [00:09<00:00,  1.24it/s]\n"
     ]
    },
    {
     "name": "stdout",
     "output_type": "stream",
     "text": [
      "Training Loss = 0.3966377, Training Accuracy = 84.813\n",
      "Testing Loss = 0.2470725, Testing Accuracy = 90.066\n",
      "New best accuracy: 90.066 at epoch 1\n",
      "**************************************************\n",
      "\n",
      "Epoch 2\n"
     ]
    },
    {
     "name": "stderr",
     "output_type": "stream",
     "text": [
      "Training: 100%|██████████| 42/42 [00:35<00:00,  1.20it/s]\n",
      "Evaluating: 100%|██████████| 12/12 [00:09<00:00,  1.28it/s]\n"
     ]
    },
    {
     "name": "stdout",
     "output_type": "stream",
     "text": [
      "Training Loss = 0.1519792, Training Accuracy = 94.333\n",
      "Testing Loss = 0.0950496, Testing Accuracy = 96.159\n",
      "New best accuracy: 96.159 at epoch 2\n",
      "**************************************************\n",
      "\n",
      "Epoch 3\n"
     ]
    },
    {
     "name": "stderr",
     "output_type": "stream",
     "text": [
      "Training: 100%|██████████| 42/42 [00:35<00:00,  1.19it/s]\n",
      "Evaluating: 100%|██████████| 12/12 [00:09<00:00,  1.26it/s]\n"
     ]
    },
    {
     "name": "stdout",
     "output_type": "stream",
     "text": [
      "Training Loss = 0.1410633, Training Accuracy = 94.900\n",
      "Testing Loss = 0.1823453, Testing Accuracy = 92.053\n",
      "**************************************************\n",
      "\n",
      "Epoch 4\n"
     ]
    },
    {
     "name": "stderr",
     "output_type": "stream",
     "text": [
      "Training: 100%|██████████| 42/42 [00:35<00:00,  1.19it/s]\n",
      "Evaluating: 100%|██████████| 12/12 [00:09<00:00,  1.24it/s]\n"
     ]
    },
    {
     "name": "stdout",
     "output_type": "stream",
     "text": [
      "Training Loss = 0.1095150, Training Accuracy = 95.807\n",
      "Testing Loss = 1.4011889, Testing Accuracy = 61.722\n",
      "**************************************************\n",
      "\n",
      "Epoch 5\n"
     ]
    },
    {
     "name": "stderr",
     "output_type": "stream",
     "text": [
      "Training: 100%|██████████| 42/42 [00:35<00:00,  1.19it/s]\n",
      "Evaluating: 100%|██████████| 12/12 [00:09<00:00,  1.23it/s]\n"
     ]
    },
    {
     "name": "stdout",
     "output_type": "stream",
     "text": [
      "Training Loss = 0.0849650, Training Accuracy = 96.940\n",
      "Testing Loss = 0.0574338, Testing Accuracy = 98.411\n",
      "New best accuracy: 98.411 at epoch 5\n",
      "**************************************************\n",
      "\n",
      "Epoch 6\n"
     ]
    },
    {
     "name": "stderr",
     "output_type": "stream",
     "text": [
      "Training: 100%|██████████| 42/42 [00:35<00:00,  1.17it/s]\n",
      "Evaluating: 100%|██████████| 12/12 [00:09<00:00,  1.22it/s]\n"
     ]
    },
    {
     "name": "stdout",
     "output_type": "stream",
     "text": [
      "Training Loss = 0.0713235, Training Accuracy = 97.355\n",
      "Testing Loss = 0.3503549, Testing Accuracy = 87.152\n",
      "**************************************************\n",
      "\n",
      "Epoch 7\n"
     ]
    },
    {
     "name": "stderr",
     "output_type": "stream",
     "text": [
      "Training: 100%|██████████| 42/42 [00:35<00:00,  1.18it/s]\n",
      "Evaluating: 100%|██████████| 12/12 [00:09<00:00,  1.26it/s]\n"
     ]
    },
    {
     "name": "stdout",
     "output_type": "stream",
     "text": [
      "Training Loss = 0.0543419, Training Accuracy = 97.847\n",
      "Testing Loss = 0.0983929, Testing Accuracy = 95.762\n",
      "**************************************************\n",
      "\n",
      "Epoch 8\n"
     ]
    },
    {
     "name": "stderr",
     "output_type": "stream",
     "text": [
      "Training: 100%|██████████| 42/42 [00:35<00:00,  1.19it/s]\n",
      "Evaluating: 100%|██████████| 12/12 [00:09<00:00,  1.23it/s]\n"
     ]
    },
    {
     "name": "stdout",
     "output_type": "stream",
     "text": [
      "Training Loss = 0.0496343, Training Accuracy = 98.300\n",
      "Testing Loss = 0.0850741, Testing Accuracy = 96.291\n",
      "**************************************************\n",
      "\n",
      "Epoch 9\n"
     ]
    },
    {
     "name": "stderr",
     "output_type": "stream",
     "text": [
      "Training: 100%|██████████| 42/42 [00:35<00:00,  1.19it/s]\n",
      "Evaluating: 100%|██████████| 12/12 [00:09<00:00,  1.26it/s]\n"
     ]
    },
    {
     "name": "stdout",
     "output_type": "stream",
     "text": [
      "Training Loss = 0.0499459, Training Accuracy = 97.960\n",
      "Testing Loss = 0.1261362, Testing Accuracy = 96.424\n",
      "**************************************************\n",
      "\n",
      "Epoch 10\n"
     ]
    },
    {
     "name": "stderr",
     "output_type": "stream",
     "text": [
      "Training: 100%|██████████| 42/42 [00:34<00:00,  1.21it/s]\n",
      "Evaluating: 100%|██████████| 12/12 [00:09<00:00,  1.26it/s]\n"
     ]
    },
    {
     "name": "stdout",
     "output_type": "stream",
     "text": [
      "Training Loss = 0.0555832, Training Accuracy = 97.658\n",
      "Testing Loss = 0.1324742, Testing Accuracy = 94.834\n",
      "**************************************************\n",
      "\n",
      "Epoch 11\n"
     ]
    },
    {
     "name": "stderr",
     "output_type": "stream",
     "text": [
      "Training: 100%|██████████| 42/42 [00:35<00:00,  1.19it/s]\n",
      "Evaluating: 100%|██████████| 12/12 [00:09<00:00,  1.26it/s]\n"
     ]
    },
    {
     "name": "stdout",
     "output_type": "stream",
     "text": [
      "Training Loss = 0.0463348, Training Accuracy = 98.149\n",
      "Testing Loss = 0.3685773, Testing Accuracy = 87.020\n",
      "**************************************************\n",
      "\n",
      "Epoch 12\n"
     ]
    },
    {
     "name": "stderr",
     "output_type": "stream",
     "text": [
      "Training: 100%|██████████| 42/42 [00:35<00:00,  1.19it/s]\n",
      "Evaluating: 100%|██████████| 12/12 [00:09<00:00,  1.24it/s]\n"
     ]
    },
    {
     "name": "stdout",
     "output_type": "stream",
     "text": [
      "Training Loss = 0.0358607, Training Accuracy = 98.716\n",
      "Testing Loss = 0.1500713, Testing Accuracy = 94.834\n",
      "**************************************************\n",
      "\n",
      "Epoch 13\n"
     ]
    },
    {
     "name": "stderr",
     "output_type": "stream",
     "text": [
      "Training: 100%|██████████| 42/42 [00:35<00:00,  1.20it/s]\n",
      "Evaluating: 100%|██████████| 12/12 [00:09<00:00,  1.24it/s]\n"
     ]
    },
    {
     "name": "stdout",
     "output_type": "stream",
     "text": [
      "Training Loss = 0.0507938, Training Accuracy = 98.149\n",
      "Testing Loss = 0.2841484, Testing Accuracy = 91.523\n",
      "**************************************************\n",
      "\n",
      "Epoch 14\n"
     ]
    },
    {
     "name": "stderr",
     "output_type": "stream",
     "text": [
      "Training: 100%|██████████| 42/42 [00:35<00:00,  1.19it/s]\n",
      "Evaluating: 100%|██████████| 12/12 [00:09<00:00,  1.25it/s]\n"
     ]
    },
    {
     "name": "stdout",
     "output_type": "stream",
     "text": [
      "Training Loss = 0.0357917, Training Accuracy = 98.716\n",
      "Testing Loss = 0.0947359, Testing Accuracy = 96.556\n",
      "**************************************************\n",
      "\n",
      "Epoch 15\n"
     ]
    },
    {
     "name": "stderr",
     "output_type": "stream",
     "text": [
      "Training: 100%|██████████| 42/42 [00:35<00:00,  1.19it/s]\n",
      "Evaluating: 100%|██████████| 12/12 [00:09<00:00,  1.25it/s]\n"
     ]
    },
    {
     "name": "stdout",
     "output_type": "stream",
     "text": [
      "Training Loss = 0.0312161, Training Accuracy = 98.489\n",
      "Testing Loss = 0.0891922, Testing Accuracy = 96.689\n",
      "**************************************************\n",
      "\n",
      "Epoch 16\n"
     ]
    },
    {
     "name": "stderr",
     "output_type": "stream",
     "text": [
      "Training: 100%|██████████| 42/42 [00:35<00:00,  1.20it/s]\n",
      "Evaluating: 100%|██████████| 12/12 [00:09<00:00,  1.26it/s]\n"
     ]
    },
    {
     "name": "stdout",
     "output_type": "stream",
     "text": [
      "Training Loss = 0.0268409, Training Accuracy = 98.829\n",
      "Testing Loss = 0.3509227, Testing Accuracy = 90.596\n",
      "**************************************************\n",
      "\n",
      "Epoch 17\n"
     ]
    },
    {
     "name": "stderr",
     "output_type": "stream",
     "text": [
      "Training: 100%|██████████| 42/42 [00:35<00:00,  1.20it/s]\n",
      "Evaluating: 100%|██████████| 12/12 [00:09<00:00,  1.25it/s]\n"
     ]
    },
    {
     "name": "stdout",
     "output_type": "stream",
     "text": [
      "Training Loss = 0.0248818, Training Accuracy = 99.169\n",
      "Testing Loss = 1.3066674, Testing Accuracy = 81.589\n",
      "**************************************************\n",
      "\n",
      "Epoch 18\n"
     ]
    },
    {
     "name": "stderr",
     "output_type": "stream",
     "text": [
      "Training: 100%|██████████| 42/42 [00:35<00:00,  1.19it/s]\n",
      "Evaluating: 100%|██████████| 12/12 [00:09<00:00,  1.24it/s]\n"
     ]
    },
    {
     "name": "stdout",
     "output_type": "stream",
     "text": [
      "Training Loss = 0.0298276, Training Accuracy = 99.093\n",
      "Testing Loss = 0.0884569, Testing Accuracy = 96.689\n",
      "**************************************************\n",
      "\n",
      "Epoch 19\n"
     ]
    },
    {
     "name": "stderr",
     "output_type": "stream",
     "text": [
      "Training: 100%|██████████| 42/42 [00:35<00:00,  1.19it/s]\n",
      "Evaluating: 100%|██████████| 12/12 [00:09<00:00,  1.26it/s]\n"
     ]
    },
    {
     "name": "stdout",
     "output_type": "stream",
     "text": [
      "Training Loss = 0.0234346, Training Accuracy = 99.093\n",
      "Testing Loss = 0.1150606, Testing Accuracy = 96.954\n",
      "**************************************************\n",
      "\n",
      "Epoch 20\n"
     ]
    },
    {
     "name": "stderr",
     "output_type": "stream",
     "text": [
      "Training: 100%|██████████| 42/42 [00:35<00:00,  1.19it/s]\n",
      "Evaluating: 100%|██████████| 12/12 [00:09<00:00,  1.26it/s]\n"
     ]
    },
    {
     "name": "stdout",
     "output_type": "stream",
     "text": [
      "Training Loss = 0.0230213, Training Accuracy = 99.131\n",
      "Testing Loss = 0.0386104, Testing Accuracy = 98.543\n",
      "New best accuracy: 98.543 at epoch 20\n",
      "**************************************************\n",
      "\n",
      "Epoch 21\n"
     ]
    },
    {
     "name": "stderr",
     "output_type": "stream",
     "text": [
      "Training: 100%|██████████| 42/42 [00:35<00:00,  1.19it/s]\n",
      "Evaluating: 100%|██████████| 12/12 [00:09<00:00,  1.27it/s]\n"
     ]
    },
    {
     "name": "stdout",
     "output_type": "stream",
     "text": [
      "Training Loss = 0.0242078, Training Accuracy = 99.131\n",
      "Testing Loss = 0.0224241, Testing Accuracy = 99.073\n",
      "New best accuracy: 99.073 at epoch 21\n",
      "**************************************************\n",
      "\n",
      "Epoch 22\n"
     ]
    },
    {
     "name": "stderr",
     "output_type": "stream",
     "text": [
      "Training: 100%|██████████| 42/42 [00:34<00:00,  1.20it/s]\n",
      "Evaluating: 100%|██████████| 12/12 [00:09<00:00,  1.25it/s]\n"
     ]
    },
    {
     "name": "stdout",
     "output_type": "stream",
     "text": [
      "Training Loss = 0.0267814, Training Accuracy = 98.980\n",
      "Testing Loss = 0.0313364, Testing Accuracy = 98.940\n",
      "**************************************************\n",
      "\n",
      "Epoch 23\n"
     ]
    },
    {
     "name": "stderr",
     "output_type": "stream",
     "text": [
      "Training: 100%|██████████| 42/42 [00:35<00:00,  1.19it/s]\n",
      "Evaluating: 100%|██████████| 12/12 [00:09<00:00,  1.26it/s]\n"
     ]
    },
    {
     "name": "stdout",
     "output_type": "stream",
     "text": [
      "Training Loss = 0.0204094, Training Accuracy = 99.244\n",
      "Testing Loss = 0.1005293, Testing Accuracy = 96.159\n",
      "**************************************************\n",
      "\n",
      "Epoch 24\n"
     ]
    },
    {
     "name": "stderr",
     "output_type": "stream",
     "text": [
      "Training: 100%|██████████| 42/42 [00:35<00:00,  1.19it/s]\n",
      "Evaluating: 100%|██████████| 12/12 [00:09<00:00,  1.26it/s]\n"
     ]
    },
    {
     "name": "stdout",
     "output_type": "stream",
     "text": [
      "Training Loss = 0.0124327, Training Accuracy = 99.433\n",
      "Testing Loss = 0.0096624, Testing Accuracy = 99.735\n",
      "New best accuracy: 99.735 at epoch 24\n",
      "**************************************************\n",
      "\n",
      "Epoch 25\n"
     ]
    },
    {
     "name": "stderr",
     "output_type": "stream",
     "text": [
      "Training: 100%|██████████| 42/42 [00:35<00:00,  1.19it/s]\n",
      "Evaluating: 100%|██████████| 12/12 [00:09<00:00,  1.22it/s]\n"
     ]
    },
    {
     "name": "stdout",
     "output_type": "stream",
     "text": [
      "Training Loss = 0.0109964, Training Accuracy = 99.584\n",
      "Testing Loss = 0.0107515, Testing Accuracy = 99.470\n",
      "**************************************************\n",
      "\n",
      "Epoch 26\n"
     ]
    },
    {
     "name": "stderr",
     "output_type": "stream",
     "text": [
      "Training: 100%|██████████| 42/42 [00:35<00:00,  1.19it/s]\n",
      "Evaluating: 100%|██████████| 12/12 [00:09<00:00,  1.25it/s]\n"
     ]
    },
    {
     "name": "stdout",
     "output_type": "stream",
     "text": [
      "Training Loss = 0.0087484, Training Accuracy = 99.736\n",
      "Testing Loss = 0.0111240, Testing Accuracy = 99.603\n",
      "**************************************************\n",
      "\n",
      "Epoch 27\n"
     ]
    },
    {
     "name": "stderr",
     "output_type": "stream",
     "text": [
      "Training: 100%|██████████| 42/42 [00:34<00:00,  1.20it/s]\n",
      "Evaluating: 100%|██████████| 12/12 [00:09<00:00,  1.26it/s]\n"
     ]
    },
    {
     "name": "stdout",
     "output_type": "stream",
     "text": [
      "Training Loss = 0.0092589, Training Accuracy = 99.584\n",
      "Testing Loss = 0.0092940, Testing Accuracy = 99.603\n",
      "**************************************************\n",
      "\n",
      "Epoch 28\n"
     ]
    },
    {
     "name": "stderr",
     "output_type": "stream",
     "text": [
      "Training: 100%|██████████| 42/42 [00:35<00:00,  1.19it/s]\n",
      "Evaluating: 100%|██████████| 12/12 [00:09<00:00,  1.26it/s]\n"
     ]
    },
    {
     "name": "stdout",
     "output_type": "stream",
     "text": [
      "Training Loss = 0.0076060, Training Accuracy = 99.811\n",
      "Testing Loss = 0.0066173, Testing Accuracy = 99.735\n",
      "**************************************************\n",
      "\n",
      "Epoch 29\n"
     ]
    },
    {
     "name": "stderr",
     "output_type": "stream",
     "text": [
      "Training: 100%|██████████| 42/42 [00:35<00:00,  1.19it/s]\n",
      "Evaluating: 100%|██████████| 12/12 [00:09<00:00,  1.26it/s]\n"
     ]
    },
    {
     "name": "stdout",
     "output_type": "stream",
     "text": [
      "Training Loss = 0.0101713, Training Accuracy = 99.622\n",
      "Testing Loss = 0.0071971, Testing Accuracy = 99.735\n",
      "**************************************************\n",
      "\n",
      "Epoch 30\n"
     ]
    },
    {
     "name": "stderr",
     "output_type": "stream",
     "text": [
      "Training: 100%|██████████| 42/42 [00:35<00:00,  1.19it/s]\n",
      "Evaluating: 100%|██████████| 12/12 [00:09<00:00,  1.26it/s]\n"
     ]
    },
    {
     "name": "stdout",
     "output_type": "stream",
     "text": [
      "Training Loss = 0.0070978, Training Accuracy = 99.811\n",
      "Testing Loss = 0.0107576, Testing Accuracy = 99.603\n",
      "**************************************************\n",
      "\n",
      "Epoch 31\n"
     ]
    },
    {
     "name": "stderr",
     "output_type": "stream",
     "text": [
      "Training: 100%|██████████| 42/42 [00:35<00:00,  1.19it/s]\n",
      "Evaluating: 100%|██████████| 12/12 [00:09<00:00,  1.26it/s]\n"
     ]
    },
    {
     "name": "stdout",
     "output_type": "stream",
     "text": [
      "Training Loss = 0.0072410, Training Accuracy = 99.849\n",
      "Testing Loss = 0.0094379, Testing Accuracy = 99.603\n",
      "**************************************************\n",
      "\n",
      "Epoch 32\n"
     ]
    },
    {
     "name": "stderr",
     "output_type": "stream",
     "text": [
      "Training: 100%|██████████| 42/42 [00:35<00:00,  1.19it/s]\n",
      "Evaluating: 100%|██████████| 12/12 [00:09<00:00,  1.23it/s]\n"
     ]
    },
    {
     "name": "stdout",
     "output_type": "stream",
     "text": [
      "Training Loss = 0.0070576, Training Accuracy = 99.736\n",
      "Testing Loss = 0.0126008, Testing Accuracy = 99.603\n",
      "**************************************************\n",
      "\n",
      "Epoch 33\n"
     ]
    },
    {
     "name": "stderr",
     "output_type": "stream",
     "text": [
      "Training: 100%|██████████| 42/42 [00:35<00:00,  1.19it/s]\n",
      "Evaluating: 100%|██████████| 12/12 [00:09<00:00,  1.26it/s]\n"
     ]
    },
    {
     "name": "stdout",
     "output_type": "stream",
     "text": [
      "Training Loss = 0.0074573, Training Accuracy = 99.849\n",
      "Testing Loss = 0.0062248, Testing Accuracy = 99.735\n",
      "**************************************************\n",
      "\n",
      "Epoch 34\n"
     ]
    },
    {
     "name": "stderr",
     "output_type": "stream",
     "text": [
      "Training: 100%|██████████| 42/42 [00:35<00:00,  1.18it/s]\n",
      "Evaluating: 100%|██████████| 12/12 [00:09<00:00,  1.26it/s]\n"
     ]
    },
    {
     "name": "stdout",
     "output_type": "stream",
     "text": [
      "Training Loss = 0.0065919, Training Accuracy = 99.773\n",
      "Testing Loss = 0.0077025, Testing Accuracy = 99.735\n",
      "**************************************************\n",
      "\n",
      "Epoch 35\n"
     ]
    },
    {
     "name": "stderr",
     "output_type": "stream",
     "text": [
      "Training: 100%|██████████| 42/42 [00:35<00:00,  1.17it/s]\n",
      "Evaluating: 100%|██████████| 12/12 [00:09<00:00,  1.26it/s]\n"
     ]
    },
    {
     "name": "stdout",
     "output_type": "stream",
     "text": [
      "Training Loss = 0.0077433, Training Accuracy = 99.660\n",
      "Testing Loss = 0.0079490, Testing Accuracy = 99.735\n",
      "**************************************************\n",
      "\n",
      "Epoch 36\n"
     ]
    },
    {
     "name": "stderr",
     "output_type": "stream",
     "text": [
      "Training: 100%|██████████| 42/42 [00:35<00:00,  1.19it/s]\n",
      "Evaluating: 100%|██████████| 12/12 [00:09<00:00,  1.25it/s]\n"
     ]
    },
    {
     "name": "stdout",
     "output_type": "stream",
     "text": [
      "Training Loss = 0.0069869, Training Accuracy = 99.773\n",
      "Testing Loss = 0.0085408, Testing Accuracy = 99.735\n",
      "**************************************************\n",
      "\n",
      "Epoch 37\n"
     ]
    },
    {
     "name": "stderr",
     "output_type": "stream",
     "text": [
      "Training: 100%|██████████| 42/42 [00:35<00:00,  1.19it/s]\n",
      "Evaluating: 100%|██████████| 12/12 [00:09<00:00,  1.24it/s]\n"
     ]
    },
    {
     "name": "stdout",
     "output_type": "stream",
     "text": [
      "Training Loss = 0.0064533, Training Accuracy = 99.773\n",
      "Testing Loss = 0.0074271, Testing Accuracy = 99.735\n",
      "**************************************************\n",
      "\n",
      "Epoch 38\n"
     ]
    },
    {
     "name": "stderr",
     "output_type": "stream",
     "text": [
      "Training: 100%|██████████| 42/42 [00:35<00:00,  1.19it/s]\n",
      "Evaluating: 100%|██████████| 12/12 [00:09<00:00,  1.26it/s]\n"
     ]
    },
    {
     "name": "stdout",
     "output_type": "stream",
     "text": [
      "Training Loss = 0.0089314, Training Accuracy = 99.773\n",
      "Testing Loss = 0.0087895, Testing Accuracy = 99.735\n",
      "**************************************************\n",
      "\n",
      "Epoch 39\n"
     ]
    },
    {
     "name": "stderr",
     "output_type": "stream",
     "text": [
      "Training: 100%|██████████| 42/42 [00:35<00:00,  1.18it/s]\n",
      "Evaluating: 100%|██████████| 12/12 [00:09<00:00,  1.21it/s]\n"
     ]
    },
    {
     "name": "stdout",
     "output_type": "stream",
     "text": [
      "Training Loss = 0.0061783, Training Accuracy = 99.811\n",
      "Testing Loss = 0.0083247, Testing Accuracy = 99.735\n",
      "**************************************************\n",
      "\n",
      "Epoch 40\n"
     ]
    },
    {
     "name": "stderr",
     "output_type": "stream",
     "text": [
      "Training: 100%|██████████| 42/42 [00:35<00:00,  1.19it/s]\n",
      "Evaluating: 100%|██████████| 12/12 [00:09<00:00,  1.25it/s]\n"
     ]
    },
    {
     "name": "stdout",
     "output_type": "stream",
     "text": [
      "Training Loss = 0.0060521, Training Accuracy = 99.849\n",
      "Testing Loss = 0.0086920, Testing Accuracy = 99.735\n",
      "**************************************************\n",
      "\n",
      "Epoch 41\n"
     ]
    },
    {
     "name": "stderr",
     "output_type": "stream",
     "text": [
      "Training: 100%|██████████| 42/42 [00:35<00:00,  1.18it/s]\n",
      "Evaluating: 100%|██████████| 12/12 [00:09<00:00,  1.26it/s]\n"
     ]
    },
    {
     "name": "stdout",
     "output_type": "stream",
     "text": [
      "Training Loss = 0.0061812, Training Accuracy = 99.849\n",
      "Testing Loss = 0.0086579, Testing Accuracy = 99.735\n",
      "**************************************************\n",
      "\n",
      "Epoch 42\n"
     ]
    },
    {
     "name": "stderr",
     "output_type": "stream",
     "text": [
      "Training: 100%|██████████| 42/42 [00:35<00:00,  1.20it/s]\n",
      "Evaluating: 100%|██████████| 12/12 [00:09<00:00,  1.26it/s]\n"
     ]
    },
    {
     "name": "stdout",
     "output_type": "stream",
     "text": [
      "Training Loss = 0.0063660, Training Accuracy = 99.811\n",
      "Testing Loss = 0.0080992, Testing Accuracy = 99.735\n",
      "**************************************************\n",
      "\n",
      "Epoch 43\n"
     ]
    },
    {
     "name": "stderr",
     "output_type": "stream",
     "text": [
      "Training: 100%|██████████| 42/42 [00:35<00:00,  1.20it/s]\n",
      "Evaluating: 100%|██████████| 12/12 [00:09<00:00,  1.26it/s]\n"
     ]
    },
    {
     "name": "stdout",
     "output_type": "stream",
     "text": [
      "Training Loss = 0.0065732, Training Accuracy = 99.849\n",
      "Testing Loss = 0.0075734, Testing Accuracy = 99.735\n",
      "**************************************************\n",
      "\n",
      "Epoch 44\n"
     ]
    },
    {
     "name": "stderr",
     "output_type": "stream",
     "text": [
      "Training: 100%|██████████| 42/42 [00:35<00:00,  1.17it/s]\n",
      "Evaluating: 100%|██████████| 12/12 [00:10<00:00,  1.18it/s]\n"
     ]
    },
    {
     "name": "stdout",
     "output_type": "stream",
     "text": [
      "Training Loss = 0.0059145, Training Accuracy = 99.736\n",
      "Testing Loss = 0.0081473, Testing Accuracy = 99.735\n",
      "**************************************************\n",
      "\n",
      "Epoch 45\n"
     ]
    },
    {
     "name": "stderr",
     "output_type": "stream",
     "text": [
      "Training: 100%|██████████| 42/42 [00:35<00:00,  1.19it/s]\n",
      "Evaluating: 100%|██████████| 12/12 [00:09<00:00,  1.24it/s]\n"
     ]
    },
    {
     "name": "stdout",
     "output_type": "stream",
     "text": [
      "Training Loss = 0.0059712, Training Accuracy = 99.849\n",
      "Testing Loss = 0.0089480, Testing Accuracy = 99.735\n",
      "**************************************************\n",
      "\n",
      "Epoch 46\n"
     ]
    },
    {
     "name": "stderr",
     "output_type": "stream",
     "text": [
      "Training: 100%|██████████| 42/42 [00:35<00:00,  1.17it/s]\n",
      "Evaluating: 100%|██████████| 12/12 [00:09<00:00,  1.22it/s]\n"
     ]
    },
    {
     "name": "stdout",
     "output_type": "stream",
     "text": [
      "Training Loss = 0.0055315, Training Accuracy = 99.924\n",
      "Testing Loss = 0.0081923, Testing Accuracy = 99.735\n",
      "**************************************************\n",
      "\n",
      "Epoch 47\n"
     ]
    },
    {
     "name": "stderr",
     "output_type": "stream",
     "text": [
      "Training: 100%|██████████| 42/42 [00:35<00:00,  1.18it/s]\n",
      "Evaluating: 100%|██████████| 12/12 [00:09<00:00,  1.26it/s]\n"
     ]
    },
    {
     "name": "stdout",
     "output_type": "stream",
     "text": [
      "Training Loss = 0.0063293, Training Accuracy = 99.887\n",
      "Testing Loss = 0.0085967, Testing Accuracy = 99.735\n",
      "**************************************************\n",
      "\n",
      "Epoch 48\n"
     ]
    },
    {
     "name": "stderr",
     "output_type": "stream",
     "text": [
      "Training: 100%|██████████| 42/42 [00:35<00:00,  1.18it/s]\n",
      "Evaluating: 100%|██████████| 12/12 [00:09<00:00,  1.26it/s]\n"
     ]
    },
    {
     "name": "stdout",
     "output_type": "stream",
     "text": [
      "Training Loss = 0.0085038, Training Accuracy = 99.736\n",
      "Testing Loss = 0.0084272, Testing Accuracy = 99.735\n",
      "**************************************************\n",
      "\n",
      "Epoch 49\n"
     ]
    },
    {
     "name": "stderr",
     "output_type": "stream",
     "text": [
      "Training: 100%|██████████| 42/42 [00:35<00:00,  1.19it/s]\n",
      "Evaluating: 100%|██████████| 12/12 [00:09<00:00,  1.26it/s]\n"
     ]
    },
    {
     "name": "stdout",
     "output_type": "stream",
     "text": [
      "Training Loss = 0.0065422, Training Accuracy = 99.849\n",
      "Testing Loss = 0.0080202, Testing Accuracy = 99.735\n",
      "**************************************************\n",
      "\n",
      "Epoch 50\n"
     ]
    },
    {
     "name": "stderr",
     "output_type": "stream",
     "text": [
      "Training: 100%|██████████| 42/42 [00:35<00:00,  1.18it/s]\n",
      "Evaluating: 100%|██████████| 12/12 [00:09<00:00,  1.24it/s]"
     ]
    },
    {
     "name": "stdout",
     "output_type": "stream",
     "text": [
      "Training Loss = 0.0063741, Training Accuracy = 99.811\n",
      "Testing Loss = 0.0076874, Testing Accuracy = 99.735\n",
      "**************************************************\n",
      "\n"
     ]
    },
    {
     "name": "stderr",
     "output_type": "stream",
     "text": [
      "\n"
     ]
    }
   ],
   "source": [
    "my_cnn = fit(model=model, train_dataloader=train_dl, val_dataloader=val_dl,\n",
    "            criterion=criterion, optimizer=optimizer, scheduler=scheduler,\n",
    "            epochs=50, experiment_name=\"my_cnn\")"
   ]
  },
  {
   "cell_type": "code",
   "execution_count": 23,
   "id": "9277d64f",
   "metadata": {
    "execution": {
     "iopub.execute_input": "2025-08-11T02:01:19.191869Z",
     "iopub.status.busy": "2025-08-11T02:01:19.191584Z",
     "iopub.status.idle": "2025-08-11T02:01:19.624083Z",
     "shell.execute_reply": "2025-08-11T02:01:19.623331Z"
    },
    "id": "f3f848f9",
    "outputId": "626c6219-116e-4bdc-e128-7761652574f2",
    "papermill": {
     "duration": 0.677126,
     "end_time": "2025-08-11T02:01:19.626229",
     "exception": false,
     "start_time": "2025-08-11T02:01:18.949103",
     "status": "completed"
    },
    "tags": []
   },
   "outputs": [
    {
     "data": {
      "image/png": "[encoded data removed]",
      "text/plain": [
       "<Figure size 2000x500 with 3 Axes>"
      ]
     },
     "metadata": {},
     "output_type": "display_data"
    }
   ],
   "source": [
    "fig, ax = plt.subplots(1, 3, figsize=(20, 5), sharex=True)\n",
    "\n",
    "my_cnn.plot(ax=ax[0], y=[0, 2], style=[\"r\", \"b\"])\n",
    "my_cnn.plot(ax=ax[1], y=[1, 3], style=[\"r\", \"b\"])\n",
    "my_cnn.plot(ax=ax[2], y=[4], style=[\"b\"])\n",
    "\n",
    "for i in range(3):\n",
    "  ax[i].set_xlabel(\"Epochs\")\n",
    "  ax[i].grid(which=\"major\", axis=\"both\", color=\"g\", linestyle=\":\")\n",
    "\n",
    "ax[0].set_ylabel(\"Loss\")\n",
    "ax[1].set_ylabel(\"Accuracy (%)\")\n",
    "ax[2].set_ylabel(\"Learning Rate\")\n",
    "\n",
    "fig.suptitle('Custom CNN  Training Metrics', fontsize=16,)\n",
    "plt.show()"
   ]
  },
  {
   "cell_type": "markdown",
   "id": "c52f9887",
   "metadata": {
    "id": "86307a69",
    "papermill": {
     "duration": 0.29786,
     "end_time": "2025-08-11T02:01:20.170186",
     "exception": false,
     "start_time": "2025-08-11T02:01:19.872326",
     "status": "completed"
    },
    "tags": []
   },
   "source": [
    "# Transfer Learning"
   ]
  },
  {
   "cell_type": "code",
   "execution_count": 24,
   "id": "a6eebcca",
   "metadata": {
    "execution": {
     "iopub.execute_input": "2025-08-11T02:01:20.654548Z",
     "iopub.status.busy": "2025-08-11T02:01:20.654293Z",
     "iopub.status.idle": "2025-08-11T02:01:22.448625Z",
     "shell.execute_reply": "2025-08-11T02:01:22.447876Z"
    },
    "id": "065f2da2",
    "outputId": "ada6fe97-ca96-4f39-ec1a-6f5f1a81b9b7",
    "papermill": {
     "duration": 2.037983,
     "end_time": "2025-08-11T02:01:22.450113",
     "exception": false,
     "start_time": "2025-08-11T02:01:20.412130",
     "status": "completed"
    },
    "tags": []
   },
   "outputs": [
    {
     "name": "stderr",
     "output_type": "stream",
     "text": [
      "/usr/local/lib/python3.11/dist-packages/torchvision/models/_utils.py:208: UserWarning: The parameter 'pretrained' is deprecated since 0.13 and may be removed in the future, please use 'weights' instead.\n",
      "  warnings.warn(\n",
      "/usr/local/lib/python3.11/dist-packages/torchvision/models/_utils.py:223: UserWarning: Arguments other than a weight enum or `None` for 'weights' are deprecated since 0.13 and may be removed in the future. The current behavior is equivalent to passing `weights=ResNet101_Weights.IMAGENET1K_V1`. You can also use `weights=ResNet101_Weights.DEFAULT` to get the most up-to-date weights.\n",
      "  warnings.warn(msg)\n",
      "Downloading: \"https://download.pytorch.org/models/resnet101-63fe2227.pth\" to /root/.cache/torch/hub/checkpoints/resnet101-63fe2227.pth\n",
      "100%|██████████| 171M/171M [00:00<00:00, 192MB/s]\n"
     ]
    }
   ],
   "source": [
    "transfer = models.resnet101(pretrained=True)"
   ]
  },
  {
   "cell_type": "code",
   "execution_count": 25,
   "id": "3df88933",
   "metadata": {
    "execution": {
     "iopub.execute_input": "2025-08-11T02:01:22.936417Z",
     "iopub.status.busy": "2025-08-11T02:01:22.936147Z",
     "iopub.status.idle": "2025-08-11T02:01:22.941171Z",
     "shell.execute_reply": "2025-08-11T02:01:22.940460Z"
    },
    "id": "d17a8101",
    "papermill": {
     "duration": 0.247863,
     "end_time": "2025-08-11T02:01:22.942266",
     "exception": false,
     "start_time": "2025-08-11T02:01:22.694403",
     "status": "completed"
    },
    "tags": []
   },
   "outputs": [],
   "source": [
    "transfer.eval()\n",
    "\n",
    "for params in model.parameters():\n",
    "  params.requires_grad = False"
   ]
  },
  {
   "cell_type": "code",
   "execution_count": 26,
   "id": "b13dfc7a",
   "metadata": {
    "execution": {
     "iopub.execute_input": "2025-08-11T02:01:23.489015Z",
     "iopub.status.busy": "2025-08-11T02:01:23.488727Z",
     "iopub.status.idle": "2025-08-11T02:01:23.492665Z",
     "shell.execute_reply": "2025-08-11T02:01:23.492126Z"
    },
    "id": "cfa47e0c",
    "papermill": {
     "duration": 0.250081,
     "end_time": "2025-08-11T02:01:23.493737",
     "exception": false,
     "start_time": "2025-08-11T02:01:23.243656",
     "status": "completed"
    },
    "tags": []
   },
   "outputs": [],
   "source": [
    "num_ftrs = transfer.fc.in_features\n",
    "\n",
    "transfer.fc = nn.Linear(num_ftrs, 3)"
   ]
  },
  {
   "cell_type": "code",
   "execution_count": 27,
   "id": "f7ec03d5",
   "metadata": {
    "execution": {
     "iopub.execute_input": "2025-08-11T02:01:23.980458Z",
     "iopub.status.busy": "2025-08-11T02:01:23.980154Z",
     "iopub.status.idle": "2025-08-11T02:01:24.050115Z",
     "shell.execute_reply": "2025-08-11T02:01:24.049483Z"
    },
    "id": "aaad18e1",
    "papermill": {
     "duration": 0.314518,
     "end_time": "2025-08-11T02:01:24.051463",
     "exception": false,
     "start_time": "2025-08-11T02:01:23.736945",
     "status": "completed"
    },
    "tags": []
   },
   "outputs": [],
   "source": [
    "transfer = transfer.cuda()\n",
    "\n",
    "criterion=nn.CrossEntropyLoss(reduction=\"sum\")\n",
    "optimizer = torch.optim.Adam(transfer.parameters(), lr=lr)\n",
    "\n",
    "scheduler = lr_scheduler.ReduceLROnPlateau(optimizer=optimizer, mode=\"min\", patience=5, factor=0.1)"
   ]
  },
  {
   "cell_type": "code",
   "execution_count": 28,
   "id": "d0faa5d5",
   "metadata": {
    "execution": {
     "iopub.execute_input": "2025-08-11T02:01:24.537089Z",
     "iopub.status.busy": "2025-08-11T02:01:24.536795Z",
     "iopub.status.idle": "2025-08-11T02:08:34.742441Z",
     "shell.execute_reply": "2025-08-11T02:08:34.741522Z"
    },
    "id": "1cc5b3a9",
    "outputId": "193e00bf-5108-4f36-f184-79d8f1279a98",
    "papermill": {
     "duration": 430.450357,
     "end_time": "2025-08-11T02:08:34.743865",
     "exception": false,
     "start_time": "2025-08-11T02:01:24.293508",
     "status": "completed"
    },
    "tags": []
   },
   "outputs": [
    {
     "name": "stdout",
     "output_type": "stream",
     "text": [
      "Epoch 1\n"
     ]
    },
    {
     "name": "stderr",
     "output_type": "stream",
     "text": [
      "Training: 100%|██████████| 42/42 [00:34<00:00,  1.23it/s]\n",
      "Evaluating: 100%|██████████| 12/12 [00:09<00:00,  1.31it/s]\n"
     ]
    },
    {
     "name": "stdout",
     "output_type": "stream",
     "text": [
      "Training Loss = 0.2219953, Training Accuracy = 92.029\n",
      "Testing Loss = 2.0358297, Testing Accuracy = 70.199\n",
      "New best accuracy: 70.199 at epoch 1\n",
      "**************************************************\n",
      "\n",
      "Epoch 2\n"
     ]
    },
    {
     "name": "stderr",
     "output_type": "stream",
     "text": [
      "Training: 100%|██████████| 42/42 [00:34<00:00,  1.23it/s]\n",
      "Evaluating: 100%|██████████| 12/12 [00:09<00:00,  1.33it/s]\n"
     ]
    },
    {
     "name": "stdout",
     "output_type": "stream",
     "text": [
      "Training Loss = 0.0934389, Training Accuracy = 96.449\n",
      "Testing Loss = 1.3654606, Testing Accuracy = 72.583\n",
      "New best accuracy: 72.583 at epoch 2\n",
      "**************************************************\n",
      "\n",
      "Epoch 3\n"
     ]
    },
    {
     "name": "stderr",
     "output_type": "stream",
     "text": [
      "Training: 100%|██████████| 42/42 [00:33<00:00,  1.24it/s]\n",
      "Evaluating: 100%|██████████| 12/12 [00:09<00:00,  1.30it/s]\n"
     ]
    },
    {
     "name": "stdout",
     "output_type": "stream",
     "text": [
      "Training Loss = 0.0469920, Training Accuracy = 98.451\n",
      "Testing Loss = 0.1365880, Testing Accuracy = 95.629\n",
      "New best accuracy: 95.629 at epoch 3\n",
      "**************************************************\n",
      "\n",
      "Epoch 4\n"
     ]
    },
    {
     "name": "stderr",
     "output_type": "stream",
     "text": [
      "Training: 100%|██████████| 42/42 [00:33<00:00,  1.26it/s]\n",
      "Evaluating: 100%|██████████| 12/12 [00:08<00:00,  1.33it/s]\n"
     ]
    },
    {
     "name": "stdout",
     "output_type": "stream",
     "text": [
      "Training Loss = 0.0382001, Training Accuracy = 98.753\n",
      "Testing Loss = 0.2831671, Testing Accuracy = 96.689\n",
      "New best accuracy: 96.689 at epoch 4\n",
      "**************************************************\n",
      "\n",
      "Epoch 5\n"
     ]
    },
    {
     "name": "stderr",
     "output_type": "stream",
     "text": [
      "Training: 100%|██████████| 42/42 [00:33<00:00,  1.26it/s]\n",
      "Evaluating: 100%|██████████| 12/12 [00:08<00:00,  1.35it/s]\n"
     ]
    },
    {
     "name": "stdout",
     "output_type": "stream",
     "text": [
      "Training Loss = 0.0661883, Training Accuracy = 98.262\n",
      "Testing Loss = 0.7693876, Testing Accuracy = 86.358\n",
      "**************************************************\n",
      "\n",
      "Epoch 6\n"
     ]
    },
    {
     "name": "stderr",
     "output_type": "stream",
     "text": [
      "Training: 100%|██████████| 42/42 [00:33<00:00,  1.26it/s]\n",
      "Evaluating: 100%|██████████| 12/12 [00:09<00:00,  1.32it/s]\n"
     ]
    },
    {
     "name": "stdout",
     "output_type": "stream",
     "text": [
      "Training Loss = 0.0320060, Training Accuracy = 98.791\n",
      "Testing Loss = 0.1766849, Testing Accuracy = 95.364\n",
      "**************************************************\n",
      "\n",
      "Epoch 7\n"
     ]
    },
    {
     "name": "stderr",
     "output_type": "stream",
     "text": [
      "Training: 100%|██████████| 42/42 [00:33<00:00,  1.25it/s]\n",
      "Evaluating: 100%|██████████| 12/12 [00:09<00:00,  1.33it/s]\n"
     ]
    },
    {
     "name": "stdout",
     "output_type": "stream",
     "text": [
      "Training Loss = 0.0393362, Training Accuracy = 98.980\n",
      "Testing Loss = 1.8570385, Testing Accuracy = 82.517\n",
      "**************************************************\n",
      "\n",
      "Epoch 8\n"
     ]
    },
    {
     "name": "stderr",
     "output_type": "stream",
     "text": [
      "Training: 100%|██████████| 42/42 [00:33<00:00,  1.26it/s]\n",
      "Evaluating: 100%|██████████| 12/12 [00:08<00:00,  1.36it/s]\n"
     ]
    },
    {
     "name": "stdout",
     "output_type": "stream",
     "text": [
      "Training Loss = 0.0256854, Training Accuracy = 99.244\n",
      "Testing Loss = 0.0319397, Testing Accuracy = 99.205\n",
      "New best accuracy: 99.205 at epoch 8\n",
      "**************************************************\n",
      "\n",
      "Epoch 9\n"
     ]
    },
    {
     "name": "stderr",
     "output_type": "stream",
     "text": [
      "Training: 100%|██████████| 42/42 [00:33<00:00,  1.25it/s]\n",
      "Evaluating: 100%|██████████| 12/12 [00:09<00:00,  1.33it/s]\n"
     ]
    },
    {
     "name": "stdout",
     "output_type": "stream",
     "text": [
      "Training Loss = 0.0301674, Training Accuracy = 99.131\n",
      "Testing Loss = 0.0275122, Testing Accuracy = 98.543\n",
      "**************************************************\n",
      "\n",
      "Epoch 10\n"
     ]
    },
    {
     "name": "stderr",
     "output_type": "stream",
     "text": [
      "Training: 100%|██████████| 42/42 [00:33<00:00,  1.26it/s]\n",
      "Evaluating: 100%|██████████| 12/12 [00:09<00:00,  1.33it/s]\n"
     ]
    },
    {
     "name": "stdout",
     "output_type": "stream",
     "text": [
      "Training Loss = 0.0093813, Training Accuracy = 99.773\n",
      "Testing Loss = 0.0028644, Testing Accuracy = 100.000\n",
      "New best accuracy: 100.000 at epoch 10\n",
      "**************************************************\n",
      "\n"
     ]
    }
   ],
   "source": [
    "transfer_df = fit(model=transfer, train_dataloader=train_dl, val_dataloader=val_dl,\n",
    "            criterion=criterion, optimizer=optimizer, scheduler=scheduler,\n",
    "            epochs=10, experiment_name=\"transfer\")"
   ]
  },
  {
   "cell_type": "code",
   "execution_count": 29,
   "id": "05cf1450",
   "metadata": {
    "execution": {
     "iopub.execute_input": "2025-08-11T02:08:35.326572Z",
     "iopub.status.busy": "2025-08-11T02:08:35.326295Z",
     "iopub.status.idle": "2025-08-11T02:08:35.732761Z",
     "shell.execute_reply": "2025-08-11T02:08:35.732040Z"
    },
    "id": "466375af",
    "outputId": "368e4dc4-7d88-473b-b12b-cbdf3b0555ef",
    "papermill": {
     "duration": 0.727791,
     "end_time": "2025-08-11T02:08:35.734665",
     "exception": false,
     "start_time": "2025-08-11T02:08:35.006874",
     "status": "completed"
    },
    "tags": []
   },
   "outputs": [
    {
     "data": {
      "image/png": "[encoded data removed]",
      "text/plain": [
       "<Figure size 2000x500 with 3 Axes>"
      ]
     },
     "metadata": {},
     "output_type": "display_data"
    }
   ],
   "source": [
    "fig, ax = plt.subplots(1, 3, figsize=(20, 5), sharex=True)\n",
    "\n",
    "transfer_df.plot(ax=ax[0], y=[0, 2], style=[\"r\", \"b\"])\n",
    "transfer_df.plot(ax=ax[1], y=[1, 3], style=[\"r\", \"b\"])\n",
    "transfer_df.plot(ax=ax[2], y=[4], style=[\"b\"])\n",
    "\n",
    "for i in range(3):\n",
    "  ax[i].set_xlabel(\"Epochs\")\n",
    "  ax[i].grid(which=\"major\", axis=\"both\", color=\"g\", linestyle=\":\")\n",
    "\n",
    "ax[0].set_ylabel(\"Loss\")\n",
    "ax[1].set_ylabel(\"Accuracy (%)\")\n",
    "ax[2].set_ylabel(\"Learning Rate\")\n",
    "\n",
    "fig.suptitle('Custom CNN  Training Metrics', fontsize=16,)\n",
    "plt.show()"
   ]
  },
  {
   "cell_type": "markdown",
   "id": "2fad8ccc",
   "metadata": {
    "id": "9OUz66C1SMFX",
    "papermill": {
     "duration": 0.273139,
     "end_time": "2025-08-11T02:08:36.274436",
     "exception": false,
     "start_time": "2025-08-11T02:08:36.001297",
     "status": "completed"
    },
    "tags": []
   },
   "source": [
    "# Model Metrics"
   ]
  },
  {
   "cell_type": "code",
   "execution_count": 30,
   "id": "49b03437",
   "metadata": {
    "execution": {
     "iopub.execute_input": "2025-08-11T02:08:36.803370Z",
     "iopub.status.busy": "2025-08-11T02:08:36.803095Z",
     "iopub.status.idle": "2025-08-11T02:08:37.215753Z",
     "shell.execute_reply": "2025-08-11T02:08:37.215181Z"
    },
    "id": "ze7f0y0zSNig",
    "papermill": {
     "duration": 0.681085,
     "end_time": "2025-08-11T02:08:37.217063",
     "exception": false,
     "start_time": "2025-08-11T02:08:36.535978",
     "status": "completed"
    },
    "tags": []
   },
   "outputs": [],
   "source": [
    "# Create the models first\n",
    "fc_model = FC_Model(skeleton=[img_size[0]*img_size[1]*3, 100, 50, 20], num_classes=3)\n",
    "custom_fcc = ResNet9()\n",
    "transfer_model = transfer\n",
    "\n",
    "# Then load the state dictionaries\n",
    "fc_model.load_state_dict(torch.load(\"Models/fully_connected.pth\"))\n",
    "custom_fcc.load_state_dict(torch.load(\"Models/my_cnn.pth\"))\n",
    "transfer_model.load_state_dict(torch.load(\"Models/transfer.pth\"))\n",
    "\n",
    "model_list = [fc_model, custom_fcc, transfer_model]"
   ]
  },
  {
   "cell_type": "code",
   "execution_count": 31,
   "id": "e72e0b28",
   "metadata": {
    "execution": {
     "iopub.execute_input": "2025-08-11T02:08:37.816994Z",
     "iopub.status.busy": "2025-08-11T02:08:37.816697Z",
     "iopub.status.idle": "2025-08-11T02:08:37.821605Z",
     "shell.execute_reply": "2025-08-11T02:08:37.820933Z"
    },
    "id": "Yy1jGBm9SeBW",
    "papermill": {
     "duration": 0.276091,
     "end_time": "2025-08-11T02:08:37.822752",
     "exception": false,
     "start_time": "2025-08-11T02:08:37.546661",
     "status": "completed"
    },
    "tags": []
   },
   "outputs": [],
   "source": [
    "def model_metrics(model, images, labels):\n",
    "\n",
    "  with torch.no_grad():\n",
    "    model, images = model.cuda(), images.cuda()\n",
    "    pred_probs = model(images)\n",
    "    preds = torch.argmax(pred_probs, axis=1)\n",
    "    preds = preds.detach().cpu().numpy()\n",
    "\n",
    "  precision = precision_score(labels, preds, average='weighted')\n",
    "  recall = recall_score(labels, preds, average='weighted')\n",
    "  f1 = f1_score(labels, preds, average='weighted')\n",
    "  accuracy = accuracy_score(labels, preds)\n",
    "\n",
    "  return accuracy, precision, recall, f1"
   ]
  },
  {
   "cell_type": "code",
   "execution_count": 32,
   "id": "81b724db",
   "metadata": {
    "execution": {
     "iopub.execute_input": "2025-08-11T02:08:38.353701Z",
     "iopub.status.busy": "2025-08-11T02:08:38.353160Z",
     "iopub.status.idle": "2025-08-11T02:08:38.356748Z",
     "shell.execute_reply": "2025-08-11T02:08:38.356049Z"
    },
    "id": "pL_X6tk2bgBN",
    "papermill": {
     "duration": 0.26962,
     "end_time": "2025-08-11T02:08:38.357916",
     "exception": false,
     "start_time": "2025-08-11T02:08:38.088296",
     "status": "completed"
    },
    "tags": []
   },
   "outputs": [],
   "source": [
    "model_names = [\"Fully Connected Net\", \"Custom CNN\", \"Transfer Model\"]"
   ]
  },
  {
   "cell_type": "code",
   "execution_count": 33,
   "id": "9ab4de62",
   "metadata": {
    "execution": {
     "iopub.execute_input": "2025-08-11T02:08:38.975591Z",
     "iopub.status.busy": "2025-08-11T02:08:38.975322Z",
     "iopub.status.idle": "2025-08-11T02:08:38.980954Z",
     "shell.execute_reply": "2025-08-11T02:08:38.980247Z"
    },
    "id": "p4b4EwONUgaD",
    "papermill": {
     "duration": 0.328522,
     "end_time": "2025-08-11T02:08:38.982181",
     "exception": false,
     "start_time": "2025-08-11T02:08:38.653659",
     "status": "completed"
    },
    "tags": []
   },
   "outputs": [],
   "source": [
    "precision_df = pd.DataFrame(np.empty([10, 3]),\n",
    "                            index=np.arange(10),\n",
    "                            columns=model_names)\n",
    "\n",
    "\n",
    "recall_df = pd.DataFrame(np.empty([10, 3]),\n",
    "                            index=np.arange(10),\n",
    "                            columns=model_names)\n",
    "\n",
    "accuracy_df = pd.DataFrame(np.empty([10, 3]),\n",
    "                            index=np.arange(10),\n",
    "                            columns=model_names)\n",
    "\n",
    "f1_df = pd.DataFrame(np.empty([10, 3]),\n",
    "                            index=np.arange(10),\n",
    "                            columns=model_names)"
   ]
  },
  {
   "cell_type": "code",
   "execution_count": 34,
   "id": "796d1e91",
   "metadata": {
    "execution": {
     "iopub.execute_input": "2025-08-11T02:08:39.510175Z",
     "iopub.status.busy": "2025-08-11T02:08:39.509906Z",
     "iopub.status.idle": "2025-08-11T02:08:39.516097Z",
     "shell.execute_reply": "2025-08-11T02:08:39.515361Z"
    },
    "id": "nVptTGmIWyva",
    "papermill": {
     "duration": 0.271644,
     "end_time": "2025-08-11T02:08:39.517354",
     "exception": false,
     "start_time": "2025-08-11T02:08:39.245710",
     "status": "completed"
    },
    "tags": []
   },
   "outputs": [],
   "source": [
    "def update_df(index):\n",
    "\n",
    "  selected_model = model_list[index]\n",
    "  limited_dataloader = islice(enumerate(test_dl), 10)\n",
    "\n",
    "\n",
    "  for batch, (img, label) in tqdm(limited_dataloader, desc=f\"Model {index}\", total=10):\n",
    "\n",
    "        (accuracy, precision, recall, f1) = model_metrics(selected_model, img, label)\n",
    "\n",
    "        accuracy_df.iloc[batch, index] = accuracy\n",
    "        precision_df.iloc[batch, index] = precision\n",
    "        recall_df.iloc[batch, index] = recall\n",
    "        f1_df.iloc[batch, index] = f1"
   ]
  },
  {
   "cell_type": "code",
   "execution_count": 35,
   "id": "c02904ee",
   "metadata": {
    "execution": {
     "iopub.execute_input": "2025-08-11T02:08:40.125236Z",
     "iopub.status.busy": "2025-08-11T02:08:40.124687Z",
     "iopub.status.idle": "2025-08-11T02:08:57.886721Z",
     "shell.execute_reply": "2025-08-11T02:08:57.886065Z"
    },
    "id": "IXA7iNmBY77U",
    "outputId": "3e78b2c8-7a9a-4885-f8dd-b9806c01f62f",
    "papermill": {
     "duration": 18.095309,
     "end_time": "2025-08-11T02:08:57.887745",
     "exception": false,
     "start_time": "2025-08-11T02:08:39.792436",
     "status": "completed"
    },
    "tags": []
   },
   "outputs": [
    {
     "name": "stderr",
     "output_type": "stream",
     "text": [
      "Model 0:   0%|          | 0/10 [00:00<?, ?it/s]/usr/local/lib/python3.11/dist-packages/sklearn/metrics/_classification.py:1344: UndefinedMetricWarning: Recall is ill-defined and being set to 0.0 in labels with no true samples. Use `zero_division` parameter to control this behavior.\n",
      "  _warn_prf(average, modifier, msg_start, len(result))\n",
      "Model 0:  10%|█         | 1/10 [00:00<00:08,  1.05it/s]/usr/local/lib/python3.11/dist-packages/sklearn/metrics/_classification.py:1344: UndefinedMetricWarning: Recall is ill-defined and being set to 0.0 in labels with no true samples. Use `zero_division` parameter to control this behavior.\n",
      "  _warn_prf(average, modifier, msg_start, len(result))\n",
      "Model 0:  20%|██        | 2/10 [00:01<00:07,  1.02it/s]/usr/local/lib/python3.11/dist-packages/sklearn/metrics/_classification.py:1344: UndefinedMetricWarning: Recall is ill-defined and being set to 0.0 in labels with no true samples. Use `zero_division` parameter to control this behavior.\n",
      "  _warn_prf(average, modifier, msg_start, len(result))\n",
      "Model 0:  30%|███       | 3/10 [00:02<00:06,  1.08it/s]/usr/local/lib/python3.11/dist-packages/sklearn/metrics/_classification.py:1344: UndefinedMetricWarning: Recall is ill-defined and being set to 0.0 in labels with no true samples. Use `zero_division` parameter to control this behavior.\n",
      "  _warn_prf(average, modifier, msg_start, len(result))\n",
      "Model 0:  40%|████      | 4/10 [00:03<00:05,  1.12it/s]/usr/local/lib/python3.11/dist-packages/sklearn/metrics/_classification.py:1344: UndefinedMetricWarning: Recall is ill-defined and being set to 0.0 in labels with no true samples. Use `zero_division` parameter to control this behavior.\n",
      "  _warn_prf(average, modifier, msg_start, len(result))\n",
      "Model 0:  50%|█████     | 5/10 [00:04<00:04,  1.21it/s]/usr/local/lib/python3.11/dist-packages/sklearn/metrics/_classification.py:1344: UndefinedMetricWarning: Recall is ill-defined and being set to 0.0 in labels with no true samples. Use `zero_division` parameter to control this behavior.\n",
      "  _warn_prf(average, modifier, msg_start, len(result))\n",
      "Model 0:  60%|██████    | 6/10 [00:05<00:03,  1.22it/s]/usr/local/lib/python3.11/dist-packages/sklearn/metrics/_classification.py:1344: UndefinedMetricWarning: Recall is ill-defined and being set to 0.0 in labels with no true samples. Use `zero_division` parameter to control this behavior.\n",
      "  _warn_prf(average, modifier, msg_start, len(result))\n",
      "Model 0:  70%|███████   | 7/10 [00:05<00:02,  1.29it/s]/usr/local/lib/python3.11/dist-packages/sklearn/metrics/_classification.py:1344: UndefinedMetricWarning: Recall is ill-defined and being set to 0.0 in labels with no true samples. Use `zero_division` parameter to control this behavior.\n",
      "  _warn_prf(average, modifier, msg_start, len(result))\n",
      "Model 0:  80%|████████  | 8/10 [00:06<00:01,  1.37it/s]/usr/local/lib/python3.11/dist-packages/sklearn/metrics/_classification.py:1344: UndefinedMetricWarning: Recall is ill-defined and being set to 0.0 in labels with no true samples. Use `zero_division` parameter to control this behavior.\n",
      "  _warn_prf(average, modifier, msg_start, len(result))\n",
      "Model 0:  90%|█████████ | 9/10 [00:07<00:00,  1.36it/s]/usr/local/lib/python3.11/dist-packages/sklearn/metrics/_classification.py:1344: UndefinedMetricWarning: Precision is ill-defined and being set to 0.0 in labels with no predicted samples. Use `zero_division` parameter to control this behavior.\n",
      "  _warn_prf(average, modifier, msg_start, len(result))\n",
      "/usr/local/lib/python3.11/dist-packages/sklearn/metrics/_classification.py:1344: UndefinedMetricWarning: Recall is ill-defined and being set to 0.0 in labels with no true samples. Use `zero_division` parameter to control this behavior.\n",
      "  _warn_prf(average, modifier, msg_start, len(result))\n",
      "Model 0: 100%|██████████| 10/10 [00:07<00:00,  1.28it/s]\n",
      "Model 1:   0%|          | 0/10 [00:00<?, ?it/s]/usr/local/lib/python3.11/dist-packages/sklearn/metrics/_classification.py:1344: UndefinedMetricWarning: Recall is ill-defined and being set to 0.0 in labels with no true samples. Use `zero_division` parameter to control this behavior.\n",
      "  _warn_prf(average, modifier, msg_start, len(result))\n",
      "Model 1:  10%|█         | 1/10 [00:00<00:04,  1.96it/s]/usr/local/lib/python3.11/dist-packages/sklearn/metrics/_classification.py:1344: UndefinedMetricWarning: Recall is ill-defined and being set to 0.0 in labels with no true samples. Use `zero_division` parameter to control this behavior.\n",
      "  _warn_prf(average, modifier, msg_start, len(result))\n",
      "Model 1:  20%|██        | 2/10 [00:01<00:04,  1.87it/s]/usr/local/lib/python3.11/dist-packages/sklearn/metrics/_classification.py:1344: UndefinedMetricWarning: Recall is ill-defined and being set to 0.0 in labels with no true samples. Use `zero_division` parameter to control this behavior.\n",
      "  _warn_prf(average, modifier, msg_start, len(result))\n",
      "Model 1:  30%|███       | 3/10 [00:01<00:03,  1.92it/s]/usr/local/lib/python3.11/dist-packages/sklearn/metrics/_classification.py:1344: UndefinedMetricWarning: Recall is ill-defined and being set to 0.0 in labels with no true samples. Use `zero_division` parameter to control this behavior.\n",
      "  _warn_prf(average, modifier, msg_start, len(result))\n",
      "Model 1:  50%|█████     | 5/10 [00:02<00:02,  1.74it/s]/usr/local/lib/python3.11/dist-packages/sklearn/metrics/_classification.py:1344: UndefinedMetricWarning: Recall is ill-defined and being set to 0.0 in labels with no true samples. Use `zero_division` parameter to control this behavior.\n",
      "  _warn_prf(average, modifier, msg_start, len(result))\n",
      "Model 1:  60%|██████    | 6/10 [00:03<00:02,  1.80it/s]/usr/local/lib/python3.11/dist-packages/sklearn/metrics/_classification.py:1344: UndefinedMetricWarning: Recall is ill-defined and being set to 0.0 in labels with no true samples. Use `zero_division` parameter to control this behavior.\n",
      "  _warn_prf(average, modifier, msg_start, len(result))\n",
      "Model 1:  70%|███████   | 7/10 [00:03<00:01,  1.87it/s]/usr/local/lib/python3.11/dist-packages/sklearn/metrics/_classification.py:1344: UndefinedMetricWarning: Recall is ill-defined and being set to 0.0 in labels with no true samples. Use `zero_division` parameter to control this behavior.\n",
      "  _warn_prf(average, modifier, msg_start, len(result))\n",
      "Model 1:  80%|████████  | 8/10 [00:04<00:01,  1.92it/s]/usr/local/lib/python3.11/dist-packages/sklearn/metrics/_classification.py:1344: UndefinedMetricWarning: Recall is ill-defined and being set to 0.0 in labels with no true samples. Use `zero_division` parameter to control this behavior.\n",
      "  _warn_prf(average, modifier, msg_start, len(result))\n",
      "Model 1:  90%|█████████ | 9/10 [00:04<00:00,  1.95it/s]/usr/local/lib/python3.11/dist-packages/sklearn/metrics/_classification.py:1344: UndefinedMetricWarning: Recall is ill-defined and being set to 0.0 in labels with no true samples. Use `zero_division` parameter to control this behavior.\n",
      "  _warn_prf(average, modifier, msg_start, len(result))\n",
      "Model 1: 100%|██████████| 10/10 [00:05<00:00,  1.91it/s]\n",
      "Model 2:  60%|██████    | 6/10 [00:02<00:01,  2.14it/s]/usr/local/lib/python3.11/dist-packages/sklearn/metrics/_classification.py:1344: UndefinedMetricWarning: Recall is ill-defined and being set to 0.0 in labels with no true samples. Use `zero_division` parameter to control this behavior.\n",
      "  _warn_prf(average, modifier, msg_start, len(result))\n",
      "Model 2: 100%|██████████| 10/10 [00:04<00:00,  2.14it/s]\n"
     ]
    }
   ],
   "source": [
    "for i in range(len(model_names)):\n",
    "  update_df(i)"
   ]
  },
  {
   "cell_type": "code",
   "execution_count": 36,
   "id": "d584617a",
   "metadata": {
    "execution": {
     "iopub.execute_input": "2025-08-11T02:08:58.431966Z",
     "iopub.status.busy": "2025-08-11T02:08:58.431659Z",
     "iopub.status.idle": "2025-08-11T02:08:58.581486Z",
     "shell.execute_reply": "2025-08-11T02:08:58.580691Z"
    },
    "id": "aNagpFY1gaov",
    "outputId": "482cf826-ad3e-4b4e-e70d-b1aa68f51d05",
    "papermill": {
     "duration": 0.424174,
     "end_time": "2025-08-11T02:08:58.582629",
     "exception": false,
     "start_time": "2025-08-11T02:08:58.158455",
     "status": "completed"
    },
    "tags": []
   },
   "outputs": [
    {
     "data": {
      "image/png": "[encoded data removed]",
      "text/plain": [
       "<Figure size 640x480 with 1 Axes>"
      ]
     },
     "metadata": {},
     "output_type": "display_data"
    }
   ],
   "source": [
    "# Create the boxplot with patch_artist=True for coloring\n",
    "box = plt.boxplot([accuracy_df[col] for col in accuracy_df.columns],\n",
    "                  labels=accuracy_df.columns, patch_artist=True)\n",
    "\n",
    "# Custom colors\n",
    "colors = ['lightblue', 'lightgreen', 'lightpink']\n",
    "\n",
    "for patch, color in zip(box['boxes'], colors):\n",
    "    patch.set_facecolor(color)\n",
    "\n",
    "# Style median lines\n",
    "for median in box['medians']:\n",
    "    median.set(color='black', linewidth=2)\n",
    "\n",
    "# Add labels and title\n",
    "plt.ylabel(\"Values\", fontsize=12)\n",
    "plt.title(\"Accuracy Distribution\", fontsize=14)\n",
    "\n",
    "plt.grid(axis='y', linestyle='--', alpha=0.7)\n",
    "plt.show()\n"
   ]
  },
  {
   "cell_type": "code",
   "execution_count": 37,
   "id": "8e0b4b67",
   "metadata": {
    "execution": {
     "iopub.execute_input": "2025-08-11T02:08:59.113932Z",
     "iopub.status.busy": "2025-08-11T02:08:59.113629Z",
     "iopub.status.idle": "2025-08-11T02:08:59.239572Z",
     "shell.execute_reply": "2025-08-11T02:08:59.238918Z"
    },
    "id": "S6iiUyn8kcVi",
    "outputId": "fa7346c8-5b18-4576-bf1d-5c64dafeca04",
    "papermill": {
     "duration": 0.392535,
     "end_time": "2025-08-11T02:08:59.240734",
     "exception": false,
     "start_time": "2025-08-11T02:08:58.848199",
     "status": "completed"
    },
    "tags": []
   },
   "outputs": [
    {
     "data": {
      "image/png": "[encoded data removed]",
      "text/plain": [
       "<Figure size 640x480 with 1 Axes>"
      ]
     },
     "metadata": {},
     "output_type": "display_data"
    }
   ],
   "source": [
    "# Create the boxplot with patch_artist=True for coloring\n",
    "box = plt.boxplot([precision_df[col] for col in precision_df.columns],\n",
    "                  labels=precision_df.columns, patch_artist=True)\n",
    "\n",
    "# Custom colors\n",
    "colors = ['lightblue', 'lightgreen', 'lightpink']\n",
    "\n",
    "for patch, color in zip(box['boxes'], colors):\n",
    "    patch.set_facecolor(color)\n",
    "\n",
    "# Style median lines\n",
    "for median in box['medians']:\n",
    "    median.set(color='black', linewidth=2)\n",
    "\n",
    "# Add labels and title\n",
    "plt.ylabel(\"Values\", fontsize=12)\n",
    "plt.title(\"Precision Distribution\", fontsize=14)\n",
    "\n",
    "plt.grid(axis='y', linestyle='--', alpha=0.7)\n",
    "plt.show()\n"
   ]
  },
  {
   "cell_type": "code",
   "execution_count": 38,
   "id": "9dc46592",
   "metadata": {
    "execution": {
     "iopub.execute_input": "2025-08-11T02:08:59.831686Z",
     "iopub.status.busy": "2025-08-11T02:08:59.830720Z",
     "iopub.status.idle": "2025-08-11T02:08:59.959692Z",
     "shell.execute_reply": "2025-08-11T02:08:59.959033Z"
    },
    "id": "ARDd133SkeU8",
    "outputId": "c6dcb9e5-37be-4acc-e9cb-817a438b15e7",
    "papermill": {
     "duration": 0.395671,
     "end_time": "2025-08-11T02:08:59.961004",
     "exception": false,
     "start_time": "2025-08-11T02:08:59.565333",
     "status": "completed"
    },
    "tags": []
   },
   "outputs": [
    {
     "data": {
      "image/png": "[encoded data removed]",
      "text/plain": [
       "<Figure size 640x480 with 1 Axes>"
      ]
     },
     "metadata": {},
     "output_type": "display_data"
    }
   ],
   "source": [
    "# Create the boxplot with patch_artist=True for coloring\n",
    "box = plt.boxplot([recall_df[col] for col in recall_df.columns],\n",
    "                  labels=recall_df.columns, patch_artist=True)\n",
    "\n",
    "# Custom colors\n",
    "colors = ['lightblue', 'lightgreen', 'lightpink']\n",
    "\n",
    "for patch, color in zip(box['boxes'], colors):\n",
    "    patch.set_facecolor(color)\n",
    "\n",
    "# Style median lines\n",
    "for median in box['medians']:\n",
    "    median.set(color='black', linewidth=2)\n",
    "\n",
    "# Add labels and title\n",
    "plt.ylabel(\"Values\", fontsize=12)\n",
    "plt.title(\"Recall Distribution\", fontsize=14)\n",
    "\n",
    "plt.grid(axis='y', linestyle='--', alpha=0.7)\n",
    "plt.show()\n"
   ]
  },
  {
   "cell_type": "code",
   "execution_count": 39,
   "id": "e19d76fa",
   "metadata": {
    "execution": {
     "iopub.execute_input": "2025-08-11T02:09:00.512230Z",
     "iopub.status.busy": "2025-08-11T02:09:00.511931Z",
     "iopub.status.idle": "2025-08-11T02:09:00.636966Z",
     "shell.execute_reply": "2025-08-11T02:09:00.636219Z"
    },
    "id": "WHl-uDLVkgLR",
    "outputId": "aa3d56c8-6d66-4d17-eb71-865ba9d3305a",
    "papermill": {
     "duration": 0.39198,
     "end_time": "2025-08-11T02:09:00.638088",
     "exception": false,
     "start_time": "2025-08-11T02:09:00.246108",
     "status": "completed"
    },
    "tags": []
   },
   "outputs": [
    {
     "data": {
      "image/png": "[encoded data removed]",
      "text/plain": [
       "<Figure size 640x480 with 1 Axes>"
      ]
     },
     "metadata": {},
     "output_type": "display_data"
    }
   ],
   "source": [
    "# Create the boxplot with patch_artist=True for coloring\n",
    "box = plt.boxplot([f1_df[col] for col in f1_df.columns],\n",
    "                  labels=f1_df.columns, patch_artist=True)\n",
    "\n",
    "# Custom colors\n",
    "colors = ['lightblue', 'lightgreen', 'lightpink']\n",
    "\n",
    "for patch, color in zip(box['boxes'], colors):\n",
    "    patch.set_facecolor(color)\n",
    "\n",
    "# Style median lines\n",
    "for median in box['medians']:\n",
    "    median.set(color='black', linewidth=2)\n",
    "\n",
    "# Add labels and title\n",
    "plt.ylabel(\"Values\", fontsize=12)\n",
    "plt.title(\"F1 Distribution\", fontsize=14)\n",
    "\n",
    "plt.grid(axis='y', linestyle='--', alpha=0.7)\n",
    "plt.show()\n"
   ]
  },
  {
   "cell_type": "code",
   "execution_count": null,
   "id": "fcba1db6",
   "metadata": {
    "id": "KM7coojymrDH",
    "papermill": {
     "duration": 0.266488,
     "end_time": "2025-08-11T02:09:01.232281",
     "exception": false,
     "start_time": "2025-08-11T02:09:00.965793",
     "status": "completed"
    },
    "tags": []
   },
   "outputs": [],
   "source": []
  }
 ],
 "metadata": {
  "accelerator": "GPU",
  "colab": {
   "gpuType": "T4",
   "include_colab_link": true,
   "provenance": []
  },
  "kaggle": {
   "accelerator": "gpu",
   "dataSources": [
    {
     "datasetId": 6003511,
     "sourceId": 9797363,
     "sourceType": "datasetVersion"
    }
   ],
   "dockerImageVersionId": 31090,
   "isGpuEnabled": true,
   "isInternetEnabled": true,
   "language": "python",
   "sourceType": "notebook"
  },
  "kernelspec": {
   "display_name": "Python 3",
   "language": "python",
   "name": "python3"
  },
  "language_info": {
   "codemirror_mode": {
    "name": "ipython",
    "version": 3
   },
   "file_extension": ".py",
   "mimetype": "text/x-python",
   "name": "python",
   "nbconvert_exporter": "python",
   "pygments_lexer": "ipython3",
   "version": "3.11.13"
  },
  "papermill": {
   "default_parameters": {},
   "duration": 4451.447708,
   "end_time": "2025-08-11T02:09:04.041147",
   "environment_variables": {},
   "exception": null,
   "input_path": "__notebook__.ipynb",
   "output_path": "__notebook__.ipynb",
   "parameters": {},
   "start_time": "2025-08-11T00:54:52.593439",
   "version": "2.6.0"
  }
 },
 "nbformat": 4,
 "nbformat_minor": 5
}
